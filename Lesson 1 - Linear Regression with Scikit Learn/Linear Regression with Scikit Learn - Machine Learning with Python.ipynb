{
 "cells": [
  {
   "cell_type": "markdown",
   "metadata": {},
   "source": [
    "# Predicting Medical Expenses Using Linear Regression\n",
    "1. A typical problem statement for machine learning\n",
    "2. Downloading and exploring a dataset for machine learning\n",
    "3. Linear regression with one variable using Scikit-learn\n",
    "4. Linear regression with multiple variables\n",
    "5. Using categorical features for machine learning\n",
    "6. Regression coefficients and feature importance\n",
    "7. Other models and techniques for regression using Scikit-learn\n",
    "8. Applying linear regression to other datasets"
   ]
  },
  {
   "cell_type": "markdown",
   "metadata": {},
   "source": [
    "## Problem Statement\n",
    "QUESTION: ACME insurance Inc. offers affordable health insurance to thousands of customer all over the US. As the lead data scientist at ACM, you are asked with creating an automated system to estimate the annual medical expenditure for new customers, using information such as their age, sex, BMI, children, smoking habits and region of residence.\n",
    "\n",
    "**Estimates from your system will be used to determine the annual insurance premium (amount paid every month) offered to the customer**. Due to regulatory requirements, you must be able to explain why **your system outputs a certain prediction**."
   ]
  },
  {
   "cell_type": "markdown",
   "metadata": {},
   "source": [
    "## Downloading the Data"
   ]
  },
  {
   "cell_type": "code",
   "execution_count": 63,
   "metadata": {},
   "outputs": [],
   "source": [
    "# restart the kernel after installing\n",
    "#%pip install pandas-profiling --quiet"
   ]
  },
  {
   "cell_type": "code",
   "execution_count": 64,
   "metadata": {},
   "outputs": [],
   "source": [
    "medical_charges_url = 'https://raw.githubusercontent.com/JovianML/opendatasets/master/data/medical-charges.csv'"
   ]
  },
  {
   "cell_type": "code",
   "execution_count": 65,
   "metadata": {},
   "outputs": [
    {
     "data": {
      "text/plain": [
       "('medical.csv', <http.client.HTTPMessage at 0x209b10c5cc0>)"
      ]
     },
     "execution_count": 65,
     "metadata": {},
     "output_type": "execute_result"
    }
   ],
   "source": [
    "from urllib.request import urlretrieve\n",
    "urlretrieve(medical_charges_url, 'medical.csv')"
   ]
  },
  {
   "cell_type": "code",
   "execution_count": 66,
   "metadata": {},
   "outputs": [
    {
     "data": {
      "text/html": [
       "<div>\n",
       "<style scoped>\n",
       "    .dataframe tbody tr th:only-of-type {\n",
       "        vertical-align: middle;\n",
       "    }\n",
       "\n",
       "    .dataframe tbody tr th {\n",
       "        vertical-align: top;\n",
       "    }\n",
       "\n",
       "    .dataframe thead th {\n",
       "        text-align: right;\n",
       "    }\n",
       "</style>\n",
       "<table border=\"1\" class=\"dataframe\">\n",
       "  <thead>\n",
       "    <tr style=\"text-align: right;\">\n",
       "      <th></th>\n",
       "      <th>age</th>\n",
       "      <th>sex</th>\n",
       "      <th>bmi</th>\n",
       "      <th>children</th>\n",
       "      <th>smoker</th>\n",
       "      <th>region</th>\n",
       "      <th>charges</th>\n",
       "    </tr>\n",
       "  </thead>\n",
       "  <tbody>\n",
       "    <tr>\n",
       "      <th>0</th>\n",
       "      <td>19</td>\n",
       "      <td>female</td>\n",
       "      <td>27.900</td>\n",
       "      <td>0</td>\n",
       "      <td>yes</td>\n",
       "      <td>southwest</td>\n",
       "      <td>16884.92400</td>\n",
       "    </tr>\n",
       "    <tr>\n",
       "      <th>1</th>\n",
       "      <td>18</td>\n",
       "      <td>male</td>\n",
       "      <td>33.770</td>\n",
       "      <td>1</td>\n",
       "      <td>no</td>\n",
       "      <td>southeast</td>\n",
       "      <td>1725.55230</td>\n",
       "    </tr>\n",
       "    <tr>\n",
       "      <th>2</th>\n",
       "      <td>28</td>\n",
       "      <td>male</td>\n",
       "      <td>33.000</td>\n",
       "      <td>3</td>\n",
       "      <td>no</td>\n",
       "      <td>southeast</td>\n",
       "      <td>4449.46200</td>\n",
       "    </tr>\n",
       "    <tr>\n",
       "      <th>3</th>\n",
       "      <td>33</td>\n",
       "      <td>male</td>\n",
       "      <td>22.705</td>\n",
       "      <td>0</td>\n",
       "      <td>no</td>\n",
       "      <td>northwest</td>\n",
       "      <td>21984.47061</td>\n",
       "    </tr>\n",
       "    <tr>\n",
       "      <th>4</th>\n",
       "      <td>32</td>\n",
       "      <td>male</td>\n",
       "      <td>28.880</td>\n",
       "      <td>0</td>\n",
       "      <td>no</td>\n",
       "      <td>northwest</td>\n",
       "      <td>3866.85520</td>\n",
       "    </tr>\n",
       "  </tbody>\n",
       "</table>\n",
       "</div>"
      ],
      "text/plain": [
       "   age     sex     bmi  children smoker     region      charges\n",
       "0   19  female  27.900         0    yes  southwest  16884.92400\n",
       "1   18    male  33.770         1     no  southeast   1725.55230\n",
       "2   28    male  33.000         3     no  southeast   4449.46200\n",
       "3   33    male  22.705         0     no  northwest  21984.47061\n",
       "4   32    male  28.880         0     no  northwest   3866.85520"
      ]
     },
     "execution_count": 66,
     "metadata": {},
     "output_type": "execute_result"
    }
   ],
   "source": [
    "import pandas as pd\n",
    "medical_df = pd.read_csv('medical.csv')\n",
    "medical_df.head()"
   ]
  },
  {
   "cell_type": "code",
   "execution_count": 67,
   "metadata": {},
   "outputs": [
    {
     "name": "stdout",
     "output_type": "stream",
     "text": [
      "<class 'pandas.core.frame.DataFrame'>\n",
      "RangeIndex: 1338 entries, 0 to 1337\n",
      "Data columns (total 7 columns):\n",
      " #   Column    Non-Null Count  Dtype  \n",
      "---  ------    --------------  -----  \n",
      " 0   age       1338 non-null   int64  \n",
      " 1   sex       1338 non-null   object \n",
      " 2   bmi       1338 non-null   float64\n",
      " 3   children  1338 non-null   int64  \n",
      " 4   smoker    1338 non-null   object \n",
      " 5   region    1338 non-null   object \n",
      " 6   charges   1338 non-null   float64\n",
      "dtypes: float64(2), int64(2), object(3)\n",
      "memory usage: 73.3+ KB\n"
     ]
    }
   ],
   "source": [
    "medical_df.info()\n",
    "# No data is msssing"
   ]
  },
  {
   "cell_type": "code",
   "execution_count": 68,
   "metadata": {},
   "outputs": [
    {
     "data": {
      "text/html": [
       "<div>\n",
       "<style scoped>\n",
       "    .dataframe tbody tr th:only-of-type {\n",
       "        vertical-align: middle;\n",
       "    }\n",
       "\n",
       "    .dataframe tbody tr th {\n",
       "        vertical-align: top;\n",
       "    }\n",
       "\n",
       "    .dataframe thead th {\n",
       "        text-align: right;\n",
       "    }\n",
       "</style>\n",
       "<table border=\"1\" class=\"dataframe\">\n",
       "  <thead>\n",
       "    <tr style=\"text-align: right;\">\n",
       "      <th></th>\n",
       "      <th>age</th>\n",
       "      <th>bmi</th>\n",
       "      <th>children</th>\n",
       "      <th>charges</th>\n",
       "    </tr>\n",
       "  </thead>\n",
       "  <tbody>\n",
       "    <tr>\n",
       "      <th>count</th>\n",
       "      <td>1338.000000</td>\n",
       "      <td>1338.000000</td>\n",
       "      <td>1338.000000</td>\n",
       "      <td>1338.000000</td>\n",
       "    </tr>\n",
       "    <tr>\n",
       "      <th>mean</th>\n",
       "      <td>39.207025</td>\n",
       "      <td>30.663397</td>\n",
       "      <td>1.094918</td>\n",
       "      <td>13270.422265</td>\n",
       "    </tr>\n",
       "    <tr>\n",
       "      <th>std</th>\n",
       "      <td>14.049960</td>\n",
       "      <td>6.098187</td>\n",
       "      <td>1.205493</td>\n",
       "      <td>12110.011237</td>\n",
       "    </tr>\n",
       "    <tr>\n",
       "      <th>min</th>\n",
       "      <td>18.000000</td>\n",
       "      <td>15.960000</td>\n",
       "      <td>0.000000</td>\n",
       "      <td>1121.873900</td>\n",
       "    </tr>\n",
       "    <tr>\n",
       "      <th>25%</th>\n",
       "      <td>27.000000</td>\n",
       "      <td>26.296250</td>\n",
       "      <td>0.000000</td>\n",
       "      <td>4740.287150</td>\n",
       "    </tr>\n",
       "    <tr>\n",
       "      <th>50%</th>\n",
       "      <td>39.000000</td>\n",
       "      <td>30.400000</td>\n",
       "      <td>1.000000</td>\n",
       "      <td>9382.033000</td>\n",
       "    </tr>\n",
       "    <tr>\n",
       "      <th>75%</th>\n",
       "      <td>51.000000</td>\n",
       "      <td>34.693750</td>\n",
       "      <td>2.000000</td>\n",
       "      <td>16639.912515</td>\n",
       "    </tr>\n",
       "    <tr>\n",
       "      <th>max</th>\n",
       "      <td>64.000000</td>\n",
       "      <td>53.130000</td>\n",
       "      <td>5.000000</td>\n",
       "      <td>63770.428010</td>\n",
       "    </tr>\n",
       "  </tbody>\n",
       "</table>\n",
       "</div>"
      ],
      "text/plain": [
       "               age          bmi     children       charges\n",
       "count  1338.000000  1338.000000  1338.000000   1338.000000\n",
       "mean     39.207025    30.663397     1.094918  13270.422265\n",
       "std      14.049960     6.098187     1.205493  12110.011237\n",
       "min      18.000000    15.960000     0.000000   1121.873900\n",
       "25%      27.000000    26.296250     0.000000   4740.287150\n",
       "50%      39.000000    30.400000     1.000000   9382.033000\n",
       "75%      51.000000    34.693750     2.000000  16639.912515\n",
       "max      64.000000    53.130000     5.000000  63770.428010"
      ]
     },
     "execution_count": 68,
     "metadata": {},
     "output_type": "execute_result"
    }
   ],
   "source": [
    "medical_df.describe()"
   ]
  },
  {
   "cell_type": "markdown",
   "metadata": {},
   "source": [
    "## "
   ]
  },
  {
   "cell_type": "markdown",
   "metadata": {},
   "source": [
    "## Divide the data into test and train \n"
   ]
  },
  {
   "cell_type": "code",
   "execution_count": 69,
   "metadata": {},
   "outputs": [],
   "source": [
    "X = medical_df.drop('charges', axis=1) # drop charge (y) from the dataset\n",
    "y = medical_df.charges"
   ]
  },
  {
   "cell_type": "code",
   "execution_count": 70,
   "metadata": {},
   "outputs": [],
   "source": [
    "from sklearn.model_selection import train_test_split\n",
    "X_train, X_test, y_train, y_test = train_test_split(X, \n",
    "                                                    y, \n",
    "                                                    test_size=0.2, \n",
    "                                                    stratify=X.age, # to avoid bias in dataset\n",
    "                                                    random_state=42)"
   ]
  },
  {
   "cell_type": "markdown",
   "metadata": {},
   "source": [
    "## Exploratory Analysis and Visualization"
   ]
  },
  {
   "cell_type": "markdown",
   "metadata": {},
   "source": [
    "Explore the data by visualizing the distribution of values in some columns of the dataset\n",
    "and the relationships between charges and other columns"
   ]
  },
  {
   "cell_type": "code",
   "execution_count": 71,
   "metadata": {},
   "outputs": [],
   "source": [
    "#%pip install plotly"
   ]
  },
  {
   "cell_type": "code",
   "execution_count": 72,
   "metadata": {},
   "outputs": [],
   "source": [
    "# Import required libs\n",
    "import plotly.express as px\n",
    "import matplotlib\n",
    "import matplotlib.pyplot as plt\n",
    "import seaborn as sns"
   ]
  },
  {
   "cell_type": "code",
   "execution_count": 73,
   "metadata": {},
   "outputs": [],
   "source": [
    "# to impove default style and font size of the charts\n",
    "sns.set_style('darkgrid')\n",
    "matplotlib.rcParams['font.size'] = 14\n",
    "matplotlib.rcParams['figure.figsize'] = (10,6)\n",
    "matplotlib.rcParams['figure.facecolor'] = '#00000000'"
   ]
  },
  {
   "cell_type": "markdown",
   "metadata": {},
   "source": [
    "### Age"
   ]
  },
  {
   "cell_type": "code",
   "execution_count": 74,
   "metadata": {},
   "outputs": [
    {
     "data": {
      "text/plain": [
       "count    268.000000\n",
       "mean      38.914179\n",
       "std       14.062864\n",
       "min       18.000000\n",
       "25%       26.000000\n",
       "50%       39.000000\n",
       "75%       51.000000\n",
       "max       64.000000\n",
       "Name: age, dtype: float64"
      ]
     },
     "execution_count": 74,
     "metadata": {},
     "output_type": "execute_result"
    }
   ],
   "source": [
    "X_test.age.describe()"
   ]
  },
  {
   "cell_type": "markdown",
   "metadata": {},
   "source": [
    "Observations\n",
    "1. Min age is 18\n",
    "2. Max age 64"
   ]
  },
  {
   "cell_type": "code",
   "execution_count": 75,
   "metadata": {},
   "outputs": [
    {
     "data": {
      "application/vnd.plotly.v1+json": {
       "config": {
        "plotlyServerURL": "https://plot.ly"
       },
       "data": [
        {
         "alignmentgroup": "True",
         "bingroup": "x",
         "hovertemplate": "age=%{x}<br>count=%{y}<extra></extra>",
         "legendgroup": "",
         "marker": {
          "color": "#636efa",
          "pattern": {
           "shape": ""
          }
         },
         "name": "",
         "nbinsx": 47,
         "offsetgroup": "",
         "orientation": "v",
         "showlegend": false,
         "type": "histogram",
         "x": [
          46,
          40,
          19,
          53,
          26,
          57,
          32,
          41,
          23,
          35,
          34,
          45,
          30,
          24,
          30,
          21,
          40,
          18,
          34,
          46,
          19,
          58,
          52,
          26,
          61,
          39,
          20,
          30,
          54,
          40,
          59,
          55,
          47,
          44,
          26,
          27,
          52,
          45,
          34,
          18,
          60,
          23,
          19,
          45,
          35,
          40,
          33,
          18,
          51,
          18,
          19,
          22,
          50,
          48,
          50,
          19,
          49,
          52,
          47,
          21,
          39,
          45,
          52,
          32,
          47,
          28,
          46,
          18,
          49,
          53,
          58,
          52,
          61,
          35,
          60,
          37,
          60,
          24,
          53,
          33,
          44,
          29,
          35,
          43,
          46,
          63,
          50,
          19,
          21,
          28,
          63,
          36,
          39,
          44,
          59,
          19,
          25,
          23,
          41,
          26,
          31,
          18,
          42,
          60,
          23,
          27,
          21,
          24,
          38,
          57,
          33,
          44,
          64,
          22,
          26,
          53,
          24,
          31,
          34,
          56,
          19,
          38,
          61,
          51,
          34,
          54,
          49,
          36,
          26,
          33,
          47,
          37,
          34,
          42,
          19,
          26,
          25,
          38,
          49,
          51,
          52,
          37,
          37,
          44,
          62,
          61,
          38,
          38,
          46,
          50,
          36,
          51,
          30,
          26,
          56,
          27,
          57,
          43,
          23,
          59,
          19,
          19,
          31,
          27,
          38,
          56,
          24,
          19,
          58,
          19,
          62,
          27,
          63,
          42,
          33,
          56,
          22,
          53,
          49,
          21,
          62,
          47,
          49,
          42,
          42,
          18,
          60,
          34,
          19,
          63,
          27,
          54,
          42,
          19,
          24,
          18,
          18,
          56,
          26,
          49,
          33,
          54,
          56,
          60,
          54,
          33,
          43,
          20,
          30,
          64,
          19,
          33,
          58,
          18,
          18,
          31,
          30,
          36,
          35,
          48,
          50,
          41,
          60,
          37,
          43,
          30,
          34,
          53,
          18,
          58,
          63,
          19,
          38,
          39,
          22,
          40,
          19,
          60,
          20,
          57,
          44,
          41,
          59,
          39,
          59,
          64,
          25,
          45,
          18,
          45,
          41,
          34,
          42,
          56,
          61,
          26,
          63,
          29,
          19,
          64,
          35,
          29,
          36,
          37,
          18,
          53,
          20,
          40,
          55,
          41,
          19,
          57,
          27,
          27,
          48,
          50,
          22,
          30,
          39,
          19,
          45,
          46,
          40,
          61,
          18,
          53,
          64,
          41,
          48,
          19,
          25,
          21,
          18,
          32,
          48,
          51,
          30,
          23,
          28,
          36,
          40,
          18,
          43,
          50,
          20,
          38,
          25,
          28,
          42,
          29,
          21,
          28,
          23,
          23,
          39,
          43,
          23,
          59,
          44,
          59,
          20,
          28,
          51,
          47,
          40,
          23,
          46,
          38,
          49,
          23,
          54,
          33,
          36,
          53,
          23,
          45,
          37,
          31,
          56,
          33,
          43,
          40,
          44,
          35,
          39,
          54,
          36,
          22,
          44,
          58,
          63,
          36,
          22,
          24,
          22,
          51,
          20,
          27,
          43,
          29,
          18,
          55,
          42,
          27,
          53,
          43,
          36,
          35,
          38,
          53,
          36,
          19,
          44,
          20,
          49,
          18,
          28,
          43,
          55,
          22,
          61,
          59,
          64,
          52,
          18,
          58,
          32,
          50,
          45,
          32,
          55,
          39,
          25,
          33,
          39,
          44,
          48,
          42,
          63,
          29,
          58,
          32,
          54,
          30,
          51,
          28,
          51,
          25,
          19,
          18,
          27,
          31,
          40,
          62,
          43,
          48,
          18,
          64,
          36,
          57,
          20,
          26,
          23,
          62,
          36,
          47,
          47,
          48,
          61,
          34,
          51,
          19,
          25,
          31,
          41,
          56,
          34,
          19,
          19,
          60,
          23,
          18,
          55,
          35,
          58,
          55,
          55,
          24,
          64,
          52,
          33,
          18,
          38,
          64,
          55,
          24,
          30,
          47,
          49,
          56,
          59,
          24,
          35,
          35,
          19,
          35,
          18,
          37,
          24,
          45,
          64,
          64,
          31,
          60,
          30,
          45,
          21,
          24,
          55,
          48,
          46,
          28,
          28,
          57,
          55,
          63,
          20,
          25,
          47,
          22,
          46,
          25,
          61,
          47,
          42,
          51,
          41,
          59,
          44,
          38,
          19,
          58,
          38,
          57,
          56,
          18,
          31,
          55,
          28,
          20,
          50,
          41,
          33,
          43,
          29,
          32,
          42,
          46,
          49,
          44,
          32,
          60,
          20,
          55,
          54,
          48,
          26,
          31,
          54,
          46,
          63,
          59,
          18,
          29,
          28,
          34,
          19,
          21,
          20,
          19,
          41,
          23,
          19,
          20,
          25,
          18,
          45,
          47,
          56,
          51,
          49,
          46,
          50,
          40,
          19,
          24,
          32,
          34,
          58,
          48,
          52,
          40,
          22,
          37,
          51,
          30,
          29,
          54,
          19,
          19,
          49,
          52,
          32,
          20,
          59,
          53,
          25,
          55,
          64,
          24,
          51,
          58,
          40,
          32,
          39,
          48,
          64,
          24,
          41,
          63,
          42,
          39,
          29,
          44,
          19,
          51,
          59,
          24,
          37,
          61,
          45,
          22,
          22,
          57,
          44,
          26,
          60,
          32,
          35,
          43,
          28,
          18,
          43,
          52,
          32,
          40,
          62,
          45,
          19,
          62,
          63,
          22,
          27,
          53,
          57,
          54,
          50,
          55,
          44,
          34,
          62,
          57,
          41,
          36,
          19,
          18,
          53,
          48,
          36,
          32,
          61,
          27,
          27,
          28,
          24,
          50,
          36,
          18,
          56,
          46,
          46,
          23,
          52,
          25,
          37,
          23,
          27,
          48,
          25,
          56,
          41,
          33,
          46,
          46,
          42,
          62,
          54,
          60,
          29,
          60,
          35,
          56,
          31,
          58,
          25,
          61,
          47,
          18,
          39,
          50,
          28,
          58,
          42,
          26,
          62,
          19,
          40,
          52,
          34,
          47,
          46,
          32,
          54,
          39,
          18,
          47,
          21,
          18,
          34,
          45,
          23,
          31,
          49,
          62,
          30,
          40,
          62,
          46,
          55,
          51,
          31,
          19,
          63,
          30,
          21,
          50,
          26,
          60,
          48,
          48,
          41,
          49,
          47,
          20,
          54,
          53,
          25,
          28,
          49,
          20,
          64,
          56,
          29,
          18,
          35,
          42,
          22,
          54,
          29,
          18,
          20,
          51,
          32,
          26,
          57,
          18,
          36,
          57,
          54,
          30,
          48,
          23,
          45,
          40,
          44,
          29,
          43,
          27,
          63,
          31,
          41,
          29,
          57,
          20,
          54,
          22,
          53,
          64,
          21,
          51,
          46,
          34,
          55,
          41,
          51,
          18,
          19,
          64,
          53,
          56,
          57,
          18,
          50,
          38,
          50,
          26,
          38,
          49,
          24,
          52,
          19,
          58,
          31,
          54,
          26,
          61,
          41,
          45,
          42,
          57,
          50,
          41,
          56,
          21,
          25,
          19,
          61,
          62,
          28,
          29,
          53,
          61,
          57,
          32,
          59,
          55,
          61,
          21,
          30,
          58,
          33,
          42,
          62,
          34,
          45,
          28,
          21,
          29,
          45,
          32,
          21,
          34,
          18,
          46,
          41,
          32,
          30,
          31,
          27,
          32,
          25,
          53,
          35,
          27,
          47,
          49,
          26,
          58,
          56,
          62,
          52,
          55,
          54,
          43,
          33,
          27,
          21,
          50,
          49,
          26,
          33,
          40,
          22,
          60,
          29,
          60,
          59,
          34,
          37,
          57,
          22,
          48,
          33,
          30,
          38,
          58,
          39,
          59,
          31,
          23,
          22,
          63,
          59,
          61,
          52,
          23,
          43,
          21,
          22,
          64,
          27,
          43,
          37,
          35,
          33,
          31,
          25,
          42,
          36,
          57,
          52,
          59,
          53,
          46,
          55,
          21,
          39,
          44,
          30,
          50,
          32,
          26,
          19,
          62,
          33,
          47,
          18,
          50,
          28,
          18,
          40,
          55,
          37,
          62,
          41,
          45,
          62,
          19,
          36,
          39,
          24,
          47,
          31,
          37,
          48,
          19,
          45,
          50,
          30,
          24,
          42,
          29,
          18,
          52,
          37,
          52,
          41,
          29,
          59,
          52,
          18,
          43,
          27,
          39,
          54,
          19,
          37,
          34,
          22,
          19,
          25,
          38,
          20,
          51,
          18,
          18,
          63,
          43,
          58,
          19,
          24,
          44,
          18,
          61,
          47,
          19,
          38,
          35,
          21,
          24,
          37,
          31,
          38,
          59,
          53,
          37,
          26,
          48,
          36,
          21,
          49,
          40,
          50,
          28,
          29,
          19,
          33,
          49,
          45,
          43,
          18,
          19,
          29,
          25,
          49,
          51,
          23,
          20,
          46,
          38,
          18,
          28,
          50,
          21,
          63,
          51,
          31,
          28,
          46,
          52,
          47,
          31,
          52,
          62,
          20,
          44,
          47,
          60,
          57,
          56,
          35,
          52,
          27,
          63,
          22,
          48,
          44,
          18,
          30,
          42,
          61,
          63,
          18,
          57,
          18,
          18,
          64,
          53,
          19,
          51,
          43,
          18,
          35,
          45,
          18,
          37,
          25,
          40,
          39,
          39,
          48,
          48,
          20,
          19,
          44,
          47,
          42,
          54,
          58,
          56
         ],
         "xaxis": "x",
         "yaxis": "y"
        },
        {
         "alignmentgroup": "True",
         "hovertemplate": "age=%{x}<extra></extra>",
         "legendgroup": "",
         "marker": {
          "color": "#636efa"
         },
         "name": "",
         "notched": true,
         "offsetgroup": "",
         "showlegend": false,
         "type": "box",
         "x": [
          46,
          40,
          19,
          53,
          26,
          57,
          32,
          41,
          23,
          35,
          34,
          45,
          30,
          24,
          30,
          21,
          40,
          18,
          34,
          46,
          19,
          58,
          52,
          26,
          61,
          39,
          20,
          30,
          54,
          40,
          59,
          55,
          47,
          44,
          26,
          27,
          52,
          45,
          34,
          18,
          60,
          23,
          19,
          45,
          35,
          40,
          33,
          18,
          51,
          18,
          19,
          22,
          50,
          48,
          50,
          19,
          49,
          52,
          47,
          21,
          39,
          45,
          52,
          32,
          47,
          28,
          46,
          18,
          49,
          53,
          58,
          52,
          61,
          35,
          60,
          37,
          60,
          24,
          53,
          33,
          44,
          29,
          35,
          43,
          46,
          63,
          50,
          19,
          21,
          28,
          63,
          36,
          39,
          44,
          59,
          19,
          25,
          23,
          41,
          26,
          31,
          18,
          42,
          60,
          23,
          27,
          21,
          24,
          38,
          57,
          33,
          44,
          64,
          22,
          26,
          53,
          24,
          31,
          34,
          56,
          19,
          38,
          61,
          51,
          34,
          54,
          49,
          36,
          26,
          33,
          47,
          37,
          34,
          42,
          19,
          26,
          25,
          38,
          49,
          51,
          52,
          37,
          37,
          44,
          62,
          61,
          38,
          38,
          46,
          50,
          36,
          51,
          30,
          26,
          56,
          27,
          57,
          43,
          23,
          59,
          19,
          19,
          31,
          27,
          38,
          56,
          24,
          19,
          58,
          19,
          62,
          27,
          63,
          42,
          33,
          56,
          22,
          53,
          49,
          21,
          62,
          47,
          49,
          42,
          42,
          18,
          60,
          34,
          19,
          63,
          27,
          54,
          42,
          19,
          24,
          18,
          18,
          56,
          26,
          49,
          33,
          54,
          56,
          60,
          54,
          33,
          43,
          20,
          30,
          64,
          19,
          33,
          58,
          18,
          18,
          31,
          30,
          36,
          35,
          48,
          50,
          41,
          60,
          37,
          43,
          30,
          34,
          53,
          18,
          58,
          63,
          19,
          38,
          39,
          22,
          40,
          19,
          60,
          20,
          57,
          44,
          41,
          59,
          39,
          59,
          64,
          25,
          45,
          18,
          45,
          41,
          34,
          42,
          56,
          61,
          26,
          63,
          29,
          19,
          64,
          35,
          29,
          36,
          37,
          18,
          53,
          20,
          40,
          55,
          41,
          19,
          57,
          27,
          27,
          48,
          50,
          22,
          30,
          39,
          19,
          45,
          46,
          40,
          61,
          18,
          53,
          64,
          41,
          48,
          19,
          25,
          21,
          18,
          32,
          48,
          51,
          30,
          23,
          28,
          36,
          40,
          18,
          43,
          50,
          20,
          38,
          25,
          28,
          42,
          29,
          21,
          28,
          23,
          23,
          39,
          43,
          23,
          59,
          44,
          59,
          20,
          28,
          51,
          47,
          40,
          23,
          46,
          38,
          49,
          23,
          54,
          33,
          36,
          53,
          23,
          45,
          37,
          31,
          56,
          33,
          43,
          40,
          44,
          35,
          39,
          54,
          36,
          22,
          44,
          58,
          63,
          36,
          22,
          24,
          22,
          51,
          20,
          27,
          43,
          29,
          18,
          55,
          42,
          27,
          53,
          43,
          36,
          35,
          38,
          53,
          36,
          19,
          44,
          20,
          49,
          18,
          28,
          43,
          55,
          22,
          61,
          59,
          64,
          52,
          18,
          58,
          32,
          50,
          45,
          32,
          55,
          39,
          25,
          33,
          39,
          44,
          48,
          42,
          63,
          29,
          58,
          32,
          54,
          30,
          51,
          28,
          51,
          25,
          19,
          18,
          27,
          31,
          40,
          62,
          43,
          48,
          18,
          64,
          36,
          57,
          20,
          26,
          23,
          62,
          36,
          47,
          47,
          48,
          61,
          34,
          51,
          19,
          25,
          31,
          41,
          56,
          34,
          19,
          19,
          60,
          23,
          18,
          55,
          35,
          58,
          55,
          55,
          24,
          64,
          52,
          33,
          18,
          38,
          64,
          55,
          24,
          30,
          47,
          49,
          56,
          59,
          24,
          35,
          35,
          19,
          35,
          18,
          37,
          24,
          45,
          64,
          64,
          31,
          60,
          30,
          45,
          21,
          24,
          55,
          48,
          46,
          28,
          28,
          57,
          55,
          63,
          20,
          25,
          47,
          22,
          46,
          25,
          61,
          47,
          42,
          51,
          41,
          59,
          44,
          38,
          19,
          58,
          38,
          57,
          56,
          18,
          31,
          55,
          28,
          20,
          50,
          41,
          33,
          43,
          29,
          32,
          42,
          46,
          49,
          44,
          32,
          60,
          20,
          55,
          54,
          48,
          26,
          31,
          54,
          46,
          63,
          59,
          18,
          29,
          28,
          34,
          19,
          21,
          20,
          19,
          41,
          23,
          19,
          20,
          25,
          18,
          45,
          47,
          56,
          51,
          49,
          46,
          50,
          40,
          19,
          24,
          32,
          34,
          58,
          48,
          52,
          40,
          22,
          37,
          51,
          30,
          29,
          54,
          19,
          19,
          49,
          52,
          32,
          20,
          59,
          53,
          25,
          55,
          64,
          24,
          51,
          58,
          40,
          32,
          39,
          48,
          64,
          24,
          41,
          63,
          42,
          39,
          29,
          44,
          19,
          51,
          59,
          24,
          37,
          61,
          45,
          22,
          22,
          57,
          44,
          26,
          60,
          32,
          35,
          43,
          28,
          18,
          43,
          52,
          32,
          40,
          62,
          45,
          19,
          62,
          63,
          22,
          27,
          53,
          57,
          54,
          50,
          55,
          44,
          34,
          62,
          57,
          41,
          36,
          19,
          18,
          53,
          48,
          36,
          32,
          61,
          27,
          27,
          28,
          24,
          50,
          36,
          18,
          56,
          46,
          46,
          23,
          52,
          25,
          37,
          23,
          27,
          48,
          25,
          56,
          41,
          33,
          46,
          46,
          42,
          62,
          54,
          60,
          29,
          60,
          35,
          56,
          31,
          58,
          25,
          61,
          47,
          18,
          39,
          50,
          28,
          58,
          42,
          26,
          62,
          19,
          40,
          52,
          34,
          47,
          46,
          32,
          54,
          39,
          18,
          47,
          21,
          18,
          34,
          45,
          23,
          31,
          49,
          62,
          30,
          40,
          62,
          46,
          55,
          51,
          31,
          19,
          63,
          30,
          21,
          50,
          26,
          60,
          48,
          48,
          41,
          49,
          47,
          20,
          54,
          53,
          25,
          28,
          49,
          20,
          64,
          56,
          29,
          18,
          35,
          42,
          22,
          54,
          29,
          18,
          20,
          51,
          32,
          26,
          57,
          18,
          36,
          57,
          54,
          30,
          48,
          23,
          45,
          40,
          44,
          29,
          43,
          27,
          63,
          31,
          41,
          29,
          57,
          20,
          54,
          22,
          53,
          64,
          21,
          51,
          46,
          34,
          55,
          41,
          51,
          18,
          19,
          64,
          53,
          56,
          57,
          18,
          50,
          38,
          50,
          26,
          38,
          49,
          24,
          52,
          19,
          58,
          31,
          54,
          26,
          61,
          41,
          45,
          42,
          57,
          50,
          41,
          56,
          21,
          25,
          19,
          61,
          62,
          28,
          29,
          53,
          61,
          57,
          32,
          59,
          55,
          61,
          21,
          30,
          58,
          33,
          42,
          62,
          34,
          45,
          28,
          21,
          29,
          45,
          32,
          21,
          34,
          18,
          46,
          41,
          32,
          30,
          31,
          27,
          32,
          25,
          53,
          35,
          27,
          47,
          49,
          26,
          58,
          56,
          62,
          52,
          55,
          54,
          43,
          33,
          27,
          21,
          50,
          49,
          26,
          33,
          40,
          22,
          60,
          29,
          60,
          59,
          34,
          37,
          57,
          22,
          48,
          33,
          30,
          38,
          58,
          39,
          59,
          31,
          23,
          22,
          63,
          59,
          61,
          52,
          23,
          43,
          21,
          22,
          64,
          27,
          43,
          37,
          35,
          33,
          31,
          25,
          42,
          36,
          57,
          52,
          59,
          53,
          46,
          55,
          21,
          39,
          44,
          30,
          50,
          32,
          26,
          19,
          62,
          33,
          47,
          18,
          50,
          28,
          18,
          40,
          55,
          37,
          62,
          41,
          45,
          62,
          19,
          36,
          39,
          24,
          47,
          31,
          37,
          48,
          19,
          45,
          50,
          30,
          24,
          42,
          29,
          18,
          52,
          37,
          52,
          41,
          29,
          59,
          52,
          18,
          43,
          27,
          39,
          54,
          19,
          37,
          34,
          22,
          19,
          25,
          38,
          20,
          51,
          18,
          18,
          63,
          43,
          58,
          19,
          24,
          44,
          18,
          61,
          47,
          19,
          38,
          35,
          21,
          24,
          37,
          31,
          38,
          59,
          53,
          37,
          26,
          48,
          36,
          21,
          49,
          40,
          50,
          28,
          29,
          19,
          33,
          49,
          45,
          43,
          18,
          19,
          29,
          25,
          49,
          51,
          23,
          20,
          46,
          38,
          18,
          28,
          50,
          21,
          63,
          51,
          31,
          28,
          46,
          52,
          47,
          31,
          52,
          62,
          20,
          44,
          47,
          60,
          57,
          56,
          35,
          52,
          27,
          63,
          22,
          48,
          44,
          18,
          30,
          42,
          61,
          63,
          18,
          57,
          18,
          18,
          64,
          53,
          19,
          51,
          43,
          18,
          35,
          45,
          18,
          37,
          25,
          40,
          39,
          39,
          48,
          48,
          20,
          19,
          44,
          47,
          42,
          54,
          58,
          56
         ],
         "xaxis": "x2",
         "yaxis": "y2"
        }
       ],
       "layout": {
        "bargap": 0.1,
        "barmode": "relative",
        "legend": {
         "tracegroupgap": 0
        },
        "template": {
         "data": {
          "bar": [
           {
            "error_x": {
             "color": "#2a3f5f"
            },
            "error_y": {
             "color": "#2a3f5f"
            },
            "marker": {
             "line": {
              "color": "#E5ECF6",
              "width": 0.5
             },
             "pattern": {
              "fillmode": "overlay",
              "size": 10,
              "solidity": 0.2
             }
            },
            "type": "bar"
           }
          ],
          "barpolar": [
           {
            "marker": {
             "line": {
              "color": "#E5ECF6",
              "width": 0.5
             },
             "pattern": {
              "fillmode": "overlay",
              "size": 10,
              "solidity": 0.2
             }
            },
            "type": "barpolar"
           }
          ],
          "carpet": [
           {
            "aaxis": {
             "endlinecolor": "#2a3f5f",
             "gridcolor": "white",
             "linecolor": "white",
             "minorgridcolor": "white",
             "startlinecolor": "#2a3f5f"
            },
            "baxis": {
             "endlinecolor": "#2a3f5f",
             "gridcolor": "white",
             "linecolor": "white",
             "minorgridcolor": "white",
             "startlinecolor": "#2a3f5f"
            },
            "type": "carpet"
           }
          ],
          "choropleth": [
           {
            "colorbar": {
             "outlinewidth": 0,
             "ticks": ""
            },
            "type": "choropleth"
           }
          ],
          "contour": [
           {
            "colorbar": {
             "outlinewidth": 0,
             "ticks": ""
            },
            "colorscale": [
             [
              0,
              "#0d0887"
             ],
             [
              0.1111111111111111,
              "#46039f"
             ],
             [
              0.2222222222222222,
              "#7201a8"
             ],
             [
              0.3333333333333333,
              "#9c179e"
             ],
             [
              0.4444444444444444,
              "#bd3786"
             ],
             [
              0.5555555555555556,
              "#d8576b"
             ],
             [
              0.6666666666666666,
              "#ed7953"
             ],
             [
              0.7777777777777778,
              "#fb9f3a"
             ],
             [
              0.8888888888888888,
              "#fdca26"
             ],
             [
              1,
              "#f0f921"
             ]
            ],
            "type": "contour"
           }
          ],
          "contourcarpet": [
           {
            "colorbar": {
             "outlinewidth": 0,
             "ticks": ""
            },
            "type": "contourcarpet"
           }
          ],
          "heatmap": [
           {
            "colorbar": {
             "outlinewidth": 0,
             "ticks": ""
            },
            "colorscale": [
             [
              0,
              "#0d0887"
             ],
             [
              0.1111111111111111,
              "#46039f"
             ],
             [
              0.2222222222222222,
              "#7201a8"
             ],
             [
              0.3333333333333333,
              "#9c179e"
             ],
             [
              0.4444444444444444,
              "#bd3786"
             ],
             [
              0.5555555555555556,
              "#d8576b"
             ],
             [
              0.6666666666666666,
              "#ed7953"
             ],
             [
              0.7777777777777778,
              "#fb9f3a"
             ],
             [
              0.8888888888888888,
              "#fdca26"
             ],
             [
              1,
              "#f0f921"
             ]
            ],
            "type": "heatmap"
           }
          ],
          "heatmapgl": [
           {
            "colorbar": {
             "outlinewidth": 0,
             "ticks": ""
            },
            "colorscale": [
             [
              0,
              "#0d0887"
             ],
             [
              0.1111111111111111,
              "#46039f"
             ],
             [
              0.2222222222222222,
              "#7201a8"
             ],
             [
              0.3333333333333333,
              "#9c179e"
             ],
             [
              0.4444444444444444,
              "#bd3786"
             ],
             [
              0.5555555555555556,
              "#d8576b"
             ],
             [
              0.6666666666666666,
              "#ed7953"
             ],
             [
              0.7777777777777778,
              "#fb9f3a"
             ],
             [
              0.8888888888888888,
              "#fdca26"
             ],
             [
              1,
              "#f0f921"
             ]
            ],
            "type": "heatmapgl"
           }
          ],
          "histogram": [
           {
            "marker": {
             "pattern": {
              "fillmode": "overlay",
              "size": 10,
              "solidity": 0.2
             }
            },
            "type": "histogram"
           }
          ],
          "histogram2d": [
           {
            "colorbar": {
             "outlinewidth": 0,
             "ticks": ""
            },
            "colorscale": [
             [
              0,
              "#0d0887"
             ],
             [
              0.1111111111111111,
              "#46039f"
             ],
             [
              0.2222222222222222,
              "#7201a8"
             ],
             [
              0.3333333333333333,
              "#9c179e"
             ],
             [
              0.4444444444444444,
              "#bd3786"
             ],
             [
              0.5555555555555556,
              "#d8576b"
             ],
             [
              0.6666666666666666,
              "#ed7953"
             ],
             [
              0.7777777777777778,
              "#fb9f3a"
             ],
             [
              0.8888888888888888,
              "#fdca26"
             ],
             [
              1,
              "#f0f921"
             ]
            ],
            "type": "histogram2d"
           }
          ],
          "histogram2dcontour": [
           {
            "colorbar": {
             "outlinewidth": 0,
             "ticks": ""
            },
            "colorscale": [
             [
              0,
              "#0d0887"
             ],
             [
              0.1111111111111111,
              "#46039f"
             ],
             [
              0.2222222222222222,
              "#7201a8"
             ],
             [
              0.3333333333333333,
              "#9c179e"
             ],
             [
              0.4444444444444444,
              "#bd3786"
             ],
             [
              0.5555555555555556,
              "#d8576b"
             ],
             [
              0.6666666666666666,
              "#ed7953"
             ],
             [
              0.7777777777777778,
              "#fb9f3a"
             ],
             [
              0.8888888888888888,
              "#fdca26"
             ],
             [
              1,
              "#f0f921"
             ]
            ],
            "type": "histogram2dcontour"
           }
          ],
          "mesh3d": [
           {
            "colorbar": {
             "outlinewidth": 0,
             "ticks": ""
            },
            "type": "mesh3d"
           }
          ],
          "parcoords": [
           {
            "line": {
             "colorbar": {
              "outlinewidth": 0,
              "ticks": ""
             }
            },
            "type": "parcoords"
           }
          ],
          "pie": [
           {
            "automargin": true,
            "type": "pie"
           }
          ],
          "scatter": [
           {
            "fillpattern": {
             "fillmode": "overlay",
             "size": 10,
             "solidity": 0.2
            },
            "type": "scatter"
           }
          ],
          "scatter3d": [
           {
            "line": {
             "colorbar": {
              "outlinewidth": 0,
              "ticks": ""
             }
            },
            "marker": {
             "colorbar": {
              "outlinewidth": 0,
              "ticks": ""
             }
            },
            "type": "scatter3d"
           }
          ],
          "scattercarpet": [
           {
            "marker": {
             "colorbar": {
              "outlinewidth": 0,
              "ticks": ""
             }
            },
            "type": "scattercarpet"
           }
          ],
          "scattergeo": [
           {
            "marker": {
             "colorbar": {
              "outlinewidth": 0,
              "ticks": ""
             }
            },
            "type": "scattergeo"
           }
          ],
          "scattergl": [
           {
            "marker": {
             "colorbar": {
              "outlinewidth": 0,
              "ticks": ""
             }
            },
            "type": "scattergl"
           }
          ],
          "scattermapbox": [
           {
            "marker": {
             "colorbar": {
              "outlinewidth": 0,
              "ticks": ""
             }
            },
            "type": "scattermapbox"
           }
          ],
          "scatterpolar": [
           {
            "marker": {
             "colorbar": {
              "outlinewidth": 0,
              "ticks": ""
             }
            },
            "type": "scatterpolar"
           }
          ],
          "scatterpolargl": [
           {
            "marker": {
             "colorbar": {
              "outlinewidth": 0,
              "ticks": ""
             }
            },
            "type": "scatterpolargl"
           }
          ],
          "scatterternary": [
           {
            "marker": {
             "colorbar": {
              "outlinewidth": 0,
              "ticks": ""
             }
            },
            "type": "scatterternary"
           }
          ],
          "surface": [
           {
            "colorbar": {
             "outlinewidth": 0,
             "ticks": ""
            },
            "colorscale": [
             [
              0,
              "#0d0887"
             ],
             [
              0.1111111111111111,
              "#46039f"
             ],
             [
              0.2222222222222222,
              "#7201a8"
             ],
             [
              0.3333333333333333,
              "#9c179e"
             ],
             [
              0.4444444444444444,
              "#bd3786"
             ],
             [
              0.5555555555555556,
              "#d8576b"
             ],
             [
              0.6666666666666666,
              "#ed7953"
             ],
             [
              0.7777777777777778,
              "#fb9f3a"
             ],
             [
              0.8888888888888888,
              "#fdca26"
             ],
             [
              1,
              "#f0f921"
             ]
            ],
            "type": "surface"
           }
          ],
          "table": [
           {
            "cells": {
             "fill": {
              "color": "#EBF0F8"
             },
             "line": {
              "color": "white"
             }
            },
            "header": {
             "fill": {
              "color": "#C8D4E3"
             },
             "line": {
              "color": "white"
             }
            },
            "type": "table"
           }
          ]
         },
         "layout": {
          "annotationdefaults": {
           "arrowcolor": "#2a3f5f",
           "arrowhead": 0,
           "arrowwidth": 1
          },
          "autotypenumbers": "strict",
          "coloraxis": {
           "colorbar": {
            "outlinewidth": 0,
            "ticks": ""
           }
          },
          "colorscale": {
           "diverging": [
            [
             0,
             "#8e0152"
            ],
            [
             0.1,
             "#c51b7d"
            ],
            [
             0.2,
             "#de77ae"
            ],
            [
             0.3,
             "#f1b6da"
            ],
            [
             0.4,
             "#fde0ef"
            ],
            [
             0.5,
             "#f7f7f7"
            ],
            [
             0.6,
             "#e6f5d0"
            ],
            [
             0.7,
             "#b8e186"
            ],
            [
             0.8,
             "#7fbc41"
            ],
            [
             0.9,
             "#4d9221"
            ],
            [
             1,
             "#276419"
            ]
           ],
           "sequential": [
            [
             0,
             "#0d0887"
            ],
            [
             0.1111111111111111,
             "#46039f"
            ],
            [
             0.2222222222222222,
             "#7201a8"
            ],
            [
             0.3333333333333333,
             "#9c179e"
            ],
            [
             0.4444444444444444,
             "#bd3786"
            ],
            [
             0.5555555555555556,
             "#d8576b"
            ],
            [
             0.6666666666666666,
             "#ed7953"
            ],
            [
             0.7777777777777778,
             "#fb9f3a"
            ],
            [
             0.8888888888888888,
             "#fdca26"
            ],
            [
             1,
             "#f0f921"
            ]
           ],
           "sequentialminus": [
            [
             0,
             "#0d0887"
            ],
            [
             0.1111111111111111,
             "#46039f"
            ],
            [
             0.2222222222222222,
             "#7201a8"
            ],
            [
             0.3333333333333333,
             "#9c179e"
            ],
            [
             0.4444444444444444,
             "#bd3786"
            ],
            [
             0.5555555555555556,
             "#d8576b"
            ],
            [
             0.6666666666666666,
             "#ed7953"
            ],
            [
             0.7777777777777778,
             "#fb9f3a"
            ],
            [
             0.8888888888888888,
             "#fdca26"
            ],
            [
             1,
             "#f0f921"
            ]
           ]
          },
          "colorway": [
           "#636efa",
           "#EF553B",
           "#00cc96",
           "#ab63fa",
           "#FFA15A",
           "#19d3f3",
           "#FF6692",
           "#B6E880",
           "#FF97FF",
           "#FECB52"
          ],
          "font": {
           "color": "#2a3f5f"
          },
          "geo": {
           "bgcolor": "white",
           "lakecolor": "white",
           "landcolor": "#E5ECF6",
           "showlakes": true,
           "showland": true,
           "subunitcolor": "white"
          },
          "hoverlabel": {
           "align": "left"
          },
          "hovermode": "closest",
          "mapbox": {
           "style": "light"
          },
          "paper_bgcolor": "white",
          "plot_bgcolor": "#E5ECF6",
          "polar": {
           "angularaxis": {
            "gridcolor": "white",
            "linecolor": "white",
            "ticks": ""
           },
           "bgcolor": "#E5ECF6",
           "radialaxis": {
            "gridcolor": "white",
            "linecolor": "white",
            "ticks": ""
           }
          },
          "scene": {
           "xaxis": {
            "backgroundcolor": "#E5ECF6",
            "gridcolor": "white",
            "gridwidth": 2,
            "linecolor": "white",
            "showbackground": true,
            "ticks": "",
            "zerolinecolor": "white"
           },
           "yaxis": {
            "backgroundcolor": "#E5ECF6",
            "gridcolor": "white",
            "gridwidth": 2,
            "linecolor": "white",
            "showbackground": true,
            "ticks": "",
            "zerolinecolor": "white"
           },
           "zaxis": {
            "backgroundcolor": "#E5ECF6",
            "gridcolor": "white",
            "gridwidth": 2,
            "linecolor": "white",
            "showbackground": true,
            "ticks": "",
            "zerolinecolor": "white"
           }
          },
          "shapedefaults": {
           "line": {
            "color": "#2a3f5f"
           }
          },
          "ternary": {
           "aaxis": {
            "gridcolor": "white",
            "linecolor": "white",
            "ticks": ""
           },
           "baxis": {
            "gridcolor": "white",
            "linecolor": "white",
            "ticks": ""
           },
           "bgcolor": "#E5ECF6",
           "caxis": {
            "gridcolor": "white",
            "linecolor": "white",
            "ticks": ""
           }
          },
          "title": {
           "x": 0.05
          },
          "xaxis": {
           "automargin": true,
           "gridcolor": "white",
           "linecolor": "white",
           "ticks": "",
           "title": {
            "standoff": 15
           },
           "zerolinecolor": "white",
           "zerolinewidth": 2
          },
          "yaxis": {
           "automargin": true,
           "gridcolor": "white",
           "linecolor": "white",
           "ticks": "",
           "title": {
            "standoff": 15
           },
           "zerolinecolor": "white",
           "zerolinewidth": 2
          }
         }
        },
        "title": {
         "text": "Distribution  of Age"
        },
        "xaxis": {
         "anchor": "y",
         "domain": [
          0,
          1
         ],
         "title": {
          "text": "age"
         }
        },
        "xaxis2": {
         "anchor": "y2",
         "domain": [
          0,
          1
         ],
         "matches": "x",
         "showgrid": true,
         "showticklabels": false
        },
        "yaxis": {
         "anchor": "x",
         "domain": [
          0,
          0.8316
         ],
         "title": {
          "text": "count"
         }
        },
        "yaxis2": {
         "anchor": "x2",
         "domain": [
          0.8416,
          1
         ],
         "matches": "y2",
         "showgrid": false,
         "showline": false,
         "showticklabels": false,
         "ticks": ""
        }
       }
      }
     },
     "metadata": {},
     "output_type": "display_data"
    }
   ],
   "source": [
    "fig = px.histogram(X_train,\n",
    "                   x='age',\n",
    "                   marginal='box',\n",
    "                   nbins=47,\n",
    "                   title='Distribution  of Age')\n",
    "fig.update_layout(bargap=0.1)\n"
   ]
  },
  {
   "cell_type": "markdown",
   "metadata": {},
   "source": [
    "It seems people with age 18 and 19 have highest number of insurance. "
   ]
  },
  {
   "cell_type": "markdown",
   "metadata": {},
   "source": [
    "### BMI"
   ]
  },
  {
   "cell_type": "code",
   "execution_count": 76,
   "metadata": {},
   "outputs": [
    {
     "data": {
      "application/vnd.plotly.v1+json": {
       "config": {
        "plotlyServerURL": "https://plot.ly"
       },
       "data": [
        {
         "alignmentgroup": "True",
         "bingroup": "x",
         "hovertemplate": "bmi=%{x}<br>count=%{y}<extra></extra>",
         "legendgroup": "",
         "marker": {
          "color": "#636efa",
          "pattern": {
           "shape": ""
          }
         },
         "name": "",
         "nbinsx": 47,
         "offsetgroup": "",
         "orientation": "v",
         "showlegend": false,
         "type": "histogram",
         "x": [
          34.6,
          29.81,
          33.11,
          22.88,
          27.265,
          43.7,
          29.59,
          37.05,
          27.36,
          27.7,
          27.5,
          25.175,
          33.33,
          23.655,
          28.69,
          35.72,
          34.105,
          25.175,
          30.21,
          27.72,
          34.9,
          36.48,
          33.3,
          30,
          29.07,
          32.5,
          21.8,
          30.9,
          40.565,
          19.8,
          36.52,
          26.98,
          47.52,
          20.235,
          32.49,
          33.155,
          23.18,
          22.895,
          25.3,
          41.14,
          35.1,
          26.51,
          25.555,
          21.375,
          28.9,
          32.775,
          24.31,
          31.68,
          36.385,
          25.46,
          31.825,
          31.73,
          34.2,
          31.445,
          27.83,
          23.4,
          22.61,
          38.6,
          19.57,
          21.85,
          34.1,
          28.7,
          30.875,
          37.145,
          32,
          35.435,
          30.495,
          31.92,
          33.345,
          34.105,
          36.08,
          46.75,
          32.3,
          26.125,
          40.92,
          46.53,
          28.595,
          30.21,
          26.7,
          27.455,
          29.81,
          38.94,
          38.6,
          25.08,
          22.3,
          21.66,
          27.6,
          27.93,
          22.135,
          37.62,
          26.98,
          28.88,
          28.3,
          23.98,
          25.46,
          24.6,
          26.695,
          31.4,
          34.2,
          28.785,
          25.9,
          23.085,
          35.97,
          28.9,
          50.38,
          24.1,
          21.89,
          25.8,
          34.8,
          34.295,
          35.75,
          34.32,
          39.33,
          33.77,
          29.48,
          21.4,
          25.27,
          20.4,
          25.27,
          33.63,
          44.88,
          38.39,
          36.1,
          32.3,
          42.9,
          25.1,
          30.3,
          30.02,
          31.065,
          29.4,
          36,
          17.29,
          27,
          36.195,
          27.835,
          29.15,
          41.325,
          28.93,
          34.77,
          37,
          34.1,
          30.78,
          29.8,
          22.135,
          39.16,
          25.08,
          34.7,
          27.835,
          42.35,
          26.6,
          29.04,
          34.96,
          28.405,
          32.9,
          33.66,
          29.15,
          33.63,
          30.115,
          39.27,
          27.5,
          28.4,
          19.8,
          21.755,
          30.4,
          31,
          25.65,
          27.72,
          22.61,
          32.01,
          30.59,
          33.2,
          28.5,
          36.765,
          41.325,
          33.44,
          22.1,
          19.95,
          37.43,
          36.85,
          25.8,
          38.095,
          25.46,
          28.7,
          26.07,
          37.9,
          17.29,
          31.35,
          32.8,
          30.59,
          41.47,
          45.9,
          33.63,
          29,
          27.7,
          33.99,
          26.18,
          30.4,
          31.79,
          27.06,
          29.83,
          22.135,
          35.815,
          36.1,
          24.32,
          27.645,
          30.25,
          25.52,
          32.395,
          31.57,
          38.19,
          32.11,
          36.29,
          41.91,
          38.28,
          36.85,
          23.6,
          24.4,
          27.74,
          34.32,
          29.6,
          32.11,
          32.6,
          39.9,
          47.6,
          30.1,
          35.3,
          34.675,
          28.88,
          35.2,
          23.3,
          41.325,
          28.7,
          16.815,
          26.315,
          28.05,
          22.22,
          24.51,
          28.7,
          37,
          30.495,
          25.365,
          40.26,
          37.1,
          41.8,
          27.83,
          34.5,
          20.8,
          27.645,
          26.315,
          30.495,
          30.59,
          19,
          24.64,
          32.3,
          33.915,
          17.67,
          31.8,
          29.59,
          39.615,
          31.825,
          27.61,
          32.11,
          33.4,
          34.105,
          28.215,
          32.3,
          31.13,
          29.9,
          30.14,
          35.75,
          35.53,
          40.37,
          30.3,
          32.67,
          33.33,
          25.3,
          30.4,
          27.93,
          24.225,
          31.92,
          24.035,
          23.655,
          29.355,
          36.385,
          29.37,
          31.16,
          26.41,
          23.94,
          33.11,
          21.755,
          22.515,
          23.75,
          21.66,
          41.1,
          34.3,
          37.73,
          23.655,
          28.49,
          24.3,
          41.895,
          25.08,
          20.79,
          35.31,
          44.745,
          31.79,
          27.835,
          42.13,
          28.88,
          30,
          29.64,
          28.975,
          33.82,
          28.31,
          31.73,
          18.3,
          27.8,
          24.225,
          31.35,
          36.48,
          26.4,
          22,
          26.98,
          23.21,
          36.63,
          29.6,
          28.12,
          38.17,
          40.565,
          25.6,
          41.91,
          30.8,
          42.46,
          29.92,
          36.86,
          34.865,
          30.495,
          30.8,
          32.68,
          25.3,
          38.9,
          26.7,
          28.12,
          38.95,
          24.13,
          34.1,
          24.035,
          35.2,
          34.58,
          36.955,
          25.2,
          30.8,
          26.885,
          52.58,
          32.7,
          36,
          38.06,
          29.6,
          42.13,
          34.96,
          27.94,
          37.29,
          35.245,
          24.86,
          23.21,
          28.1,
          25.27,
          31.5,
          28.025,
          37.05,
          23.75,
          22.135,
          29.8,
          43.89,
          39.4,
          30.78,
          34.43,
          23.98,
          20.13,
          33,
          32.11,
          23.655,
          29.7,
          35.97,
          34.485,
          30.305,
          49.06,
          30.8,
          26.41,
          30.36,
          31.5,
          32.775,
          34.32,
          30.59,
          39.82,
          35.3,
          32.34,
          35.91,
          28.31,
          36.3,
          20.235,
          28.215,
          24.6,
          21.01,
          25.46,
          24.795,
          17.29,
          39.7,
          24.3,
          30.59,
          21.78,
          32.585,
          38.39,
          26.315,
          27.55,
          35.97,
          36.575,
          39.82,
          30.115,
          27.55,
          29.81,
          33,
          35.42,
          18.715,
          25,
          34.43,
          29.37,
          38.94,
          35.625,
          33.535,
          33.25,
          24.415,
          20.425,
          33.99,
          36.63,
          28.8,
          32.11,
          26.41,
          30.4,
          20.6,
          27.55,
          32.78,
          21.47,
          37.1,
          34.105,
          30.305,
          30.5,
          32.395,
          23.4,
          22.99,
          37.4,
          24.605,
          23.21,
          28.27,
          39.16,
          38.28,
          23.21,
          27.7,
          27.645,
          32.3,
          34.43,
          25.46,
          30.1,
          27.1,
          31,
          30.25,
          34.77,
          31.35,
          29.83,
          33.345,
          33.1,
          33.8,
          40.48,
          30.875,
          25.84,
          35.53,
          23.56,
          23.21,
          27.6,
          32.67,
          32.3,
          33.44,
          29.26,
          33,
          28.1,
          29.7,
          27.74,
          28.785,
          26.8,
          32.3,
          31.35,
          28.05,
          27.55,
          31.57,
          36.2,
          26.6,
          20.6,
          31.635,
          29.83,
          25.8,
          40.15,
          28.6,
          38,
          19.475,
          27.94,
          33.82,
          33.66,
          25.74,
          32.775,
          26.51,
          35.31,
          33.7,
          28.405,
          26.695,
          20.045,
          33.345,
          23.65,
          32.87,
          43.89,
          25.84,
          37.1,
          20.52,
          32.8,
          24.42,
          33.535,
          32.68,
          28.88,
          46.53,
          32.775,
          47.41,
          40.375,
          28.31,
          26.695,
          35.625,
          29.735,
          23.845,
          33.7,
          24.605,
          26.4,
          29.735,
          40.5,
          21.755,
          23.18,
          32.9,
          31.46,
          23.465,
          33.77,
          20.35,
          24.32,
          25.935,
          34.1,
          21.3,
          19.855,
          36.2,
          32.3,
          17.48,
          20.52,
          17.765,
          23.56,
          32.965,
          25.85,
          24.86,
          29.3,
          20.235,
          34.8,
          35.97,
          28.38,
          22.515,
          31.24,
          28.4,
          36.575,
          41.47,
          27.36,
          29.735,
          28.975,
          36.765,
          39.6,
          30.3,
          30.685,
          39.05,
          24.225,
          34.2,
          27.17,
          36.19,
          35.2,
          31.92,
          36.67,
          23.76,
          40.15,
          32.2,
          35.2,
          33.155,
          26.41,
          26.03,
          32.015,
          30.495,
          25.8,
          37.4,
          29.83,
          28.025,
          43.4,
          24.31,
          28.82,
          23.18,
          34.01,
          27.645,
          42.4,
          24.53,
          30.03,
          35.815,
          35.72,
          33.11,
          36.85,
          30.685,
          36.765,
          46.53,
          27.4,
          37.4,
          28.6,
          28.88,
          30.875,
          25.08,
          39.5,
          30.59,
          41.47,
          31.825,
          30.21,
          27.075,
          37.3,
          25,
          37.335,
          32.11,
          38,
          32.2,
          29.92,
          25.745,
          23.75,
          36.1,
          27.265,
          28.025,
          33.63,
          35.91,
          31.255,
          30.5,
          34.77,
          22.6,
          28.12,
          33.82,
          26.125,
          39.82,
          32.3,
          33.725,
          42.75,
          31.73,
          33.66,
          22.705,
          34.4,
          21.47,
          29.7,
          33.33,
          28.785,
          32.965,
          35.75,
          27.74,
          33.345,
          26.18,
          36.86,
          21.47,
          30.5,
          31.16,
          25.74,
          43.34,
          33.725,
          25.935,
          25.175,
          45.54,
          22.04,
          36.08,
          28.31,
          24.89,
          46.09,
          22.515,
          32.395,
          26.125,
          29.92,
          32.965,
          34.8,
          30.875,
          24.32,
          29.26,
          29.545,
          33.44,
          37.18,
          34.21,
          21.85,
          27.36,
          36.19,
          32.68,
          15.96,
          27.835,
          27.5,
          35.2,
          31.065,
          25.84,
          32.015,
          32.4,
          23.37,
          26.695,
          30.8,
          29.9,
          22.42,
          27.645,
          27.6,
          36.85,
          27.645,
          31.02,
          27.36,
          30.875,
          36.955,
          24.42,
          40.565,
          36.08,
          36.63,
          29.8,
          27.3,
          39.6,
          24.32,
          28.595,
          25.935,
          28.69,
          33.33,
          37.905,
          28.595,
          37.29,
          53.13,
          38.095,
          35.8,
          26.84,
          32.775,
          27.2,
          31.35,
          22.42,
          40.66,
          29.8,
          20.8,
          31.54,
          26.73,
          30.875,
          42.13,
          30.8,
          39.05,
          30.78,
          34.96,
          36.3,
          24.97,
          38.06,
          38.83,
          23.2,
          36.08,
          26.22,
          28.595,
          29.64,
          22.895,
          23.98,
          35.625,
          24.605,
          27.1,
          28.6,
          31.3,
          39.49,
          33.33,
          35.53,
          26.73,
          21.5,
          37.1,
          33.915,
          42.24,
          34.7,
          32.965,
          33.25,
          27.2,
          28.975,
          33.88,
          32.3,
          19.95,
          25.6,
          33.915,
          19.95,
          23.845,
          28.5,
          44.7,
          20.9,
          29,
          39.49,
          28.88,
          29.45,
          28.31,
          31.6,
          35.815,
          29.48,
          31.16,
          25.365,
          31.02,
          35.8,
          36.85,
          24.985,
          20.7,
          28.2,
          38.83,
          37.1,
          21.755,
          29.48,
          38.38,
          20.1,
          28.12,
          32.1,
          40.81,
          29.92,
          26.03,
          31.4,
          36.955,
          35.53,
          26.315,
          29.92,
          35.815,
          30.2,
          23.8,
          35.53,
          34.4,
          38.285,
          28.93,
          36.86,
          31.92,
          43.01,
          48.07,
          28.05,
          28.93,
          22.99,
          36.3,
          26.03,
          37.335,
          35.625,
          22.61,
          36.67,
          31.4,
          26.125,
          27.17,
          22.61,
          34.39,
          37.51,
          21.4,
          32.775,
          28.975,
          30.02,
          26.03,
          27.1,
          24.75,
          16.815,
          30.97,
          35.86,
          17.195,
          24.795,
          25.46,
          24.3,
          36.005,
          35.53,
          24.32,
          27.72,
          34.21,
          30.8,
          40.28,
          37.62,
          28,
          33.5,
          43.12,
          30.21,
          22.77,
          42.655,
          32.395,
          34.39,
          36.67,
          30.4,
          33.66,
          35.2,
          31.16,
          47.74,
          37.1,
          27.36,
          31.1,
          34.8,
          25.6,
          31.13,
          34.58,
          25.555,
          27.74,
          42.94,
          38.095,
          25.84,
          25.3,
          25.84,
          28.7,
          24.13,
          34.8,
          38.06,
          28.9,
          29.83,
          34.87,
          22.8,
          27.5,
          37.8,
          28.16,
          33.82,
          29.355,
          27.265,
          32.68,
          35.245,
          24.1,
          31.73,
          27.455,
          24.32,
          30.115,
          41.69,
          35.2,
          27.74,
          39.93,
          34.21,
          27.83,
          39.2,
          24.7,
          29.7,
          32.34,
          32.01,
          45.32,
          29.1,
          23.37,
          30.2,
          25.175,
          31.79,
          44.77,
          38.83,
          31.065,
          26.9,
          28.975,
          33.535,
          18.335,
          34.2,
          32.205,
          33.55,
          35.5,
          26.505,
          25.3,
          38.17,
          32.6,
          33.66,
          26.22,
          31.9,
          28.9,
          34.1,
          30.8,
          28.31,
          22.515,
          23.9,
          21.12,
          31.92,
          30.03,
          40.26,
          28.5,
          39.8,
          34.4,
          33.44,
          20.615,
          26.79,
          29.735,
          24.09,
          33.33,
          27.83,
          36.955,
          28,
          17.86,
          25.745,
          28.5,
          29.5,
          25.8,
          37.73,
          23.655,
          36.6,
          24.32,
          29.64,
          41.23,
          34.43,
          17.4,
          42.68,
          41.23,
          31.6,
          31.68,
          31.73,
          37.43,
          19.095,
          37.51,
          30.9,
          26.885,
          30.14,
          35.15,
          27.94,
          32.23,
          22.515,
          42.9,
          23.845,
          40.47,
          26.62,
          19.3,
          23.32,
          25.8,
          30.115,
          31.255,
          35.09,
          37.05,
          26.62,
          36.4,
          24.795,
          33.25,
          23.6,
          28.5,
          36.7,
          31.46,
          33,
          30.69,
          26.6,
          18.335,
          23.7,
          39.6,
          34.8,
          38.38,
          32.395,
          23.085,
          37.07,
          22.8,
          26.41,
          31.13,
          22.895,
          34.1,
          36.3,
          31.445,
          21.565,
          22.23,
          33.33,
          38.665,
          33.88,
          35.9,
          26.03,
          27.74,
          46.2,
          22.99,
          30.5,
          33.7,
          39.16,
          37.07,
          26.22,
          35.3,
          24.51,
          29.6,
          32.23,
          40.15,
          30.685,
          29.07,
          39.52,
          28.215,
          24.985,
          23,
          31.825,
          41.91
         ],
         "xaxis": "x",
         "yaxis": "y"
        },
        {
         "alignmentgroup": "True",
         "hovertemplate": "bmi=%{x}<extra></extra>",
         "legendgroup": "",
         "marker": {
          "color": "#636efa"
         },
         "name": "",
         "notched": true,
         "offsetgroup": "",
         "showlegend": false,
         "type": "box",
         "x": [
          34.6,
          29.81,
          33.11,
          22.88,
          27.265,
          43.7,
          29.59,
          37.05,
          27.36,
          27.7,
          27.5,
          25.175,
          33.33,
          23.655,
          28.69,
          35.72,
          34.105,
          25.175,
          30.21,
          27.72,
          34.9,
          36.48,
          33.3,
          30,
          29.07,
          32.5,
          21.8,
          30.9,
          40.565,
          19.8,
          36.52,
          26.98,
          47.52,
          20.235,
          32.49,
          33.155,
          23.18,
          22.895,
          25.3,
          41.14,
          35.1,
          26.51,
          25.555,
          21.375,
          28.9,
          32.775,
          24.31,
          31.68,
          36.385,
          25.46,
          31.825,
          31.73,
          34.2,
          31.445,
          27.83,
          23.4,
          22.61,
          38.6,
          19.57,
          21.85,
          34.1,
          28.7,
          30.875,
          37.145,
          32,
          35.435,
          30.495,
          31.92,
          33.345,
          34.105,
          36.08,
          46.75,
          32.3,
          26.125,
          40.92,
          46.53,
          28.595,
          30.21,
          26.7,
          27.455,
          29.81,
          38.94,
          38.6,
          25.08,
          22.3,
          21.66,
          27.6,
          27.93,
          22.135,
          37.62,
          26.98,
          28.88,
          28.3,
          23.98,
          25.46,
          24.6,
          26.695,
          31.4,
          34.2,
          28.785,
          25.9,
          23.085,
          35.97,
          28.9,
          50.38,
          24.1,
          21.89,
          25.8,
          34.8,
          34.295,
          35.75,
          34.32,
          39.33,
          33.77,
          29.48,
          21.4,
          25.27,
          20.4,
          25.27,
          33.63,
          44.88,
          38.39,
          36.1,
          32.3,
          42.9,
          25.1,
          30.3,
          30.02,
          31.065,
          29.4,
          36,
          17.29,
          27,
          36.195,
          27.835,
          29.15,
          41.325,
          28.93,
          34.77,
          37,
          34.1,
          30.78,
          29.8,
          22.135,
          39.16,
          25.08,
          34.7,
          27.835,
          42.35,
          26.6,
          29.04,
          34.96,
          28.405,
          32.9,
          33.66,
          29.15,
          33.63,
          30.115,
          39.27,
          27.5,
          28.4,
          19.8,
          21.755,
          30.4,
          31,
          25.65,
          27.72,
          22.61,
          32.01,
          30.59,
          33.2,
          28.5,
          36.765,
          41.325,
          33.44,
          22.1,
          19.95,
          37.43,
          36.85,
          25.8,
          38.095,
          25.46,
          28.7,
          26.07,
          37.9,
          17.29,
          31.35,
          32.8,
          30.59,
          41.47,
          45.9,
          33.63,
          29,
          27.7,
          33.99,
          26.18,
          30.4,
          31.79,
          27.06,
          29.83,
          22.135,
          35.815,
          36.1,
          24.32,
          27.645,
          30.25,
          25.52,
          32.395,
          31.57,
          38.19,
          32.11,
          36.29,
          41.91,
          38.28,
          36.85,
          23.6,
          24.4,
          27.74,
          34.32,
          29.6,
          32.11,
          32.6,
          39.9,
          47.6,
          30.1,
          35.3,
          34.675,
          28.88,
          35.2,
          23.3,
          41.325,
          28.7,
          16.815,
          26.315,
          28.05,
          22.22,
          24.51,
          28.7,
          37,
          30.495,
          25.365,
          40.26,
          37.1,
          41.8,
          27.83,
          34.5,
          20.8,
          27.645,
          26.315,
          30.495,
          30.59,
          19,
          24.64,
          32.3,
          33.915,
          17.67,
          31.8,
          29.59,
          39.615,
          31.825,
          27.61,
          32.11,
          33.4,
          34.105,
          28.215,
          32.3,
          31.13,
          29.9,
          30.14,
          35.75,
          35.53,
          40.37,
          30.3,
          32.67,
          33.33,
          25.3,
          30.4,
          27.93,
          24.225,
          31.92,
          24.035,
          23.655,
          29.355,
          36.385,
          29.37,
          31.16,
          26.41,
          23.94,
          33.11,
          21.755,
          22.515,
          23.75,
          21.66,
          41.1,
          34.3,
          37.73,
          23.655,
          28.49,
          24.3,
          41.895,
          25.08,
          20.79,
          35.31,
          44.745,
          31.79,
          27.835,
          42.13,
          28.88,
          30,
          29.64,
          28.975,
          33.82,
          28.31,
          31.73,
          18.3,
          27.8,
          24.225,
          31.35,
          36.48,
          26.4,
          22,
          26.98,
          23.21,
          36.63,
          29.6,
          28.12,
          38.17,
          40.565,
          25.6,
          41.91,
          30.8,
          42.46,
          29.92,
          36.86,
          34.865,
          30.495,
          30.8,
          32.68,
          25.3,
          38.9,
          26.7,
          28.12,
          38.95,
          24.13,
          34.1,
          24.035,
          35.2,
          34.58,
          36.955,
          25.2,
          30.8,
          26.885,
          52.58,
          32.7,
          36,
          38.06,
          29.6,
          42.13,
          34.96,
          27.94,
          37.29,
          35.245,
          24.86,
          23.21,
          28.1,
          25.27,
          31.5,
          28.025,
          37.05,
          23.75,
          22.135,
          29.8,
          43.89,
          39.4,
          30.78,
          34.43,
          23.98,
          20.13,
          33,
          32.11,
          23.655,
          29.7,
          35.97,
          34.485,
          30.305,
          49.06,
          30.8,
          26.41,
          30.36,
          31.5,
          32.775,
          34.32,
          30.59,
          39.82,
          35.3,
          32.34,
          35.91,
          28.31,
          36.3,
          20.235,
          28.215,
          24.6,
          21.01,
          25.46,
          24.795,
          17.29,
          39.7,
          24.3,
          30.59,
          21.78,
          32.585,
          38.39,
          26.315,
          27.55,
          35.97,
          36.575,
          39.82,
          30.115,
          27.55,
          29.81,
          33,
          35.42,
          18.715,
          25,
          34.43,
          29.37,
          38.94,
          35.625,
          33.535,
          33.25,
          24.415,
          20.425,
          33.99,
          36.63,
          28.8,
          32.11,
          26.41,
          30.4,
          20.6,
          27.55,
          32.78,
          21.47,
          37.1,
          34.105,
          30.305,
          30.5,
          32.395,
          23.4,
          22.99,
          37.4,
          24.605,
          23.21,
          28.27,
          39.16,
          38.28,
          23.21,
          27.7,
          27.645,
          32.3,
          34.43,
          25.46,
          30.1,
          27.1,
          31,
          30.25,
          34.77,
          31.35,
          29.83,
          33.345,
          33.1,
          33.8,
          40.48,
          30.875,
          25.84,
          35.53,
          23.56,
          23.21,
          27.6,
          32.67,
          32.3,
          33.44,
          29.26,
          33,
          28.1,
          29.7,
          27.74,
          28.785,
          26.8,
          32.3,
          31.35,
          28.05,
          27.55,
          31.57,
          36.2,
          26.6,
          20.6,
          31.635,
          29.83,
          25.8,
          40.15,
          28.6,
          38,
          19.475,
          27.94,
          33.82,
          33.66,
          25.74,
          32.775,
          26.51,
          35.31,
          33.7,
          28.405,
          26.695,
          20.045,
          33.345,
          23.65,
          32.87,
          43.89,
          25.84,
          37.1,
          20.52,
          32.8,
          24.42,
          33.535,
          32.68,
          28.88,
          46.53,
          32.775,
          47.41,
          40.375,
          28.31,
          26.695,
          35.625,
          29.735,
          23.845,
          33.7,
          24.605,
          26.4,
          29.735,
          40.5,
          21.755,
          23.18,
          32.9,
          31.46,
          23.465,
          33.77,
          20.35,
          24.32,
          25.935,
          34.1,
          21.3,
          19.855,
          36.2,
          32.3,
          17.48,
          20.52,
          17.765,
          23.56,
          32.965,
          25.85,
          24.86,
          29.3,
          20.235,
          34.8,
          35.97,
          28.38,
          22.515,
          31.24,
          28.4,
          36.575,
          41.47,
          27.36,
          29.735,
          28.975,
          36.765,
          39.6,
          30.3,
          30.685,
          39.05,
          24.225,
          34.2,
          27.17,
          36.19,
          35.2,
          31.92,
          36.67,
          23.76,
          40.15,
          32.2,
          35.2,
          33.155,
          26.41,
          26.03,
          32.015,
          30.495,
          25.8,
          37.4,
          29.83,
          28.025,
          43.4,
          24.31,
          28.82,
          23.18,
          34.01,
          27.645,
          42.4,
          24.53,
          30.03,
          35.815,
          35.72,
          33.11,
          36.85,
          30.685,
          36.765,
          46.53,
          27.4,
          37.4,
          28.6,
          28.88,
          30.875,
          25.08,
          39.5,
          30.59,
          41.47,
          31.825,
          30.21,
          27.075,
          37.3,
          25,
          37.335,
          32.11,
          38,
          32.2,
          29.92,
          25.745,
          23.75,
          36.1,
          27.265,
          28.025,
          33.63,
          35.91,
          31.255,
          30.5,
          34.77,
          22.6,
          28.12,
          33.82,
          26.125,
          39.82,
          32.3,
          33.725,
          42.75,
          31.73,
          33.66,
          22.705,
          34.4,
          21.47,
          29.7,
          33.33,
          28.785,
          32.965,
          35.75,
          27.74,
          33.345,
          26.18,
          36.86,
          21.47,
          30.5,
          31.16,
          25.74,
          43.34,
          33.725,
          25.935,
          25.175,
          45.54,
          22.04,
          36.08,
          28.31,
          24.89,
          46.09,
          22.515,
          32.395,
          26.125,
          29.92,
          32.965,
          34.8,
          30.875,
          24.32,
          29.26,
          29.545,
          33.44,
          37.18,
          34.21,
          21.85,
          27.36,
          36.19,
          32.68,
          15.96,
          27.835,
          27.5,
          35.2,
          31.065,
          25.84,
          32.015,
          32.4,
          23.37,
          26.695,
          30.8,
          29.9,
          22.42,
          27.645,
          27.6,
          36.85,
          27.645,
          31.02,
          27.36,
          30.875,
          36.955,
          24.42,
          40.565,
          36.08,
          36.63,
          29.8,
          27.3,
          39.6,
          24.32,
          28.595,
          25.935,
          28.69,
          33.33,
          37.905,
          28.595,
          37.29,
          53.13,
          38.095,
          35.8,
          26.84,
          32.775,
          27.2,
          31.35,
          22.42,
          40.66,
          29.8,
          20.8,
          31.54,
          26.73,
          30.875,
          42.13,
          30.8,
          39.05,
          30.78,
          34.96,
          36.3,
          24.97,
          38.06,
          38.83,
          23.2,
          36.08,
          26.22,
          28.595,
          29.64,
          22.895,
          23.98,
          35.625,
          24.605,
          27.1,
          28.6,
          31.3,
          39.49,
          33.33,
          35.53,
          26.73,
          21.5,
          37.1,
          33.915,
          42.24,
          34.7,
          32.965,
          33.25,
          27.2,
          28.975,
          33.88,
          32.3,
          19.95,
          25.6,
          33.915,
          19.95,
          23.845,
          28.5,
          44.7,
          20.9,
          29,
          39.49,
          28.88,
          29.45,
          28.31,
          31.6,
          35.815,
          29.48,
          31.16,
          25.365,
          31.02,
          35.8,
          36.85,
          24.985,
          20.7,
          28.2,
          38.83,
          37.1,
          21.755,
          29.48,
          38.38,
          20.1,
          28.12,
          32.1,
          40.81,
          29.92,
          26.03,
          31.4,
          36.955,
          35.53,
          26.315,
          29.92,
          35.815,
          30.2,
          23.8,
          35.53,
          34.4,
          38.285,
          28.93,
          36.86,
          31.92,
          43.01,
          48.07,
          28.05,
          28.93,
          22.99,
          36.3,
          26.03,
          37.335,
          35.625,
          22.61,
          36.67,
          31.4,
          26.125,
          27.17,
          22.61,
          34.39,
          37.51,
          21.4,
          32.775,
          28.975,
          30.02,
          26.03,
          27.1,
          24.75,
          16.815,
          30.97,
          35.86,
          17.195,
          24.795,
          25.46,
          24.3,
          36.005,
          35.53,
          24.32,
          27.72,
          34.21,
          30.8,
          40.28,
          37.62,
          28,
          33.5,
          43.12,
          30.21,
          22.77,
          42.655,
          32.395,
          34.39,
          36.67,
          30.4,
          33.66,
          35.2,
          31.16,
          47.74,
          37.1,
          27.36,
          31.1,
          34.8,
          25.6,
          31.13,
          34.58,
          25.555,
          27.74,
          42.94,
          38.095,
          25.84,
          25.3,
          25.84,
          28.7,
          24.13,
          34.8,
          38.06,
          28.9,
          29.83,
          34.87,
          22.8,
          27.5,
          37.8,
          28.16,
          33.82,
          29.355,
          27.265,
          32.68,
          35.245,
          24.1,
          31.73,
          27.455,
          24.32,
          30.115,
          41.69,
          35.2,
          27.74,
          39.93,
          34.21,
          27.83,
          39.2,
          24.7,
          29.7,
          32.34,
          32.01,
          45.32,
          29.1,
          23.37,
          30.2,
          25.175,
          31.79,
          44.77,
          38.83,
          31.065,
          26.9,
          28.975,
          33.535,
          18.335,
          34.2,
          32.205,
          33.55,
          35.5,
          26.505,
          25.3,
          38.17,
          32.6,
          33.66,
          26.22,
          31.9,
          28.9,
          34.1,
          30.8,
          28.31,
          22.515,
          23.9,
          21.12,
          31.92,
          30.03,
          40.26,
          28.5,
          39.8,
          34.4,
          33.44,
          20.615,
          26.79,
          29.735,
          24.09,
          33.33,
          27.83,
          36.955,
          28,
          17.86,
          25.745,
          28.5,
          29.5,
          25.8,
          37.73,
          23.655,
          36.6,
          24.32,
          29.64,
          41.23,
          34.43,
          17.4,
          42.68,
          41.23,
          31.6,
          31.68,
          31.73,
          37.43,
          19.095,
          37.51,
          30.9,
          26.885,
          30.14,
          35.15,
          27.94,
          32.23,
          22.515,
          42.9,
          23.845,
          40.47,
          26.62,
          19.3,
          23.32,
          25.8,
          30.115,
          31.255,
          35.09,
          37.05,
          26.62,
          36.4,
          24.795,
          33.25,
          23.6,
          28.5,
          36.7,
          31.46,
          33,
          30.69,
          26.6,
          18.335,
          23.7,
          39.6,
          34.8,
          38.38,
          32.395,
          23.085,
          37.07,
          22.8,
          26.41,
          31.13,
          22.895,
          34.1,
          36.3,
          31.445,
          21.565,
          22.23,
          33.33,
          38.665,
          33.88,
          35.9,
          26.03,
          27.74,
          46.2,
          22.99,
          30.5,
          33.7,
          39.16,
          37.07,
          26.22,
          35.3,
          24.51,
          29.6,
          32.23,
          40.15,
          30.685,
          29.07,
          39.52,
          28.215,
          24.985,
          23,
          31.825,
          41.91
         ],
         "xaxis": "x2",
         "yaxis": "y2"
        }
       ],
       "layout": {
        "bargap": 0.1,
        "barmode": "relative",
        "legend": {
         "tracegroupgap": 0
        },
        "template": {
         "data": {
          "bar": [
           {
            "error_x": {
             "color": "#2a3f5f"
            },
            "error_y": {
             "color": "#2a3f5f"
            },
            "marker": {
             "line": {
              "color": "#E5ECF6",
              "width": 0.5
             },
             "pattern": {
              "fillmode": "overlay",
              "size": 10,
              "solidity": 0.2
             }
            },
            "type": "bar"
           }
          ],
          "barpolar": [
           {
            "marker": {
             "line": {
              "color": "#E5ECF6",
              "width": 0.5
             },
             "pattern": {
              "fillmode": "overlay",
              "size": 10,
              "solidity": 0.2
             }
            },
            "type": "barpolar"
           }
          ],
          "carpet": [
           {
            "aaxis": {
             "endlinecolor": "#2a3f5f",
             "gridcolor": "white",
             "linecolor": "white",
             "minorgridcolor": "white",
             "startlinecolor": "#2a3f5f"
            },
            "baxis": {
             "endlinecolor": "#2a3f5f",
             "gridcolor": "white",
             "linecolor": "white",
             "minorgridcolor": "white",
             "startlinecolor": "#2a3f5f"
            },
            "type": "carpet"
           }
          ],
          "choropleth": [
           {
            "colorbar": {
             "outlinewidth": 0,
             "ticks": ""
            },
            "type": "choropleth"
           }
          ],
          "contour": [
           {
            "colorbar": {
             "outlinewidth": 0,
             "ticks": ""
            },
            "colorscale": [
             [
              0,
              "#0d0887"
             ],
             [
              0.1111111111111111,
              "#46039f"
             ],
             [
              0.2222222222222222,
              "#7201a8"
             ],
             [
              0.3333333333333333,
              "#9c179e"
             ],
             [
              0.4444444444444444,
              "#bd3786"
             ],
             [
              0.5555555555555556,
              "#d8576b"
             ],
             [
              0.6666666666666666,
              "#ed7953"
             ],
             [
              0.7777777777777778,
              "#fb9f3a"
             ],
             [
              0.8888888888888888,
              "#fdca26"
             ],
             [
              1,
              "#f0f921"
             ]
            ],
            "type": "contour"
           }
          ],
          "contourcarpet": [
           {
            "colorbar": {
             "outlinewidth": 0,
             "ticks": ""
            },
            "type": "contourcarpet"
           }
          ],
          "heatmap": [
           {
            "colorbar": {
             "outlinewidth": 0,
             "ticks": ""
            },
            "colorscale": [
             [
              0,
              "#0d0887"
             ],
             [
              0.1111111111111111,
              "#46039f"
             ],
             [
              0.2222222222222222,
              "#7201a8"
             ],
             [
              0.3333333333333333,
              "#9c179e"
             ],
             [
              0.4444444444444444,
              "#bd3786"
             ],
             [
              0.5555555555555556,
              "#d8576b"
             ],
             [
              0.6666666666666666,
              "#ed7953"
             ],
             [
              0.7777777777777778,
              "#fb9f3a"
             ],
             [
              0.8888888888888888,
              "#fdca26"
             ],
             [
              1,
              "#f0f921"
             ]
            ],
            "type": "heatmap"
           }
          ],
          "heatmapgl": [
           {
            "colorbar": {
             "outlinewidth": 0,
             "ticks": ""
            },
            "colorscale": [
             [
              0,
              "#0d0887"
             ],
             [
              0.1111111111111111,
              "#46039f"
             ],
             [
              0.2222222222222222,
              "#7201a8"
             ],
             [
              0.3333333333333333,
              "#9c179e"
             ],
             [
              0.4444444444444444,
              "#bd3786"
             ],
             [
              0.5555555555555556,
              "#d8576b"
             ],
             [
              0.6666666666666666,
              "#ed7953"
             ],
             [
              0.7777777777777778,
              "#fb9f3a"
             ],
             [
              0.8888888888888888,
              "#fdca26"
             ],
             [
              1,
              "#f0f921"
             ]
            ],
            "type": "heatmapgl"
           }
          ],
          "histogram": [
           {
            "marker": {
             "pattern": {
              "fillmode": "overlay",
              "size": 10,
              "solidity": 0.2
             }
            },
            "type": "histogram"
           }
          ],
          "histogram2d": [
           {
            "colorbar": {
             "outlinewidth": 0,
             "ticks": ""
            },
            "colorscale": [
             [
              0,
              "#0d0887"
             ],
             [
              0.1111111111111111,
              "#46039f"
             ],
             [
              0.2222222222222222,
              "#7201a8"
             ],
             [
              0.3333333333333333,
              "#9c179e"
             ],
             [
              0.4444444444444444,
              "#bd3786"
             ],
             [
              0.5555555555555556,
              "#d8576b"
             ],
             [
              0.6666666666666666,
              "#ed7953"
             ],
             [
              0.7777777777777778,
              "#fb9f3a"
             ],
             [
              0.8888888888888888,
              "#fdca26"
             ],
             [
              1,
              "#f0f921"
             ]
            ],
            "type": "histogram2d"
           }
          ],
          "histogram2dcontour": [
           {
            "colorbar": {
             "outlinewidth": 0,
             "ticks": ""
            },
            "colorscale": [
             [
              0,
              "#0d0887"
             ],
             [
              0.1111111111111111,
              "#46039f"
             ],
             [
              0.2222222222222222,
              "#7201a8"
             ],
             [
              0.3333333333333333,
              "#9c179e"
             ],
             [
              0.4444444444444444,
              "#bd3786"
             ],
             [
              0.5555555555555556,
              "#d8576b"
             ],
             [
              0.6666666666666666,
              "#ed7953"
             ],
             [
              0.7777777777777778,
              "#fb9f3a"
             ],
             [
              0.8888888888888888,
              "#fdca26"
             ],
             [
              1,
              "#f0f921"
             ]
            ],
            "type": "histogram2dcontour"
           }
          ],
          "mesh3d": [
           {
            "colorbar": {
             "outlinewidth": 0,
             "ticks": ""
            },
            "type": "mesh3d"
           }
          ],
          "parcoords": [
           {
            "line": {
             "colorbar": {
              "outlinewidth": 0,
              "ticks": ""
             }
            },
            "type": "parcoords"
           }
          ],
          "pie": [
           {
            "automargin": true,
            "type": "pie"
           }
          ],
          "scatter": [
           {
            "fillpattern": {
             "fillmode": "overlay",
             "size": 10,
             "solidity": 0.2
            },
            "type": "scatter"
           }
          ],
          "scatter3d": [
           {
            "line": {
             "colorbar": {
              "outlinewidth": 0,
              "ticks": ""
             }
            },
            "marker": {
             "colorbar": {
              "outlinewidth": 0,
              "ticks": ""
             }
            },
            "type": "scatter3d"
           }
          ],
          "scattercarpet": [
           {
            "marker": {
             "colorbar": {
              "outlinewidth": 0,
              "ticks": ""
             }
            },
            "type": "scattercarpet"
           }
          ],
          "scattergeo": [
           {
            "marker": {
             "colorbar": {
              "outlinewidth": 0,
              "ticks": ""
             }
            },
            "type": "scattergeo"
           }
          ],
          "scattergl": [
           {
            "marker": {
             "colorbar": {
              "outlinewidth": 0,
              "ticks": ""
             }
            },
            "type": "scattergl"
           }
          ],
          "scattermapbox": [
           {
            "marker": {
             "colorbar": {
              "outlinewidth": 0,
              "ticks": ""
             }
            },
            "type": "scattermapbox"
           }
          ],
          "scatterpolar": [
           {
            "marker": {
             "colorbar": {
              "outlinewidth": 0,
              "ticks": ""
             }
            },
            "type": "scatterpolar"
           }
          ],
          "scatterpolargl": [
           {
            "marker": {
             "colorbar": {
              "outlinewidth": 0,
              "ticks": ""
             }
            },
            "type": "scatterpolargl"
           }
          ],
          "scatterternary": [
           {
            "marker": {
             "colorbar": {
              "outlinewidth": 0,
              "ticks": ""
             }
            },
            "type": "scatterternary"
           }
          ],
          "surface": [
           {
            "colorbar": {
             "outlinewidth": 0,
             "ticks": ""
            },
            "colorscale": [
             [
              0,
              "#0d0887"
             ],
             [
              0.1111111111111111,
              "#46039f"
             ],
             [
              0.2222222222222222,
              "#7201a8"
             ],
             [
              0.3333333333333333,
              "#9c179e"
             ],
             [
              0.4444444444444444,
              "#bd3786"
             ],
             [
              0.5555555555555556,
              "#d8576b"
             ],
             [
              0.6666666666666666,
              "#ed7953"
             ],
             [
              0.7777777777777778,
              "#fb9f3a"
             ],
             [
              0.8888888888888888,
              "#fdca26"
             ],
             [
              1,
              "#f0f921"
             ]
            ],
            "type": "surface"
           }
          ],
          "table": [
           {
            "cells": {
             "fill": {
              "color": "#EBF0F8"
             },
             "line": {
              "color": "white"
             }
            },
            "header": {
             "fill": {
              "color": "#C8D4E3"
             },
             "line": {
              "color": "white"
             }
            },
            "type": "table"
           }
          ]
         },
         "layout": {
          "annotationdefaults": {
           "arrowcolor": "#2a3f5f",
           "arrowhead": 0,
           "arrowwidth": 1
          },
          "autotypenumbers": "strict",
          "coloraxis": {
           "colorbar": {
            "outlinewidth": 0,
            "ticks": ""
           }
          },
          "colorscale": {
           "diverging": [
            [
             0,
             "#8e0152"
            ],
            [
             0.1,
             "#c51b7d"
            ],
            [
             0.2,
             "#de77ae"
            ],
            [
             0.3,
             "#f1b6da"
            ],
            [
             0.4,
             "#fde0ef"
            ],
            [
             0.5,
             "#f7f7f7"
            ],
            [
             0.6,
             "#e6f5d0"
            ],
            [
             0.7,
             "#b8e186"
            ],
            [
             0.8,
             "#7fbc41"
            ],
            [
             0.9,
             "#4d9221"
            ],
            [
             1,
             "#276419"
            ]
           ],
           "sequential": [
            [
             0,
             "#0d0887"
            ],
            [
             0.1111111111111111,
             "#46039f"
            ],
            [
             0.2222222222222222,
             "#7201a8"
            ],
            [
             0.3333333333333333,
             "#9c179e"
            ],
            [
             0.4444444444444444,
             "#bd3786"
            ],
            [
             0.5555555555555556,
             "#d8576b"
            ],
            [
             0.6666666666666666,
             "#ed7953"
            ],
            [
             0.7777777777777778,
             "#fb9f3a"
            ],
            [
             0.8888888888888888,
             "#fdca26"
            ],
            [
             1,
             "#f0f921"
            ]
           ],
           "sequentialminus": [
            [
             0,
             "#0d0887"
            ],
            [
             0.1111111111111111,
             "#46039f"
            ],
            [
             0.2222222222222222,
             "#7201a8"
            ],
            [
             0.3333333333333333,
             "#9c179e"
            ],
            [
             0.4444444444444444,
             "#bd3786"
            ],
            [
             0.5555555555555556,
             "#d8576b"
            ],
            [
             0.6666666666666666,
             "#ed7953"
            ],
            [
             0.7777777777777778,
             "#fb9f3a"
            ],
            [
             0.8888888888888888,
             "#fdca26"
            ],
            [
             1,
             "#f0f921"
            ]
           ]
          },
          "colorway": [
           "#636efa",
           "#EF553B",
           "#00cc96",
           "#ab63fa",
           "#FFA15A",
           "#19d3f3",
           "#FF6692",
           "#B6E880",
           "#FF97FF",
           "#FECB52"
          ],
          "font": {
           "color": "#2a3f5f"
          },
          "geo": {
           "bgcolor": "white",
           "lakecolor": "white",
           "landcolor": "#E5ECF6",
           "showlakes": true,
           "showland": true,
           "subunitcolor": "white"
          },
          "hoverlabel": {
           "align": "left"
          },
          "hovermode": "closest",
          "mapbox": {
           "style": "light"
          },
          "paper_bgcolor": "white",
          "plot_bgcolor": "#E5ECF6",
          "polar": {
           "angularaxis": {
            "gridcolor": "white",
            "linecolor": "white",
            "ticks": ""
           },
           "bgcolor": "#E5ECF6",
           "radialaxis": {
            "gridcolor": "white",
            "linecolor": "white",
            "ticks": ""
           }
          },
          "scene": {
           "xaxis": {
            "backgroundcolor": "#E5ECF6",
            "gridcolor": "white",
            "gridwidth": 2,
            "linecolor": "white",
            "showbackground": true,
            "ticks": "",
            "zerolinecolor": "white"
           },
           "yaxis": {
            "backgroundcolor": "#E5ECF6",
            "gridcolor": "white",
            "gridwidth": 2,
            "linecolor": "white",
            "showbackground": true,
            "ticks": "",
            "zerolinecolor": "white"
           },
           "zaxis": {
            "backgroundcolor": "#E5ECF6",
            "gridcolor": "white",
            "gridwidth": 2,
            "linecolor": "white",
            "showbackground": true,
            "ticks": "",
            "zerolinecolor": "white"
           }
          },
          "shapedefaults": {
           "line": {
            "color": "#2a3f5f"
           }
          },
          "ternary": {
           "aaxis": {
            "gridcolor": "white",
            "linecolor": "white",
            "ticks": ""
           },
           "baxis": {
            "gridcolor": "white",
            "linecolor": "white",
            "ticks": ""
           },
           "bgcolor": "#E5ECF6",
           "caxis": {
            "gridcolor": "white",
            "linecolor": "white",
            "ticks": ""
           }
          },
          "title": {
           "x": 0.05
          },
          "xaxis": {
           "automargin": true,
           "gridcolor": "white",
           "linecolor": "white",
           "ticks": "",
           "title": {
            "standoff": 15
           },
           "zerolinecolor": "white",
           "zerolinewidth": 2
          },
          "yaxis": {
           "automargin": true,
           "gridcolor": "white",
           "linecolor": "white",
           "ticks": "",
           "title": {
            "standoff": 15
           },
           "zerolinecolor": "white",
           "zerolinewidth": 2
          }
         }
        },
        "title": {
         "text": "Distribution  of BMI"
        },
        "xaxis": {
         "anchor": "y",
         "domain": [
          0,
          1
         ],
         "title": {
          "text": "bmi"
         }
        },
        "xaxis2": {
         "anchor": "y2",
         "domain": [
          0,
          1
         ],
         "matches": "x",
         "showgrid": true,
         "showticklabels": false
        },
        "yaxis": {
         "anchor": "x",
         "domain": [
          0,
          0.8316
         ],
         "title": {
          "text": "count"
         }
        },
        "yaxis2": {
         "anchor": "x2",
         "domain": [
          0.8416,
          1
         ],
         "matches": "y2",
         "showgrid": false,
         "showline": false,
         "showticklabels": false,
         "ticks": ""
        }
       }
      }
     },
     "metadata": {},
     "output_type": "display_data"
    }
   ],
   "source": [
    "fig = px.histogram(X_train,\n",
    "                   x='bmi',\n",
    "                   marginal='box',\n",
    "                   nbins=47,\n",
    "                   title='Distribution  of BMI')\n",
    "fig.update_layout(bargap=0.1)"
   ]
  },
  {
   "cell_type": "markdown",
   "metadata": {},
   "source": [
    "Observations\n",
    "1. It form Gaussian distribution\n",
    "2. People between 25 to 38 are having highest BMI than rest\n",
    "3. There are few outliers on the end of distribution "
   ]
  },
  {
   "cell_type": "markdown",
   "metadata": {},
   "source": [
    "### Charges"
   ]
  },
  {
   "cell_type": "code",
   "execution_count": 77,
   "metadata": {},
   "outputs": [],
   "source": [
    "charges_df= pd.DataFrame(y_train, columns=['charges'])\n",
    "charges_df['smoker'] = X_train.smoker"
   ]
  },
  {
   "cell_type": "code",
   "execution_count": 78,
   "metadata": {},
   "outputs": [
    {
     "data": {
      "application/vnd.plotly.v1+json": {
       "config": {
        "plotlyServerURL": "https://plot.ly"
       },
       "data": [
        {
         "alignmentgroup": "True",
         "bingroup": "x",
         "hovertemplate": "smoker=yes<br>charges=%{x}<br>count=%{y}<extra></extra>",
         "legendgroup": "yes",
         "marker": {
          "color": "green",
          "pattern": {
           "shape": ""
          }
         },
         "name": "yes",
         "offsetgroup": "yes",
         "orientation": "v",
         "showlegend": true,
         "type": "histogram",
         "x": [
          41661.602,
          34439.8559,
          23244.7902,
          20745.9891,
          15518.18025,
          43943.8761,
          34828.654,
          29141.3603,
          20167.33603,
          48549.17835,
          17179.522,
          19594.80965,
          35069.37452,
          18972.495,
          39125.33225,
          34303.1672,
          42856.838,
          15359.1045,
          40720.55105,
          43254.41795,
          48673.5588,
          24520.264,
          28950.4692,
          21082.16,
          34166.273,
          19199.944,
          38282.7495,
          43921.1837,
          39722.7462,
          41949.2441,
          25382.297,
          37270.1512,
          46151.1245,
          44641.1974,
          36085.219,
          18246.4955,
          18310.742,
          38245.59327,
          12829.4551,
          46130.5265,
          16297.846,
          43813.8661,
          17043.3414,
          18259.216,
          48173.361,
          46113.511,
          36837.467,
          19444.2658,
          39725.51805,
          19515.5416,
          38415.474,
          40273.6455,
          33750.2918,
          21677.28345,
          48517.56315,
          40974.1649,
          14283.4594,
          18765.87545,
          18328.2381,
          43753.33705,
          22144.032,
          18033.9679,
          36189.1017,
          19023.26,
          37829.7242,
          22218.1149,
          42969.8527,
          23306.547,
          41999.52,
          46661.4424,
          22478.6,
          22331.5668,
          42983.4585,
          38709.176,
          44501.3982,
          34472.841,
          44400.4064,
          39611.7577,
          41034.2214,
          19107.7796,
          21771.3423,
          20234.85475,
          46200.9851,
          38344.566,
          17663.1442,
          18767.7377,
          60021.39897,
          62592.87309,
          40103.89,
          32787.45859,
          17496.306,
          23967.38305,
          42124.5153,
          27533.9129,
          44202.6536,
          36021.0112,
          39983.42595,
          27037.9141,
          24535.69855,
          32548.3405,
          47928.03,
          36950.2567,
          29523.1656,
          21348.706,
          30184.9367,
          19798.05455,
          52590.82939,
          26125.67477,
          63770.42801,
          14571.8908,
          32734.1863,
          24180.9335,
          39836.519,
          19521.9682,
          24393.6224,
          47896.79135,
          42303.69215,
          26926.5144,
          38126.2465,
          20149.3229,
          18648.4217,
          36149.4835,
          17748.5062,
          46718.16325,
          20773.62775,
          37607.5277,
          40904.1995,
          36124.5737,
          42112.2356,
          42211.1382,
          21659.9301,
          34779.615,
          24869.8368,
          44260.7499,
          17178.6824,
          41676.0811,
          20009.63365,
          23807.2406,
          45710.20785,
          28101.33305,
          21223.6758,
          45702.02235,
          25309.489,
          16232.847,
          14711.7438,
          48675.5177,
          40932.4295,
          37133.8982,
          16138.76205,
          37465.34375,
          47291.055,
          42111.6647,
          38792.6856,
          36397.576,
          27218.43725,
          41919.097,
          24106.91255,
          28868.6639,
          43578.9394,
          16657.71745,
          21472.4788,
          30942.1918,
          47496.49445,
          55135.40209,
          36197.699,
          19719.6947,
          37701.8768,
          17361.7661,
          38711,
          24873.3849,
          39774.2763,
          34838.873,
          23401.30575,
          19040.876,
          16577.7795,
          14455.64405,
          17904.52705,
          37165.1638,
          23568.272,
          37079.372,
          38746.3551,
          38511.6283,
          33907.548,
          34806.4677,
          20296.86345,
          20984.0936,
          58571.07448,
          23887.6627,
          39241.442,
          33732.6867,
          44423.803,
          34254.05335,
          34617.84065,
          39047.285,
          44585.45587,
          24667.419,
          36307.7983,
          40182.246,
          35491.64,
          23065.4207,
          36219.40545,
          35147.52848,
          25678.77845,
          37742.5757,
          34672.1472,
          16776.30405,
          21774.32215,
          47462.894,
          15820.699,
          47055.5321,
          46255.1125,
          51194.55914,
          37484.4493,
          47403.88,
          13747.87235,
          46889.2612,
          16450.8947,
          45863.205,
          39871.7043,
          33475.81715,
          17352.6803
         ],
         "xaxis": "x",
         "yaxis": "y"
        },
        {
         "alignmentgroup": "True",
         "hovertemplate": "smoker=yes<br>charges=%{x}<extra></extra>",
         "legendgroup": "yes",
         "marker": {
          "color": "green"
         },
         "name": "yes",
         "notched": true,
         "offsetgroup": "yes",
         "showlegend": false,
         "type": "box",
         "x": [
          41661.602,
          34439.8559,
          23244.7902,
          20745.9891,
          15518.18025,
          43943.8761,
          34828.654,
          29141.3603,
          20167.33603,
          48549.17835,
          17179.522,
          19594.80965,
          35069.37452,
          18972.495,
          39125.33225,
          34303.1672,
          42856.838,
          15359.1045,
          40720.55105,
          43254.41795,
          48673.5588,
          24520.264,
          28950.4692,
          21082.16,
          34166.273,
          19199.944,
          38282.7495,
          43921.1837,
          39722.7462,
          41949.2441,
          25382.297,
          37270.1512,
          46151.1245,
          44641.1974,
          36085.219,
          18246.4955,
          18310.742,
          38245.59327,
          12829.4551,
          46130.5265,
          16297.846,
          43813.8661,
          17043.3414,
          18259.216,
          48173.361,
          46113.511,
          36837.467,
          19444.2658,
          39725.51805,
          19515.5416,
          38415.474,
          40273.6455,
          33750.2918,
          21677.28345,
          48517.56315,
          40974.1649,
          14283.4594,
          18765.87545,
          18328.2381,
          43753.33705,
          22144.032,
          18033.9679,
          36189.1017,
          19023.26,
          37829.7242,
          22218.1149,
          42969.8527,
          23306.547,
          41999.52,
          46661.4424,
          22478.6,
          22331.5668,
          42983.4585,
          38709.176,
          44501.3982,
          34472.841,
          44400.4064,
          39611.7577,
          41034.2214,
          19107.7796,
          21771.3423,
          20234.85475,
          46200.9851,
          38344.566,
          17663.1442,
          18767.7377,
          60021.39897,
          62592.87309,
          40103.89,
          32787.45859,
          17496.306,
          23967.38305,
          42124.5153,
          27533.9129,
          44202.6536,
          36021.0112,
          39983.42595,
          27037.9141,
          24535.69855,
          32548.3405,
          47928.03,
          36950.2567,
          29523.1656,
          21348.706,
          30184.9367,
          19798.05455,
          52590.82939,
          26125.67477,
          63770.42801,
          14571.8908,
          32734.1863,
          24180.9335,
          39836.519,
          19521.9682,
          24393.6224,
          47896.79135,
          42303.69215,
          26926.5144,
          38126.2465,
          20149.3229,
          18648.4217,
          36149.4835,
          17748.5062,
          46718.16325,
          20773.62775,
          37607.5277,
          40904.1995,
          36124.5737,
          42112.2356,
          42211.1382,
          21659.9301,
          34779.615,
          24869.8368,
          44260.7499,
          17178.6824,
          41676.0811,
          20009.63365,
          23807.2406,
          45710.20785,
          28101.33305,
          21223.6758,
          45702.02235,
          25309.489,
          16232.847,
          14711.7438,
          48675.5177,
          40932.4295,
          37133.8982,
          16138.76205,
          37465.34375,
          47291.055,
          42111.6647,
          38792.6856,
          36397.576,
          27218.43725,
          41919.097,
          24106.91255,
          28868.6639,
          43578.9394,
          16657.71745,
          21472.4788,
          30942.1918,
          47496.49445,
          55135.40209,
          36197.699,
          19719.6947,
          37701.8768,
          17361.7661,
          38711,
          24873.3849,
          39774.2763,
          34838.873,
          23401.30575,
          19040.876,
          16577.7795,
          14455.64405,
          17904.52705,
          37165.1638,
          23568.272,
          37079.372,
          38746.3551,
          38511.6283,
          33907.548,
          34806.4677,
          20296.86345,
          20984.0936,
          58571.07448,
          23887.6627,
          39241.442,
          33732.6867,
          44423.803,
          34254.05335,
          34617.84065,
          39047.285,
          44585.45587,
          24667.419,
          36307.7983,
          40182.246,
          35491.64,
          23065.4207,
          36219.40545,
          35147.52848,
          25678.77845,
          37742.5757,
          34672.1472,
          16776.30405,
          21774.32215,
          47462.894,
          15820.699,
          47055.5321,
          46255.1125,
          51194.55914,
          37484.4493,
          47403.88,
          13747.87235,
          46889.2612,
          16450.8947,
          45863.205,
          39871.7043,
          33475.81715,
          17352.6803
         ],
         "xaxis": "x2",
         "yaxis": "y2"
        },
        {
         "alignmentgroup": "True",
         "bingroup": "x",
         "hovertemplate": "smoker=no<br>charges=%{x}<br>count=%{y}<extra></extra>",
         "legendgroup": "no",
         "marker": {
          "color": "grey",
          "pattern": {
           "shape": ""
          }
         },
         "name": "no",
         "offsetgroup": "no",
         "orientation": "v",
         "showlegend": true,
         "type": "histogram",
         "x": [
          6500.2359,
          4661.28635,
          11576.13,
          4562.8421,
          7265.7025,
          2789.0574,
          6414.178,
          5003.853,
          9095.06825,
          4151.0287,
          2352.96845,
          2404.7338,
          6600.20595,
          8232.6388,
          12235.8392,
          10806.839,
          2904.088,
          6238.298,
          5325.651,
          28287.89766,
          11082.5772,
          8083.9198,
          3490.5491,
          4058.71245,
          10197.7722,
          1146.7966,
          12644.589,
          1815.8759,
          2221.56445,
          7222.78625,
          5926.846,
          4185.0979,
          11436.73815,
          1708.0014,
          2719.27975,
          2254.7967,
          8964.06055,
          19749.38338,
          2913.569,
          9566.9909,
          10325.206,
          8428.0693,
          7418.522,
          8027.968,
          23045.56616,
          6334.34355,
          8551.347,
          3268.84665,
          2205.9808,
          10370.91255,
          11363.2832,
          12592.5345,
          14119.62,
          5227.98875,
          6435.6237,
          30259.99556,
          4618.0799,
          11150.78,
          5261.46945,
          8219.2039,
          3471.4096,
          4762.329,
          7325.0482,
          7147.105,
          14349.8544,
          18838.70366,
          2585.85065,
          3766.8838,
          6748.5912,
          8211.1002,
          12124.9924,
          1837.237,
          4877.98105,
          7261.741,
          3385.39915,
          1704.70015,
          7160.3303,
          12146.971,
          2438.0552,
          2974.126,
          3180.5101,
          1972.95,
          6571.544,
          13224.05705,
          7147.4728,
          14901.5167,
          1674.6323,
          3392.3652,
          10065.413,
          3044.2133,
          3260.199,
          4894.7533,
          27941.28758,
          9964.06,
          4536.259,
          8116.68,
          5272.1758,
          2699.56835,
          6059.173,
          8556.907,
          6877.9801,
          11737.84884,
          7443.64305,
          1635.73365,
          2902.9065,
          17878.90068,
          5974.3847,
          9583.8933,
          8798.593,
          9140.951,
          20420.60465,
          8302.53565,
          13470.8044,
          24513.09126,
          6082.405,
          6455.86265,
          8444.474,
          7243.8136,
          4527.18295,
          12949.1554,
          11945.1327,
          8410.04685,
          3500.6123,
          12333.828,
          2331.519,
          1241.565,
          4134.08245,
          18804.7524,
          5488.262,
          11454.0215,
          2464.6188,
          1628.4709,
          11946.6259,
          1639.5631,
          13462.52,
          13981.85035,
          7650.77375,
          6653.7886,
          10577.087,
          4005.4225,
          10959.6947,
          8125.7845,
          2007.945,
          15230.32405,
          9225.2564,
          8703.456,
          6474.013,
          14358.36437,
          24059.68019,
          13405.3903,
          3693.428,
          10825.2537,
          7050.642,
          2473.3341,
          2304.0022,
          3481.868,
          9288.0267,
          5354.07465,
          12495.29085,
          12363.547,
          12523.6048,
          11305.93455,
          3704.3545,
          14478.33015,
          2362.22905,
          4837.5823,
          14410.9321,
          2130.6759,
          6551.7501,
          24227.33724,
          14133.03775,
          1629.8335,
          4931.647,
          5469.0066,
          5934.3798,
          21232.18226,
          25333.33284,
          7954.517,
          6849.026,
          4518.82625,
          9869.8102,
          1727.54,
          11345.519,
          15555.18875,
          1253.936,
          6640.54485,
          7201.70085,
          2155.6815,
          2709.1119,
          13224.693,
          4830.63,
          11840.77505,
          7518.02535,
          5709.1644,
          12347.172,
          5662.225,
          14001.2867,
          13822.803,
          3208.787,
          28340.18885,
          2198.18985,
          7256.7231,
          6753.038,
          13430.265,
          13143.86485,
          2680.9493,
          13880.949,
          3947.4131,
          2730.10785,
          16069.08475,
          4747.0529,
          4922.9159,
          6112.35295,
          2200.83085,
          29186.48236,
          2566.4707,
          6600.361,
          11881.9696,
          1646.4297,
          10982.5013,
          4260.744,
          2497.0383,
          8283.6807,
          8442.667,
          2741.948,
          4137.5227,
          8965.79575,
          8604.48365,
          6393.60345,
          1719.4363,
          10461.9794,
          14394.5579,
          6858.4796,
          1627.28245,
          3594.17085,
          3077.0955,
          3989.841,
          9563.029,
          9877.6077,
          5615.369,
          5415.6612,
          1607.5101,
          18806.14547,
          9541.69555,
          3056.3881,
          7144.86265,
          3238.4357,
          4337.7352,
          20277.80751,
          1906.35825,
          19673.33573,
          22395.74424,
          12622.1795,
          12797.20962,
          11743.299,
          1964.78,
          4435.0942,
          5910.944,
          2690.1138,
          8347.1643,
          6373.55735,
          1837.2819,
          11326.71487,
          4889.0368,
          2899.48935,
          8413.46305,
          6313.759,
          4738.2682,
          11070.535,
          5972.378,
          5125.2157,
          23563.01618,
          10422.91665,
          3925.7582,
          8023.13545,
          11837.16,
          13390.559,
          5267.81815,
          2166.732,
          1875.344,
          2219.4451,
          11394.06555,
          5966.8874,
          3561.8889,
          11741.726,
          4402.233,
          6079.6715,
          11729.6795,
          7228.21565,
          1744.465,
          9778.3472,
          1137.4697,
          20781.48892,
          2055.3249,
          13129.60345,
          12925.886,
          14313.8463,
          2203.73595,
          11381.3254,
          5253.524,
          8827.2099,
          4076.497,
          12268.63225,
          8596.8278,
          2727.3951,
          4795.6568,
          7633.7206,
          26392.26029,
          13887.204,
          4906.40965,
          12224.35085,
          11013.7119,
          3645.0894,
          3732.6251,
          9391.346,
          4391.652,
          1639.5631,
          11884.04858,
          4846.92015,
          4463.2051,
          6389.37785,
          13937.6665,
          8671.19125,
          1633.9618,
          16455.70785,
          6746.7425,
          1880.07,
          2322.6218,
          21595.38229,
          13451.122,
          5584.3057,
          8547.6913,
          10736.87075,
          13143.33665,
          5594.8455,
          11520.09985,
          1625.43375,
          3227.1211,
          4949.7587,
          6282.235,
          11763.0009,
          5385.3379,
          1256.299,
          1731.677,
          13217.0945,
          1702.4553,
          10713.644,
          11938.25595,
          10704.47,
          11879.10405,
          1969.614,
          9634.538,
          5257.50795,
          1121.8739,
          5484.4673,
          14418.2804,
          10226.2842,
          25081.76784,
          3554.203,
          10269.46,
          10594.2257,
          12913.9924,
          4234.927,
          4746.344,
          5240.765,
          5729.0053,
          4561.1885,
          6406.4107,
          2855.43755,
          7345.084,
          13831.1152,
          3857.75925,
          28923.13692,
          8603.8234,
          1515.3449,
          18955.22017,
          10807.4863,
          10043.249,
          8334.5896,
          4438.2634,
          4349.462,
          10965.446,
          11881.358,
          2457.21115,
          3906.127,
          8062.764,
          2643.2685,
          8233.0975,
          2523.1695,
          12557.6053,
          8068.185,
          9264.797,
          7358.17565,
          7624.63,
          5400.9805,
          4687.797,
          11365.952,
          6933.24225,
          11554.2236,
          12643.3778,
          1136.3994,
          3756.6216,
          10601.63225,
          4340.4409,
          27724.28875,
          11299.343,
          6664.68595,
          4571.41305,
          19442.3535,
          17626.23951,
          7050.0213,
          8944.1151,
          9282.4806,
          7740.337,
          4544.2348,
          12269.68865,
          10923.9332,
          9249.4952,
          2927.0647,
          5327.40025,
          8733.22925,
          13770.0979,
          14382.70905,
          2211.13075,
          18157.876,
          4719.73655,
          5012.471,
          2709.24395,
          2597.779,
          1769.53165,
          1759.338,
          13725.47184,
          14426.07385,
          1748.774,
          1877.9294,
          3206.49135,
          1725.5523,
          8605.3615,
          8534.6718,
          11165.41765,
          9283.562,
          9182.17,
          7526.70645,
          8457.818,
          6986.697,
          1621.3402,
          4992.3764,
          12430.95335,
          27117.99378,
          15828.82173,
          2527.81865,
          9386.1613,
          5209.57885,
          10338.9316,
          1842.519,
          2136.88225,
          10977.2063,
          4357.04365,
          2257.47525,
          10579.711,
          2632.992,
          16085.1275,
          2842.76075,
          9872.701,
          12222.8983,
          5920.1041,
          4670.64,
          7209.4918,
          28468.91901,
          6875.961,
          14474.675,
          7639.41745,
          3736.4647,
          8116.26885,
          2128.43105,
          9861.025,
          21797.0004,
          6203.90175,
          12574.049,
          9788.8659,
          2156.7518,
          2731.9122,
          11356.6609,
          7421.19455,
          3410.324,
          12629.8967,
          4074.4537,
          5630.45785,
          19144.57652,
          3171.6149,
          8310.83915,
          26467.09737,
          4686.3887,
          6496.886,
          12979.358,
          8516.829,
          14254.6082,
          1682.597,
          16796.41194,
          9504.3103,
          11842.62375,
          10231.4999,
          10106.13425,
          20630.28351,
          7623.518,
          5989.52365,
          13555.0049,
          12646.207,
          6775.961,
          5478.0368,
          2710.82855,
          1705.6245,
          10085.846,
          9447.25035,
          13635.6379,
          3956.07145,
          2494.022,
          3556.9223,
          2457.502,
          11085.5868,
          5377.4578,
          1708.92575,
          11090.7178,
          9411.005,
          8823.98575,
          11187.6567,
          4504.6624,
          6985.50695,
          1826.843,
          3353.4703,
          7789.635,
          11658.37915,
          6571.02435,
          4889.9995,
          8026.6666,
          8334.45755,
          7046.7222,
          31620.00106,
          12475.3513,
          12638.195,
          3943.5954,
          12142.5786,
          5846.9176,
          10976.24575,
          4239.89265,
          11931.12525,
          13616.3586,
          11272.33139,
          9549.5651,
          4428.88785,
          13019.16105,
          7729.64575,
          3981.9768,
          15612.19335,
          8162.71625,
          6184.2994,
          8930.93455,
          8240.5896,
          4673.3922,
          6117.4945,
          26018.95052,
          1694.7964,
          8615.3,
          2416.955,
          4347.02335,
          4149.736,
          8252.2843,
          9414.92,
          10214.636,
          9361.3268,
          5031.26955,
          1252.407,
          13887.9685,
          4237.12655,
          16586.49771,
          25656.57526,
          3877.30425,
          12741.16745,
          6781.3542,
          10381.4787,
          10450.552,
          9863.4718,
          3213.62205,
          4133.64165,
          10264.4421,
          1391.5287,
          14210.53595,
          11658.11505,
          4058.1161,
          1163.4627,
          24915.04626,
          7160.094,
          1664.9996,
          10435.06525,
          2866.091,
          1622.1885,
          9875.6804,
          5152.134,
          2302.3,
          11353.2276,
          1615.7667,
          5373.36425,
          12105.32,
          10141.1362,
          4466.6214,
          8527.532,
          6593.5083,
          7152.6714,
          5138.2567,
          6250.435,
          14256.1928,
          4243.59005,
          9222.4026,
          22192.43711,
          12479.70895,
          2154.361,
          11253.421,
          2026.9741,
          10560.4917,
          5002.7827,
          10791.96,
          7371.772,
          9866.30485,
          14692.66935,
          10564.8845,
          11073.176,
          11482.63485,
          7133.9025,
          8932.084,
          3292.52985,
          5855.9025,
          3537.703,
          11411.685,
          1832.094,
          11842.442,
          3875.7341,
          12096.6512,
          2897.3235,
          6186.127,
          7731.85785,
          7640.3092,
          30284.64294,
          6185.3208,
          11674.13,
          1534.3045,
          23241.47453,
          1242.816,
          13041.921,
          12981.3457,
          3277.161,
          9487.6442,
          12950.0712,
          12032.326,
          14007.222,
          12485.8009,
          2102.2647,
          3659.346,
          6940.90985,
          13457.9608,
          4320.41085,
          7441.053,
          3847.674,
          1532.4697,
          7935.29115,
          1917.3184,
          1149.3959,
          9432.9253,
          6770.1925,
          3972.9247,
          3070.8087,
          4667.60765,
          2534.39375,
          8601.3293,
          3176.8159,
          11743.9341,
          12265.5069,
          12957.118,
          11289.10925,
          10796.35025,
          24476.47851,
          6837.3687,
          3167.45585,
          10600.5483,
          8124.4084,
          7077.1894,
          2150.469,
          13228.84695,
          3366.6697,
          13112.6048,
          14001.1338,
          3935.1799,
          4646.759,
          20709.02034,
          4753.6368,
          7537.1639,
          11833.7823,
          5757.41345,
          14590.63205,
          15161.5344,
          12244.531,
          13429.0354,
          9748.9106,
          3597.596,
          8606.2174,
          1526.312,
          3443.064,
          14988.432,
          7727.2532,
          6360.9936,
          3309.7926,
          7045.499,
          5266.3656,
          11455.28,
          36910.60803,
          20462.99766,
          8823.279,
          11286.5387,
          2020.5523,
          7985.815,
          7626.993,
          10702.6424,
          4462.7218,
          4564.19145,
          22493.65964,
          13844.7972,
          12404.8791,
          26236.57997,
          9617.66245,
          23288.9284,
          21344.8467,
          5438.7491,
          7281.5056,
          12982.8747,
          6289.7549,
          8515.7587,
          13470.86,
          1737.376,
          4399.731,
          6338.0756,
          1981.5819,
          8569.8618,
          3761.292,
          6686.4313,
          8968.33,
          1632.03625,
          17929.30337,
          9058.7303,
          18963.17192,
          5969.723,
          4040.55825,
          9991.03765,
          11488.31695,
          5699.8375,
          12815.44495,
          7441.501,
          2498.4144,
          6123.5688,
          10928.849,
          1743.214,
          2639.0429,
          2117.33885,
          5080.096,
          6652.5288,
          2261.5688,
          9377.9047,
          1634.5734,
          1712.227,
          15170.069,
          8522.003,
          12231.6136,
          2803.69785,
          12609.88702,
          32108.66282,
          2201.0971,
          36580.28216,
          7151.092,
          5116.5004,
          3279.86855,
          6311.952,
          4934.705,
          5397.6167,
          11264.541,
          6198.7518,
          24671.66334,
          11033.6617,
          2585.269,
          9800.8882,
          6610.1097,
          10118.424,
          4433.3877,
          2138.0707,
          9304.7019,
          8520.026,
          1131.5066,
          2134.9015,
          2867.1196,
          18218.16139,
          8688.85885,
          2395.17155,
          1984.4533,
          7742.1098,
          1711.0268,
          3161.454,
          9910.35985,
          1909.52745,
          3757.8448,
          9500.57305,
          9722.7695,
          8539.671,
          6799.458,
          9144.565,
          27000.98473,
          1980.07,
          7731.4271,
          9715.841,
          13204.28565,
          10959.33,
          10601.412,
          5246.047,
          11396.9002,
          18903.49141,
          14451.83515,
          8269.044,
          7419.4779,
          1621.8827,
          4719.52405,
          5979.731,
          13974.45555,
          12029.2867,
          1135.9407,
          3393.35635,
          11163.568,
          9957.7216,
          1704.5681,
          4751.07,
          7445.918,
          1633.0444,
          2721.3208,
          7196.867,
          6710.1919,
          7512.267,
          8871.1517,
          7804.1605,
          6948.7008,
          10407.08585,
          8017.06115,
          12094.478,
          13607.36875,
          11093.6229
         ],
         "xaxis": "x",
         "yaxis": "y"
        },
        {
         "alignmentgroup": "True",
         "hovertemplate": "smoker=no<br>charges=%{x}<extra></extra>",
         "legendgroup": "no",
         "marker": {
          "color": "grey"
         },
         "name": "no",
         "notched": true,
         "offsetgroup": "no",
         "showlegend": false,
         "type": "box",
         "x": [
          6500.2359,
          4661.28635,
          11576.13,
          4562.8421,
          7265.7025,
          2789.0574,
          6414.178,
          5003.853,
          9095.06825,
          4151.0287,
          2352.96845,
          2404.7338,
          6600.20595,
          8232.6388,
          12235.8392,
          10806.839,
          2904.088,
          6238.298,
          5325.651,
          28287.89766,
          11082.5772,
          8083.9198,
          3490.5491,
          4058.71245,
          10197.7722,
          1146.7966,
          12644.589,
          1815.8759,
          2221.56445,
          7222.78625,
          5926.846,
          4185.0979,
          11436.73815,
          1708.0014,
          2719.27975,
          2254.7967,
          8964.06055,
          19749.38338,
          2913.569,
          9566.9909,
          10325.206,
          8428.0693,
          7418.522,
          8027.968,
          23045.56616,
          6334.34355,
          8551.347,
          3268.84665,
          2205.9808,
          10370.91255,
          11363.2832,
          12592.5345,
          14119.62,
          5227.98875,
          6435.6237,
          30259.99556,
          4618.0799,
          11150.78,
          5261.46945,
          8219.2039,
          3471.4096,
          4762.329,
          7325.0482,
          7147.105,
          14349.8544,
          18838.70366,
          2585.85065,
          3766.8838,
          6748.5912,
          8211.1002,
          12124.9924,
          1837.237,
          4877.98105,
          7261.741,
          3385.39915,
          1704.70015,
          7160.3303,
          12146.971,
          2438.0552,
          2974.126,
          3180.5101,
          1972.95,
          6571.544,
          13224.05705,
          7147.4728,
          14901.5167,
          1674.6323,
          3392.3652,
          10065.413,
          3044.2133,
          3260.199,
          4894.7533,
          27941.28758,
          9964.06,
          4536.259,
          8116.68,
          5272.1758,
          2699.56835,
          6059.173,
          8556.907,
          6877.9801,
          11737.84884,
          7443.64305,
          1635.73365,
          2902.9065,
          17878.90068,
          5974.3847,
          9583.8933,
          8798.593,
          9140.951,
          20420.60465,
          8302.53565,
          13470.8044,
          24513.09126,
          6082.405,
          6455.86265,
          8444.474,
          7243.8136,
          4527.18295,
          12949.1554,
          11945.1327,
          8410.04685,
          3500.6123,
          12333.828,
          2331.519,
          1241.565,
          4134.08245,
          18804.7524,
          5488.262,
          11454.0215,
          2464.6188,
          1628.4709,
          11946.6259,
          1639.5631,
          13462.52,
          13981.85035,
          7650.77375,
          6653.7886,
          10577.087,
          4005.4225,
          10959.6947,
          8125.7845,
          2007.945,
          15230.32405,
          9225.2564,
          8703.456,
          6474.013,
          14358.36437,
          24059.68019,
          13405.3903,
          3693.428,
          10825.2537,
          7050.642,
          2473.3341,
          2304.0022,
          3481.868,
          9288.0267,
          5354.07465,
          12495.29085,
          12363.547,
          12523.6048,
          11305.93455,
          3704.3545,
          14478.33015,
          2362.22905,
          4837.5823,
          14410.9321,
          2130.6759,
          6551.7501,
          24227.33724,
          14133.03775,
          1629.8335,
          4931.647,
          5469.0066,
          5934.3798,
          21232.18226,
          25333.33284,
          7954.517,
          6849.026,
          4518.82625,
          9869.8102,
          1727.54,
          11345.519,
          15555.18875,
          1253.936,
          6640.54485,
          7201.70085,
          2155.6815,
          2709.1119,
          13224.693,
          4830.63,
          11840.77505,
          7518.02535,
          5709.1644,
          12347.172,
          5662.225,
          14001.2867,
          13822.803,
          3208.787,
          28340.18885,
          2198.18985,
          7256.7231,
          6753.038,
          13430.265,
          13143.86485,
          2680.9493,
          13880.949,
          3947.4131,
          2730.10785,
          16069.08475,
          4747.0529,
          4922.9159,
          6112.35295,
          2200.83085,
          29186.48236,
          2566.4707,
          6600.361,
          11881.9696,
          1646.4297,
          10982.5013,
          4260.744,
          2497.0383,
          8283.6807,
          8442.667,
          2741.948,
          4137.5227,
          8965.79575,
          8604.48365,
          6393.60345,
          1719.4363,
          10461.9794,
          14394.5579,
          6858.4796,
          1627.28245,
          3594.17085,
          3077.0955,
          3989.841,
          9563.029,
          9877.6077,
          5615.369,
          5415.6612,
          1607.5101,
          18806.14547,
          9541.69555,
          3056.3881,
          7144.86265,
          3238.4357,
          4337.7352,
          20277.80751,
          1906.35825,
          19673.33573,
          22395.74424,
          12622.1795,
          12797.20962,
          11743.299,
          1964.78,
          4435.0942,
          5910.944,
          2690.1138,
          8347.1643,
          6373.55735,
          1837.2819,
          11326.71487,
          4889.0368,
          2899.48935,
          8413.46305,
          6313.759,
          4738.2682,
          11070.535,
          5972.378,
          5125.2157,
          23563.01618,
          10422.91665,
          3925.7582,
          8023.13545,
          11837.16,
          13390.559,
          5267.81815,
          2166.732,
          1875.344,
          2219.4451,
          11394.06555,
          5966.8874,
          3561.8889,
          11741.726,
          4402.233,
          6079.6715,
          11729.6795,
          7228.21565,
          1744.465,
          9778.3472,
          1137.4697,
          20781.48892,
          2055.3249,
          13129.60345,
          12925.886,
          14313.8463,
          2203.73595,
          11381.3254,
          5253.524,
          8827.2099,
          4076.497,
          12268.63225,
          8596.8278,
          2727.3951,
          4795.6568,
          7633.7206,
          26392.26029,
          13887.204,
          4906.40965,
          12224.35085,
          11013.7119,
          3645.0894,
          3732.6251,
          9391.346,
          4391.652,
          1639.5631,
          11884.04858,
          4846.92015,
          4463.2051,
          6389.37785,
          13937.6665,
          8671.19125,
          1633.9618,
          16455.70785,
          6746.7425,
          1880.07,
          2322.6218,
          21595.38229,
          13451.122,
          5584.3057,
          8547.6913,
          10736.87075,
          13143.33665,
          5594.8455,
          11520.09985,
          1625.43375,
          3227.1211,
          4949.7587,
          6282.235,
          11763.0009,
          5385.3379,
          1256.299,
          1731.677,
          13217.0945,
          1702.4553,
          10713.644,
          11938.25595,
          10704.47,
          11879.10405,
          1969.614,
          9634.538,
          5257.50795,
          1121.8739,
          5484.4673,
          14418.2804,
          10226.2842,
          25081.76784,
          3554.203,
          10269.46,
          10594.2257,
          12913.9924,
          4234.927,
          4746.344,
          5240.765,
          5729.0053,
          4561.1885,
          6406.4107,
          2855.43755,
          7345.084,
          13831.1152,
          3857.75925,
          28923.13692,
          8603.8234,
          1515.3449,
          18955.22017,
          10807.4863,
          10043.249,
          8334.5896,
          4438.2634,
          4349.462,
          10965.446,
          11881.358,
          2457.21115,
          3906.127,
          8062.764,
          2643.2685,
          8233.0975,
          2523.1695,
          12557.6053,
          8068.185,
          9264.797,
          7358.17565,
          7624.63,
          5400.9805,
          4687.797,
          11365.952,
          6933.24225,
          11554.2236,
          12643.3778,
          1136.3994,
          3756.6216,
          10601.63225,
          4340.4409,
          27724.28875,
          11299.343,
          6664.68595,
          4571.41305,
          19442.3535,
          17626.23951,
          7050.0213,
          8944.1151,
          9282.4806,
          7740.337,
          4544.2348,
          12269.68865,
          10923.9332,
          9249.4952,
          2927.0647,
          5327.40025,
          8733.22925,
          13770.0979,
          14382.70905,
          2211.13075,
          18157.876,
          4719.73655,
          5012.471,
          2709.24395,
          2597.779,
          1769.53165,
          1759.338,
          13725.47184,
          14426.07385,
          1748.774,
          1877.9294,
          3206.49135,
          1725.5523,
          8605.3615,
          8534.6718,
          11165.41765,
          9283.562,
          9182.17,
          7526.70645,
          8457.818,
          6986.697,
          1621.3402,
          4992.3764,
          12430.95335,
          27117.99378,
          15828.82173,
          2527.81865,
          9386.1613,
          5209.57885,
          10338.9316,
          1842.519,
          2136.88225,
          10977.2063,
          4357.04365,
          2257.47525,
          10579.711,
          2632.992,
          16085.1275,
          2842.76075,
          9872.701,
          12222.8983,
          5920.1041,
          4670.64,
          7209.4918,
          28468.91901,
          6875.961,
          14474.675,
          7639.41745,
          3736.4647,
          8116.26885,
          2128.43105,
          9861.025,
          21797.0004,
          6203.90175,
          12574.049,
          9788.8659,
          2156.7518,
          2731.9122,
          11356.6609,
          7421.19455,
          3410.324,
          12629.8967,
          4074.4537,
          5630.45785,
          19144.57652,
          3171.6149,
          8310.83915,
          26467.09737,
          4686.3887,
          6496.886,
          12979.358,
          8516.829,
          14254.6082,
          1682.597,
          16796.41194,
          9504.3103,
          11842.62375,
          10231.4999,
          10106.13425,
          20630.28351,
          7623.518,
          5989.52365,
          13555.0049,
          12646.207,
          6775.961,
          5478.0368,
          2710.82855,
          1705.6245,
          10085.846,
          9447.25035,
          13635.6379,
          3956.07145,
          2494.022,
          3556.9223,
          2457.502,
          11085.5868,
          5377.4578,
          1708.92575,
          11090.7178,
          9411.005,
          8823.98575,
          11187.6567,
          4504.6624,
          6985.50695,
          1826.843,
          3353.4703,
          7789.635,
          11658.37915,
          6571.02435,
          4889.9995,
          8026.6666,
          8334.45755,
          7046.7222,
          31620.00106,
          12475.3513,
          12638.195,
          3943.5954,
          12142.5786,
          5846.9176,
          10976.24575,
          4239.89265,
          11931.12525,
          13616.3586,
          11272.33139,
          9549.5651,
          4428.88785,
          13019.16105,
          7729.64575,
          3981.9768,
          15612.19335,
          8162.71625,
          6184.2994,
          8930.93455,
          8240.5896,
          4673.3922,
          6117.4945,
          26018.95052,
          1694.7964,
          8615.3,
          2416.955,
          4347.02335,
          4149.736,
          8252.2843,
          9414.92,
          10214.636,
          9361.3268,
          5031.26955,
          1252.407,
          13887.9685,
          4237.12655,
          16586.49771,
          25656.57526,
          3877.30425,
          12741.16745,
          6781.3542,
          10381.4787,
          10450.552,
          9863.4718,
          3213.62205,
          4133.64165,
          10264.4421,
          1391.5287,
          14210.53595,
          11658.11505,
          4058.1161,
          1163.4627,
          24915.04626,
          7160.094,
          1664.9996,
          10435.06525,
          2866.091,
          1622.1885,
          9875.6804,
          5152.134,
          2302.3,
          11353.2276,
          1615.7667,
          5373.36425,
          12105.32,
          10141.1362,
          4466.6214,
          8527.532,
          6593.5083,
          7152.6714,
          5138.2567,
          6250.435,
          14256.1928,
          4243.59005,
          9222.4026,
          22192.43711,
          12479.70895,
          2154.361,
          11253.421,
          2026.9741,
          10560.4917,
          5002.7827,
          10791.96,
          7371.772,
          9866.30485,
          14692.66935,
          10564.8845,
          11073.176,
          11482.63485,
          7133.9025,
          8932.084,
          3292.52985,
          5855.9025,
          3537.703,
          11411.685,
          1832.094,
          11842.442,
          3875.7341,
          12096.6512,
          2897.3235,
          6186.127,
          7731.85785,
          7640.3092,
          30284.64294,
          6185.3208,
          11674.13,
          1534.3045,
          23241.47453,
          1242.816,
          13041.921,
          12981.3457,
          3277.161,
          9487.6442,
          12950.0712,
          12032.326,
          14007.222,
          12485.8009,
          2102.2647,
          3659.346,
          6940.90985,
          13457.9608,
          4320.41085,
          7441.053,
          3847.674,
          1532.4697,
          7935.29115,
          1917.3184,
          1149.3959,
          9432.9253,
          6770.1925,
          3972.9247,
          3070.8087,
          4667.60765,
          2534.39375,
          8601.3293,
          3176.8159,
          11743.9341,
          12265.5069,
          12957.118,
          11289.10925,
          10796.35025,
          24476.47851,
          6837.3687,
          3167.45585,
          10600.5483,
          8124.4084,
          7077.1894,
          2150.469,
          13228.84695,
          3366.6697,
          13112.6048,
          14001.1338,
          3935.1799,
          4646.759,
          20709.02034,
          4753.6368,
          7537.1639,
          11833.7823,
          5757.41345,
          14590.63205,
          15161.5344,
          12244.531,
          13429.0354,
          9748.9106,
          3597.596,
          8606.2174,
          1526.312,
          3443.064,
          14988.432,
          7727.2532,
          6360.9936,
          3309.7926,
          7045.499,
          5266.3656,
          11455.28,
          36910.60803,
          20462.99766,
          8823.279,
          11286.5387,
          2020.5523,
          7985.815,
          7626.993,
          10702.6424,
          4462.7218,
          4564.19145,
          22493.65964,
          13844.7972,
          12404.8791,
          26236.57997,
          9617.66245,
          23288.9284,
          21344.8467,
          5438.7491,
          7281.5056,
          12982.8747,
          6289.7549,
          8515.7587,
          13470.86,
          1737.376,
          4399.731,
          6338.0756,
          1981.5819,
          8569.8618,
          3761.292,
          6686.4313,
          8968.33,
          1632.03625,
          17929.30337,
          9058.7303,
          18963.17192,
          5969.723,
          4040.55825,
          9991.03765,
          11488.31695,
          5699.8375,
          12815.44495,
          7441.501,
          2498.4144,
          6123.5688,
          10928.849,
          1743.214,
          2639.0429,
          2117.33885,
          5080.096,
          6652.5288,
          2261.5688,
          9377.9047,
          1634.5734,
          1712.227,
          15170.069,
          8522.003,
          12231.6136,
          2803.69785,
          12609.88702,
          32108.66282,
          2201.0971,
          36580.28216,
          7151.092,
          5116.5004,
          3279.86855,
          6311.952,
          4934.705,
          5397.6167,
          11264.541,
          6198.7518,
          24671.66334,
          11033.6617,
          2585.269,
          9800.8882,
          6610.1097,
          10118.424,
          4433.3877,
          2138.0707,
          9304.7019,
          8520.026,
          1131.5066,
          2134.9015,
          2867.1196,
          18218.16139,
          8688.85885,
          2395.17155,
          1984.4533,
          7742.1098,
          1711.0268,
          3161.454,
          9910.35985,
          1909.52745,
          3757.8448,
          9500.57305,
          9722.7695,
          8539.671,
          6799.458,
          9144.565,
          27000.98473,
          1980.07,
          7731.4271,
          9715.841,
          13204.28565,
          10959.33,
          10601.412,
          5246.047,
          11396.9002,
          18903.49141,
          14451.83515,
          8269.044,
          7419.4779,
          1621.8827,
          4719.52405,
          5979.731,
          13974.45555,
          12029.2867,
          1135.9407,
          3393.35635,
          11163.568,
          9957.7216,
          1704.5681,
          4751.07,
          7445.918,
          1633.0444,
          2721.3208,
          7196.867,
          6710.1919,
          7512.267,
          8871.1517,
          7804.1605,
          6948.7008,
          10407.08585,
          8017.06115,
          12094.478,
          13607.36875,
          11093.6229
         ],
         "xaxis": "x2",
         "yaxis": "y2"
        }
       ],
       "layout": {
        "bargap": 0.1,
        "barmode": "relative",
        "legend": {
         "title": {
          "text": "smoker"
         },
         "tracegroupgap": 0
        },
        "template": {
         "data": {
          "bar": [
           {
            "error_x": {
             "color": "#2a3f5f"
            },
            "error_y": {
             "color": "#2a3f5f"
            },
            "marker": {
             "line": {
              "color": "#E5ECF6",
              "width": 0.5
             },
             "pattern": {
              "fillmode": "overlay",
              "size": 10,
              "solidity": 0.2
             }
            },
            "type": "bar"
           }
          ],
          "barpolar": [
           {
            "marker": {
             "line": {
              "color": "#E5ECF6",
              "width": 0.5
             },
             "pattern": {
              "fillmode": "overlay",
              "size": 10,
              "solidity": 0.2
             }
            },
            "type": "barpolar"
           }
          ],
          "carpet": [
           {
            "aaxis": {
             "endlinecolor": "#2a3f5f",
             "gridcolor": "white",
             "linecolor": "white",
             "minorgridcolor": "white",
             "startlinecolor": "#2a3f5f"
            },
            "baxis": {
             "endlinecolor": "#2a3f5f",
             "gridcolor": "white",
             "linecolor": "white",
             "minorgridcolor": "white",
             "startlinecolor": "#2a3f5f"
            },
            "type": "carpet"
           }
          ],
          "choropleth": [
           {
            "colorbar": {
             "outlinewidth": 0,
             "ticks": ""
            },
            "type": "choropleth"
           }
          ],
          "contour": [
           {
            "colorbar": {
             "outlinewidth": 0,
             "ticks": ""
            },
            "colorscale": [
             [
              0,
              "#0d0887"
             ],
             [
              0.1111111111111111,
              "#46039f"
             ],
             [
              0.2222222222222222,
              "#7201a8"
             ],
             [
              0.3333333333333333,
              "#9c179e"
             ],
             [
              0.4444444444444444,
              "#bd3786"
             ],
             [
              0.5555555555555556,
              "#d8576b"
             ],
             [
              0.6666666666666666,
              "#ed7953"
             ],
             [
              0.7777777777777778,
              "#fb9f3a"
             ],
             [
              0.8888888888888888,
              "#fdca26"
             ],
             [
              1,
              "#f0f921"
             ]
            ],
            "type": "contour"
           }
          ],
          "contourcarpet": [
           {
            "colorbar": {
             "outlinewidth": 0,
             "ticks": ""
            },
            "type": "contourcarpet"
           }
          ],
          "heatmap": [
           {
            "colorbar": {
             "outlinewidth": 0,
             "ticks": ""
            },
            "colorscale": [
             [
              0,
              "#0d0887"
             ],
             [
              0.1111111111111111,
              "#46039f"
             ],
             [
              0.2222222222222222,
              "#7201a8"
             ],
             [
              0.3333333333333333,
              "#9c179e"
             ],
             [
              0.4444444444444444,
              "#bd3786"
             ],
             [
              0.5555555555555556,
              "#d8576b"
             ],
             [
              0.6666666666666666,
              "#ed7953"
             ],
             [
              0.7777777777777778,
              "#fb9f3a"
             ],
             [
              0.8888888888888888,
              "#fdca26"
             ],
             [
              1,
              "#f0f921"
             ]
            ],
            "type": "heatmap"
           }
          ],
          "heatmapgl": [
           {
            "colorbar": {
             "outlinewidth": 0,
             "ticks": ""
            },
            "colorscale": [
             [
              0,
              "#0d0887"
             ],
             [
              0.1111111111111111,
              "#46039f"
             ],
             [
              0.2222222222222222,
              "#7201a8"
             ],
             [
              0.3333333333333333,
              "#9c179e"
             ],
             [
              0.4444444444444444,
              "#bd3786"
             ],
             [
              0.5555555555555556,
              "#d8576b"
             ],
             [
              0.6666666666666666,
              "#ed7953"
             ],
             [
              0.7777777777777778,
              "#fb9f3a"
             ],
             [
              0.8888888888888888,
              "#fdca26"
             ],
             [
              1,
              "#f0f921"
             ]
            ],
            "type": "heatmapgl"
           }
          ],
          "histogram": [
           {
            "marker": {
             "pattern": {
              "fillmode": "overlay",
              "size": 10,
              "solidity": 0.2
             }
            },
            "type": "histogram"
           }
          ],
          "histogram2d": [
           {
            "colorbar": {
             "outlinewidth": 0,
             "ticks": ""
            },
            "colorscale": [
             [
              0,
              "#0d0887"
             ],
             [
              0.1111111111111111,
              "#46039f"
             ],
             [
              0.2222222222222222,
              "#7201a8"
             ],
             [
              0.3333333333333333,
              "#9c179e"
             ],
             [
              0.4444444444444444,
              "#bd3786"
             ],
             [
              0.5555555555555556,
              "#d8576b"
             ],
             [
              0.6666666666666666,
              "#ed7953"
             ],
             [
              0.7777777777777778,
              "#fb9f3a"
             ],
             [
              0.8888888888888888,
              "#fdca26"
             ],
             [
              1,
              "#f0f921"
             ]
            ],
            "type": "histogram2d"
           }
          ],
          "histogram2dcontour": [
           {
            "colorbar": {
             "outlinewidth": 0,
             "ticks": ""
            },
            "colorscale": [
             [
              0,
              "#0d0887"
             ],
             [
              0.1111111111111111,
              "#46039f"
             ],
             [
              0.2222222222222222,
              "#7201a8"
             ],
             [
              0.3333333333333333,
              "#9c179e"
             ],
             [
              0.4444444444444444,
              "#bd3786"
             ],
             [
              0.5555555555555556,
              "#d8576b"
             ],
             [
              0.6666666666666666,
              "#ed7953"
             ],
             [
              0.7777777777777778,
              "#fb9f3a"
             ],
             [
              0.8888888888888888,
              "#fdca26"
             ],
             [
              1,
              "#f0f921"
             ]
            ],
            "type": "histogram2dcontour"
           }
          ],
          "mesh3d": [
           {
            "colorbar": {
             "outlinewidth": 0,
             "ticks": ""
            },
            "type": "mesh3d"
           }
          ],
          "parcoords": [
           {
            "line": {
             "colorbar": {
              "outlinewidth": 0,
              "ticks": ""
             }
            },
            "type": "parcoords"
           }
          ],
          "pie": [
           {
            "automargin": true,
            "type": "pie"
           }
          ],
          "scatter": [
           {
            "fillpattern": {
             "fillmode": "overlay",
             "size": 10,
             "solidity": 0.2
            },
            "type": "scatter"
           }
          ],
          "scatter3d": [
           {
            "line": {
             "colorbar": {
              "outlinewidth": 0,
              "ticks": ""
             }
            },
            "marker": {
             "colorbar": {
              "outlinewidth": 0,
              "ticks": ""
             }
            },
            "type": "scatter3d"
           }
          ],
          "scattercarpet": [
           {
            "marker": {
             "colorbar": {
              "outlinewidth": 0,
              "ticks": ""
             }
            },
            "type": "scattercarpet"
           }
          ],
          "scattergeo": [
           {
            "marker": {
             "colorbar": {
              "outlinewidth": 0,
              "ticks": ""
             }
            },
            "type": "scattergeo"
           }
          ],
          "scattergl": [
           {
            "marker": {
             "colorbar": {
              "outlinewidth": 0,
              "ticks": ""
             }
            },
            "type": "scattergl"
           }
          ],
          "scattermapbox": [
           {
            "marker": {
             "colorbar": {
              "outlinewidth": 0,
              "ticks": ""
             }
            },
            "type": "scattermapbox"
           }
          ],
          "scatterpolar": [
           {
            "marker": {
             "colorbar": {
              "outlinewidth": 0,
              "ticks": ""
             }
            },
            "type": "scatterpolar"
           }
          ],
          "scatterpolargl": [
           {
            "marker": {
             "colorbar": {
              "outlinewidth": 0,
              "ticks": ""
             }
            },
            "type": "scatterpolargl"
           }
          ],
          "scatterternary": [
           {
            "marker": {
             "colorbar": {
              "outlinewidth": 0,
              "ticks": ""
             }
            },
            "type": "scatterternary"
           }
          ],
          "surface": [
           {
            "colorbar": {
             "outlinewidth": 0,
             "ticks": ""
            },
            "colorscale": [
             [
              0,
              "#0d0887"
             ],
             [
              0.1111111111111111,
              "#46039f"
             ],
             [
              0.2222222222222222,
              "#7201a8"
             ],
             [
              0.3333333333333333,
              "#9c179e"
             ],
             [
              0.4444444444444444,
              "#bd3786"
             ],
             [
              0.5555555555555556,
              "#d8576b"
             ],
             [
              0.6666666666666666,
              "#ed7953"
             ],
             [
              0.7777777777777778,
              "#fb9f3a"
             ],
             [
              0.8888888888888888,
              "#fdca26"
             ],
             [
              1,
              "#f0f921"
             ]
            ],
            "type": "surface"
           }
          ],
          "table": [
           {
            "cells": {
             "fill": {
              "color": "#EBF0F8"
             },
             "line": {
              "color": "white"
             }
            },
            "header": {
             "fill": {
              "color": "#C8D4E3"
             },
             "line": {
              "color": "white"
             }
            },
            "type": "table"
           }
          ]
         },
         "layout": {
          "annotationdefaults": {
           "arrowcolor": "#2a3f5f",
           "arrowhead": 0,
           "arrowwidth": 1
          },
          "autotypenumbers": "strict",
          "coloraxis": {
           "colorbar": {
            "outlinewidth": 0,
            "ticks": ""
           }
          },
          "colorscale": {
           "diverging": [
            [
             0,
             "#8e0152"
            ],
            [
             0.1,
             "#c51b7d"
            ],
            [
             0.2,
             "#de77ae"
            ],
            [
             0.3,
             "#f1b6da"
            ],
            [
             0.4,
             "#fde0ef"
            ],
            [
             0.5,
             "#f7f7f7"
            ],
            [
             0.6,
             "#e6f5d0"
            ],
            [
             0.7,
             "#b8e186"
            ],
            [
             0.8,
             "#7fbc41"
            ],
            [
             0.9,
             "#4d9221"
            ],
            [
             1,
             "#276419"
            ]
           ],
           "sequential": [
            [
             0,
             "#0d0887"
            ],
            [
             0.1111111111111111,
             "#46039f"
            ],
            [
             0.2222222222222222,
             "#7201a8"
            ],
            [
             0.3333333333333333,
             "#9c179e"
            ],
            [
             0.4444444444444444,
             "#bd3786"
            ],
            [
             0.5555555555555556,
             "#d8576b"
            ],
            [
             0.6666666666666666,
             "#ed7953"
            ],
            [
             0.7777777777777778,
             "#fb9f3a"
            ],
            [
             0.8888888888888888,
             "#fdca26"
            ],
            [
             1,
             "#f0f921"
            ]
           ],
           "sequentialminus": [
            [
             0,
             "#0d0887"
            ],
            [
             0.1111111111111111,
             "#46039f"
            ],
            [
             0.2222222222222222,
             "#7201a8"
            ],
            [
             0.3333333333333333,
             "#9c179e"
            ],
            [
             0.4444444444444444,
             "#bd3786"
            ],
            [
             0.5555555555555556,
             "#d8576b"
            ],
            [
             0.6666666666666666,
             "#ed7953"
            ],
            [
             0.7777777777777778,
             "#fb9f3a"
            ],
            [
             0.8888888888888888,
             "#fdca26"
            ],
            [
             1,
             "#f0f921"
            ]
           ]
          },
          "colorway": [
           "#636efa",
           "#EF553B",
           "#00cc96",
           "#ab63fa",
           "#FFA15A",
           "#19d3f3",
           "#FF6692",
           "#B6E880",
           "#FF97FF",
           "#FECB52"
          ],
          "font": {
           "color": "#2a3f5f"
          },
          "geo": {
           "bgcolor": "white",
           "lakecolor": "white",
           "landcolor": "#E5ECF6",
           "showlakes": true,
           "showland": true,
           "subunitcolor": "white"
          },
          "hoverlabel": {
           "align": "left"
          },
          "hovermode": "closest",
          "mapbox": {
           "style": "light"
          },
          "paper_bgcolor": "white",
          "plot_bgcolor": "#E5ECF6",
          "polar": {
           "angularaxis": {
            "gridcolor": "white",
            "linecolor": "white",
            "ticks": ""
           },
           "bgcolor": "#E5ECF6",
           "radialaxis": {
            "gridcolor": "white",
            "linecolor": "white",
            "ticks": ""
           }
          },
          "scene": {
           "xaxis": {
            "backgroundcolor": "#E5ECF6",
            "gridcolor": "white",
            "gridwidth": 2,
            "linecolor": "white",
            "showbackground": true,
            "ticks": "",
            "zerolinecolor": "white"
           },
           "yaxis": {
            "backgroundcolor": "#E5ECF6",
            "gridcolor": "white",
            "gridwidth": 2,
            "linecolor": "white",
            "showbackground": true,
            "ticks": "",
            "zerolinecolor": "white"
           },
           "zaxis": {
            "backgroundcolor": "#E5ECF6",
            "gridcolor": "white",
            "gridwidth": 2,
            "linecolor": "white",
            "showbackground": true,
            "ticks": "",
            "zerolinecolor": "white"
           }
          },
          "shapedefaults": {
           "line": {
            "color": "#2a3f5f"
           }
          },
          "ternary": {
           "aaxis": {
            "gridcolor": "white",
            "linecolor": "white",
            "ticks": ""
           },
           "baxis": {
            "gridcolor": "white",
            "linecolor": "white",
            "ticks": ""
           },
           "bgcolor": "#E5ECF6",
           "caxis": {
            "gridcolor": "white",
            "linecolor": "white",
            "ticks": ""
           }
          },
          "title": {
           "x": 0.05
          },
          "xaxis": {
           "automargin": true,
           "gridcolor": "white",
           "linecolor": "white",
           "ticks": "",
           "title": {
            "standoff": 15
           },
           "zerolinecolor": "white",
           "zerolinewidth": 2
          },
          "yaxis": {
           "automargin": true,
           "gridcolor": "white",
           "linecolor": "white",
           "ticks": "",
           "title": {
            "standoff": 15
           },
           "zerolinecolor": "white",
           "zerolinewidth": 2
          }
         }
        },
        "title": {
         "text": "Annual Medical Charges"
        },
        "xaxis": {
         "anchor": "y",
         "domain": [
          0,
          1
         ],
         "title": {
          "text": "charges"
         }
        },
        "xaxis2": {
         "anchor": "y2",
         "domain": [
          0,
          1
         ],
         "matches": "x",
         "showgrid": true,
         "showticklabels": false
        },
        "yaxis": {
         "anchor": "x",
         "domain": [
          0,
          0.7326
         ],
         "title": {
          "text": "count"
         }
        },
        "yaxis2": {
         "anchor": "x2",
         "domain": [
          0.7426,
          1
         ],
         "matches": "y2",
         "showgrid": false,
         "showline": false,
         "showticklabels": false,
         "ticks": ""
        }
       }
      }
     },
     "metadata": {},
     "output_type": "display_data"
    }
   ],
   "source": [
    "fig = px.histogram(\n",
    "    charges_df,\n",
    "    x='charges',\n",
    "    marginal='box',\n",
    "    color='smoker',\n",
    "    color_discrete_sequence=['green', 'grey'],\n",
    "    title='Annual Medical Charges'\n",
    ")\n",
    "fig.update_layout(bargap=0.1)\n"
   ]
  },
  {
   "cell_type": "markdown",
   "metadata": {},
   "source": [
    "Observation\n",
    "1. major customers' (and who are non-smoker) medical charges are under 10k. \n",
    "2. it seems for the customers with smoking habit charges are higher than 10k or maybe due to some illness \n",
    "   "
   ]
  },
  {
   "cell_type": "markdown",
   "metadata": {},
   "source": [
    "EXERCISE: Visualize the distribution of medical charges in connection with other factors like \"sex\" and \"region\". What do you observe?"
   ]
  },
  {
   "cell_type": "markdown",
   "metadata": {},
   "source": [
    "### Sex"
   ]
  },
  {
   "cell_type": "code",
   "execution_count": 79,
   "metadata": {},
   "outputs": [
    {
     "data": {
      "application/vnd.plotly.v1+json": {
       "config": {
        "plotlyServerURL": "https://plot.ly"
       },
       "data": [
        {
         "alignmentgroup": "True",
         "bingroup": "x",
         "hovertemplate": "sex=female<br>charges=%{x}<br>count=%{y}<extra></extra>",
         "legendgroup": "female",
         "marker": {
          "color": "pink",
          "pattern": {
           "shape": ""
          }
         },
         "name": "female",
         "offsetgroup": "female",
         "orientation": "v",
         "showlegend": true,
         "type": "histogram",
         "x": [
          41661.602,
          6500.2359,
          34439.8559,
          23244.7902,
          4562.8421,
          6414.178,
          5003.853,
          9095.06825,
          4151.0287,
          2404.7338,
          43943.8761,
          8232.6388,
          12235.8392,
          10806.839,
          29141.3603,
          6238.298,
          20167.33603,
          5325.651,
          28287.89766,
          11082.5772,
          19594.80965,
          10197.7722,
          12644.589,
          4185.0979,
          11436.73815,
          2719.27975,
          19749.38338,
          2913.569,
          9566.9909,
          15359.1045,
          7418.522,
          23045.56616,
          6334.34355,
          8551.347,
          2205.9808,
          10370.91255,
          12592.5345,
          5227.98875,
          4618.0799,
          11150.78,
          8219.2039,
          7325.0482,
          24520.264,
          18838.70366,
          2585.85065,
          3766.8838,
          28950.4692,
          8211.1002,
          34166.273,
          3385.39915,
          2974.126,
          3180.5101,
          6571.544,
          13224.05705,
          14901.5167,
          3392.3652,
          3044.2133,
          5272.1758,
          8556.907,
          6877.9801,
          7443.64305,
          17878.90068,
          5974.3847,
          9583.8933,
          37270.1512,
          13470.8044,
          24513.09126,
          7243.8136,
          44641.1974,
          4527.18295,
          3500.6123,
          2331.519,
          4134.08245,
          18804.7524,
          11454.0215,
          2464.6188,
          13462.52,
          7650.77375,
          10959.6947,
          2007.945,
          15230.32405,
          6474.013,
          24059.68019,
          7050.642,
          2473.3341,
          5354.07465,
          12495.29085,
          11305.93455,
          2130.6759,
          6551.7501,
          24227.33724,
          14133.03775,
          1629.8335,
          4931.647,
          5469.0066,
          7954.517,
          46113.511,
          7201.70085,
          2155.6815,
          19444.2658,
          2709.1119,
          13224.693,
          4830.63,
          11840.77505,
          5662.225,
          14001.2867,
          3208.787,
          28340.18885,
          2198.18985,
          39725.51805,
          6753.038,
          13430.265,
          13880.949,
          3947.4131,
          2730.10785,
          16069.08475,
          4922.9159,
          6112.35295,
          2200.83085,
          29186.48236,
          11881.9696,
          8283.6807,
          2741.948,
          4137.5227,
          8965.79575,
          21677.28345,
          48517.56315,
          40974.1649,
          3594.17085,
          14283.4594,
          3989.841,
          9877.6077,
          18765.87545,
          18328.2381,
          1607.5101,
          9541.69555,
          3056.3881,
          7144.86265,
          3238.4357,
          4337.7352,
          18033.9679,
          19023.26,
          22395.74424,
          12622.1795,
          12797.20962,
          42969.8527,
          5910.944,
          2690.1138,
          6373.55735,
          4889.0368,
          46661.4424,
          2899.48935,
          6313.759,
          4738.2682,
          11070.535,
          5972.378,
          22478.6,
          22331.5668,
          42983.4585,
          3925.7582,
          8023.13545,
          11837.16,
          5267.81815,
          2166.732,
          44400.4064,
          1875.344,
          19107.7796,
          2219.4451,
          3561.8889,
          11741.726,
          21771.3423,
          20234.85475,
          11729.6795,
          7228.21565,
          1744.465,
          46200.9851,
          9778.3472,
          14313.8463,
          2203.73595,
          12268.63225,
          8596.8278,
          4795.6568,
          7633.7206,
          26392.26029,
          13887.204,
          4906.40965,
          12224.35085,
          17496.306,
          3732.6251,
          4391.652,
          8671.19125,
          1633.9618,
          16455.70785,
          27533.9129,
          1880.07,
          13451.122,
          8547.6913,
          5594.8455,
          3227.1211,
          4949.7587,
          5385.3379,
          1731.677,
          13217.0945,
          36021.0112,
          10713.644,
          39983.42595,
          10704.47,
          11879.10405,
          27037.9141,
          9634.538,
          25081.76784,
          3554.203,
          24535.69855,
          4234.927,
          5240.765,
          4561.1885,
          2855.43755,
          7345.084,
          47928.03,
          28923.13692,
          18955.22017,
          10043.249,
          4349.462,
          11881.358,
          29523.1656,
          2457.21115,
          8233.0975,
          21348.706,
          9264.797,
          7358.17565,
          7624.63,
          5400.9805,
          4687.797,
          6933.24225,
          12643.3778,
          3756.6216,
          4340.4409,
          11299.343,
          4571.41305,
          19798.05455,
          17626.23951,
          7050.0213,
          4544.2348,
          26125.67477,
          12269.68865,
          10923.9332,
          9249.4952,
          5327.40025,
          63770.42801,
          14382.70905,
          2211.13075,
          4719.73655,
          5012.471,
          2709.24395,
          2597.779,
          1759.338,
          13725.47184,
          14426.07385,
          1748.774,
          1877.9294,
          3206.49135,
          8534.6718,
          9283.562,
          9182.17,
          14571.8908,
          32734.1863,
          4992.3764,
          12430.95335,
          24180.9335,
          27117.99378,
          15828.82173,
          2527.81865,
          39836.519,
          19521.9682,
          10338.9316,
          2136.88225,
          10977.2063,
          4357.04365,
          2257.47525,
          47896.79135,
          10579.711,
          2632.992,
          16085.1275,
          2842.76075,
          9872.701,
          12222.8983,
          5920.1041,
          7209.4918,
          14474.675,
          7639.41745,
          3736.4647,
          2128.43105,
          9861.025,
          2156.7518,
          2731.9122,
          7421.19455,
          3410.324,
          12629.8967,
          5630.45785,
          19144.57652,
          3171.6149,
          36149.4835,
          8310.83915,
          6496.886,
          8516.829,
          17748.5062,
          14254.6082,
          16796.41194,
          11842.62375,
          10106.13425,
          7623.518,
          5989.52365,
          12646.207,
          6775.961,
          5478.0368,
          2710.82855,
          9447.25035,
          13635.6379,
          3956.07145,
          3556.9223,
          2457.502,
          11085.5868,
          11090.7178,
          9411.005,
          8823.98575,
          40904.1995,
          11187.6567,
          3353.4703,
          11658.37915,
          6571.02435,
          8026.6666,
          7046.7222,
          31620.00106,
          12475.3513,
          12638.195,
          3943.5954,
          5846.9176,
          13616.3586,
          21659.9301,
          9549.5651,
          13019.16105,
          3981.9768,
          15612.19335,
          6184.2994,
          8930.93455,
          8240.5896,
          26018.95052,
          4347.02335,
          4149.736,
          8252.2843,
          9414.92,
          13887.9685,
          25656.57526,
          6781.3542,
          10381.4787,
          3213.62205,
          4133.64165,
          11658.11505,
          24915.04626,
          1622.1885,
          14711.7438,
          9875.6804,
          5152.134,
          1615.7667,
          12105.32,
          40932.4295,
          4466.6214,
          8527.532,
          5138.2567,
          37133.8982,
          14256.1928,
          22192.43711,
          12479.70895,
          2154.361,
          47291.055,
          2026.9741,
          42111.6647,
          5002.7827,
          7371.772,
          9866.30485,
          38792.6856,
          36397.576,
          14692.66935,
          10564.8845,
          11073.176,
          11482.63485,
          7133.9025,
          8932.084,
          24106.91255,
          11411.685,
          11842.442,
          12096.6512,
          6186.127,
          7731.85785,
          7640.3092,
          43578.9394,
          6185.3208,
          11674.13,
          13041.921,
          16657.71745,
          12032.326,
          14007.222,
          12485.8009,
          30942.1918,
          55135.40209,
          13457.9608,
          7935.29115,
          37701.8768,
          9432.9253,
          6770.1925,
          3972.9247,
          24873.3849,
          34838.873,
          23401.30575,
          8601.3293,
          3176.8159,
          12265.5069,
          16577.7795,
          3167.45585,
          14455.64405,
          7077.1894,
          2150.469,
          13228.84695,
          3366.6697,
          14001.1338,
          37079.372,
          4753.6368,
          7537.1639,
          11833.7823,
          14590.63205,
          38511.6283,
          33907.548,
          12244.531,
          13429.0354,
          7727.2532,
          20296.86345,
          6360.9936,
          58571.07448,
          7045.499,
          5266.3656,
          11455.28,
          23887.6627,
          36910.60803,
          20462.99766,
          8823.279,
          11286.5387,
          2020.5523,
          7985.815,
          7626.993,
          10702.6424,
          4564.19145,
          13844.7972,
          26236.57997,
          23288.9284,
          21344.8467,
          44423.803,
          7281.5056,
          8515.7587,
          13470.86,
          1737.376,
          8569.8618,
          3761.292,
          6686.4313,
          17929.30337,
          9991.03765,
          12815.44495,
          24667.419,
          10928.849,
          1743.214,
          2117.33885,
          2261.5688,
          1634.5734,
          8522.003,
          12231.6136,
          2201.0971,
          36580.28216,
          23065.4207,
          7151.092,
          6311.952,
          4934.705,
          5397.6167,
          25678.77845,
          24671.66334,
          11033.6617,
          2585.269,
          9800.8882,
          10118.424,
          2138.0707,
          16776.30405,
          8520.026,
          21774.32215,
          2134.9015,
          18218.16139,
          3161.454,
          9910.35985,
          46255.1125,
          3757.8448,
          8539.671,
          9715.841,
          13204.28565,
          5246.047,
          11396.9002,
          18903.49141,
          14451.83515,
          8269.044,
          7419.4779,
          1621.8827,
          4719.52405,
          12029.2867,
          3393.35635,
          11163.568,
          45863.205,
          1633.0444,
          8871.1517,
          8017.06115,
          12094.478,
          13607.36875,
          11093.6229
         ],
         "xaxis": "x",
         "yaxis": "y"
        },
        {
         "alignmentgroup": "True",
         "hovertemplate": "sex=female<br>charges=%{x}<extra></extra>",
         "legendgroup": "female",
         "marker": {
          "color": "pink"
         },
         "name": "female",
         "notched": true,
         "offsetgroup": "female",
         "showlegend": false,
         "type": "box",
         "x": [
          41661.602,
          6500.2359,
          34439.8559,
          23244.7902,
          4562.8421,
          6414.178,
          5003.853,
          9095.06825,
          4151.0287,
          2404.7338,
          43943.8761,
          8232.6388,
          12235.8392,
          10806.839,
          29141.3603,
          6238.298,
          20167.33603,
          5325.651,
          28287.89766,
          11082.5772,
          19594.80965,
          10197.7722,
          12644.589,
          4185.0979,
          11436.73815,
          2719.27975,
          19749.38338,
          2913.569,
          9566.9909,
          15359.1045,
          7418.522,
          23045.56616,
          6334.34355,
          8551.347,
          2205.9808,
          10370.91255,
          12592.5345,
          5227.98875,
          4618.0799,
          11150.78,
          8219.2039,
          7325.0482,
          24520.264,
          18838.70366,
          2585.85065,
          3766.8838,
          28950.4692,
          8211.1002,
          34166.273,
          3385.39915,
          2974.126,
          3180.5101,
          6571.544,
          13224.05705,
          14901.5167,
          3392.3652,
          3044.2133,
          5272.1758,
          8556.907,
          6877.9801,
          7443.64305,
          17878.90068,
          5974.3847,
          9583.8933,
          37270.1512,
          13470.8044,
          24513.09126,
          7243.8136,
          44641.1974,
          4527.18295,
          3500.6123,
          2331.519,
          4134.08245,
          18804.7524,
          11454.0215,
          2464.6188,
          13462.52,
          7650.77375,
          10959.6947,
          2007.945,
          15230.32405,
          6474.013,
          24059.68019,
          7050.642,
          2473.3341,
          5354.07465,
          12495.29085,
          11305.93455,
          2130.6759,
          6551.7501,
          24227.33724,
          14133.03775,
          1629.8335,
          4931.647,
          5469.0066,
          7954.517,
          46113.511,
          7201.70085,
          2155.6815,
          19444.2658,
          2709.1119,
          13224.693,
          4830.63,
          11840.77505,
          5662.225,
          14001.2867,
          3208.787,
          28340.18885,
          2198.18985,
          39725.51805,
          6753.038,
          13430.265,
          13880.949,
          3947.4131,
          2730.10785,
          16069.08475,
          4922.9159,
          6112.35295,
          2200.83085,
          29186.48236,
          11881.9696,
          8283.6807,
          2741.948,
          4137.5227,
          8965.79575,
          21677.28345,
          48517.56315,
          40974.1649,
          3594.17085,
          14283.4594,
          3989.841,
          9877.6077,
          18765.87545,
          18328.2381,
          1607.5101,
          9541.69555,
          3056.3881,
          7144.86265,
          3238.4357,
          4337.7352,
          18033.9679,
          19023.26,
          22395.74424,
          12622.1795,
          12797.20962,
          42969.8527,
          5910.944,
          2690.1138,
          6373.55735,
          4889.0368,
          46661.4424,
          2899.48935,
          6313.759,
          4738.2682,
          11070.535,
          5972.378,
          22478.6,
          22331.5668,
          42983.4585,
          3925.7582,
          8023.13545,
          11837.16,
          5267.81815,
          2166.732,
          44400.4064,
          1875.344,
          19107.7796,
          2219.4451,
          3561.8889,
          11741.726,
          21771.3423,
          20234.85475,
          11729.6795,
          7228.21565,
          1744.465,
          46200.9851,
          9778.3472,
          14313.8463,
          2203.73595,
          12268.63225,
          8596.8278,
          4795.6568,
          7633.7206,
          26392.26029,
          13887.204,
          4906.40965,
          12224.35085,
          17496.306,
          3732.6251,
          4391.652,
          8671.19125,
          1633.9618,
          16455.70785,
          27533.9129,
          1880.07,
          13451.122,
          8547.6913,
          5594.8455,
          3227.1211,
          4949.7587,
          5385.3379,
          1731.677,
          13217.0945,
          36021.0112,
          10713.644,
          39983.42595,
          10704.47,
          11879.10405,
          27037.9141,
          9634.538,
          25081.76784,
          3554.203,
          24535.69855,
          4234.927,
          5240.765,
          4561.1885,
          2855.43755,
          7345.084,
          47928.03,
          28923.13692,
          18955.22017,
          10043.249,
          4349.462,
          11881.358,
          29523.1656,
          2457.21115,
          8233.0975,
          21348.706,
          9264.797,
          7358.17565,
          7624.63,
          5400.9805,
          4687.797,
          6933.24225,
          12643.3778,
          3756.6216,
          4340.4409,
          11299.343,
          4571.41305,
          19798.05455,
          17626.23951,
          7050.0213,
          4544.2348,
          26125.67477,
          12269.68865,
          10923.9332,
          9249.4952,
          5327.40025,
          63770.42801,
          14382.70905,
          2211.13075,
          4719.73655,
          5012.471,
          2709.24395,
          2597.779,
          1759.338,
          13725.47184,
          14426.07385,
          1748.774,
          1877.9294,
          3206.49135,
          8534.6718,
          9283.562,
          9182.17,
          14571.8908,
          32734.1863,
          4992.3764,
          12430.95335,
          24180.9335,
          27117.99378,
          15828.82173,
          2527.81865,
          39836.519,
          19521.9682,
          10338.9316,
          2136.88225,
          10977.2063,
          4357.04365,
          2257.47525,
          47896.79135,
          10579.711,
          2632.992,
          16085.1275,
          2842.76075,
          9872.701,
          12222.8983,
          5920.1041,
          7209.4918,
          14474.675,
          7639.41745,
          3736.4647,
          2128.43105,
          9861.025,
          2156.7518,
          2731.9122,
          7421.19455,
          3410.324,
          12629.8967,
          5630.45785,
          19144.57652,
          3171.6149,
          36149.4835,
          8310.83915,
          6496.886,
          8516.829,
          17748.5062,
          14254.6082,
          16796.41194,
          11842.62375,
          10106.13425,
          7623.518,
          5989.52365,
          12646.207,
          6775.961,
          5478.0368,
          2710.82855,
          9447.25035,
          13635.6379,
          3956.07145,
          3556.9223,
          2457.502,
          11085.5868,
          11090.7178,
          9411.005,
          8823.98575,
          40904.1995,
          11187.6567,
          3353.4703,
          11658.37915,
          6571.02435,
          8026.6666,
          7046.7222,
          31620.00106,
          12475.3513,
          12638.195,
          3943.5954,
          5846.9176,
          13616.3586,
          21659.9301,
          9549.5651,
          13019.16105,
          3981.9768,
          15612.19335,
          6184.2994,
          8930.93455,
          8240.5896,
          26018.95052,
          4347.02335,
          4149.736,
          8252.2843,
          9414.92,
          13887.9685,
          25656.57526,
          6781.3542,
          10381.4787,
          3213.62205,
          4133.64165,
          11658.11505,
          24915.04626,
          1622.1885,
          14711.7438,
          9875.6804,
          5152.134,
          1615.7667,
          12105.32,
          40932.4295,
          4466.6214,
          8527.532,
          5138.2567,
          37133.8982,
          14256.1928,
          22192.43711,
          12479.70895,
          2154.361,
          47291.055,
          2026.9741,
          42111.6647,
          5002.7827,
          7371.772,
          9866.30485,
          38792.6856,
          36397.576,
          14692.66935,
          10564.8845,
          11073.176,
          11482.63485,
          7133.9025,
          8932.084,
          24106.91255,
          11411.685,
          11842.442,
          12096.6512,
          6186.127,
          7731.85785,
          7640.3092,
          43578.9394,
          6185.3208,
          11674.13,
          13041.921,
          16657.71745,
          12032.326,
          14007.222,
          12485.8009,
          30942.1918,
          55135.40209,
          13457.9608,
          7935.29115,
          37701.8768,
          9432.9253,
          6770.1925,
          3972.9247,
          24873.3849,
          34838.873,
          23401.30575,
          8601.3293,
          3176.8159,
          12265.5069,
          16577.7795,
          3167.45585,
          14455.64405,
          7077.1894,
          2150.469,
          13228.84695,
          3366.6697,
          14001.1338,
          37079.372,
          4753.6368,
          7537.1639,
          11833.7823,
          14590.63205,
          38511.6283,
          33907.548,
          12244.531,
          13429.0354,
          7727.2532,
          20296.86345,
          6360.9936,
          58571.07448,
          7045.499,
          5266.3656,
          11455.28,
          23887.6627,
          36910.60803,
          20462.99766,
          8823.279,
          11286.5387,
          2020.5523,
          7985.815,
          7626.993,
          10702.6424,
          4564.19145,
          13844.7972,
          26236.57997,
          23288.9284,
          21344.8467,
          44423.803,
          7281.5056,
          8515.7587,
          13470.86,
          1737.376,
          8569.8618,
          3761.292,
          6686.4313,
          17929.30337,
          9991.03765,
          12815.44495,
          24667.419,
          10928.849,
          1743.214,
          2117.33885,
          2261.5688,
          1634.5734,
          8522.003,
          12231.6136,
          2201.0971,
          36580.28216,
          23065.4207,
          7151.092,
          6311.952,
          4934.705,
          5397.6167,
          25678.77845,
          24671.66334,
          11033.6617,
          2585.269,
          9800.8882,
          10118.424,
          2138.0707,
          16776.30405,
          8520.026,
          21774.32215,
          2134.9015,
          18218.16139,
          3161.454,
          9910.35985,
          46255.1125,
          3757.8448,
          8539.671,
          9715.841,
          13204.28565,
          5246.047,
          11396.9002,
          18903.49141,
          14451.83515,
          8269.044,
          7419.4779,
          1621.8827,
          4719.52405,
          12029.2867,
          3393.35635,
          11163.568,
          45863.205,
          1633.0444,
          8871.1517,
          8017.06115,
          12094.478,
          13607.36875,
          11093.6229
         ],
         "xaxis": "x2",
         "yaxis": "y2"
        },
        {
         "alignmentgroup": "True",
         "bingroup": "x",
         "hovertemplate": "sex=male<br>charges=%{x}<br>count=%{y}<extra></extra>",
         "legendgroup": "male",
         "marker": {
          "color": "blue",
          "pattern": {
           "shape": ""
          }
         },
         "name": "male",
         "offsetgroup": "male",
         "orientation": "v",
         "showlegend": true,
         "type": "histogram",
         "x": [
          4661.28635,
          11576.13,
          7265.7025,
          2789.0574,
          2352.96845,
          20745.9891,
          6600.20595,
          15518.18025,
          34828.654,
          2904.088,
          48549.17835,
          17179.522,
          8083.9198,
          3490.5491,
          4058.71245,
          35069.37452,
          18972.495,
          1146.7966,
          1815.8759,
          2221.56445,
          7222.78625,
          5926.846,
          39125.33225,
          34303.1672,
          1708.0014,
          2254.7967,
          42856.838,
          8964.06055,
          10325.206,
          8428.0693,
          8027.968,
          3268.84665,
          40720.55105,
          43254.41795,
          11363.2832,
          14119.62,
          48673.5588,
          6435.6237,
          30259.99556,
          5261.46945,
          3471.4096,
          4762.329,
          7147.105,
          14349.8544,
          6748.5912,
          21082.16,
          12124.9924,
          1837.237,
          4877.98105,
          7261.741,
          19199.944,
          1704.70015,
          7160.3303,
          12146.971,
          2438.0552,
          1972.95,
          38282.7495,
          7147.4728,
          1674.6323,
          10065.413,
          3260.199,
          4894.7533,
          43921.1837,
          39722.7462,
          41949.2441,
          27941.28758,
          9964.06,
          4536.259,
          25382.297,
          8116.68,
          2699.56835,
          6059.173,
          11737.84884,
          1635.73365,
          2902.9065,
          8798.593,
          9140.951,
          20420.60465,
          8302.53565,
          6082.405,
          6455.86265,
          46151.1245,
          8444.474,
          36085.219,
          12949.1554,
          18246.4955,
          11945.1327,
          8410.04685,
          12333.828,
          1241.565,
          5488.262,
          1628.4709,
          11946.6259,
          1639.5631,
          18310.742,
          13981.85035,
          6653.7886,
          10577.087,
          4005.4225,
          8125.7845,
          9225.2564,
          8703.456,
          38245.59327,
          12829.4551,
          46130.5265,
          14358.36437,
          13405.3903,
          3693.428,
          10825.2537,
          16297.846,
          2304.0022,
          3481.868,
          43813.8661,
          17043.3414,
          9288.0267,
          12363.547,
          12523.6048,
          3704.3545,
          14478.33015,
          2362.22905,
          4837.5823,
          14410.9321,
          18259.216,
          5934.3798,
          21232.18226,
          25333.33284,
          48173.361,
          6849.026,
          36837.467,
          4518.82625,
          9869.8102,
          1727.54,
          11345.519,
          15555.18875,
          1253.936,
          6640.54485,
          7518.02535,
          5709.1644,
          12347.172,
          13822.803,
          7256.7231,
          19515.5416,
          13143.86485,
          2680.9493,
          4747.0529,
          38415.474,
          2566.4707,
          6600.361,
          40273.6455,
          1646.4297,
          10982.5013,
          4260.744,
          2497.0383,
          8442.667,
          33750.2918,
          8604.48365,
          6393.60345,
          1719.4363,
          10461.9794,
          14394.5579,
          6858.4796,
          1627.28245,
          3077.0955,
          9563.029,
          5615.369,
          43753.33705,
          5415.6612,
          18806.14547,
          22144.032,
          20277.80751,
          1906.35825,
          19673.33573,
          36189.1017,
          37829.7242,
          11743.299,
          1964.78,
          4435.0942,
          22218.1149,
          8347.1643,
          23306.547,
          1837.2819,
          41999.52,
          11326.71487,
          8413.46305,
          5125.2157,
          23563.01618,
          10422.91665,
          38709.176,
          13390.559,
          44501.3982,
          34472.841,
          39611.7577,
          41034.2214,
          11394.06555,
          5966.8874,
          4402.233,
          6079.6715,
          38344.566,
          1137.4697,
          17663.1442,
          18767.7377,
          20781.48892,
          2055.3249,
          13129.60345,
          12925.886,
          60021.39897,
          11381.3254,
          5253.524,
          8827.2099,
          62592.87309,
          4076.497,
          2727.3951,
          40103.89,
          32787.45859,
          11013.7119,
          3645.0894,
          23967.38305,
          9391.346,
          1639.5631,
          11884.04858,
          4846.92015,
          4463.2051,
          6389.37785,
          13937.6665,
          42124.5153,
          6746.7425,
          2322.6218,
          21595.38229,
          5584.3057,
          44202.6536,
          10736.87075,
          13143.33665,
          11520.09985,
          1625.43375,
          6282.235,
          11763.0009,
          1256.299,
          1702.4553,
          11938.25595,
          1969.614,
          5257.50795,
          1121.8739,
          5484.4673,
          14418.2804,
          10226.2842,
          10269.46,
          10594.2257,
          12913.9924,
          4746.344,
          32548.3405,
          5729.0053,
          6406.4107,
          13831.1152,
          3857.75925,
          36950.2567,
          8603.8234,
          1515.3449,
          10807.4863,
          8334.5896,
          4438.2634,
          10965.446,
          3906.127,
          8062.764,
          2643.2685,
          2523.1695,
          12557.6053,
          8068.185,
          30184.9367,
          11365.952,
          11554.2236,
          1136.3994,
          10601.63225,
          27724.28875,
          6664.68595,
          19442.3535,
          8944.1151,
          9282.4806,
          7740.337,
          52590.82939,
          2927.0647,
          8733.22925,
          13770.0979,
          18157.876,
          1769.53165,
          1725.5523,
          8605.3615,
          11165.41765,
          7526.70645,
          8457.818,
          6986.697,
          1621.3402,
          9386.1613,
          5209.57885,
          1842.519,
          24393.6224,
          42303.69215,
          4670.64,
          28468.91901,
          26926.5144,
          38126.2465,
          6875.961,
          20149.3229,
          8116.26885,
          21797.0004,
          18648.4217,
          6203.90175,
          12574.049,
          9788.8659,
          11356.6609,
          4074.4537,
          26467.09737,
          4686.3887,
          12979.358,
          46718.16325,
          1682.597,
          9504.3103,
          10231.4999,
          20630.28351,
          13555.0049,
          1705.6245,
          10085.846,
          20773.62775,
          37607.5277,
          2494.022,
          5377.4578,
          1708.92575,
          4504.6624,
          6985.50695,
          1826.843,
          7789.635,
          36124.5737,
          4889.9995,
          8334.45755,
          12142.5786,
          10976.24575,
          4239.89265,
          11931.12525,
          42112.2356,
          42211.1382,
          11272.33139,
          4428.88785,
          7729.64575,
          34779.615,
          8162.71625,
          24869.8368,
          4673.3922,
          44260.7499,
          6117.4945,
          17178.6824,
          41676.0811,
          1694.7964,
          20009.63365,
          8615.3,
          2416.955,
          23807.2406,
          45710.20785,
          28101.33305,
          10214.636,
          9361.3268,
          5031.26955,
          1252.407,
          4237.12655,
          16586.49771,
          3877.30425,
          12741.16745,
          21223.6758,
          45702.02235,
          25309.489,
          16232.847,
          10450.552,
          9863.4718,
          10264.4421,
          1391.5287,
          14210.53595,
          4058.1161,
          1163.4627,
          7160.094,
          1664.9996,
          10435.06525,
          2866.091,
          2302.3,
          11353.2276,
          5373.36425,
          48675.5177,
          10141.1362,
          6593.5083,
          7152.6714,
          6250.435,
          4243.59005,
          9222.4026,
          16138.76205,
          37465.34375,
          11253.421,
          10560.4917,
          10791.96,
          27218.43725,
          41919.097,
          3292.52985,
          5855.9025,
          3537.703,
          1832.094,
          3875.7341,
          2897.3235,
          28868.6639,
          30284.64294,
          1534.3045,
          23241.47453,
          1242.816,
          12981.3457,
          3277.161,
          9487.6442,
          12950.0712,
          21472.4788,
          2102.2647,
          3659.346,
          47496.49445,
          6940.90985,
          4320.41085,
          7441.053,
          3847.674,
          1532.4697,
          36197.699,
          19719.6947,
          1917.3184,
          1149.3959,
          17361.7661,
          38711,
          3070.8087,
          4667.60765,
          2534.39375,
          39774.2763,
          11743.9341,
          12957.118,
          11289.10925,
          10796.35025,
          24476.47851,
          6837.3687,
          19040.876,
          10600.5483,
          8124.4084,
          17904.52705,
          13112.6048,
          3935.1799,
          4646.759,
          20709.02034,
          37165.1638,
          23568.272,
          5757.41345,
          38746.3551,
          15161.5344,
          9748.9106,
          3597.596,
          8606.2174,
          1526.312,
          3443.064,
          14988.432,
          34806.4677,
          20984.0936,
          3309.7926,
          39241.442,
          4462.7218,
          22493.65964,
          12404.8791,
          33732.6867,
          9617.66245,
          5438.7491,
          12982.8747,
          6289.7549,
          4399.731,
          6338.0756,
          1981.5819,
          8968.33,
          1632.03625,
          9058.7303,
          18963.17192,
          34254.05335,
          5969.723,
          4040.55825,
          34617.84065,
          39047.285,
          11488.31695,
          5699.8375,
          44585.45587,
          36307.7983,
          7441.501,
          2498.4144,
          6123.5688,
          40182.246,
          35491.64,
          2639.0429,
          5080.096,
          6652.5288,
          9377.9047,
          1712.227,
          15170.069,
          2803.69785,
          12609.88702,
          32108.66282,
          36219.40545,
          5116.5004,
          3279.86855,
          35147.52848,
          11264.541,
          6198.7518,
          37742.5757,
          6610.1097,
          34672.1472,
          4433.3877,
          9304.7019,
          1131.5066,
          2867.1196,
          8688.85885,
          47462.894,
          2395.17155,
          1984.4533,
          7742.1098,
          15820.699,
          1711.0268,
          1909.52745,
          47055.5321,
          51194.55914,
          9500.57305,
          9722.7695,
          6799.458,
          9144.565,
          27000.98473,
          1980.07,
          7731.4271,
          10959.33,
          10601.412,
          37484.4493,
          5979.731,
          47403.88,
          13974.45555,
          13747.87235,
          1135.9407,
          46889.2612,
          16450.8947,
          9957.7216,
          1704.5681,
          4751.07,
          7445.918,
          39871.7043,
          2721.3208,
          7196.867,
          6710.1919,
          7512.267,
          7804.1605,
          33475.81715,
          17352.6803,
          6948.7008,
          10407.08585
         ],
         "xaxis": "x",
         "yaxis": "y"
        },
        {
         "alignmentgroup": "True",
         "hovertemplate": "sex=male<br>charges=%{x}<extra></extra>",
         "legendgroup": "male",
         "marker": {
          "color": "blue"
         },
         "name": "male",
         "notched": true,
         "offsetgroup": "male",
         "showlegend": false,
         "type": "box",
         "x": [
          4661.28635,
          11576.13,
          7265.7025,
          2789.0574,
          2352.96845,
          20745.9891,
          6600.20595,
          15518.18025,
          34828.654,
          2904.088,
          48549.17835,
          17179.522,
          8083.9198,
          3490.5491,
          4058.71245,
          35069.37452,
          18972.495,
          1146.7966,
          1815.8759,
          2221.56445,
          7222.78625,
          5926.846,
          39125.33225,
          34303.1672,
          1708.0014,
          2254.7967,
          42856.838,
          8964.06055,
          10325.206,
          8428.0693,
          8027.968,
          3268.84665,
          40720.55105,
          43254.41795,
          11363.2832,
          14119.62,
          48673.5588,
          6435.6237,
          30259.99556,
          5261.46945,
          3471.4096,
          4762.329,
          7147.105,
          14349.8544,
          6748.5912,
          21082.16,
          12124.9924,
          1837.237,
          4877.98105,
          7261.741,
          19199.944,
          1704.70015,
          7160.3303,
          12146.971,
          2438.0552,
          1972.95,
          38282.7495,
          7147.4728,
          1674.6323,
          10065.413,
          3260.199,
          4894.7533,
          43921.1837,
          39722.7462,
          41949.2441,
          27941.28758,
          9964.06,
          4536.259,
          25382.297,
          8116.68,
          2699.56835,
          6059.173,
          11737.84884,
          1635.73365,
          2902.9065,
          8798.593,
          9140.951,
          20420.60465,
          8302.53565,
          6082.405,
          6455.86265,
          46151.1245,
          8444.474,
          36085.219,
          12949.1554,
          18246.4955,
          11945.1327,
          8410.04685,
          12333.828,
          1241.565,
          5488.262,
          1628.4709,
          11946.6259,
          1639.5631,
          18310.742,
          13981.85035,
          6653.7886,
          10577.087,
          4005.4225,
          8125.7845,
          9225.2564,
          8703.456,
          38245.59327,
          12829.4551,
          46130.5265,
          14358.36437,
          13405.3903,
          3693.428,
          10825.2537,
          16297.846,
          2304.0022,
          3481.868,
          43813.8661,
          17043.3414,
          9288.0267,
          12363.547,
          12523.6048,
          3704.3545,
          14478.33015,
          2362.22905,
          4837.5823,
          14410.9321,
          18259.216,
          5934.3798,
          21232.18226,
          25333.33284,
          48173.361,
          6849.026,
          36837.467,
          4518.82625,
          9869.8102,
          1727.54,
          11345.519,
          15555.18875,
          1253.936,
          6640.54485,
          7518.02535,
          5709.1644,
          12347.172,
          13822.803,
          7256.7231,
          19515.5416,
          13143.86485,
          2680.9493,
          4747.0529,
          38415.474,
          2566.4707,
          6600.361,
          40273.6455,
          1646.4297,
          10982.5013,
          4260.744,
          2497.0383,
          8442.667,
          33750.2918,
          8604.48365,
          6393.60345,
          1719.4363,
          10461.9794,
          14394.5579,
          6858.4796,
          1627.28245,
          3077.0955,
          9563.029,
          5615.369,
          43753.33705,
          5415.6612,
          18806.14547,
          22144.032,
          20277.80751,
          1906.35825,
          19673.33573,
          36189.1017,
          37829.7242,
          11743.299,
          1964.78,
          4435.0942,
          22218.1149,
          8347.1643,
          23306.547,
          1837.2819,
          41999.52,
          11326.71487,
          8413.46305,
          5125.2157,
          23563.01618,
          10422.91665,
          38709.176,
          13390.559,
          44501.3982,
          34472.841,
          39611.7577,
          41034.2214,
          11394.06555,
          5966.8874,
          4402.233,
          6079.6715,
          38344.566,
          1137.4697,
          17663.1442,
          18767.7377,
          20781.48892,
          2055.3249,
          13129.60345,
          12925.886,
          60021.39897,
          11381.3254,
          5253.524,
          8827.2099,
          62592.87309,
          4076.497,
          2727.3951,
          40103.89,
          32787.45859,
          11013.7119,
          3645.0894,
          23967.38305,
          9391.346,
          1639.5631,
          11884.04858,
          4846.92015,
          4463.2051,
          6389.37785,
          13937.6665,
          42124.5153,
          6746.7425,
          2322.6218,
          21595.38229,
          5584.3057,
          44202.6536,
          10736.87075,
          13143.33665,
          11520.09985,
          1625.43375,
          6282.235,
          11763.0009,
          1256.299,
          1702.4553,
          11938.25595,
          1969.614,
          5257.50795,
          1121.8739,
          5484.4673,
          14418.2804,
          10226.2842,
          10269.46,
          10594.2257,
          12913.9924,
          4746.344,
          32548.3405,
          5729.0053,
          6406.4107,
          13831.1152,
          3857.75925,
          36950.2567,
          8603.8234,
          1515.3449,
          10807.4863,
          8334.5896,
          4438.2634,
          10965.446,
          3906.127,
          8062.764,
          2643.2685,
          2523.1695,
          12557.6053,
          8068.185,
          30184.9367,
          11365.952,
          11554.2236,
          1136.3994,
          10601.63225,
          27724.28875,
          6664.68595,
          19442.3535,
          8944.1151,
          9282.4806,
          7740.337,
          52590.82939,
          2927.0647,
          8733.22925,
          13770.0979,
          18157.876,
          1769.53165,
          1725.5523,
          8605.3615,
          11165.41765,
          7526.70645,
          8457.818,
          6986.697,
          1621.3402,
          9386.1613,
          5209.57885,
          1842.519,
          24393.6224,
          42303.69215,
          4670.64,
          28468.91901,
          26926.5144,
          38126.2465,
          6875.961,
          20149.3229,
          8116.26885,
          21797.0004,
          18648.4217,
          6203.90175,
          12574.049,
          9788.8659,
          11356.6609,
          4074.4537,
          26467.09737,
          4686.3887,
          12979.358,
          46718.16325,
          1682.597,
          9504.3103,
          10231.4999,
          20630.28351,
          13555.0049,
          1705.6245,
          10085.846,
          20773.62775,
          37607.5277,
          2494.022,
          5377.4578,
          1708.92575,
          4504.6624,
          6985.50695,
          1826.843,
          7789.635,
          36124.5737,
          4889.9995,
          8334.45755,
          12142.5786,
          10976.24575,
          4239.89265,
          11931.12525,
          42112.2356,
          42211.1382,
          11272.33139,
          4428.88785,
          7729.64575,
          34779.615,
          8162.71625,
          24869.8368,
          4673.3922,
          44260.7499,
          6117.4945,
          17178.6824,
          41676.0811,
          1694.7964,
          20009.63365,
          8615.3,
          2416.955,
          23807.2406,
          45710.20785,
          28101.33305,
          10214.636,
          9361.3268,
          5031.26955,
          1252.407,
          4237.12655,
          16586.49771,
          3877.30425,
          12741.16745,
          21223.6758,
          45702.02235,
          25309.489,
          16232.847,
          10450.552,
          9863.4718,
          10264.4421,
          1391.5287,
          14210.53595,
          4058.1161,
          1163.4627,
          7160.094,
          1664.9996,
          10435.06525,
          2866.091,
          2302.3,
          11353.2276,
          5373.36425,
          48675.5177,
          10141.1362,
          6593.5083,
          7152.6714,
          6250.435,
          4243.59005,
          9222.4026,
          16138.76205,
          37465.34375,
          11253.421,
          10560.4917,
          10791.96,
          27218.43725,
          41919.097,
          3292.52985,
          5855.9025,
          3537.703,
          1832.094,
          3875.7341,
          2897.3235,
          28868.6639,
          30284.64294,
          1534.3045,
          23241.47453,
          1242.816,
          12981.3457,
          3277.161,
          9487.6442,
          12950.0712,
          21472.4788,
          2102.2647,
          3659.346,
          47496.49445,
          6940.90985,
          4320.41085,
          7441.053,
          3847.674,
          1532.4697,
          36197.699,
          19719.6947,
          1917.3184,
          1149.3959,
          17361.7661,
          38711,
          3070.8087,
          4667.60765,
          2534.39375,
          39774.2763,
          11743.9341,
          12957.118,
          11289.10925,
          10796.35025,
          24476.47851,
          6837.3687,
          19040.876,
          10600.5483,
          8124.4084,
          17904.52705,
          13112.6048,
          3935.1799,
          4646.759,
          20709.02034,
          37165.1638,
          23568.272,
          5757.41345,
          38746.3551,
          15161.5344,
          9748.9106,
          3597.596,
          8606.2174,
          1526.312,
          3443.064,
          14988.432,
          34806.4677,
          20984.0936,
          3309.7926,
          39241.442,
          4462.7218,
          22493.65964,
          12404.8791,
          33732.6867,
          9617.66245,
          5438.7491,
          12982.8747,
          6289.7549,
          4399.731,
          6338.0756,
          1981.5819,
          8968.33,
          1632.03625,
          9058.7303,
          18963.17192,
          34254.05335,
          5969.723,
          4040.55825,
          34617.84065,
          39047.285,
          11488.31695,
          5699.8375,
          44585.45587,
          36307.7983,
          7441.501,
          2498.4144,
          6123.5688,
          40182.246,
          35491.64,
          2639.0429,
          5080.096,
          6652.5288,
          9377.9047,
          1712.227,
          15170.069,
          2803.69785,
          12609.88702,
          32108.66282,
          36219.40545,
          5116.5004,
          3279.86855,
          35147.52848,
          11264.541,
          6198.7518,
          37742.5757,
          6610.1097,
          34672.1472,
          4433.3877,
          9304.7019,
          1131.5066,
          2867.1196,
          8688.85885,
          47462.894,
          2395.17155,
          1984.4533,
          7742.1098,
          15820.699,
          1711.0268,
          1909.52745,
          47055.5321,
          51194.55914,
          9500.57305,
          9722.7695,
          6799.458,
          9144.565,
          27000.98473,
          1980.07,
          7731.4271,
          10959.33,
          10601.412,
          37484.4493,
          5979.731,
          47403.88,
          13974.45555,
          13747.87235,
          1135.9407,
          46889.2612,
          16450.8947,
          9957.7216,
          1704.5681,
          4751.07,
          7445.918,
          39871.7043,
          2721.3208,
          7196.867,
          6710.1919,
          7512.267,
          7804.1605,
          33475.81715,
          17352.6803,
          6948.7008,
          10407.08585
         ],
         "xaxis": "x2",
         "yaxis": "y2"
        }
       ],
       "layout": {
        "bargap": 0.1,
        "barmode": "relative",
        "legend": {
         "title": {
          "text": "sex"
         },
         "tracegroupgap": 0
        },
        "template": {
         "data": {
          "bar": [
           {
            "error_x": {
             "color": "#2a3f5f"
            },
            "error_y": {
             "color": "#2a3f5f"
            },
            "marker": {
             "line": {
              "color": "#E5ECF6",
              "width": 0.5
             },
             "pattern": {
              "fillmode": "overlay",
              "size": 10,
              "solidity": 0.2
             }
            },
            "type": "bar"
           }
          ],
          "barpolar": [
           {
            "marker": {
             "line": {
              "color": "#E5ECF6",
              "width": 0.5
             },
             "pattern": {
              "fillmode": "overlay",
              "size": 10,
              "solidity": 0.2
             }
            },
            "type": "barpolar"
           }
          ],
          "carpet": [
           {
            "aaxis": {
             "endlinecolor": "#2a3f5f",
             "gridcolor": "white",
             "linecolor": "white",
             "minorgridcolor": "white",
             "startlinecolor": "#2a3f5f"
            },
            "baxis": {
             "endlinecolor": "#2a3f5f",
             "gridcolor": "white",
             "linecolor": "white",
             "minorgridcolor": "white",
             "startlinecolor": "#2a3f5f"
            },
            "type": "carpet"
           }
          ],
          "choropleth": [
           {
            "colorbar": {
             "outlinewidth": 0,
             "ticks": ""
            },
            "type": "choropleth"
           }
          ],
          "contour": [
           {
            "colorbar": {
             "outlinewidth": 0,
             "ticks": ""
            },
            "colorscale": [
             [
              0,
              "#0d0887"
             ],
             [
              0.1111111111111111,
              "#46039f"
             ],
             [
              0.2222222222222222,
              "#7201a8"
             ],
             [
              0.3333333333333333,
              "#9c179e"
             ],
             [
              0.4444444444444444,
              "#bd3786"
             ],
             [
              0.5555555555555556,
              "#d8576b"
             ],
             [
              0.6666666666666666,
              "#ed7953"
             ],
             [
              0.7777777777777778,
              "#fb9f3a"
             ],
             [
              0.8888888888888888,
              "#fdca26"
             ],
             [
              1,
              "#f0f921"
             ]
            ],
            "type": "contour"
           }
          ],
          "contourcarpet": [
           {
            "colorbar": {
             "outlinewidth": 0,
             "ticks": ""
            },
            "type": "contourcarpet"
           }
          ],
          "heatmap": [
           {
            "colorbar": {
             "outlinewidth": 0,
             "ticks": ""
            },
            "colorscale": [
             [
              0,
              "#0d0887"
             ],
             [
              0.1111111111111111,
              "#46039f"
             ],
             [
              0.2222222222222222,
              "#7201a8"
             ],
             [
              0.3333333333333333,
              "#9c179e"
             ],
             [
              0.4444444444444444,
              "#bd3786"
             ],
             [
              0.5555555555555556,
              "#d8576b"
             ],
             [
              0.6666666666666666,
              "#ed7953"
             ],
             [
              0.7777777777777778,
              "#fb9f3a"
             ],
             [
              0.8888888888888888,
              "#fdca26"
             ],
             [
              1,
              "#f0f921"
             ]
            ],
            "type": "heatmap"
           }
          ],
          "heatmapgl": [
           {
            "colorbar": {
             "outlinewidth": 0,
             "ticks": ""
            },
            "colorscale": [
             [
              0,
              "#0d0887"
             ],
             [
              0.1111111111111111,
              "#46039f"
             ],
             [
              0.2222222222222222,
              "#7201a8"
             ],
             [
              0.3333333333333333,
              "#9c179e"
             ],
             [
              0.4444444444444444,
              "#bd3786"
             ],
             [
              0.5555555555555556,
              "#d8576b"
             ],
             [
              0.6666666666666666,
              "#ed7953"
             ],
             [
              0.7777777777777778,
              "#fb9f3a"
             ],
             [
              0.8888888888888888,
              "#fdca26"
             ],
             [
              1,
              "#f0f921"
             ]
            ],
            "type": "heatmapgl"
           }
          ],
          "histogram": [
           {
            "marker": {
             "pattern": {
              "fillmode": "overlay",
              "size": 10,
              "solidity": 0.2
             }
            },
            "type": "histogram"
           }
          ],
          "histogram2d": [
           {
            "colorbar": {
             "outlinewidth": 0,
             "ticks": ""
            },
            "colorscale": [
             [
              0,
              "#0d0887"
             ],
             [
              0.1111111111111111,
              "#46039f"
             ],
             [
              0.2222222222222222,
              "#7201a8"
             ],
             [
              0.3333333333333333,
              "#9c179e"
             ],
             [
              0.4444444444444444,
              "#bd3786"
             ],
             [
              0.5555555555555556,
              "#d8576b"
             ],
             [
              0.6666666666666666,
              "#ed7953"
             ],
             [
              0.7777777777777778,
              "#fb9f3a"
             ],
             [
              0.8888888888888888,
              "#fdca26"
             ],
             [
              1,
              "#f0f921"
             ]
            ],
            "type": "histogram2d"
           }
          ],
          "histogram2dcontour": [
           {
            "colorbar": {
             "outlinewidth": 0,
             "ticks": ""
            },
            "colorscale": [
             [
              0,
              "#0d0887"
             ],
             [
              0.1111111111111111,
              "#46039f"
             ],
             [
              0.2222222222222222,
              "#7201a8"
             ],
             [
              0.3333333333333333,
              "#9c179e"
             ],
             [
              0.4444444444444444,
              "#bd3786"
             ],
             [
              0.5555555555555556,
              "#d8576b"
             ],
             [
              0.6666666666666666,
              "#ed7953"
             ],
             [
              0.7777777777777778,
              "#fb9f3a"
             ],
             [
              0.8888888888888888,
              "#fdca26"
             ],
             [
              1,
              "#f0f921"
             ]
            ],
            "type": "histogram2dcontour"
           }
          ],
          "mesh3d": [
           {
            "colorbar": {
             "outlinewidth": 0,
             "ticks": ""
            },
            "type": "mesh3d"
           }
          ],
          "parcoords": [
           {
            "line": {
             "colorbar": {
              "outlinewidth": 0,
              "ticks": ""
             }
            },
            "type": "parcoords"
           }
          ],
          "pie": [
           {
            "automargin": true,
            "type": "pie"
           }
          ],
          "scatter": [
           {
            "fillpattern": {
             "fillmode": "overlay",
             "size": 10,
             "solidity": 0.2
            },
            "type": "scatter"
           }
          ],
          "scatter3d": [
           {
            "line": {
             "colorbar": {
              "outlinewidth": 0,
              "ticks": ""
             }
            },
            "marker": {
             "colorbar": {
              "outlinewidth": 0,
              "ticks": ""
             }
            },
            "type": "scatter3d"
           }
          ],
          "scattercarpet": [
           {
            "marker": {
             "colorbar": {
              "outlinewidth": 0,
              "ticks": ""
             }
            },
            "type": "scattercarpet"
           }
          ],
          "scattergeo": [
           {
            "marker": {
             "colorbar": {
              "outlinewidth": 0,
              "ticks": ""
             }
            },
            "type": "scattergeo"
           }
          ],
          "scattergl": [
           {
            "marker": {
             "colorbar": {
              "outlinewidth": 0,
              "ticks": ""
             }
            },
            "type": "scattergl"
           }
          ],
          "scattermapbox": [
           {
            "marker": {
             "colorbar": {
              "outlinewidth": 0,
              "ticks": ""
             }
            },
            "type": "scattermapbox"
           }
          ],
          "scatterpolar": [
           {
            "marker": {
             "colorbar": {
              "outlinewidth": 0,
              "ticks": ""
             }
            },
            "type": "scatterpolar"
           }
          ],
          "scatterpolargl": [
           {
            "marker": {
             "colorbar": {
              "outlinewidth": 0,
              "ticks": ""
             }
            },
            "type": "scatterpolargl"
           }
          ],
          "scatterternary": [
           {
            "marker": {
             "colorbar": {
              "outlinewidth": 0,
              "ticks": ""
             }
            },
            "type": "scatterternary"
           }
          ],
          "surface": [
           {
            "colorbar": {
             "outlinewidth": 0,
             "ticks": ""
            },
            "colorscale": [
             [
              0,
              "#0d0887"
             ],
             [
              0.1111111111111111,
              "#46039f"
             ],
             [
              0.2222222222222222,
              "#7201a8"
             ],
             [
              0.3333333333333333,
              "#9c179e"
             ],
             [
              0.4444444444444444,
              "#bd3786"
             ],
             [
              0.5555555555555556,
              "#d8576b"
             ],
             [
              0.6666666666666666,
              "#ed7953"
             ],
             [
              0.7777777777777778,
              "#fb9f3a"
             ],
             [
              0.8888888888888888,
              "#fdca26"
             ],
             [
              1,
              "#f0f921"
             ]
            ],
            "type": "surface"
           }
          ],
          "table": [
           {
            "cells": {
             "fill": {
              "color": "#EBF0F8"
             },
             "line": {
              "color": "white"
             }
            },
            "header": {
             "fill": {
              "color": "#C8D4E3"
             },
             "line": {
              "color": "white"
             }
            },
            "type": "table"
           }
          ]
         },
         "layout": {
          "annotationdefaults": {
           "arrowcolor": "#2a3f5f",
           "arrowhead": 0,
           "arrowwidth": 1
          },
          "autotypenumbers": "strict",
          "coloraxis": {
           "colorbar": {
            "outlinewidth": 0,
            "ticks": ""
           }
          },
          "colorscale": {
           "diverging": [
            [
             0,
             "#8e0152"
            ],
            [
             0.1,
             "#c51b7d"
            ],
            [
             0.2,
             "#de77ae"
            ],
            [
             0.3,
             "#f1b6da"
            ],
            [
             0.4,
             "#fde0ef"
            ],
            [
             0.5,
             "#f7f7f7"
            ],
            [
             0.6,
             "#e6f5d0"
            ],
            [
             0.7,
             "#b8e186"
            ],
            [
             0.8,
             "#7fbc41"
            ],
            [
             0.9,
             "#4d9221"
            ],
            [
             1,
             "#276419"
            ]
           ],
           "sequential": [
            [
             0,
             "#0d0887"
            ],
            [
             0.1111111111111111,
             "#46039f"
            ],
            [
             0.2222222222222222,
             "#7201a8"
            ],
            [
             0.3333333333333333,
             "#9c179e"
            ],
            [
             0.4444444444444444,
             "#bd3786"
            ],
            [
             0.5555555555555556,
             "#d8576b"
            ],
            [
             0.6666666666666666,
             "#ed7953"
            ],
            [
             0.7777777777777778,
             "#fb9f3a"
            ],
            [
             0.8888888888888888,
             "#fdca26"
            ],
            [
             1,
             "#f0f921"
            ]
           ],
           "sequentialminus": [
            [
             0,
             "#0d0887"
            ],
            [
             0.1111111111111111,
             "#46039f"
            ],
            [
             0.2222222222222222,
             "#7201a8"
            ],
            [
             0.3333333333333333,
             "#9c179e"
            ],
            [
             0.4444444444444444,
             "#bd3786"
            ],
            [
             0.5555555555555556,
             "#d8576b"
            ],
            [
             0.6666666666666666,
             "#ed7953"
            ],
            [
             0.7777777777777778,
             "#fb9f3a"
            ],
            [
             0.8888888888888888,
             "#fdca26"
            ],
            [
             1,
             "#f0f921"
            ]
           ]
          },
          "colorway": [
           "#636efa",
           "#EF553B",
           "#00cc96",
           "#ab63fa",
           "#FFA15A",
           "#19d3f3",
           "#FF6692",
           "#B6E880",
           "#FF97FF",
           "#FECB52"
          ],
          "font": {
           "color": "#2a3f5f"
          },
          "geo": {
           "bgcolor": "white",
           "lakecolor": "white",
           "landcolor": "#E5ECF6",
           "showlakes": true,
           "showland": true,
           "subunitcolor": "white"
          },
          "hoverlabel": {
           "align": "left"
          },
          "hovermode": "closest",
          "mapbox": {
           "style": "light"
          },
          "paper_bgcolor": "white",
          "plot_bgcolor": "#E5ECF6",
          "polar": {
           "angularaxis": {
            "gridcolor": "white",
            "linecolor": "white",
            "ticks": ""
           },
           "bgcolor": "#E5ECF6",
           "radialaxis": {
            "gridcolor": "white",
            "linecolor": "white",
            "ticks": ""
           }
          },
          "scene": {
           "xaxis": {
            "backgroundcolor": "#E5ECF6",
            "gridcolor": "white",
            "gridwidth": 2,
            "linecolor": "white",
            "showbackground": true,
            "ticks": "",
            "zerolinecolor": "white"
           },
           "yaxis": {
            "backgroundcolor": "#E5ECF6",
            "gridcolor": "white",
            "gridwidth": 2,
            "linecolor": "white",
            "showbackground": true,
            "ticks": "",
            "zerolinecolor": "white"
           },
           "zaxis": {
            "backgroundcolor": "#E5ECF6",
            "gridcolor": "white",
            "gridwidth": 2,
            "linecolor": "white",
            "showbackground": true,
            "ticks": "",
            "zerolinecolor": "white"
           }
          },
          "shapedefaults": {
           "line": {
            "color": "#2a3f5f"
           }
          },
          "ternary": {
           "aaxis": {
            "gridcolor": "white",
            "linecolor": "white",
            "ticks": ""
           },
           "baxis": {
            "gridcolor": "white",
            "linecolor": "white",
            "ticks": ""
           },
           "bgcolor": "#E5ECF6",
           "caxis": {
            "gridcolor": "white",
            "linecolor": "white",
            "ticks": ""
           }
          },
          "title": {
           "x": 0.05
          },
          "xaxis": {
           "automargin": true,
           "gridcolor": "white",
           "linecolor": "white",
           "ticks": "",
           "title": {
            "standoff": 15
           },
           "zerolinecolor": "white",
           "zerolinewidth": 2
          },
          "yaxis": {
           "automargin": true,
           "gridcolor": "white",
           "linecolor": "white",
           "ticks": "",
           "title": {
            "standoff": 15
           },
           "zerolinecolor": "white",
           "zerolinewidth": 2
          }
         }
        },
        "title": {
         "text": "Annual Medical Charges"
        },
        "xaxis": {
         "anchor": "y",
         "domain": [
          0,
          1
         ],
         "title": {
          "text": "charges"
         }
        },
        "xaxis2": {
         "anchor": "y2",
         "domain": [
          0,
          1
         ],
         "matches": "x",
         "showgrid": true,
         "showticklabels": false
        },
        "yaxis": {
         "anchor": "x",
         "domain": [
          0,
          0.7326
         ],
         "title": {
          "text": "count"
         }
        },
        "yaxis2": {
         "anchor": "x2",
         "domain": [
          0.7426,
          1
         ],
         "matches": "y2",
         "showgrid": false,
         "showline": false,
         "showticklabels": false,
         "ticks": ""
        }
       }
      }
     },
     "metadata": {},
     "output_type": "display_data"
    }
   ],
   "source": [
    "charges_df= pd.DataFrame(y_train, columns=['charges'])\n",
    "charges_df['sex'] = X_train.sex\n",
    "\n",
    "fig = px.histogram(\n",
    "    charges_df,\n",
    "    x='charges',\n",
    "    marginal='box',\n",
    "    color='sex',\n",
    "    color_discrete_sequence=[ 'pink','blue'],\n",
    "    title='Annual Medical Charges'\n",
    ")\n",
    "fig.update_layout(bargap=0.1)"
   ]
  },
  {
   "cell_type": "markdown",
   "metadata": {},
   "source": [
    "Observations\n",
    "1. Males charges are higher than female\n",
    "2. still males and famles' median charges are near to each other"
   ]
  },
  {
   "cell_type": "markdown",
   "metadata": {},
   "source": [
    "### Region"
   ]
  },
  {
   "cell_type": "code",
   "execution_count": 80,
   "metadata": {},
   "outputs": [
    {
     "data": {
      "application/vnd.plotly.v1+json": {
       "config": {
        "plotlyServerURL": "https://plot.ly"
       },
       "data": [
        {
         "alignmentgroup": "True",
         "bingroup": "x",
         "hovertemplate": "region=southwest<br>charges=%{x}<br>count=%{y}<extra></extra>",
         "legendgroup": "southwest",
         "marker": {
          "color": "green",
          "pattern": {
           "shape": ""
          }
         },
         "name": "southwest",
         "offsetgroup": "southwest",
         "orientation": "v",
         "showlegend": true,
         "type": "histogram",
         "x": [
          41661.602,
          11576.13,
          6414.178,
          5003.853,
          34828.654,
          10806.839,
          2904.088,
          6238.298,
          20167.33603,
          5325.651,
          12644.589,
          5926.846,
          42856.838,
          2913.569,
          10325.206,
          7418.522,
          8027.968,
          8551.347,
          11150.78,
          4762.329,
          7147.105,
          24520.264,
          21082.16,
          1837.237,
          34166.273,
          19199.944,
          12146.971,
          2974.126,
          1972.95,
          6571.544,
          10065.413,
          3260.199,
          27941.28758,
          4536.259,
          25382.297,
          8116.68,
          6059.173,
          8556.907,
          11737.84884,
          8798.593,
          20420.60465,
          6082.405,
          8444.474,
          36085.219,
          12333.828,
          2331.519,
          1241.565,
          5488.262,
          13462.52,
          10577.087,
          2007.945,
          8703.456,
          6474.013,
          14358.36437,
          3693.428,
          7050.642,
          16297.846,
          12363.547,
          4931.647,
          18259.216,
          21232.18226,
          7954.517,
          48173.361,
          46113.511,
          6849.026,
          36837.467,
          11345.519,
          1253.936,
          13224.693,
          4830.63,
          12347.172,
          13822.803,
          3208.787,
          13880.949,
          38415.474,
          6600.361,
          4260.744,
          3989.841,
          9563.029,
          5615.369,
          22144.032,
          19023.26,
          37829.7242,
          1964.78,
          5910.944,
          23306.547,
          11070.535,
          5972.378,
          22478.6,
          11837.16,
          13390.559,
          34472.841,
          2166.732,
          1875.344,
          11741.726,
          4402.233,
          1744.465,
          38344.566,
          5253.524,
          4076.497,
          40103.89,
          17496.306,
          9391.346,
          4391.652,
          13451.122,
          6282.235,
          1256.299,
          1731.677,
          10713.644,
          10704.47,
          1969.614,
          9634.538,
          3554.203,
          4234.927,
          4746.344,
          5240.765,
          7345.084,
          47928.03,
          18955.22017,
          10965.446,
          11881.358,
          3906.127,
          8062.764,
          8068.185,
          9264.797,
          7624.63,
          4687.797,
          11365.952,
          11299.343,
          7740.337,
          52590.82939,
          5012.471,
          2597.779,
          1759.338,
          1748.774,
          9182.17,
          8457.818,
          15828.82173,
          39836.519,
          1842.519,
          2632.992,
          9872.701,
          4670.64,
          6875.961,
          9861.025,
          21797.0004,
          12574.049,
          3410.324,
          6496.886,
          12979.358,
          1682.597,
          20630.28351,
          7623.518,
          12646.207,
          6775.961,
          10085.846,
          2494.022,
          2457.502,
          1826.843,
          12638.195,
          34779.615,
          8615.3,
          2416.955,
          4149.736,
          9414.92,
          10214.636,
          1252.407,
          25309.489,
          16232.847,
          10450.552,
          7160.094,
          2866.091,
          5152.134,
          2302.3,
          12105.32,
          6250.435,
          2154.361,
          11253.421,
          47291.055,
          10791.96,
          7371.772,
          36397.576,
          11073.176,
          8932.084,
          11411.685,
          1832.094,
          11842.442,
          6186.127,
          11674.13,
          1242.816,
          13041.921,
          3277.161,
          12032.326,
          14007.222,
          3659.346,
          7441.053,
          3847.674,
          36197.699,
          38711,
          34838.873,
          12957.118,
          19040.876,
          2150.469,
          4646.759,
          23568.272,
          37079.372,
          3597.596,
          1526.312,
          3443.064,
          14988.432,
          7045.499,
          11455.28,
          36910.60803,
          8823.279,
          7626.993,
          39241.442,
          26236.57997,
          13470.86,
          1737.376,
          3761.292,
          8968.33,
          5969.723,
          44585.45587,
          7441.501,
          1743.214,
          40182.246,
          35491.64,
          5080.096,
          15170.069,
          8522.003,
          7151.092,
          6311.952,
          4934.705,
          11264.541,
          2585.269,
          10118.424,
          8520.026,
          15820.699,
          3161.454,
          51194.55914,
          8539.671,
          9144.565,
          1980.07,
          10959.33,
          10601.412,
          5246.047,
          8269.044,
          5979.731,
          47403.88,
          11163.568,
          4751.07,
          7445.918,
          7196.867,
          7512.267,
          12094.478
         ],
         "xaxis": "x",
         "yaxis": "y"
        },
        {
         "alignmentgroup": "True",
         "hovertemplate": "region=southwest<br>charges=%{x}<extra></extra>",
         "legendgroup": "southwest",
         "marker": {
          "color": "green"
         },
         "name": "southwest",
         "notched": true,
         "offsetgroup": "southwest",
         "showlegend": false,
         "type": "box",
         "x": [
          41661.602,
          11576.13,
          6414.178,
          5003.853,
          34828.654,
          10806.839,
          2904.088,
          6238.298,
          20167.33603,
          5325.651,
          12644.589,
          5926.846,
          42856.838,
          2913.569,
          10325.206,
          7418.522,
          8027.968,
          8551.347,
          11150.78,
          4762.329,
          7147.105,
          24520.264,
          21082.16,
          1837.237,
          34166.273,
          19199.944,
          12146.971,
          2974.126,
          1972.95,
          6571.544,
          10065.413,
          3260.199,
          27941.28758,
          4536.259,
          25382.297,
          8116.68,
          6059.173,
          8556.907,
          11737.84884,
          8798.593,
          20420.60465,
          6082.405,
          8444.474,
          36085.219,
          12333.828,
          2331.519,
          1241.565,
          5488.262,
          13462.52,
          10577.087,
          2007.945,
          8703.456,
          6474.013,
          14358.36437,
          3693.428,
          7050.642,
          16297.846,
          12363.547,
          4931.647,
          18259.216,
          21232.18226,
          7954.517,
          48173.361,
          46113.511,
          6849.026,
          36837.467,
          11345.519,
          1253.936,
          13224.693,
          4830.63,
          12347.172,
          13822.803,
          3208.787,
          13880.949,
          38415.474,
          6600.361,
          4260.744,
          3989.841,
          9563.029,
          5615.369,
          22144.032,
          19023.26,
          37829.7242,
          1964.78,
          5910.944,
          23306.547,
          11070.535,
          5972.378,
          22478.6,
          11837.16,
          13390.559,
          34472.841,
          2166.732,
          1875.344,
          11741.726,
          4402.233,
          1744.465,
          38344.566,
          5253.524,
          4076.497,
          40103.89,
          17496.306,
          9391.346,
          4391.652,
          13451.122,
          6282.235,
          1256.299,
          1731.677,
          10713.644,
          10704.47,
          1969.614,
          9634.538,
          3554.203,
          4234.927,
          4746.344,
          5240.765,
          7345.084,
          47928.03,
          18955.22017,
          10965.446,
          11881.358,
          3906.127,
          8062.764,
          8068.185,
          9264.797,
          7624.63,
          4687.797,
          11365.952,
          11299.343,
          7740.337,
          52590.82939,
          5012.471,
          2597.779,
          1759.338,
          1748.774,
          9182.17,
          8457.818,
          15828.82173,
          39836.519,
          1842.519,
          2632.992,
          9872.701,
          4670.64,
          6875.961,
          9861.025,
          21797.0004,
          12574.049,
          3410.324,
          6496.886,
          12979.358,
          1682.597,
          20630.28351,
          7623.518,
          12646.207,
          6775.961,
          10085.846,
          2494.022,
          2457.502,
          1826.843,
          12638.195,
          34779.615,
          8615.3,
          2416.955,
          4149.736,
          9414.92,
          10214.636,
          1252.407,
          25309.489,
          16232.847,
          10450.552,
          7160.094,
          2866.091,
          5152.134,
          2302.3,
          12105.32,
          6250.435,
          2154.361,
          11253.421,
          47291.055,
          10791.96,
          7371.772,
          36397.576,
          11073.176,
          8932.084,
          11411.685,
          1832.094,
          11842.442,
          6186.127,
          11674.13,
          1242.816,
          13041.921,
          3277.161,
          12032.326,
          14007.222,
          3659.346,
          7441.053,
          3847.674,
          36197.699,
          38711,
          34838.873,
          12957.118,
          19040.876,
          2150.469,
          4646.759,
          23568.272,
          37079.372,
          3597.596,
          1526.312,
          3443.064,
          14988.432,
          7045.499,
          11455.28,
          36910.60803,
          8823.279,
          7626.993,
          39241.442,
          26236.57997,
          13470.86,
          1737.376,
          3761.292,
          8968.33,
          5969.723,
          44585.45587,
          7441.501,
          1743.214,
          40182.246,
          35491.64,
          5080.096,
          15170.069,
          8522.003,
          7151.092,
          6311.952,
          4934.705,
          11264.541,
          2585.269,
          10118.424,
          8520.026,
          15820.699,
          3161.454,
          51194.55914,
          8539.671,
          9144.565,
          1980.07,
          10959.33,
          10601.412,
          5246.047,
          8269.044,
          5979.731,
          47403.88,
          11163.568,
          4751.07,
          7445.918,
          7196.867,
          7512.267,
          12094.478
         ],
         "xaxis": "x2",
         "yaxis": "y2"
        },
        {
         "alignmentgroup": "True",
         "bingroup": "x",
         "hovertemplate": "region=southeast<br>charges=%{x}<br>count=%{y}<extra></extra>",
         "legendgroup": "southeast",
         "marker": {
          "color": "grey",
          "pattern": {
           "shape": ""
          }
         },
         "name": "southeast",
         "offsetgroup": "southeast",
         "orientation": "v",
         "showlegend": true,
         "type": "histogram",
         "x": [
          6500.2359,
          34439.8559,
          23244.7902,
          4562.8421,
          4151.0287,
          8232.6388,
          17179.522,
          28287.89766,
          8083.9198,
          18972.495,
          1146.7966,
          1815.8759,
          4185.0979,
          34303.1672,
          19749.38338,
          11363.2832,
          12592.5345,
          48673.5588,
          6435.6237,
          8219.2039,
          3471.4096,
          3766.8838,
          8211.1002,
          7160.3303,
          2438.0552,
          3180.5101,
          38282.7495,
          7147.4728,
          1674.6323,
          3392.3652,
          39722.7462,
          41949.2441,
          2902.9065,
          5974.3847,
          9140.951,
          13470.8044,
          24513.09126,
          46151.1245,
          7243.8136,
          12949.1554,
          18246.4955,
          3500.6123,
          2464.6188,
          11946.6259,
          6653.7886,
          8125.7845,
          38245.59327,
          13405.3903,
          2473.3341,
          2304.0022,
          43813.8661,
          17043.3414,
          3704.3545,
          14478.33015,
          4837.5823,
          24227.33724,
          14133.03775,
          1629.8335,
          5934.3798,
          1727.54,
          2155.6815,
          19444.2658,
          5709.1644,
          5662.225,
          14001.2867,
          19515.5416,
          3947.4131,
          4747.0529,
          2566.4707,
          11881.9696,
          40273.6455,
          10982.5013,
          2497.0383,
          8283.6807,
          8442.667,
          1719.4363,
          40974.1649,
          9877.6077,
          18328.2381,
          5415.6612,
          1607.5101,
          18806.14547,
          3056.3881,
          3238.4357,
          11743.299,
          22218.1149,
          42969.8527,
          8347.1643,
          1837.2819,
          41999.52,
          11326.71487,
          4889.0368,
          6313.759,
          23563.01618,
          38709.176,
          44501.3982,
          44400.4064,
          39611.7577,
          19107.7796,
          2219.4451,
          5966.8874,
          3561.8889,
          46200.9851,
          1137.4697,
          17663.1442,
          18767.7377,
          20781.48892,
          12925.886,
          14313.8463,
          11381.3254,
          62592.87309,
          8596.8278,
          4795.6568,
          7633.7206,
          13887.204,
          11013.7119,
          11884.04858,
          4463.2051,
          42124.5153,
          1633.9618,
          27533.9129,
          1880.07,
          2322.6218,
          5584.3057,
          8547.6913,
          44202.6536,
          3227.1211,
          4949.7587,
          36021.0112,
          27037.9141,
          1121.8739,
          5484.4673,
          14418.2804,
          10226.2842,
          25081.76784,
          10594.2257,
          32548.3405,
          13831.1152,
          36950.2567,
          1515.3449,
          10807.4863,
          4349.462,
          8233.0975,
          12557.6053,
          5400.9805,
          11554.2236,
          1136.3994,
          3756.6216,
          4340.4409,
          27724.28875,
          17626.23951,
          8944.1151,
          26125.67477,
          2927.0647,
          63770.42801,
          1877.9294,
          1725.5523,
          8605.3615,
          9283.562,
          24180.9335,
          27117.99378,
          9386.1613,
          19521.9682,
          10338.9316,
          10977.2063,
          10579.711,
          16085.1275,
          5920.1041,
          26926.5144,
          38126.2465,
          14474.675,
          9788.8659,
          2156.7518,
          12629.8967,
          4074.4537,
          3171.6149,
          36149.4835,
          4686.3887,
          8516.829,
          9504.3103,
          5478.0368,
          11090.7178,
          4504.6624,
          7789.635,
          36124.5737,
          4889.9995,
          7046.7222,
          12142.5786,
          5846.9176,
          42112.2356,
          42211.1382,
          9549.5651,
          3981.9768,
          6184.2994,
          8240.5896,
          4673.3922,
          44260.7499,
          41676.0811,
          13887.9685,
          16586.49771,
          21223.6758,
          6781.3542,
          10381.4787,
          1391.5287,
          4058.1161,
          1163.4627,
          1664.9996,
          1622.1885,
          1615.7667,
          48675.5177,
          40932.4295,
          8527.532,
          6593.5083,
          7152.6714,
          5138.2567,
          37133.8982,
          22192.43711,
          2026.9741,
          10560.4917,
          5002.7827,
          38792.6856,
          11482.63485,
          3875.7341,
          7640.3092,
          6185.3208,
          1534.3045,
          12981.3457,
          9487.6442,
          12485.8009,
          30942.1918,
          13457.9608,
          1532.4697,
          19719.6947,
          1149.3959,
          6770.1925,
          3972.9247,
          8601.3293,
          12265.5069,
          16577.7795,
          8124.4084,
          3366.6697,
          14001.1338,
          3935.1799,
          37165.1638,
          4753.6368,
          11833.7823,
          15161.5344,
          12244.531,
          9748.9106,
          34806.4677,
          20462.99766,
          2020.5523,
          10702.6424,
          5438.7491,
          44423.803,
          12982.8747,
          6289.7549,
          8515.7587,
          4399.731,
          6338.0756,
          1981.5819,
          8569.8618,
          17929.30337,
          9058.7303,
          18963.17192,
          5699.8375,
          24667.419,
          36307.7983,
          2498.4144,
          10928.849,
          6652.5288,
          9377.9047,
          1634.5734,
          2201.0971,
          36580.28216,
          23065.4207,
          5397.6167,
          37742.5757,
          9800.8882,
          34672.1472,
          9304.7019,
          1131.5066,
          2867.1196,
          18218.16139,
          47462.894,
          7742.1098,
          1711.0268,
          47055.5321,
          3757.8448,
          27000.98473,
          7731.4271,
          37484.4493,
          1621.8827,
          1135.9407,
          46889.2612,
          45863.205,
          1633.0444,
          39871.7043,
          8871.1517,
          7804.1605,
          11093.6229
         ],
         "xaxis": "x",
         "yaxis": "y"
        },
        {
         "alignmentgroup": "True",
         "hovertemplate": "region=southeast<br>charges=%{x}<extra></extra>",
         "legendgroup": "southeast",
         "marker": {
          "color": "grey"
         },
         "name": "southeast",
         "notched": true,
         "offsetgroup": "southeast",
         "showlegend": false,
         "type": "box",
         "x": [
          6500.2359,
          34439.8559,
          23244.7902,
          4562.8421,
          4151.0287,
          8232.6388,
          17179.522,
          28287.89766,
          8083.9198,
          18972.495,
          1146.7966,
          1815.8759,
          4185.0979,
          34303.1672,
          19749.38338,
          11363.2832,
          12592.5345,
          48673.5588,
          6435.6237,
          8219.2039,
          3471.4096,
          3766.8838,
          8211.1002,
          7160.3303,
          2438.0552,
          3180.5101,
          38282.7495,
          7147.4728,
          1674.6323,
          3392.3652,
          39722.7462,
          41949.2441,
          2902.9065,
          5974.3847,
          9140.951,
          13470.8044,
          24513.09126,
          46151.1245,
          7243.8136,
          12949.1554,
          18246.4955,
          3500.6123,
          2464.6188,
          11946.6259,
          6653.7886,
          8125.7845,
          38245.59327,
          13405.3903,
          2473.3341,
          2304.0022,
          43813.8661,
          17043.3414,
          3704.3545,
          14478.33015,
          4837.5823,
          24227.33724,
          14133.03775,
          1629.8335,
          5934.3798,
          1727.54,
          2155.6815,
          19444.2658,
          5709.1644,
          5662.225,
          14001.2867,
          19515.5416,
          3947.4131,
          4747.0529,
          2566.4707,
          11881.9696,
          40273.6455,
          10982.5013,
          2497.0383,
          8283.6807,
          8442.667,
          1719.4363,
          40974.1649,
          9877.6077,
          18328.2381,
          5415.6612,
          1607.5101,
          18806.14547,
          3056.3881,
          3238.4357,
          11743.299,
          22218.1149,
          42969.8527,
          8347.1643,
          1837.2819,
          41999.52,
          11326.71487,
          4889.0368,
          6313.759,
          23563.01618,
          38709.176,
          44501.3982,
          44400.4064,
          39611.7577,
          19107.7796,
          2219.4451,
          5966.8874,
          3561.8889,
          46200.9851,
          1137.4697,
          17663.1442,
          18767.7377,
          20781.48892,
          12925.886,
          14313.8463,
          11381.3254,
          62592.87309,
          8596.8278,
          4795.6568,
          7633.7206,
          13887.204,
          11013.7119,
          11884.04858,
          4463.2051,
          42124.5153,
          1633.9618,
          27533.9129,
          1880.07,
          2322.6218,
          5584.3057,
          8547.6913,
          44202.6536,
          3227.1211,
          4949.7587,
          36021.0112,
          27037.9141,
          1121.8739,
          5484.4673,
          14418.2804,
          10226.2842,
          25081.76784,
          10594.2257,
          32548.3405,
          13831.1152,
          36950.2567,
          1515.3449,
          10807.4863,
          4349.462,
          8233.0975,
          12557.6053,
          5400.9805,
          11554.2236,
          1136.3994,
          3756.6216,
          4340.4409,
          27724.28875,
          17626.23951,
          8944.1151,
          26125.67477,
          2927.0647,
          63770.42801,
          1877.9294,
          1725.5523,
          8605.3615,
          9283.562,
          24180.9335,
          27117.99378,
          9386.1613,
          19521.9682,
          10338.9316,
          10977.2063,
          10579.711,
          16085.1275,
          5920.1041,
          26926.5144,
          38126.2465,
          14474.675,
          9788.8659,
          2156.7518,
          12629.8967,
          4074.4537,
          3171.6149,
          36149.4835,
          4686.3887,
          8516.829,
          9504.3103,
          5478.0368,
          11090.7178,
          4504.6624,
          7789.635,
          36124.5737,
          4889.9995,
          7046.7222,
          12142.5786,
          5846.9176,
          42112.2356,
          42211.1382,
          9549.5651,
          3981.9768,
          6184.2994,
          8240.5896,
          4673.3922,
          44260.7499,
          41676.0811,
          13887.9685,
          16586.49771,
          21223.6758,
          6781.3542,
          10381.4787,
          1391.5287,
          4058.1161,
          1163.4627,
          1664.9996,
          1622.1885,
          1615.7667,
          48675.5177,
          40932.4295,
          8527.532,
          6593.5083,
          7152.6714,
          5138.2567,
          37133.8982,
          22192.43711,
          2026.9741,
          10560.4917,
          5002.7827,
          38792.6856,
          11482.63485,
          3875.7341,
          7640.3092,
          6185.3208,
          1534.3045,
          12981.3457,
          9487.6442,
          12485.8009,
          30942.1918,
          13457.9608,
          1532.4697,
          19719.6947,
          1149.3959,
          6770.1925,
          3972.9247,
          8601.3293,
          12265.5069,
          16577.7795,
          8124.4084,
          3366.6697,
          14001.1338,
          3935.1799,
          37165.1638,
          4753.6368,
          11833.7823,
          15161.5344,
          12244.531,
          9748.9106,
          34806.4677,
          20462.99766,
          2020.5523,
          10702.6424,
          5438.7491,
          44423.803,
          12982.8747,
          6289.7549,
          8515.7587,
          4399.731,
          6338.0756,
          1981.5819,
          8569.8618,
          17929.30337,
          9058.7303,
          18963.17192,
          5699.8375,
          24667.419,
          36307.7983,
          2498.4144,
          10928.849,
          6652.5288,
          9377.9047,
          1634.5734,
          2201.0971,
          36580.28216,
          23065.4207,
          5397.6167,
          37742.5757,
          9800.8882,
          34672.1472,
          9304.7019,
          1131.5066,
          2867.1196,
          18218.16139,
          47462.894,
          7742.1098,
          1711.0268,
          47055.5321,
          3757.8448,
          27000.98473,
          7731.4271,
          37484.4493,
          1621.8827,
          1135.9407,
          46889.2612,
          45863.205,
          1633.0444,
          39871.7043,
          8871.1517,
          7804.1605,
          11093.6229
         ],
         "xaxis": "x2",
         "yaxis": "y2"
        },
        {
         "alignmentgroup": "True",
         "bingroup": "x",
         "hovertemplate": "region=northeast<br>charges=%{x}<br>count=%{y}<extra></extra>",
         "legendgroup": "northeast",
         "marker": {
          "color": "pink",
          "pattern": {
           "shape": ""
          }
         },
         "name": "northeast",
         "offsetgroup": "northeast",
         "orientation": "v",
         "showlegend": true,
         "type": "histogram",
         "x": [
          4661.28635,
          9095.06825,
          6600.20595,
          15518.18025,
          48549.17835,
          19594.80965,
          3490.5491,
          10197.7722,
          35069.37452,
          39125.33225,
          1708.0014,
          2254.7967,
          8964.06055,
          15359.1045,
          23045.56616,
          6334.34355,
          3268.84665,
          2205.9808,
          10370.91255,
          43254.41795,
          5227.98875,
          30259.99556,
          7325.0482,
          2585.85065,
          6748.5912,
          3385.39915,
          1704.70015,
          13224.05705,
          14901.5167,
          3044.2133,
          9964.06,
          6877.9801,
          17878.90068,
          37270.1512,
          8302.53565,
          44641.1974,
          13981.85035,
          7650.77375,
          4005.4225,
          15230.32405,
          9225.2564,
          12829.4551,
          3481.868,
          9288.0267,
          5354.07465,
          14410.9321,
          6551.7501,
          5469.0066,
          25333.33284,
          4518.82625,
          6640.54485,
          2198.18985,
          6753.038,
          13430.265,
          13143.86485,
          16069.08475,
          2200.83085,
          29186.48236,
          2741.948,
          4137.5227,
          8604.48365,
          48517.56315,
          14394.5579,
          6858.4796,
          14283.4594,
          43753.33705,
          9541.69555,
          7144.86265,
          4337.7352,
          20277.80751,
          36189.1017,
          22395.74424,
          12797.20962,
          4435.0942,
          2899.48935,
          22331.5668,
          10422.91665,
          3925.7582,
          41034.2214,
          11394.06555,
          21771.3423,
          6079.6715,
          11729.6795,
          7228.21565,
          9778.3472,
          13129.60345,
          2203.73595,
          2727.3951,
          26392.26029,
          3645.0894,
          3732.6251,
          4846.92015,
          6746.7425,
          10736.87075,
          13143.33665,
          5594.8455,
          11763.0009,
          13217.0945,
          1702.4553,
          11938.25595,
          11879.10405,
          12913.9924,
          4561.1885,
          6406.4107,
          3857.75925,
          8603.8234,
          10043.249,
          8334.5896,
          4438.2634,
          29523.1656,
          2457.21115,
          7358.17565,
          30184.9367,
          19798.05455,
          7050.0213,
          9282.4806,
          4544.2348,
          10923.9332,
          2211.13075,
          13725.47184,
          3206.49135,
          8534.6718,
          11165.41765,
          14571.8908,
          4992.3764,
          12430.95335,
          5209.57885,
          47896.79135,
          42303.69215,
          7639.41745,
          20149.3229,
          18648.4217,
          2731.9122,
          19144.57652,
          16796.41194,
          10106.13425,
          13555.0049,
          1705.6245,
          9447.25035,
          20773.62775,
          37607.5277,
          13635.6379,
          1708.92575,
          9411.005,
          8823.98575,
          40904.1995,
          6985.50695,
          11658.37915,
          8334.45755,
          31620.00106,
          3943.5954,
          11931.12525,
          13616.3586,
          11272.33139,
          21659.9301,
          4428.88785,
          13019.16105,
          7729.64575,
          24869.8368,
          17178.6824,
          1694.7964,
          4347.02335,
          45710.20785,
          8252.2843,
          28101.33305,
          9361.3268,
          5031.26955,
          4237.12655,
          25656.57526,
          12741.16745,
          3213.62205,
          11658.11505,
          24915.04626,
          10435.06525,
          9875.6804,
          10141.1362,
          9222.4026,
          16138.76205,
          42111.6647,
          9866.30485,
          10564.8845,
          27218.43725,
          41919.097,
          7133.9025,
          24106.91255,
          12096.6512,
          2897.3235,
          23241.47453,
          16657.71745,
          2102.2647,
          7935.29115,
          37701.8768,
          9432.9253,
          3070.8087,
          4667.60765,
          24873.3849,
          39774.2763,
          23401.30575,
          10796.35025,
          6837.3687,
          3167.45585,
          14455.64405,
          17904.52705,
          7077.1894,
          13228.84695,
          20709.02034,
          5757.41345,
          14590.63205,
          38511.6283,
          8606.2174,
          20296.86345,
          20984.0936,
          58571.07448,
          3309.7926,
          11286.5387,
          7985.815,
          4564.19145,
          12404.8791,
          33732.6867,
          9617.66245,
          23288.9284,
          21344.8467,
          34254.05335,
          4040.55825,
          34617.84065,
          39047.285,
          11488.31695,
          12815.44495,
          1712.227,
          32108.66282,
          3279.86855,
          35147.52848,
          24671.66334,
          6610.1097,
          16776.30405,
          8688.85885,
          2395.17155,
          1984.4533,
          46255.1125,
          9500.57305,
          9722.7695,
          6799.458,
          9715.841,
          13204.28565,
          11396.9002,
          18903.49141,
          14451.83515,
          4719.52405,
          13974.45555,
          13747.87235,
          12029.2867,
          3393.35635,
          9957.7216,
          1704.5681,
          2721.3208,
          33475.81715,
          10407.08585,
          13607.36875
         ],
         "xaxis": "x",
         "yaxis": "y"
        },
        {
         "alignmentgroup": "True",
         "hovertemplate": "region=northeast<br>charges=%{x}<extra></extra>",
         "legendgroup": "northeast",
         "marker": {
          "color": "pink"
         },
         "name": "northeast",
         "notched": true,
         "offsetgroup": "northeast",
         "showlegend": false,
         "type": "box",
         "x": [
          4661.28635,
          9095.06825,
          6600.20595,
          15518.18025,
          48549.17835,
          19594.80965,
          3490.5491,
          10197.7722,
          35069.37452,
          39125.33225,
          1708.0014,
          2254.7967,
          8964.06055,
          15359.1045,
          23045.56616,
          6334.34355,
          3268.84665,
          2205.9808,
          10370.91255,
          43254.41795,
          5227.98875,
          30259.99556,
          7325.0482,
          2585.85065,
          6748.5912,
          3385.39915,
          1704.70015,
          13224.05705,
          14901.5167,
          3044.2133,
          9964.06,
          6877.9801,
          17878.90068,
          37270.1512,
          8302.53565,
          44641.1974,
          13981.85035,
          7650.77375,
          4005.4225,
          15230.32405,
          9225.2564,
          12829.4551,
          3481.868,
          9288.0267,
          5354.07465,
          14410.9321,
          6551.7501,
          5469.0066,
          25333.33284,
          4518.82625,
          6640.54485,
          2198.18985,
          6753.038,
          13430.265,
          13143.86485,
          16069.08475,
          2200.83085,
          29186.48236,
          2741.948,
          4137.5227,
          8604.48365,
          48517.56315,
          14394.5579,
          6858.4796,
          14283.4594,
          43753.33705,
          9541.69555,
          7144.86265,
          4337.7352,
          20277.80751,
          36189.1017,
          22395.74424,
          12797.20962,
          4435.0942,
          2899.48935,
          22331.5668,
          10422.91665,
          3925.7582,
          41034.2214,
          11394.06555,
          21771.3423,
          6079.6715,
          11729.6795,
          7228.21565,
          9778.3472,
          13129.60345,
          2203.73595,
          2727.3951,
          26392.26029,
          3645.0894,
          3732.6251,
          4846.92015,
          6746.7425,
          10736.87075,
          13143.33665,
          5594.8455,
          11763.0009,
          13217.0945,
          1702.4553,
          11938.25595,
          11879.10405,
          12913.9924,
          4561.1885,
          6406.4107,
          3857.75925,
          8603.8234,
          10043.249,
          8334.5896,
          4438.2634,
          29523.1656,
          2457.21115,
          7358.17565,
          30184.9367,
          19798.05455,
          7050.0213,
          9282.4806,
          4544.2348,
          10923.9332,
          2211.13075,
          13725.47184,
          3206.49135,
          8534.6718,
          11165.41765,
          14571.8908,
          4992.3764,
          12430.95335,
          5209.57885,
          47896.79135,
          42303.69215,
          7639.41745,
          20149.3229,
          18648.4217,
          2731.9122,
          19144.57652,
          16796.41194,
          10106.13425,
          13555.0049,
          1705.6245,
          9447.25035,
          20773.62775,
          37607.5277,
          13635.6379,
          1708.92575,
          9411.005,
          8823.98575,
          40904.1995,
          6985.50695,
          11658.37915,
          8334.45755,
          31620.00106,
          3943.5954,
          11931.12525,
          13616.3586,
          11272.33139,
          21659.9301,
          4428.88785,
          13019.16105,
          7729.64575,
          24869.8368,
          17178.6824,
          1694.7964,
          4347.02335,
          45710.20785,
          8252.2843,
          28101.33305,
          9361.3268,
          5031.26955,
          4237.12655,
          25656.57526,
          12741.16745,
          3213.62205,
          11658.11505,
          24915.04626,
          10435.06525,
          9875.6804,
          10141.1362,
          9222.4026,
          16138.76205,
          42111.6647,
          9866.30485,
          10564.8845,
          27218.43725,
          41919.097,
          7133.9025,
          24106.91255,
          12096.6512,
          2897.3235,
          23241.47453,
          16657.71745,
          2102.2647,
          7935.29115,
          37701.8768,
          9432.9253,
          3070.8087,
          4667.60765,
          24873.3849,
          39774.2763,
          23401.30575,
          10796.35025,
          6837.3687,
          3167.45585,
          14455.64405,
          17904.52705,
          7077.1894,
          13228.84695,
          20709.02034,
          5757.41345,
          14590.63205,
          38511.6283,
          8606.2174,
          20296.86345,
          20984.0936,
          58571.07448,
          3309.7926,
          11286.5387,
          7985.815,
          4564.19145,
          12404.8791,
          33732.6867,
          9617.66245,
          23288.9284,
          21344.8467,
          34254.05335,
          4040.55825,
          34617.84065,
          39047.285,
          11488.31695,
          12815.44495,
          1712.227,
          32108.66282,
          3279.86855,
          35147.52848,
          24671.66334,
          6610.1097,
          16776.30405,
          8688.85885,
          2395.17155,
          1984.4533,
          46255.1125,
          9500.57305,
          9722.7695,
          6799.458,
          9715.841,
          13204.28565,
          11396.9002,
          18903.49141,
          14451.83515,
          4719.52405,
          13974.45555,
          13747.87235,
          12029.2867,
          3393.35635,
          9957.7216,
          1704.5681,
          2721.3208,
          33475.81715,
          10407.08585,
          13607.36875
         ],
         "xaxis": "x2",
         "yaxis": "y2"
        },
        {
         "alignmentgroup": "True",
         "bingroup": "x",
         "hovertemplate": "region=northwest<br>charges=%{x}<br>count=%{y}<extra></extra>",
         "legendgroup": "northwest",
         "marker": {
          "color": "orange",
          "pattern": {
           "shape": ""
          }
         },
         "name": "northwest",
         "offsetgroup": "northwest",
         "orientation": "v",
         "showlegend": true,
         "type": "histogram",
         "x": [
          7265.7025,
          2789.0574,
          2352.96845,
          20745.9891,
          2404.7338,
          43943.8761,
          12235.8392,
          29141.3603,
          11082.5772,
          4058.71245,
          2221.56445,
          7222.78625,
          11436.73815,
          2719.27975,
          9566.9909,
          8428.0693,
          40720.55105,
          14119.62,
          4618.0799,
          5261.46945,
          14349.8544,
          18838.70366,
          28950.4692,
          12124.9924,
          4877.98105,
          7261.741,
          4894.7533,
          43921.1837,
          5272.1758,
          2699.56835,
          7443.64305,
          1635.73365,
          9583.8933,
          6455.86265,
          4527.18295,
          11945.1327,
          8410.04685,
          4134.08245,
          18804.7524,
          11454.0215,
          1628.4709,
          1639.5631,
          18310.742,
          10959.6947,
          46130.5265,
          24059.68019,
          10825.2537,
          12495.29085,
          12523.6048,
          11305.93455,
          2362.22905,
          2130.6759,
          9869.8102,
          15555.18875,
          7201.70085,
          2709.1119,
          11840.77505,
          7518.02535,
          28340.18885,
          39725.51805,
          7256.7231,
          2680.9493,
          2730.10785,
          4922.9159,
          6112.35295,
          1646.4297,
          8965.79575,
          33750.2918,
          21677.28345,
          6393.60345,
          10461.9794,
          1627.28245,
          3594.17085,
          3077.0955,
          18765.87545,
          1906.35825,
          19673.33573,
          18033.9679,
          12622.1795,
          2690.1138,
          6373.55735,
          46661.4424,
          8413.46305,
          4738.2682,
          42983.4585,
          5125.2157,
          8023.13545,
          5267.81815,
          20234.85475,
          2055.3249,
          60021.39897,
          8827.2099,
          12268.63225,
          32787.45859,
          4906.40965,
          12224.35085,
          23967.38305,
          1639.5631,
          6389.37785,
          13937.6665,
          8671.19125,
          16455.70785,
          21595.38229,
          11520.09985,
          1625.43375,
          5385.3379,
          39983.42595,
          5257.50795,
          24535.69855,
          10269.46,
          5729.0053,
          2855.43755,
          28923.13692,
          2643.2685,
          2523.1695,
          21348.706,
          6933.24225,
          12643.3778,
          10601.63225,
          6664.68595,
          4571.41305,
          19442.3535,
          12269.68865,
          9249.4952,
          5327.40025,
          8733.22925,
          13770.0979,
          14382.70905,
          18157.876,
          4719.73655,
          2709.24395,
          1769.53165,
          14426.07385,
          7526.70645,
          6986.697,
          1621.3402,
          32734.1863,
          2527.81865,
          2136.88225,
          24393.6224,
          4357.04365,
          2257.47525,
          2842.76075,
          12222.8983,
          7209.4918,
          28468.91901,
          3736.4647,
          8116.26885,
          2128.43105,
          6203.90175,
          11356.6609,
          7421.19455,
          5630.45785,
          8310.83915,
          26467.09737,
          17748.5062,
          46718.16325,
          14254.6082,
          11842.62375,
          10231.4999,
          5989.52365,
          2710.82855,
          3956.07145,
          3556.9223,
          11085.5868,
          5377.4578,
          11187.6567,
          3353.4703,
          6571.02435,
          8026.6666,
          12475.3513,
          10976.24575,
          4239.89265,
          15612.19335,
          8162.71625,
          8930.93455,
          6117.4945,
          26018.95052,
          20009.63365,
          23807.2406,
          3877.30425,
          45702.02235,
          9863.4718,
          4133.64165,
          10264.4421,
          14210.53595,
          14711.7438,
          11353.2276,
          5373.36425,
          4466.6214,
          14256.1928,
          4243.59005,
          37465.34375,
          12479.70895,
          14692.66935,
          3292.52985,
          5855.9025,
          3537.703,
          28868.6639,
          7731.85785,
          43578.9394,
          30284.64294,
          12950.0712,
          21472.4788,
          47496.49445,
          55135.40209,
          6940.90985,
          4320.41085,
          1917.3184,
          17361.7661,
          2534.39375,
          3176.8159,
          11743.9341,
          11289.10925,
          24476.47851,
          10600.5483,
          13112.6048,
          7537.1639,
          38746.3551,
          33907.548,
          13429.0354,
          7727.2532,
          6360.9936,
          5266.3656,
          23887.6627,
          4462.7218,
          22493.65964,
          13844.7972,
          7281.5056,
          6686.4313,
          1632.03625,
          9991.03765,
          6123.5688,
          2639.0429,
          2117.33885,
          2261.5688,
          12231.6136,
          2803.69785,
          12609.88702,
          36219.40545,
          5116.5004,
          25678.77845,
          6198.7518,
          11033.6617,
          4433.3877,
          2138.0707,
          21774.32215,
          2134.9015,
          9910.35985,
          1909.52745,
          7419.4779,
          16450.8947,
          6710.1919,
          17352.6803,
          6948.7008,
          8017.06115
         ],
         "xaxis": "x",
         "yaxis": "y"
        },
        {
         "alignmentgroup": "True",
         "hovertemplate": "region=northwest<br>charges=%{x}<extra></extra>",
         "legendgroup": "northwest",
         "marker": {
          "color": "orange"
         },
         "name": "northwest",
         "notched": true,
         "offsetgroup": "northwest",
         "showlegend": false,
         "type": "box",
         "x": [
          7265.7025,
          2789.0574,
          2352.96845,
          20745.9891,
          2404.7338,
          43943.8761,
          12235.8392,
          29141.3603,
          11082.5772,
          4058.71245,
          2221.56445,
          7222.78625,
          11436.73815,
          2719.27975,
          9566.9909,
          8428.0693,
          40720.55105,
          14119.62,
          4618.0799,
          5261.46945,
          14349.8544,
          18838.70366,
          28950.4692,
          12124.9924,
          4877.98105,
          7261.741,
          4894.7533,
          43921.1837,
          5272.1758,
          2699.56835,
          7443.64305,
          1635.73365,
          9583.8933,
          6455.86265,
          4527.18295,
          11945.1327,
          8410.04685,
          4134.08245,
          18804.7524,
          11454.0215,
          1628.4709,
          1639.5631,
          18310.742,
          10959.6947,
          46130.5265,
          24059.68019,
          10825.2537,
          12495.29085,
          12523.6048,
          11305.93455,
          2362.22905,
          2130.6759,
          9869.8102,
          15555.18875,
          7201.70085,
          2709.1119,
          11840.77505,
          7518.02535,
          28340.18885,
          39725.51805,
          7256.7231,
          2680.9493,
          2730.10785,
          4922.9159,
          6112.35295,
          1646.4297,
          8965.79575,
          33750.2918,
          21677.28345,
          6393.60345,
          10461.9794,
          1627.28245,
          3594.17085,
          3077.0955,
          18765.87545,
          1906.35825,
          19673.33573,
          18033.9679,
          12622.1795,
          2690.1138,
          6373.55735,
          46661.4424,
          8413.46305,
          4738.2682,
          42983.4585,
          5125.2157,
          8023.13545,
          5267.81815,
          20234.85475,
          2055.3249,
          60021.39897,
          8827.2099,
          12268.63225,
          32787.45859,
          4906.40965,
          12224.35085,
          23967.38305,
          1639.5631,
          6389.37785,
          13937.6665,
          8671.19125,
          16455.70785,
          21595.38229,
          11520.09985,
          1625.43375,
          5385.3379,
          39983.42595,
          5257.50795,
          24535.69855,
          10269.46,
          5729.0053,
          2855.43755,
          28923.13692,
          2643.2685,
          2523.1695,
          21348.706,
          6933.24225,
          12643.3778,
          10601.63225,
          6664.68595,
          4571.41305,
          19442.3535,
          12269.68865,
          9249.4952,
          5327.40025,
          8733.22925,
          13770.0979,
          14382.70905,
          18157.876,
          4719.73655,
          2709.24395,
          1769.53165,
          14426.07385,
          7526.70645,
          6986.697,
          1621.3402,
          32734.1863,
          2527.81865,
          2136.88225,
          24393.6224,
          4357.04365,
          2257.47525,
          2842.76075,
          12222.8983,
          7209.4918,
          28468.91901,
          3736.4647,
          8116.26885,
          2128.43105,
          6203.90175,
          11356.6609,
          7421.19455,
          5630.45785,
          8310.83915,
          26467.09737,
          17748.5062,
          46718.16325,
          14254.6082,
          11842.62375,
          10231.4999,
          5989.52365,
          2710.82855,
          3956.07145,
          3556.9223,
          11085.5868,
          5377.4578,
          11187.6567,
          3353.4703,
          6571.02435,
          8026.6666,
          12475.3513,
          10976.24575,
          4239.89265,
          15612.19335,
          8162.71625,
          8930.93455,
          6117.4945,
          26018.95052,
          20009.63365,
          23807.2406,
          3877.30425,
          45702.02235,
          9863.4718,
          4133.64165,
          10264.4421,
          14210.53595,
          14711.7438,
          11353.2276,
          5373.36425,
          4466.6214,
          14256.1928,
          4243.59005,
          37465.34375,
          12479.70895,
          14692.66935,
          3292.52985,
          5855.9025,
          3537.703,
          28868.6639,
          7731.85785,
          43578.9394,
          30284.64294,
          12950.0712,
          21472.4788,
          47496.49445,
          55135.40209,
          6940.90985,
          4320.41085,
          1917.3184,
          17361.7661,
          2534.39375,
          3176.8159,
          11743.9341,
          11289.10925,
          24476.47851,
          10600.5483,
          13112.6048,
          7537.1639,
          38746.3551,
          33907.548,
          13429.0354,
          7727.2532,
          6360.9936,
          5266.3656,
          23887.6627,
          4462.7218,
          22493.65964,
          13844.7972,
          7281.5056,
          6686.4313,
          1632.03625,
          9991.03765,
          6123.5688,
          2639.0429,
          2117.33885,
          2261.5688,
          12231.6136,
          2803.69785,
          12609.88702,
          36219.40545,
          5116.5004,
          25678.77845,
          6198.7518,
          11033.6617,
          4433.3877,
          2138.0707,
          21774.32215,
          2134.9015,
          9910.35985,
          1909.52745,
          7419.4779,
          16450.8947,
          6710.1919,
          17352.6803,
          6948.7008,
          8017.06115
         ],
         "xaxis": "x2",
         "yaxis": "y2"
        }
       ],
       "layout": {
        "bargap": 0.1,
        "barmode": "relative",
        "legend": {
         "title": {
          "text": "region"
         },
         "tracegroupgap": 0
        },
        "template": {
         "data": {
          "bar": [
           {
            "error_x": {
             "color": "#2a3f5f"
            },
            "error_y": {
             "color": "#2a3f5f"
            },
            "marker": {
             "line": {
              "color": "#E5ECF6",
              "width": 0.5
             },
             "pattern": {
              "fillmode": "overlay",
              "size": 10,
              "solidity": 0.2
             }
            },
            "type": "bar"
           }
          ],
          "barpolar": [
           {
            "marker": {
             "line": {
              "color": "#E5ECF6",
              "width": 0.5
             },
             "pattern": {
              "fillmode": "overlay",
              "size": 10,
              "solidity": 0.2
             }
            },
            "type": "barpolar"
           }
          ],
          "carpet": [
           {
            "aaxis": {
             "endlinecolor": "#2a3f5f",
             "gridcolor": "white",
             "linecolor": "white",
             "minorgridcolor": "white",
             "startlinecolor": "#2a3f5f"
            },
            "baxis": {
             "endlinecolor": "#2a3f5f",
             "gridcolor": "white",
             "linecolor": "white",
             "minorgridcolor": "white",
             "startlinecolor": "#2a3f5f"
            },
            "type": "carpet"
           }
          ],
          "choropleth": [
           {
            "colorbar": {
             "outlinewidth": 0,
             "ticks": ""
            },
            "type": "choropleth"
           }
          ],
          "contour": [
           {
            "colorbar": {
             "outlinewidth": 0,
             "ticks": ""
            },
            "colorscale": [
             [
              0,
              "#0d0887"
             ],
             [
              0.1111111111111111,
              "#46039f"
             ],
             [
              0.2222222222222222,
              "#7201a8"
             ],
             [
              0.3333333333333333,
              "#9c179e"
             ],
             [
              0.4444444444444444,
              "#bd3786"
             ],
             [
              0.5555555555555556,
              "#d8576b"
             ],
             [
              0.6666666666666666,
              "#ed7953"
             ],
             [
              0.7777777777777778,
              "#fb9f3a"
             ],
             [
              0.8888888888888888,
              "#fdca26"
             ],
             [
              1,
              "#f0f921"
             ]
            ],
            "type": "contour"
           }
          ],
          "contourcarpet": [
           {
            "colorbar": {
             "outlinewidth": 0,
             "ticks": ""
            },
            "type": "contourcarpet"
           }
          ],
          "heatmap": [
           {
            "colorbar": {
             "outlinewidth": 0,
             "ticks": ""
            },
            "colorscale": [
             [
              0,
              "#0d0887"
             ],
             [
              0.1111111111111111,
              "#46039f"
             ],
             [
              0.2222222222222222,
              "#7201a8"
             ],
             [
              0.3333333333333333,
              "#9c179e"
             ],
             [
              0.4444444444444444,
              "#bd3786"
             ],
             [
              0.5555555555555556,
              "#d8576b"
             ],
             [
              0.6666666666666666,
              "#ed7953"
             ],
             [
              0.7777777777777778,
              "#fb9f3a"
             ],
             [
              0.8888888888888888,
              "#fdca26"
             ],
             [
              1,
              "#f0f921"
             ]
            ],
            "type": "heatmap"
           }
          ],
          "heatmapgl": [
           {
            "colorbar": {
             "outlinewidth": 0,
             "ticks": ""
            },
            "colorscale": [
             [
              0,
              "#0d0887"
             ],
             [
              0.1111111111111111,
              "#46039f"
             ],
             [
              0.2222222222222222,
              "#7201a8"
             ],
             [
              0.3333333333333333,
              "#9c179e"
             ],
             [
              0.4444444444444444,
              "#bd3786"
             ],
             [
              0.5555555555555556,
              "#d8576b"
             ],
             [
              0.6666666666666666,
              "#ed7953"
             ],
             [
              0.7777777777777778,
              "#fb9f3a"
             ],
             [
              0.8888888888888888,
              "#fdca26"
             ],
             [
              1,
              "#f0f921"
             ]
            ],
            "type": "heatmapgl"
           }
          ],
          "histogram": [
           {
            "marker": {
             "pattern": {
              "fillmode": "overlay",
              "size": 10,
              "solidity": 0.2
             }
            },
            "type": "histogram"
           }
          ],
          "histogram2d": [
           {
            "colorbar": {
             "outlinewidth": 0,
             "ticks": ""
            },
            "colorscale": [
             [
              0,
              "#0d0887"
             ],
             [
              0.1111111111111111,
              "#46039f"
             ],
             [
              0.2222222222222222,
              "#7201a8"
             ],
             [
              0.3333333333333333,
              "#9c179e"
             ],
             [
              0.4444444444444444,
              "#bd3786"
             ],
             [
              0.5555555555555556,
              "#d8576b"
             ],
             [
              0.6666666666666666,
              "#ed7953"
             ],
             [
              0.7777777777777778,
              "#fb9f3a"
             ],
             [
              0.8888888888888888,
              "#fdca26"
             ],
             [
              1,
              "#f0f921"
             ]
            ],
            "type": "histogram2d"
           }
          ],
          "histogram2dcontour": [
           {
            "colorbar": {
             "outlinewidth": 0,
             "ticks": ""
            },
            "colorscale": [
             [
              0,
              "#0d0887"
             ],
             [
              0.1111111111111111,
              "#46039f"
             ],
             [
              0.2222222222222222,
              "#7201a8"
             ],
             [
              0.3333333333333333,
              "#9c179e"
             ],
             [
              0.4444444444444444,
              "#bd3786"
             ],
             [
              0.5555555555555556,
              "#d8576b"
             ],
             [
              0.6666666666666666,
              "#ed7953"
             ],
             [
              0.7777777777777778,
              "#fb9f3a"
             ],
             [
              0.8888888888888888,
              "#fdca26"
             ],
             [
              1,
              "#f0f921"
             ]
            ],
            "type": "histogram2dcontour"
           }
          ],
          "mesh3d": [
           {
            "colorbar": {
             "outlinewidth": 0,
             "ticks": ""
            },
            "type": "mesh3d"
           }
          ],
          "parcoords": [
           {
            "line": {
             "colorbar": {
              "outlinewidth": 0,
              "ticks": ""
             }
            },
            "type": "parcoords"
           }
          ],
          "pie": [
           {
            "automargin": true,
            "type": "pie"
           }
          ],
          "scatter": [
           {
            "fillpattern": {
             "fillmode": "overlay",
             "size": 10,
             "solidity": 0.2
            },
            "type": "scatter"
           }
          ],
          "scatter3d": [
           {
            "line": {
             "colorbar": {
              "outlinewidth": 0,
              "ticks": ""
             }
            },
            "marker": {
             "colorbar": {
              "outlinewidth": 0,
              "ticks": ""
             }
            },
            "type": "scatter3d"
           }
          ],
          "scattercarpet": [
           {
            "marker": {
             "colorbar": {
              "outlinewidth": 0,
              "ticks": ""
             }
            },
            "type": "scattercarpet"
           }
          ],
          "scattergeo": [
           {
            "marker": {
             "colorbar": {
              "outlinewidth": 0,
              "ticks": ""
             }
            },
            "type": "scattergeo"
           }
          ],
          "scattergl": [
           {
            "marker": {
             "colorbar": {
              "outlinewidth": 0,
              "ticks": ""
             }
            },
            "type": "scattergl"
           }
          ],
          "scattermapbox": [
           {
            "marker": {
             "colorbar": {
              "outlinewidth": 0,
              "ticks": ""
             }
            },
            "type": "scattermapbox"
           }
          ],
          "scatterpolar": [
           {
            "marker": {
             "colorbar": {
              "outlinewidth": 0,
              "ticks": ""
             }
            },
            "type": "scatterpolar"
           }
          ],
          "scatterpolargl": [
           {
            "marker": {
             "colorbar": {
              "outlinewidth": 0,
              "ticks": ""
             }
            },
            "type": "scatterpolargl"
           }
          ],
          "scatterternary": [
           {
            "marker": {
             "colorbar": {
              "outlinewidth": 0,
              "ticks": ""
             }
            },
            "type": "scatterternary"
           }
          ],
          "surface": [
           {
            "colorbar": {
             "outlinewidth": 0,
             "ticks": ""
            },
            "colorscale": [
             [
              0,
              "#0d0887"
             ],
             [
              0.1111111111111111,
              "#46039f"
             ],
             [
              0.2222222222222222,
              "#7201a8"
             ],
             [
              0.3333333333333333,
              "#9c179e"
             ],
             [
              0.4444444444444444,
              "#bd3786"
             ],
             [
              0.5555555555555556,
              "#d8576b"
             ],
             [
              0.6666666666666666,
              "#ed7953"
             ],
             [
              0.7777777777777778,
              "#fb9f3a"
             ],
             [
              0.8888888888888888,
              "#fdca26"
             ],
             [
              1,
              "#f0f921"
             ]
            ],
            "type": "surface"
           }
          ],
          "table": [
           {
            "cells": {
             "fill": {
              "color": "#EBF0F8"
             },
             "line": {
              "color": "white"
             }
            },
            "header": {
             "fill": {
              "color": "#C8D4E3"
             },
             "line": {
              "color": "white"
             }
            },
            "type": "table"
           }
          ]
         },
         "layout": {
          "annotationdefaults": {
           "arrowcolor": "#2a3f5f",
           "arrowhead": 0,
           "arrowwidth": 1
          },
          "autotypenumbers": "strict",
          "coloraxis": {
           "colorbar": {
            "outlinewidth": 0,
            "ticks": ""
           }
          },
          "colorscale": {
           "diverging": [
            [
             0,
             "#8e0152"
            ],
            [
             0.1,
             "#c51b7d"
            ],
            [
             0.2,
             "#de77ae"
            ],
            [
             0.3,
             "#f1b6da"
            ],
            [
             0.4,
             "#fde0ef"
            ],
            [
             0.5,
             "#f7f7f7"
            ],
            [
             0.6,
             "#e6f5d0"
            ],
            [
             0.7,
             "#b8e186"
            ],
            [
             0.8,
             "#7fbc41"
            ],
            [
             0.9,
             "#4d9221"
            ],
            [
             1,
             "#276419"
            ]
           ],
           "sequential": [
            [
             0,
             "#0d0887"
            ],
            [
             0.1111111111111111,
             "#46039f"
            ],
            [
             0.2222222222222222,
             "#7201a8"
            ],
            [
             0.3333333333333333,
             "#9c179e"
            ],
            [
             0.4444444444444444,
             "#bd3786"
            ],
            [
             0.5555555555555556,
             "#d8576b"
            ],
            [
             0.6666666666666666,
             "#ed7953"
            ],
            [
             0.7777777777777778,
             "#fb9f3a"
            ],
            [
             0.8888888888888888,
             "#fdca26"
            ],
            [
             1,
             "#f0f921"
            ]
           ],
           "sequentialminus": [
            [
             0,
             "#0d0887"
            ],
            [
             0.1111111111111111,
             "#46039f"
            ],
            [
             0.2222222222222222,
             "#7201a8"
            ],
            [
             0.3333333333333333,
             "#9c179e"
            ],
            [
             0.4444444444444444,
             "#bd3786"
            ],
            [
             0.5555555555555556,
             "#d8576b"
            ],
            [
             0.6666666666666666,
             "#ed7953"
            ],
            [
             0.7777777777777778,
             "#fb9f3a"
            ],
            [
             0.8888888888888888,
             "#fdca26"
            ],
            [
             1,
             "#f0f921"
            ]
           ]
          },
          "colorway": [
           "#636efa",
           "#EF553B",
           "#00cc96",
           "#ab63fa",
           "#FFA15A",
           "#19d3f3",
           "#FF6692",
           "#B6E880",
           "#FF97FF",
           "#FECB52"
          ],
          "font": {
           "color": "#2a3f5f"
          },
          "geo": {
           "bgcolor": "white",
           "lakecolor": "white",
           "landcolor": "#E5ECF6",
           "showlakes": true,
           "showland": true,
           "subunitcolor": "white"
          },
          "hoverlabel": {
           "align": "left"
          },
          "hovermode": "closest",
          "mapbox": {
           "style": "light"
          },
          "paper_bgcolor": "white",
          "plot_bgcolor": "#E5ECF6",
          "polar": {
           "angularaxis": {
            "gridcolor": "white",
            "linecolor": "white",
            "ticks": ""
           },
           "bgcolor": "#E5ECF6",
           "radialaxis": {
            "gridcolor": "white",
            "linecolor": "white",
            "ticks": ""
           }
          },
          "scene": {
           "xaxis": {
            "backgroundcolor": "#E5ECF6",
            "gridcolor": "white",
            "gridwidth": 2,
            "linecolor": "white",
            "showbackground": true,
            "ticks": "",
            "zerolinecolor": "white"
           },
           "yaxis": {
            "backgroundcolor": "#E5ECF6",
            "gridcolor": "white",
            "gridwidth": 2,
            "linecolor": "white",
            "showbackground": true,
            "ticks": "",
            "zerolinecolor": "white"
           },
           "zaxis": {
            "backgroundcolor": "#E5ECF6",
            "gridcolor": "white",
            "gridwidth": 2,
            "linecolor": "white",
            "showbackground": true,
            "ticks": "",
            "zerolinecolor": "white"
           }
          },
          "shapedefaults": {
           "line": {
            "color": "#2a3f5f"
           }
          },
          "ternary": {
           "aaxis": {
            "gridcolor": "white",
            "linecolor": "white",
            "ticks": ""
           },
           "baxis": {
            "gridcolor": "white",
            "linecolor": "white",
            "ticks": ""
           },
           "bgcolor": "#E5ECF6",
           "caxis": {
            "gridcolor": "white",
            "linecolor": "white",
            "ticks": ""
           }
          },
          "title": {
           "x": 0.05
          },
          "xaxis": {
           "automargin": true,
           "gridcolor": "white",
           "linecolor": "white",
           "ticks": "",
           "title": {
            "standoff": 15
           },
           "zerolinecolor": "white",
           "zerolinewidth": 2
          },
          "yaxis": {
           "automargin": true,
           "gridcolor": "white",
           "linecolor": "white",
           "ticks": "",
           "title": {
            "standoff": 15
           },
           "zerolinecolor": "white",
           "zerolinewidth": 2
          }
         }
        },
        "title": {
         "text": "Annual Medical Charges"
        },
        "xaxis": {
         "anchor": "y",
         "domain": [
          0,
          1
         ],
         "title": {
          "text": "charges"
         }
        },
        "xaxis2": {
         "anchor": "y2",
         "domain": [
          0,
          1
         ],
         "matches": "x",
         "showgrid": true,
         "showticklabels": false
        },
        "yaxis": {
         "anchor": "x",
         "domain": [
          0,
          0.7326
         ],
         "title": {
          "text": "count"
         }
        },
        "yaxis2": {
         "anchor": "x2",
         "domain": [
          0.7426,
          1
         ],
         "matches": "y2",
         "showgrid": false,
         "showline": false,
         "showticklabels": false,
         "ticks": ""
        }
       }
      }
     },
     "metadata": {},
     "output_type": "display_data"
    }
   ],
   "source": [
    "charges_df['region'] = X_train.region\n",
    "\n",
    "fig = px.histogram(\n",
    "    charges_df,\n",
    "    x='charges',\n",
    "    marginal='box',\n",
    "    color='region',\n",
    "    color_discrete_sequence=['green', 'grey', 'pink', 'orange'],\n",
    "    title='Annual Medical Charges'\n",
    ")\n",
    "fig.update_layout(bargap=0.1)"
   ]
  },
  {
   "cell_type": "markdown",
   "metadata": {},
   "source": [
    "Observations\n",
    "1. Southeast chargies are highest as well as southwest are lowest\n",
    "2. Northwest and southwest have similer charges"
   ]
  },
  {
   "cell_type": "markdown",
   "metadata": {},
   "source": [
    "### Smoker"
   ]
  },
  {
   "cell_type": "code",
   "execution_count": 81,
   "metadata": {},
   "outputs": [
    {
     "data": {
      "application/vnd.plotly.v1+json": {
       "config": {
        "plotlyServerURL": "https://plot.ly"
       },
       "data": [
        {
         "alignmentgroup": "True",
         "bingroup": "x",
         "hovertemplate": "sex=female<br>smoker=%{x}<br>count=%{y}<extra></extra>",
         "legendgroup": "female",
         "marker": {
          "color": "#636efa",
          "pattern": {
           "shape": ""
          }
         },
         "name": "female",
         "offsetgroup": "female",
         "orientation": "v",
         "showlegend": true,
         "type": "histogram",
         "x": [
          "yes",
          "no",
          "yes",
          "yes",
          "no",
          "no",
          "no",
          "no",
          "no",
          "no",
          "yes",
          "no",
          "no",
          "no",
          "yes",
          "no",
          "yes",
          "no",
          "no",
          "no",
          "yes",
          "no",
          "no",
          "no",
          "no",
          "no",
          "no",
          "no",
          "no",
          "yes",
          "no",
          "no",
          "no",
          "no",
          "no",
          "no",
          "no",
          "no",
          "no",
          "no",
          "no",
          "no",
          "yes",
          "no",
          "no",
          "no",
          "yes",
          "no",
          "yes",
          "no",
          "no",
          "no",
          "no",
          "no",
          "no",
          "no",
          "no",
          "no",
          "no",
          "no",
          "no",
          "no",
          "no",
          "no",
          "yes",
          "no",
          "no",
          "no",
          "yes",
          "no",
          "no",
          "no",
          "no",
          "no",
          "no",
          "no",
          "no",
          "no",
          "no",
          "no",
          "no",
          "no",
          "no",
          "no",
          "no",
          "no",
          "no",
          "no",
          "no",
          "no",
          "no",
          "no",
          "no",
          "no",
          "no",
          "no",
          "yes",
          "no",
          "no",
          "yes",
          "no",
          "no",
          "no",
          "no",
          "no",
          "no",
          "no",
          "no",
          "no",
          "yes",
          "no",
          "no",
          "no",
          "no",
          "no",
          "no",
          "no",
          "no",
          "no",
          "no",
          "no",
          "no",
          "no",
          "no",
          "no",
          "yes",
          "yes",
          "yes",
          "no",
          "yes",
          "no",
          "no",
          "yes",
          "yes",
          "no",
          "no",
          "no",
          "no",
          "no",
          "no",
          "yes",
          "yes",
          "no",
          "no",
          "no",
          "yes",
          "no",
          "no",
          "no",
          "no",
          "yes",
          "no",
          "no",
          "no",
          "no",
          "no",
          "yes",
          "yes",
          "yes",
          "no",
          "no",
          "no",
          "no",
          "no",
          "yes",
          "no",
          "yes",
          "no",
          "no",
          "no",
          "yes",
          "yes",
          "no",
          "no",
          "no",
          "yes",
          "no",
          "no",
          "no",
          "no",
          "no",
          "no",
          "no",
          "no",
          "no",
          "no",
          "no",
          "yes",
          "no",
          "no",
          "no",
          "no",
          "no",
          "yes",
          "no",
          "no",
          "no",
          "no",
          "no",
          "no",
          "no",
          "no",
          "no",
          "yes",
          "no",
          "yes",
          "no",
          "no",
          "yes",
          "no",
          "no",
          "no",
          "yes",
          "no",
          "no",
          "no",
          "no",
          "no",
          "yes",
          "no",
          "no",
          "no",
          "no",
          "no",
          "yes",
          "no",
          "no",
          "yes",
          "no",
          "no",
          "no",
          "no",
          "no",
          "no",
          "no",
          "no",
          "no",
          "no",
          "no",
          "yes",
          "no",
          "no",
          "no",
          "yes",
          "no",
          "no",
          "no",
          "no",
          "yes",
          "no",
          "no",
          "no",
          "no",
          "no",
          "no",
          "no",
          "no",
          "no",
          "no",
          "no",
          "no",
          "no",
          "no",
          "no",
          "yes",
          "yes",
          "no",
          "no",
          "yes",
          "no",
          "no",
          "no",
          "yes",
          "yes",
          "no",
          "no",
          "no",
          "no",
          "no",
          "yes",
          "no",
          "no",
          "no",
          "no",
          "no",
          "no",
          "no",
          "no",
          "no",
          "no",
          "no",
          "no",
          "no",
          "no",
          "no",
          "no",
          "no",
          "no",
          "no",
          "no",
          "no",
          "yes",
          "no",
          "no",
          "no",
          "yes",
          "no",
          "no",
          "no",
          "no",
          "no",
          "no",
          "no",
          "no",
          "no",
          "no",
          "no",
          "no",
          "no",
          "no",
          "no",
          "no",
          "no",
          "no",
          "no",
          "yes",
          "no",
          "no",
          "no",
          "no",
          "no",
          "no",
          "no",
          "no",
          "no",
          "no",
          "no",
          "no",
          "yes",
          "no",
          "no",
          "no",
          "no",
          "no",
          "no",
          "no",
          "no",
          "no",
          "no",
          "no",
          "no",
          "no",
          "no",
          "no",
          "no",
          "no",
          "no",
          "no",
          "no",
          "no",
          "yes",
          "no",
          "no",
          "no",
          "no",
          "yes",
          "no",
          "no",
          "no",
          "yes",
          "no",
          "no",
          "no",
          "no",
          "yes",
          "no",
          "yes",
          "no",
          "no",
          "no",
          "yes",
          "yes",
          "no",
          "no",
          "no",
          "no",
          "no",
          "no",
          "yes",
          "no",
          "no",
          "no",
          "no",
          "no",
          "no",
          "yes",
          "no",
          "no",
          "no",
          "yes",
          "no",
          "no",
          "no",
          "yes",
          "yes",
          "no",
          "no",
          "yes",
          "no",
          "no",
          "no",
          "yes",
          "yes",
          "yes",
          "no",
          "no",
          "no",
          "yes",
          "no",
          "yes",
          "no",
          "no",
          "no",
          "no",
          "no",
          "yes",
          "no",
          "no",
          "no",
          "no",
          "yes",
          "yes",
          "no",
          "no",
          "no",
          "yes",
          "no",
          "yes",
          "no",
          "no",
          "no",
          "yes",
          "no",
          "no",
          "no",
          "no",
          "no",
          "no",
          "no",
          "no",
          "no",
          "no",
          "no",
          "no",
          "no",
          "yes",
          "no",
          "no",
          "no",
          "no",
          "no",
          "no",
          "no",
          "no",
          "no",
          "no",
          "yes",
          "no",
          "no",
          "no",
          "no",
          "no",
          "no",
          "no",
          "no",
          "no",
          "yes",
          "no",
          "no",
          "no",
          "no",
          "yes",
          "no",
          "no",
          "no",
          "no",
          "no",
          "no",
          "yes",
          "no",
          "yes",
          "no",
          "no",
          "no",
          "no",
          "yes",
          "no",
          "no",
          "no",
          "no",
          "no",
          "no",
          "no",
          "no",
          "no",
          "no",
          "no",
          "no",
          "no",
          "no",
          "no",
          "yes",
          "no",
          "no",
          "no",
          "no",
          "no",
          "no"
         ],
         "xaxis": "x",
         "yaxis": "y"
        },
        {
         "alignmentgroup": "True",
         "bingroup": "x",
         "hovertemplate": "sex=male<br>smoker=%{x}<br>count=%{y}<extra></extra>",
         "legendgroup": "male",
         "marker": {
          "color": "#EF553B",
          "pattern": {
           "shape": ""
          }
         },
         "name": "male",
         "offsetgroup": "male",
         "orientation": "v",
         "showlegend": true,
         "type": "histogram",
         "x": [
          "no",
          "no",
          "no",
          "no",
          "no",
          "yes",
          "no",
          "yes",
          "yes",
          "no",
          "yes",
          "yes",
          "no",
          "no",
          "no",
          "yes",
          "yes",
          "no",
          "no",
          "no",
          "no",
          "no",
          "yes",
          "yes",
          "no",
          "no",
          "yes",
          "no",
          "no",
          "no",
          "no",
          "no",
          "yes",
          "yes",
          "no",
          "no",
          "yes",
          "no",
          "no",
          "no",
          "no",
          "no",
          "no",
          "no",
          "no",
          "yes",
          "no",
          "no",
          "no",
          "no",
          "yes",
          "no",
          "no",
          "no",
          "no",
          "no",
          "yes",
          "no",
          "no",
          "no",
          "no",
          "no",
          "yes",
          "yes",
          "yes",
          "no",
          "no",
          "no",
          "yes",
          "no",
          "no",
          "no",
          "no",
          "no",
          "no",
          "no",
          "no",
          "no",
          "no",
          "no",
          "no",
          "yes",
          "no",
          "yes",
          "no",
          "yes",
          "no",
          "no",
          "no",
          "no",
          "no",
          "no",
          "no",
          "no",
          "yes",
          "no",
          "no",
          "no",
          "no",
          "no",
          "no",
          "no",
          "yes",
          "yes",
          "yes",
          "no",
          "no",
          "no",
          "no",
          "yes",
          "no",
          "no",
          "yes",
          "yes",
          "no",
          "no",
          "no",
          "no",
          "no",
          "no",
          "no",
          "no",
          "yes",
          "no",
          "no",
          "no",
          "yes",
          "no",
          "yes",
          "no",
          "no",
          "no",
          "no",
          "no",
          "no",
          "no",
          "no",
          "no",
          "no",
          "no",
          "no",
          "yes",
          "no",
          "no",
          "no",
          "yes",
          "no",
          "no",
          "yes",
          "no",
          "no",
          "no",
          "no",
          "no",
          "yes",
          "no",
          "no",
          "no",
          "no",
          "no",
          "no",
          "no",
          "no",
          "no",
          "no",
          "yes",
          "no",
          "no",
          "yes",
          "no",
          "no",
          "no",
          "yes",
          "yes",
          "no",
          "no",
          "no",
          "yes",
          "no",
          "yes",
          "no",
          "yes",
          "no",
          "no",
          "no",
          "no",
          "no",
          "yes",
          "no",
          "yes",
          "yes",
          "yes",
          "yes",
          "no",
          "no",
          "no",
          "no",
          "yes",
          "no",
          "yes",
          "yes",
          "no",
          "no",
          "no",
          "no",
          "yes",
          "no",
          "no",
          "no",
          "yes",
          "no",
          "no",
          "yes",
          "yes",
          "no",
          "no",
          "yes",
          "no",
          "no",
          "no",
          "no",
          "no",
          "no",
          "no",
          "yes",
          "no",
          "no",
          "no",
          "no",
          "yes",
          "no",
          "no",
          "no",
          "no",
          "no",
          "no",
          "no",
          "no",
          "no",
          "no",
          "no",
          "no",
          "no",
          "no",
          "no",
          "no",
          "no",
          "no",
          "no",
          "yes",
          "no",
          "no",
          "no",
          "no",
          "yes",
          "no",
          "no",
          "no",
          "no",
          "no",
          "no",
          "no",
          "no",
          "no",
          "no",
          "no",
          "no",
          "yes",
          "no",
          "no",
          "no",
          "no",
          "no",
          "no",
          "no",
          "no",
          "no",
          "no",
          "yes",
          "no",
          "no",
          "no",
          "no",
          "no",
          "no",
          "no",
          "no",
          "no",
          "no",
          "no",
          "no",
          "no",
          "no",
          "no",
          "yes",
          "yes",
          "no",
          "no",
          "yes",
          "yes",
          "no",
          "yes",
          "no",
          "no",
          "yes",
          "no",
          "no",
          "no",
          "no",
          "no",
          "no",
          "no",
          "no",
          "yes",
          "no",
          "no",
          "no",
          "no",
          "no",
          "no",
          "no",
          "yes",
          "yes",
          "no",
          "no",
          "no",
          "no",
          "no",
          "no",
          "no",
          "yes",
          "no",
          "no",
          "no",
          "no",
          "no",
          "no",
          "yes",
          "yes",
          "no",
          "no",
          "no",
          "yes",
          "no",
          "yes",
          "no",
          "yes",
          "no",
          "yes",
          "yes",
          "no",
          "yes",
          "no",
          "no",
          "yes",
          "yes",
          "yes",
          "no",
          "no",
          "no",
          "no",
          "no",
          "no",
          "no",
          "no",
          "yes",
          "yes",
          "yes",
          "yes",
          "no",
          "no",
          "no",
          "no",
          "no",
          "no",
          "no",
          "no",
          "no",
          "no",
          "no",
          "no",
          "no",
          "no",
          "yes",
          "no",
          "no",
          "no",
          "no",
          "no",
          "no",
          "yes",
          "yes",
          "no",
          "no",
          "no",
          "yes",
          "yes",
          "no",
          "no",
          "no",
          "no",
          "no",
          "no",
          "yes",
          "no",
          "no",
          "no",
          "no",
          "no",
          "no",
          "no",
          "no",
          "yes",
          "no",
          "no",
          "yes",
          "no",
          "no",
          "no",
          "no",
          "no",
          "yes",
          "yes",
          "no",
          "no",
          "yes",
          "yes",
          "no",
          "no",
          "no",
          "yes",
          "no",
          "no",
          "no",
          "no",
          "no",
          "no",
          "yes",
          "no",
          "no",
          "yes",
          "no",
          "no",
          "no",
          "no",
          "yes",
          "yes",
          "no",
          "yes",
          "no",
          "no",
          "no",
          "no",
          "no",
          "no",
          "no",
          "yes",
          "yes",
          "no",
          "yes",
          "no",
          "no",
          "no",
          "yes",
          "no",
          "no",
          "no",
          "no",
          "no",
          "no",
          "no",
          "no",
          "no",
          "no",
          "no",
          "yes",
          "no",
          "no",
          "yes",
          "yes",
          "no",
          "no",
          "yes",
          "yes",
          "no",
          "no",
          "no",
          "yes",
          "yes",
          "no",
          "no",
          "no",
          "no",
          "no",
          "no",
          "no",
          "no",
          "no",
          "yes",
          "no",
          "no",
          "yes",
          "no",
          "no",
          "yes",
          "no",
          "yes",
          "no",
          "no",
          "no",
          "no",
          "no",
          "yes",
          "no",
          "no",
          "no",
          "yes",
          "no",
          "no",
          "yes",
          "yes",
          "no",
          "no",
          "no",
          "no",
          "no",
          "no",
          "no",
          "no",
          "no",
          "yes",
          "no",
          "yes",
          "no",
          "yes",
          "no",
          "yes",
          "yes",
          "no",
          "no",
          "no",
          "no",
          "yes",
          "no",
          "no",
          "no",
          "no",
          "no",
          "yes",
          "yes",
          "no",
          "no"
         ],
         "xaxis": "x",
         "yaxis": "y"
        }
       ],
       "layout": {
        "barmode": "relative",
        "legend": {
         "title": {
          "text": "sex"
         },
         "tracegroupgap": 0
        },
        "template": {
         "data": {
          "bar": [
           {
            "error_x": {
             "color": "#2a3f5f"
            },
            "error_y": {
             "color": "#2a3f5f"
            },
            "marker": {
             "line": {
              "color": "#E5ECF6",
              "width": 0.5
             },
             "pattern": {
              "fillmode": "overlay",
              "size": 10,
              "solidity": 0.2
             }
            },
            "type": "bar"
           }
          ],
          "barpolar": [
           {
            "marker": {
             "line": {
              "color": "#E5ECF6",
              "width": 0.5
             },
             "pattern": {
              "fillmode": "overlay",
              "size": 10,
              "solidity": 0.2
             }
            },
            "type": "barpolar"
           }
          ],
          "carpet": [
           {
            "aaxis": {
             "endlinecolor": "#2a3f5f",
             "gridcolor": "white",
             "linecolor": "white",
             "minorgridcolor": "white",
             "startlinecolor": "#2a3f5f"
            },
            "baxis": {
             "endlinecolor": "#2a3f5f",
             "gridcolor": "white",
             "linecolor": "white",
             "minorgridcolor": "white",
             "startlinecolor": "#2a3f5f"
            },
            "type": "carpet"
           }
          ],
          "choropleth": [
           {
            "colorbar": {
             "outlinewidth": 0,
             "ticks": ""
            },
            "type": "choropleth"
           }
          ],
          "contour": [
           {
            "colorbar": {
             "outlinewidth": 0,
             "ticks": ""
            },
            "colorscale": [
             [
              0,
              "#0d0887"
             ],
             [
              0.1111111111111111,
              "#46039f"
             ],
             [
              0.2222222222222222,
              "#7201a8"
             ],
             [
              0.3333333333333333,
              "#9c179e"
             ],
             [
              0.4444444444444444,
              "#bd3786"
             ],
             [
              0.5555555555555556,
              "#d8576b"
             ],
             [
              0.6666666666666666,
              "#ed7953"
             ],
             [
              0.7777777777777778,
              "#fb9f3a"
             ],
             [
              0.8888888888888888,
              "#fdca26"
             ],
             [
              1,
              "#f0f921"
             ]
            ],
            "type": "contour"
           }
          ],
          "contourcarpet": [
           {
            "colorbar": {
             "outlinewidth": 0,
             "ticks": ""
            },
            "type": "contourcarpet"
           }
          ],
          "heatmap": [
           {
            "colorbar": {
             "outlinewidth": 0,
             "ticks": ""
            },
            "colorscale": [
             [
              0,
              "#0d0887"
             ],
             [
              0.1111111111111111,
              "#46039f"
             ],
             [
              0.2222222222222222,
              "#7201a8"
             ],
             [
              0.3333333333333333,
              "#9c179e"
             ],
             [
              0.4444444444444444,
              "#bd3786"
             ],
             [
              0.5555555555555556,
              "#d8576b"
             ],
             [
              0.6666666666666666,
              "#ed7953"
             ],
             [
              0.7777777777777778,
              "#fb9f3a"
             ],
             [
              0.8888888888888888,
              "#fdca26"
             ],
             [
              1,
              "#f0f921"
             ]
            ],
            "type": "heatmap"
           }
          ],
          "heatmapgl": [
           {
            "colorbar": {
             "outlinewidth": 0,
             "ticks": ""
            },
            "colorscale": [
             [
              0,
              "#0d0887"
             ],
             [
              0.1111111111111111,
              "#46039f"
             ],
             [
              0.2222222222222222,
              "#7201a8"
             ],
             [
              0.3333333333333333,
              "#9c179e"
             ],
             [
              0.4444444444444444,
              "#bd3786"
             ],
             [
              0.5555555555555556,
              "#d8576b"
             ],
             [
              0.6666666666666666,
              "#ed7953"
             ],
             [
              0.7777777777777778,
              "#fb9f3a"
             ],
             [
              0.8888888888888888,
              "#fdca26"
             ],
             [
              1,
              "#f0f921"
             ]
            ],
            "type": "heatmapgl"
           }
          ],
          "histogram": [
           {
            "marker": {
             "pattern": {
              "fillmode": "overlay",
              "size": 10,
              "solidity": 0.2
             }
            },
            "type": "histogram"
           }
          ],
          "histogram2d": [
           {
            "colorbar": {
             "outlinewidth": 0,
             "ticks": ""
            },
            "colorscale": [
             [
              0,
              "#0d0887"
             ],
             [
              0.1111111111111111,
              "#46039f"
             ],
             [
              0.2222222222222222,
              "#7201a8"
             ],
             [
              0.3333333333333333,
              "#9c179e"
             ],
             [
              0.4444444444444444,
              "#bd3786"
             ],
             [
              0.5555555555555556,
              "#d8576b"
             ],
             [
              0.6666666666666666,
              "#ed7953"
             ],
             [
              0.7777777777777778,
              "#fb9f3a"
             ],
             [
              0.8888888888888888,
              "#fdca26"
             ],
             [
              1,
              "#f0f921"
             ]
            ],
            "type": "histogram2d"
           }
          ],
          "histogram2dcontour": [
           {
            "colorbar": {
             "outlinewidth": 0,
             "ticks": ""
            },
            "colorscale": [
             [
              0,
              "#0d0887"
             ],
             [
              0.1111111111111111,
              "#46039f"
             ],
             [
              0.2222222222222222,
              "#7201a8"
             ],
             [
              0.3333333333333333,
              "#9c179e"
             ],
             [
              0.4444444444444444,
              "#bd3786"
             ],
             [
              0.5555555555555556,
              "#d8576b"
             ],
             [
              0.6666666666666666,
              "#ed7953"
             ],
             [
              0.7777777777777778,
              "#fb9f3a"
             ],
             [
              0.8888888888888888,
              "#fdca26"
             ],
             [
              1,
              "#f0f921"
             ]
            ],
            "type": "histogram2dcontour"
           }
          ],
          "mesh3d": [
           {
            "colorbar": {
             "outlinewidth": 0,
             "ticks": ""
            },
            "type": "mesh3d"
           }
          ],
          "parcoords": [
           {
            "line": {
             "colorbar": {
              "outlinewidth": 0,
              "ticks": ""
             }
            },
            "type": "parcoords"
           }
          ],
          "pie": [
           {
            "automargin": true,
            "type": "pie"
           }
          ],
          "scatter": [
           {
            "fillpattern": {
             "fillmode": "overlay",
             "size": 10,
             "solidity": 0.2
            },
            "type": "scatter"
           }
          ],
          "scatter3d": [
           {
            "line": {
             "colorbar": {
              "outlinewidth": 0,
              "ticks": ""
             }
            },
            "marker": {
             "colorbar": {
              "outlinewidth": 0,
              "ticks": ""
             }
            },
            "type": "scatter3d"
           }
          ],
          "scattercarpet": [
           {
            "marker": {
             "colorbar": {
              "outlinewidth": 0,
              "ticks": ""
             }
            },
            "type": "scattercarpet"
           }
          ],
          "scattergeo": [
           {
            "marker": {
             "colorbar": {
              "outlinewidth": 0,
              "ticks": ""
             }
            },
            "type": "scattergeo"
           }
          ],
          "scattergl": [
           {
            "marker": {
             "colorbar": {
              "outlinewidth": 0,
              "ticks": ""
             }
            },
            "type": "scattergl"
           }
          ],
          "scattermapbox": [
           {
            "marker": {
             "colorbar": {
              "outlinewidth": 0,
              "ticks": ""
             }
            },
            "type": "scattermapbox"
           }
          ],
          "scatterpolar": [
           {
            "marker": {
             "colorbar": {
              "outlinewidth": 0,
              "ticks": ""
             }
            },
            "type": "scatterpolar"
           }
          ],
          "scatterpolargl": [
           {
            "marker": {
             "colorbar": {
              "outlinewidth": 0,
              "ticks": ""
             }
            },
            "type": "scatterpolargl"
           }
          ],
          "scatterternary": [
           {
            "marker": {
             "colorbar": {
              "outlinewidth": 0,
              "ticks": ""
             }
            },
            "type": "scatterternary"
           }
          ],
          "surface": [
           {
            "colorbar": {
             "outlinewidth": 0,
             "ticks": ""
            },
            "colorscale": [
             [
              0,
              "#0d0887"
             ],
             [
              0.1111111111111111,
              "#46039f"
             ],
             [
              0.2222222222222222,
              "#7201a8"
             ],
             [
              0.3333333333333333,
              "#9c179e"
             ],
             [
              0.4444444444444444,
              "#bd3786"
             ],
             [
              0.5555555555555556,
              "#d8576b"
             ],
             [
              0.6666666666666666,
              "#ed7953"
             ],
             [
              0.7777777777777778,
              "#fb9f3a"
             ],
             [
              0.8888888888888888,
              "#fdca26"
             ],
             [
              1,
              "#f0f921"
             ]
            ],
            "type": "surface"
           }
          ],
          "table": [
           {
            "cells": {
             "fill": {
              "color": "#EBF0F8"
             },
             "line": {
              "color": "white"
             }
            },
            "header": {
             "fill": {
              "color": "#C8D4E3"
             },
             "line": {
              "color": "white"
             }
            },
            "type": "table"
           }
          ]
         },
         "layout": {
          "annotationdefaults": {
           "arrowcolor": "#2a3f5f",
           "arrowhead": 0,
           "arrowwidth": 1
          },
          "autotypenumbers": "strict",
          "coloraxis": {
           "colorbar": {
            "outlinewidth": 0,
            "ticks": ""
           }
          },
          "colorscale": {
           "diverging": [
            [
             0,
             "#8e0152"
            ],
            [
             0.1,
             "#c51b7d"
            ],
            [
             0.2,
             "#de77ae"
            ],
            [
             0.3,
             "#f1b6da"
            ],
            [
             0.4,
             "#fde0ef"
            ],
            [
             0.5,
             "#f7f7f7"
            ],
            [
             0.6,
             "#e6f5d0"
            ],
            [
             0.7,
             "#b8e186"
            ],
            [
             0.8,
             "#7fbc41"
            ],
            [
             0.9,
             "#4d9221"
            ],
            [
             1,
             "#276419"
            ]
           ],
           "sequential": [
            [
             0,
             "#0d0887"
            ],
            [
             0.1111111111111111,
             "#46039f"
            ],
            [
             0.2222222222222222,
             "#7201a8"
            ],
            [
             0.3333333333333333,
             "#9c179e"
            ],
            [
             0.4444444444444444,
             "#bd3786"
            ],
            [
             0.5555555555555556,
             "#d8576b"
            ],
            [
             0.6666666666666666,
             "#ed7953"
            ],
            [
             0.7777777777777778,
             "#fb9f3a"
            ],
            [
             0.8888888888888888,
             "#fdca26"
            ],
            [
             1,
             "#f0f921"
            ]
           ],
           "sequentialminus": [
            [
             0,
             "#0d0887"
            ],
            [
             0.1111111111111111,
             "#46039f"
            ],
            [
             0.2222222222222222,
             "#7201a8"
            ],
            [
             0.3333333333333333,
             "#9c179e"
            ],
            [
             0.4444444444444444,
             "#bd3786"
            ],
            [
             0.5555555555555556,
             "#d8576b"
            ],
            [
             0.6666666666666666,
             "#ed7953"
            ],
            [
             0.7777777777777778,
             "#fb9f3a"
            ],
            [
             0.8888888888888888,
             "#fdca26"
            ],
            [
             1,
             "#f0f921"
            ]
           ]
          },
          "colorway": [
           "#636efa",
           "#EF553B",
           "#00cc96",
           "#ab63fa",
           "#FFA15A",
           "#19d3f3",
           "#FF6692",
           "#B6E880",
           "#FF97FF",
           "#FECB52"
          ],
          "font": {
           "color": "#2a3f5f"
          },
          "geo": {
           "bgcolor": "white",
           "lakecolor": "white",
           "landcolor": "#E5ECF6",
           "showlakes": true,
           "showland": true,
           "subunitcolor": "white"
          },
          "hoverlabel": {
           "align": "left"
          },
          "hovermode": "closest",
          "mapbox": {
           "style": "light"
          },
          "paper_bgcolor": "white",
          "plot_bgcolor": "#E5ECF6",
          "polar": {
           "angularaxis": {
            "gridcolor": "white",
            "linecolor": "white",
            "ticks": ""
           },
           "bgcolor": "#E5ECF6",
           "radialaxis": {
            "gridcolor": "white",
            "linecolor": "white",
            "ticks": ""
           }
          },
          "scene": {
           "xaxis": {
            "backgroundcolor": "#E5ECF6",
            "gridcolor": "white",
            "gridwidth": 2,
            "linecolor": "white",
            "showbackground": true,
            "ticks": "",
            "zerolinecolor": "white"
           },
           "yaxis": {
            "backgroundcolor": "#E5ECF6",
            "gridcolor": "white",
            "gridwidth": 2,
            "linecolor": "white",
            "showbackground": true,
            "ticks": "",
            "zerolinecolor": "white"
           },
           "zaxis": {
            "backgroundcolor": "#E5ECF6",
            "gridcolor": "white",
            "gridwidth": 2,
            "linecolor": "white",
            "showbackground": true,
            "ticks": "",
            "zerolinecolor": "white"
           }
          },
          "shapedefaults": {
           "line": {
            "color": "#2a3f5f"
           }
          },
          "ternary": {
           "aaxis": {
            "gridcolor": "white",
            "linecolor": "white",
            "ticks": ""
           },
           "baxis": {
            "gridcolor": "white",
            "linecolor": "white",
            "ticks": ""
           },
           "bgcolor": "#E5ECF6",
           "caxis": {
            "gridcolor": "white",
            "linecolor": "white",
            "ticks": ""
           }
          },
          "title": {
           "x": 0.05
          },
          "xaxis": {
           "automargin": true,
           "gridcolor": "white",
           "linecolor": "white",
           "ticks": "",
           "title": {
            "standoff": 15
           },
           "zerolinecolor": "white",
           "zerolinewidth": 2
          },
          "yaxis": {
           "automargin": true,
           "gridcolor": "white",
           "linecolor": "white",
           "ticks": "",
           "title": {
            "standoff": 15
           },
           "zerolinecolor": "white",
           "zerolinewidth": 2
          }
         }
        },
        "title": {
         "text": "Smoker"
        },
        "xaxis": {
         "anchor": "y",
         "domain": [
          0,
          1
         ],
         "title": {
          "text": "smoker"
         }
        },
        "yaxis": {
         "anchor": "x",
         "domain": [
          0,
          1
         ],
         "title": {
          "text": "count"
         }
        }
       }
      }
     },
     "metadata": {},
     "output_type": "display_data"
    }
   ],
   "source": [
    "# Visualize smoker yer or no value\n",
    "charges_df['smoker'] = X_train.smoker\n",
    "px.histogram(charges_df, x='smoker', color='sex', title='Smoker')"
   ]
  },
  {
   "cell_type": "markdown",
   "metadata": {},
   "source": [
    "Observation\n",
    "1. about 20% customers are smokers\n"
   ]
  },
  {
   "cell_type": "markdown",
   "metadata": {},
   "source": [
    "EXERCISE: Visualize the distributions of the \"sex\", \"region\" and \"children\" columns and report your observations."
   ]
  },
  {
   "cell_type": "markdown",
   "metadata": {},
   "source": [
    "### Sex"
   ]
  },
  {
   "cell_type": "code",
   "execution_count": 82,
   "metadata": {},
   "outputs": [
    {
     "data": {
      "application/vnd.plotly.v1+json": {
       "config": {
        "plotlyServerURL": "https://plot.ly"
       },
       "data": [
        {
         "alignmentgroup": "True",
         "bingroup": "x",
         "hovertemplate": "sex=%{x}<br>count=%{y}<extra></extra>",
         "legendgroup": "",
         "marker": {
          "color": "#636efa",
          "pattern": {
           "shape": ""
          }
         },
         "name": "",
         "offsetgroup": "",
         "orientation": "v",
         "showlegend": false,
         "type": "histogram",
         "x": [
          "female",
          "female",
          "female",
          "female",
          "male",
          "male",
          "female",
          "male",
          "male",
          "female",
          "female",
          "female",
          "female",
          "male",
          "male",
          "female",
          "male",
          "male",
          "female",
          "female",
          "male",
          "female",
          "female",
          "male",
          "female",
          "female",
          "female",
          "female",
          "male",
          "male",
          "female",
          "female",
          "male",
          "female",
          "male",
          "male",
          "female",
          "male",
          "male",
          "male",
          "female",
          "male",
          "male",
          "male",
          "male",
          "male",
          "female",
          "male",
          "female",
          "male",
          "female",
          "male",
          "male",
          "male",
          "female",
          "female",
          "female",
          "male",
          "male",
          "female",
          "female",
          "male",
          "female",
          "female",
          "female",
          "male",
          "male",
          "female",
          "female",
          "male",
          "male",
          "female",
          "male",
          "female",
          "male",
          "male",
          "male",
          "female",
          "female",
          "male",
          "female",
          "male",
          "male",
          "female",
          "male",
          "male",
          "female",
          "female",
          "female",
          "female",
          "female",
          "male",
          "male",
          "female",
          "male",
          "male",
          "male",
          "female",
          "male",
          "female",
          "male",
          "male",
          "male",
          "male",
          "male",
          "female",
          "female",
          "male",
          "female",
          "female",
          "male",
          "male",
          "female",
          "male",
          "female",
          "male",
          "female",
          "male",
          "male",
          "male",
          "male",
          "male",
          "male",
          "male",
          "male",
          "male",
          "male",
          "female",
          "male",
          "male",
          "female",
          "female",
          "male",
          "female",
          "male",
          "male",
          "female",
          "female",
          "female",
          "male",
          "male",
          "female",
          "male",
          "male",
          "female",
          "female",
          "male",
          "male",
          "male",
          "male",
          "female",
          "female",
          "female",
          "male",
          "male",
          "male",
          "male",
          "male",
          "female",
          "male",
          "female",
          "male",
          "female",
          "female",
          "male",
          "female",
          "female",
          "male",
          "male",
          "male",
          "female",
          "male",
          "male",
          "female",
          "male",
          "male",
          "male",
          "female",
          "male",
          "female",
          "female",
          "male",
          "male",
          "male",
          "female",
          "male",
          "male",
          "male",
          "female",
          "male",
          "male",
          "male",
          "female",
          "male",
          "female",
          "male",
          "male",
          "male",
          "male",
          "male",
          "female",
          "female",
          "male",
          "male",
          "female",
          "male",
          "male",
          "male",
          "male",
          "male",
          "female",
          "female",
          "female",
          "female",
          "female",
          "female",
          "male",
          "female",
          "male",
          "male",
          "male",
          "female",
          "male",
          "female",
          "male",
          "male",
          "male",
          "male",
          "male",
          "male",
          "male",
          "male",
          "male",
          "female",
          "female",
          "female",
          "female",
          "female",
          "female",
          "female",
          "male",
          "male",
          "male",
          "female",
          "female",
          "male",
          "female",
          "female",
          "female",
          "female",
          "male",
          "female",
          "male",
          "female",
          "male",
          "male",
          "female",
          "female",
          "female",
          "female",
          "male",
          "female",
          "male",
          "female",
          "female",
          "female",
          "male",
          "male",
          "female",
          "male",
          "male",
          "male",
          "male",
          "male",
          "female",
          "male",
          "female",
          "female",
          "female",
          "male",
          "male",
          "female",
          "male",
          "female",
          "male",
          "male",
          "male",
          "male",
          "female",
          "male",
          "female",
          "male",
          "female",
          "female",
          "male",
          "female",
          "female",
          "female",
          "male",
          "male",
          "male",
          "female",
          "male",
          "female",
          "female",
          "female",
          "female",
          "female",
          "male",
          "male",
          "male",
          "male",
          "female",
          "male",
          "female",
          "male",
          "female",
          "female",
          "female",
          "male",
          "male",
          "male",
          "male",
          "female",
          "female",
          "female",
          "male",
          "female",
          "male",
          "male",
          "male",
          "male",
          "female",
          "female",
          "female",
          "male",
          "female",
          "female",
          "female",
          "female",
          "female",
          "female",
          "female",
          "male",
          "male",
          "male",
          "male",
          "female",
          "female",
          "female",
          "male",
          "female",
          "male",
          "male",
          "female",
          "female",
          "female",
          "male",
          "male",
          "female",
          "female",
          "male",
          "male",
          "female",
          "female",
          "female",
          "male",
          "female",
          "male",
          "female",
          "female",
          "female",
          "female",
          "male",
          "female",
          "male",
          "male",
          "male",
          "male",
          "male",
          "male",
          "male",
          "female",
          "male",
          "female",
          "male",
          "male",
          "male",
          "male",
          "male",
          "female",
          "female",
          "male",
          "female",
          "male",
          "female",
          "female",
          "male",
          "female",
          "female",
          "female",
          "female",
          "male",
          "male",
          "male",
          "female",
          "male",
          "female",
          "male",
          "male",
          "male",
          "male",
          "male",
          "male",
          "male",
          "female",
          "female",
          "female",
          "male",
          "female",
          "female",
          "male",
          "male",
          "female",
          "male",
          "female",
          "male",
          "male",
          "male",
          "female",
          "male",
          "male",
          "female",
          "female",
          "male",
          "male",
          "female",
          "male",
          "female",
          "female",
          "female",
          "male",
          "female",
          "female",
          "male",
          "female",
          "female",
          "male",
          "female",
          "female",
          "male",
          "male",
          "male",
          "male",
          "male",
          "female",
          "female",
          "female",
          "male",
          "male",
          "male",
          "female",
          "male",
          "female",
          "male",
          "male",
          "female",
          "male",
          "female",
          "female",
          "female",
          "male",
          "male",
          "female",
          "male",
          "male",
          "male",
          "female",
          "male",
          "female",
          "male",
          "male",
          "female",
          "male",
          "female",
          "female",
          "female",
          "male",
          "male",
          "male",
          "female",
          "male",
          "male",
          "male",
          "female",
          "female",
          "female",
          "male",
          "female",
          "female",
          "female",
          "male",
          "female",
          "male",
          "female",
          "male",
          "female",
          "male",
          "female",
          "male",
          "female",
          "male",
          "female",
          "female",
          "male",
          "female",
          "female",
          "male",
          "male",
          "male",
          "female",
          "male",
          "female",
          "female",
          "female",
          "female",
          "male",
          "female",
          "female",
          "male",
          "male",
          "female",
          "female",
          "male",
          "female",
          "female",
          "female",
          "female",
          "male",
          "female",
          "female",
          "female",
          "female",
          "female",
          "female",
          "male",
          "male",
          "female",
          "male",
          "female",
          "female",
          "male",
          "male",
          "male",
          "male",
          "female",
          "female",
          "female",
          "female",
          "female",
          "female",
          "female",
          "female",
          "female",
          "male",
          "female",
          "male",
          "female",
          "male",
          "female",
          "female",
          "male",
          "female",
          "female",
          "female",
          "female",
          "female",
          "male",
          "female",
          "female",
          "female",
          "female",
          "female",
          "male",
          "female",
          "male",
          "male",
          "male",
          "male",
          "female",
          "female",
          "male",
          "female",
          "male",
          "female",
          "female",
          "male",
          "male",
          "male",
          "male",
          "male",
          "female",
          "female",
          "male",
          "female",
          "female",
          "female",
          "male",
          "female",
          "female",
          "female",
          "female",
          "female",
          "male",
          "male",
          "female",
          "male",
          "female",
          "female",
          "male",
          "female",
          "male",
          "female",
          "male",
          "female",
          "male",
          "female",
          "male",
          "female",
          "female",
          "male",
          "female",
          "female",
          "female",
          "female",
          "male",
          "male",
          "female",
          "male",
          "male",
          "female",
          "female",
          "male",
          "female",
          "female",
          "female",
          "male",
          "male",
          "female",
          "female",
          "female",
          "female",
          "female",
          "male",
          "male",
          "male",
          "female",
          "male",
          "male",
          "female",
          "female",
          "male",
          "female",
          "male",
          "female",
          "female",
          "female",
          "female",
          "female",
          "male",
          "female",
          "male",
          "male",
          "male",
          "male",
          "female",
          "male",
          "male",
          "female",
          "female",
          "male",
          "female",
          "male",
          "female",
          "female",
          "male",
          "male",
          "male",
          "female",
          "female",
          "female",
          "male",
          "male",
          "male",
          "male",
          "male",
          "female",
          "male",
          "male",
          "male",
          "male",
          "female",
          "male",
          "male",
          "female",
          "female",
          "male",
          "female",
          "male",
          "male",
          "male",
          "male",
          "female",
          "male",
          "male",
          "female",
          "male",
          "male",
          "male",
          "male",
          "female",
          "female",
          "male",
          "male",
          "male",
          "male",
          "female",
          "female",
          "male",
          "male",
          "male",
          "female",
          "male",
          "male",
          "female",
          "male",
          "male",
          "male",
          "male",
          "female",
          "female",
          "female",
          "female",
          "male",
          "male",
          "female",
          "male",
          "male",
          "female",
          "female",
          "male",
          "female",
          "female",
          "male",
          "male",
          "female",
          "male",
          "female",
          "female",
          "male",
          "male",
          "male",
          "female",
          "male",
          "female",
          "female",
          "male",
          "female",
          "female",
          "male",
          "female",
          "female",
          "male",
          "female",
          "female",
          "female",
          "female",
          "female",
          "female",
          "female",
          "male",
          "female",
          "male",
          "female",
          "female",
          "male",
          "male",
          "female",
          "male",
          "female",
          "male",
          "female",
          "male",
          "female",
          "male",
          "male",
          "female",
          "female",
          "female",
          "female",
          "male",
          "female",
          "female",
          "male",
          "male",
          "male",
          "female",
          "male",
          "male",
          "female",
          "male",
          "male",
          "female",
          "male",
          "female",
          "female",
          "female",
          "male",
          "male",
          "male",
          "female",
          "male",
          "female",
          "male",
          "male",
          "male",
          "male",
          "male",
          "female",
          "male",
          "male",
          "female",
          "male",
          "female",
          "female",
          "female",
          "male",
          "male",
          "male",
          "male",
          "male",
          "female",
          "male",
          "female",
          "female",
          "female",
          "female",
          "male",
          "female",
          "male",
          "male",
          "male",
          "male",
          "male",
          "male",
          "female",
          "female",
          "male",
          "male",
          "female",
          "male",
          "female",
          "female",
          "female",
          "female",
          "male",
          "female",
          "male",
          "male",
          "male",
          "male",
          "male",
          "female",
          "female",
          "female",
          "female",
          "male",
          "female",
          "male",
          "female",
          "female",
          "male",
          "female",
          "female",
          "male",
          "male",
          "male",
          "male",
          "male",
          "male",
          "male",
          "female",
          "female",
          "male",
          "female",
          "female",
          "male",
          "female",
          "female",
          "female",
          "female",
          "female",
          "female",
          "female",
          "female",
          "female",
          "female",
          "female",
          "male",
          "female",
          "male",
          "female",
          "male",
          "female",
          "male",
          "female",
          "male",
          "male",
          "female",
          "female",
          "male",
          "female",
          "female",
          "male",
          "male",
          "female",
          "female",
          "female",
          "male",
          "male",
          "male",
          "female",
          "female",
          "female",
          "male",
          "male",
          "female",
          "male",
          "male",
          "male",
          "male",
          "male",
          "male",
          "female",
          "male",
          "male",
          "male",
          "male",
          "female",
          "female",
          "male",
          "male",
          "male",
          "male",
          "female",
          "female",
          "male",
          "male",
          "male",
          "female",
          "male",
          "male",
          "female",
          "male",
          "female",
          "male",
          "male",
          "female",
          "female",
          "male",
          "male",
          "male",
          "female",
          "female",
          "female",
          "male",
          "female",
          "male",
          "male",
          "male",
          "female",
          "female",
          "female",
          "female",
          "male",
          "male",
          "female",
          "female",
          "male",
          "female",
          "female",
          "male",
          "female",
          "male",
          "male",
          "female",
          "female",
          "male",
          "female",
          "female",
          "male",
          "female",
          "male",
          "female",
          "male",
          "male",
          "male",
          "male",
          "male",
          "male",
          "male",
          "female",
          "female",
          "male",
          "male",
          "female",
          "female",
          "male",
          "male",
          "male",
          "female",
          "male",
          "male",
          "male",
          "male",
          "male",
          "female",
          "female",
          "male",
          "male",
          "female",
          "female",
          "female",
          "female",
          "male",
          "female",
          "female",
          "female",
          "female",
          "male",
          "male",
          "male",
          "male",
          "female",
          "male",
          "female",
          "male",
          "female",
          "male",
          "male",
          "female",
          "male",
          "male",
          "male",
          "female",
          "male",
          "male",
          "male",
          "male",
          "male",
          "female",
          "male",
          "male",
          "male",
          "male",
          "male",
          "female",
          "female",
          "female",
          "female"
         ],
         "xaxis": "x",
         "yaxis": "y"
        }
       ],
       "layout": {
        "barmode": "relative",
        "legend": {
         "tracegroupgap": 0
        },
        "template": {
         "data": {
          "bar": [
           {
            "error_x": {
             "color": "#2a3f5f"
            },
            "error_y": {
             "color": "#2a3f5f"
            },
            "marker": {
             "line": {
              "color": "#E5ECF6",
              "width": 0.5
             },
             "pattern": {
              "fillmode": "overlay",
              "size": 10,
              "solidity": 0.2
             }
            },
            "type": "bar"
           }
          ],
          "barpolar": [
           {
            "marker": {
             "line": {
              "color": "#E5ECF6",
              "width": 0.5
             },
             "pattern": {
              "fillmode": "overlay",
              "size": 10,
              "solidity": 0.2
             }
            },
            "type": "barpolar"
           }
          ],
          "carpet": [
           {
            "aaxis": {
             "endlinecolor": "#2a3f5f",
             "gridcolor": "white",
             "linecolor": "white",
             "minorgridcolor": "white",
             "startlinecolor": "#2a3f5f"
            },
            "baxis": {
             "endlinecolor": "#2a3f5f",
             "gridcolor": "white",
             "linecolor": "white",
             "minorgridcolor": "white",
             "startlinecolor": "#2a3f5f"
            },
            "type": "carpet"
           }
          ],
          "choropleth": [
           {
            "colorbar": {
             "outlinewidth": 0,
             "ticks": ""
            },
            "type": "choropleth"
           }
          ],
          "contour": [
           {
            "colorbar": {
             "outlinewidth": 0,
             "ticks": ""
            },
            "colorscale": [
             [
              0,
              "#0d0887"
             ],
             [
              0.1111111111111111,
              "#46039f"
             ],
             [
              0.2222222222222222,
              "#7201a8"
             ],
             [
              0.3333333333333333,
              "#9c179e"
             ],
             [
              0.4444444444444444,
              "#bd3786"
             ],
             [
              0.5555555555555556,
              "#d8576b"
             ],
             [
              0.6666666666666666,
              "#ed7953"
             ],
             [
              0.7777777777777778,
              "#fb9f3a"
             ],
             [
              0.8888888888888888,
              "#fdca26"
             ],
             [
              1,
              "#f0f921"
             ]
            ],
            "type": "contour"
           }
          ],
          "contourcarpet": [
           {
            "colorbar": {
             "outlinewidth": 0,
             "ticks": ""
            },
            "type": "contourcarpet"
           }
          ],
          "heatmap": [
           {
            "colorbar": {
             "outlinewidth": 0,
             "ticks": ""
            },
            "colorscale": [
             [
              0,
              "#0d0887"
             ],
             [
              0.1111111111111111,
              "#46039f"
             ],
             [
              0.2222222222222222,
              "#7201a8"
             ],
             [
              0.3333333333333333,
              "#9c179e"
             ],
             [
              0.4444444444444444,
              "#bd3786"
             ],
             [
              0.5555555555555556,
              "#d8576b"
             ],
             [
              0.6666666666666666,
              "#ed7953"
             ],
             [
              0.7777777777777778,
              "#fb9f3a"
             ],
             [
              0.8888888888888888,
              "#fdca26"
             ],
             [
              1,
              "#f0f921"
             ]
            ],
            "type": "heatmap"
           }
          ],
          "heatmapgl": [
           {
            "colorbar": {
             "outlinewidth": 0,
             "ticks": ""
            },
            "colorscale": [
             [
              0,
              "#0d0887"
             ],
             [
              0.1111111111111111,
              "#46039f"
             ],
             [
              0.2222222222222222,
              "#7201a8"
             ],
             [
              0.3333333333333333,
              "#9c179e"
             ],
             [
              0.4444444444444444,
              "#bd3786"
             ],
             [
              0.5555555555555556,
              "#d8576b"
             ],
             [
              0.6666666666666666,
              "#ed7953"
             ],
             [
              0.7777777777777778,
              "#fb9f3a"
             ],
             [
              0.8888888888888888,
              "#fdca26"
             ],
             [
              1,
              "#f0f921"
             ]
            ],
            "type": "heatmapgl"
           }
          ],
          "histogram": [
           {
            "marker": {
             "pattern": {
              "fillmode": "overlay",
              "size": 10,
              "solidity": 0.2
             }
            },
            "type": "histogram"
           }
          ],
          "histogram2d": [
           {
            "colorbar": {
             "outlinewidth": 0,
             "ticks": ""
            },
            "colorscale": [
             [
              0,
              "#0d0887"
             ],
             [
              0.1111111111111111,
              "#46039f"
             ],
             [
              0.2222222222222222,
              "#7201a8"
             ],
             [
              0.3333333333333333,
              "#9c179e"
             ],
             [
              0.4444444444444444,
              "#bd3786"
             ],
             [
              0.5555555555555556,
              "#d8576b"
             ],
             [
              0.6666666666666666,
              "#ed7953"
             ],
             [
              0.7777777777777778,
              "#fb9f3a"
             ],
             [
              0.8888888888888888,
              "#fdca26"
             ],
             [
              1,
              "#f0f921"
             ]
            ],
            "type": "histogram2d"
           }
          ],
          "histogram2dcontour": [
           {
            "colorbar": {
             "outlinewidth": 0,
             "ticks": ""
            },
            "colorscale": [
             [
              0,
              "#0d0887"
             ],
             [
              0.1111111111111111,
              "#46039f"
             ],
             [
              0.2222222222222222,
              "#7201a8"
             ],
             [
              0.3333333333333333,
              "#9c179e"
             ],
             [
              0.4444444444444444,
              "#bd3786"
             ],
             [
              0.5555555555555556,
              "#d8576b"
             ],
             [
              0.6666666666666666,
              "#ed7953"
             ],
             [
              0.7777777777777778,
              "#fb9f3a"
             ],
             [
              0.8888888888888888,
              "#fdca26"
             ],
             [
              1,
              "#f0f921"
             ]
            ],
            "type": "histogram2dcontour"
           }
          ],
          "mesh3d": [
           {
            "colorbar": {
             "outlinewidth": 0,
             "ticks": ""
            },
            "type": "mesh3d"
           }
          ],
          "parcoords": [
           {
            "line": {
             "colorbar": {
              "outlinewidth": 0,
              "ticks": ""
             }
            },
            "type": "parcoords"
           }
          ],
          "pie": [
           {
            "automargin": true,
            "type": "pie"
           }
          ],
          "scatter": [
           {
            "fillpattern": {
             "fillmode": "overlay",
             "size": 10,
             "solidity": 0.2
            },
            "type": "scatter"
           }
          ],
          "scatter3d": [
           {
            "line": {
             "colorbar": {
              "outlinewidth": 0,
              "ticks": ""
             }
            },
            "marker": {
             "colorbar": {
              "outlinewidth": 0,
              "ticks": ""
             }
            },
            "type": "scatter3d"
           }
          ],
          "scattercarpet": [
           {
            "marker": {
             "colorbar": {
              "outlinewidth": 0,
              "ticks": ""
             }
            },
            "type": "scattercarpet"
           }
          ],
          "scattergeo": [
           {
            "marker": {
             "colorbar": {
              "outlinewidth": 0,
              "ticks": ""
             }
            },
            "type": "scattergeo"
           }
          ],
          "scattergl": [
           {
            "marker": {
             "colorbar": {
              "outlinewidth": 0,
              "ticks": ""
             }
            },
            "type": "scattergl"
           }
          ],
          "scattermapbox": [
           {
            "marker": {
             "colorbar": {
              "outlinewidth": 0,
              "ticks": ""
             }
            },
            "type": "scattermapbox"
           }
          ],
          "scatterpolar": [
           {
            "marker": {
             "colorbar": {
              "outlinewidth": 0,
              "ticks": ""
             }
            },
            "type": "scatterpolar"
           }
          ],
          "scatterpolargl": [
           {
            "marker": {
             "colorbar": {
              "outlinewidth": 0,
              "ticks": ""
             }
            },
            "type": "scatterpolargl"
           }
          ],
          "scatterternary": [
           {
            "marker": {
             "colorbar": {
              "outlinewidth": 0,
              "ticks": ""
             }
            },
            "type": "scatterternary"
           }
          ],
          "surface": [
           {
            "colorbar": {
             "outlinewidth": 0,
             "ticks": ""
            },
            "colorscale": [
             [
              0,
              "#0d0887"
             ],
             [
              0.1111111111111111,
              "#46039f"
             ],
             [
              0.2222222222222222,
              "#7201a8"
             ],
             [
              0.3333333333333333,
              "#9c179e"
             ],
             [
              0.4444444444444444,
              "#bd3786"
             ],
             [
              0.5555555555555556,
              "#d8576b"
             ],
             [
              0.6666666666666666,
              "#ed7953"
             ],
             [
              0.7777777777777778,
              "#fb9f3a"
             ],
             [
              0.8888888888888888,
              "#fdca26"
             ],
             [
              1,
              "#f0f921"
             ]
            ],
            "type": "surface"
           }
          ],
          "table": [
           {
            "cells": {
             "fill": {
              "color": "#EBF0F8"
             },
             "line": {
              "color": "white"
             }
            },
            "header": {
             "fill": {
              "color": "#C8D4E3"
             },
             "line": {
              "color": "white"
             }
            },
            "type": "table"
           }
          ]
         },
         "layout": {
          "annotationdefaults": {
           "arrowcolor": "#2a3f5f",
           "arrowhead": 0,
           "arrowwidth": 1
          },
          "autotypenumbers": "strict",
          "coloraxis": {
           "colorbar": {
            "outlinewidth": 0,
            "ticks": ""
           }
          },
          "colorscale": {
           "diverging": [
            [
             0,
             "#8e0152"
            ],
            [
             0.1,
             "#c51b7d"
            ],
            [
             0.2,
             "#de77ae"
            ],
            [
             0.3,
             "#f1b6da"
            ],
            [
             0.4,
             "#fde0ef"
            ],
            [
             0.5,
             "#f7f7f7"
            ],
            [
             0.6,
             "#e6f5d0"
            ],
            [
             0.7,
             "#b8e186"
            ],
            [
             0.8,
             "#7fbc41"
            ],
            [
             0.9,
             "#4d9221"
            ],
            [
             1,
             "#276419"
            ]
           ],
           "sequential": [
            [
             0,
             "#0d0887"
            ],
            [
             0.1111111111111111,
             "#46039f"
            ],
            [
             0.2222222222222222,
             "#7201a8"
            ],
            [
             0.3333333333333333,
             "#9c179e"
            ],
            [
             0.4444444444444444,
             "#bd3786"
            ],
            [
             0.5555555555555556,
             "#d8576b"
            ],
            [
             0.6666666666666666,
             "#ed7953"
            ],
            [
             0.7777777777777778,
             "#fb9f3a"
            ],
            [
             0.8888888888888888,
             "#fdca26"
            ],
            [
             1,
             "#f0f921"
            ]
           ],
           "sequentialminus": [
            [
             0,
             "#0d0887"
            ],
            [
             0.1111111111111111,
             "#46039f"
            ],
            [
             0.2222222222222222,
             "#7201a8"
            ],
            [
             0.3333333333333333,
             "#9c179e"
            ],
            [
             0.4444444444444444,
             "#bd3786"
            ],
            [
             0.5555555555555556,
             "#d8576b"
            ],
            [
             0.6666666666666666,
             "#ed7953"
            ],
            [
             0.7777777777777778,
             "#fb9f3a"
            ],
            [
             0.8888888888888888,
             "#fdca26"
            ],
            [
             1,
             "#f0f921"
            ]
           ]
          },
          "colorway": [
           "#636efa",
           "#EF553B",
           "#00cc96",
           "#ab63fa",
           "#FFA15A",
           "#19d3f3",
           "#FF6692",
           "#B6E880",
           "#FF97FF",
           "#FECB52"
          ],
          "font": {
           "color": "#2a3f5f"
          },
          "geo": {
           "bgcolor": "white",
           "lakecolor": "white",
           "landcolor": "#E5ECF6",
           "showlakes": true,
           "showland": true,
           "subunitcolor": "white"
          },
          "hoverlabel": {
           "align": "left"
          },
          "hovermode": "closest",
          "mapbox": {
           "style": "light"
          },
          "paper_bgcolor": "white",
          "plot_bgcolor": "#E5ECF6",
          "polar": {
           "angularaxis": {
            "gridcolor": "white",
            "linecolor": "white",
            "ticks": ""
           },
           "bgcolor": "#E5ECF6",
           "radialaxis": {
            "gridcolor": "white",
            "linecolor": "white",
            "ticks": ""
           }
          },
          "scene": {
           "xaxis": {
            "backgroundcolor": "#E5ECF6",
            "gridcolor": "white",
            "gridwidth": 2,
            "linecolor": "white",
            "showbackground": true,
            "ticks": "",
            "zerolinecolor": "white"
           },
           "yaxis": {
            "backgroundcolor": "#E5ECF6",
            "gridcolor": "white",
            "gridwidth": 2,
            "linecolor": "white",
            "showbackground": true,
            "ticks": "",
            "zerolinecolor": "white"
           },
           "zaxis": {
            "backgroundcolor": "#E5ECF6",
            "gridcolor": "white",
            "gridwidth": 2,
            "linecolor": "white",
            "showbackground": true,
            "ticks": "",
            "zerolinecolor": "white"
           }
          },
          "shapedefaults": {
           "line": {
            "color": "#2a3f5f"
           }
          },
          "ternary": {
           "aaxis": {
            "gridcolor": "white",
            "linecolor": "white",
            "ticks": ""
           },
           "baxis": {
            "gridcolor": "white",
            "linecolor": "white",
            "ticks": ""
           },
           "bgcolor": "#E5ECF6",
           "caxis": {
            "gridcolor": "white",
            "linecolor": "white",
            "ticks": ""
           }
          },
          "title": {
           "x": 0.05
          },
          "xaxis": {
           "automargin": true,
           "gridcolor": "white",
           "linecolor": "white",
           "ticks": "",
           "title": {
            "standoff": 15
           },
           "zerolinecolor": "white",
           "zerolinewidth": 2
          },
          "yaxis": {
           "automargin": true,
           "gridcolor": "white",
           "linecolor": "white",
           "ticks": "",
           "title": {
            "standoff": 15
           },
           "zerolinecolor": "white",
           "zerolinewidth": 2
          }
         }
        },
        "title": {
         "text": "Sex"
        },
        "xaxis": {
         "anchor": "y",
         "domain": [
          0,
          1
         ],
         "title": {
          "text": "sex"
         }
        },
        "yaxis": {
         "anchor": "x",
         "domain": [
          0,
          1
         ],
         "title": {
          "text": "count"
         }
        }
       }
      }
     },
     "metadata": {},
     "output_type": "display_data"
    }
   ],
   "source": [
    "px.histogram(charges_df, x='sex', title='Sex')"
   ]
  },
  {
   "cell_type": "code",
   "execution_count": 83,
   "metadata": {},
   "outputs": [
    {
     "data": {
      "application/vnd.plotly.v1+json": {
       "config": {
        "plotlyServerURL": "https://plot.ly"
       },
       "data": [
        {
         "alignmentgroup": "True",
         "bingroup": "x",
         "hovertemplate": "region=%{x}<br>count=%{y}<extra></extra>",
         "legendgroup": "",
         "marker": {
          "color": "#636efa",
          "pattern": {
           "shape": ""
          }
         },
         "name": "",
         "offsetgroup": "",
         "orientation": "v",
         "showlegend": false,
         "type": "histogram",
         "x": [
          "southwest",
          "southeast",
          "southeast",
          "southeast",
          "northeast",
          "southwest",
          "southeast",
          "northwest",
          "northwest",
          "southwest",
          "southwest",
          "northeast",
          "southeast",
          "northwest",
          "northwest",
          "northwest",
          "northeast",
          "northeast",
          "northwest",
          "southeast",
          "southwest",
          "northwest",
          "southwest",
          "southwest",
          "northwest",
          "southwest",
          "southwest",
          "southwest",
          "northeast",
          "southeast",
          "southeast",
          "northwest",
          "southeast",
          "northeast",
          "northeast",
          "northwest",
          "northeast",
          "northeast",
          "southeast",
          "southeast",
          "southwest",
          "southeast",
          "northwest",
          "northwest",
          "southwest",
          "northeast",
          "southeast",
          "southeast",
          "northwest",
          "northeast",
          "northwest",
          "northeast",
          "southwest",
          "northeast",
          "southeast",
          "southwest",
          "northwest",
          "southwest",
          "northwest",
          "northeast",
          "southwest",
          "southwest",
          "northeast",
          "northeast",
          "southwest",
          "northeast",
          "northwest",
          "northeast",
          "northeast",
          "northeast",
          "southeast",
          "southeast",
          "northwest",
          "northeast",
          "southeast",
          "southeast",
          "northeast",
          "northwest",
          "southwest",
          "northwest",
          "southeast",
          "southeast",
          "southwest",
          "northeast",
          "southwest",
          "northwest",
          "southwest",
          "northwest",
          "northeast",
          "southeast",
          "northwest",
          "northeast",
          "southwest",
          "southeast",
          "northwest",
          "southwest",
          "northwest",
          "southwest",
          "northwest",
          "northeast",
          "southwest",
          "northeast",
          "southeast",
          "southwest",
          "southeast",
          "southwest",
          "southeast",
          "southwest",
          "southwest",
          "northeast",
          "southeast",
          "southeast",
          "northeast",
          "southeast",
          "southeast",
          "southwest",
          "northeast",
          "southwest",
          "northwest",
          "northwest",
          "southeast",
          "southeast",
          "southwest",
          "northeast",
          "southwest",
          "southwest",
          "southwest",
          "northwest",
          "northwest",
          "southwest",
          "southwest",
          "northeast",
          "southwest",
          "northwest",
          "northwest",
          "southeast",
          "northeast",
          "southeast",
          "northwest",
          "southwest",
          "southeast",
          "northeast",
          "southwest",
          "northeast",
          "southeast",
          "southeast",
          "southwest",
          "northwest",
          "southeast",
          "southwest",
          "southeast",
          "northeast",
          "northwest",
          "southwest",
          "southeast",
          "southeast",
          "northwest",
          "northwest",
          "southeast",
          "southwest",
          "southwest",
          "southwest",
          "northwest",
          "northwest",
          "southwest",
          "northwest",
          "southeast",
          "northwest",
          "southeast",
          "northwest",
          "southwest",
          "northwest",
          "northeast",
          "northeast",
          "southeast",
          "southwest",
          "northeast",
          "northwest",
          "southeast",
          "southwest",
          "northeast",
          "northeast",
          "southwest",
          "southeast",
          "southwest",
          "northeast",
          "northwest",
          "southwest",
          "northwest",
          "southeast",
          "southwest",
          "northwest",
          "southwest",
          "southwest",
          "southeast",
          "southeast",
          "northeast",
          "southeast",
          "southeast",
          "northeast",
          "northeast",
          "northwest",
          "southwest",
          "northwest",
          "northwest",
          "southeast",
          "southeast",
          "northwest",
          "southeast",
          "northeast",
          "northwest",
          "northeast",
          "southeast",
          "southeast",
          "southeast",
          "southwest",
          "southwest",
          "northeast",
          "southeast",
          "southwest",
          "northeast",
          "southwest",
          "southwest",
          "southwest",
          "southwest",
          "southwest",
          "northeast",
          "northwest",
          "southeast",
          "southwest",
          "northwest",
          "southwest",
          "northeast",
          "northwest",
          "southeast",
          "southeast",
          "northwest",
          "southwest",
          "southwest",
          "northwest",
          "northwest",
          "southeast",
          "southwest",
          "southeast",
          "southeast",
          "southwest",
          "southwest",
          "northwest",
          "northeast",
          "northwest",
          "northwest",
          "northeast",
          "southeast",
          "northeast",
          "northeast",
          "northwest",
          "southwest",
          "southeast",
          "northwest",
          "northeast",
          "southeast",
          "northwest",
          "southwest",
          "northwest",
          "northeast",
          "northeast",
          "southeast",
          "southwest",
          "southeast",
          "southeast",
          "northwest",
          "southeast",
          "southwest",
          "southeast",
          "southeast",
          "southeast",
          "northeast",
          "northeast",
          "northwest",
          "northwest",
          "northeast",
          "northwest",
          "northwest",
          "northeast",
          "southeast",
          "northwest",
          "northeast",
          "northeast",
          "southeast",
          "northwest",
          "northwest",
          "northwest",
          "northeast",
          "southwest",
          "southwest",
          "southeast",
          "northwest",
          "southeast",
          "southwest",
          "northeast",
          "southeast",
          "southeast",
          "southeast",
          "northeast",
          "southeast",
          "northeast",
          "southeast",
          "northeast",
          "southwest",
          "northeast",
          "northwest",
          "northwest",
          "northwest",
          "northeast",
          "southwest",
          "southwest",
          "northeast",
          "northwest",
          "northeast",
          "southeast",
          "southwest",
          "northeast",
          "southeast",
          "southeast",
          "southwest",
          "northwest",
          "southeast",
          "northwest",
          "southwest",
          "southeast",
          "southeast",
          "southeast",
          "southeast",
          "northwest",
          "northeast",
          "northwest",
          "southeast",
          "northwest",
          "southwest",
          "southwest",
          "southwest",
          "northeast",
          "northwest",
          "northwest",
          "southeast",
          "northeast",
          "southeast",
          "northeast",
          "northwest",
          "southwest",
          "southwest",
          "northwest",
          "southeast",
          "southwest",
          "southwest",
          "southeast",
          "southwest",
          "southeast",
          "northeast",
          "southeast",
          "southeast",
          "northeast",
          "southeast",
          "southeast",
          "southwest",
          "northeast",
          "southwest",
          "northwest",
          "northeast",
          "northeast",
          "northeast",
          "southwest",
          "southeast",
          "southwest",
          "northeast",
          "southeast",
          "southeast",
          "southeast",
          "southeast",
          "northwest",
          "northeast",
          "southeast",
          "southeast",
          "northwest",
          "northeast",
          "southeast",
          "southwest",
          "northwest",
          "southeast",
          "southwest",
          "northwest",
          "southeast",
          "northeast",
          "southeast",
          "southwest",
          "southeast",
          "northeast",
          "northwest",
          "southeast",
          "northwest",
          "northwest",
          "southwest",
          "southeast",
          "northeast",
          "northwest",
          "northeast",
          "southwest",
          "southwest",
          "northwest",
          "southeast",
          "northeast",
          "southeast",
          "northwest",
          "northwest",
          "southeast",
          "northwest",
          "southeast",
          "northwest",
          "northeast",
          "southeast",
          "southeast",
          "southeast",
          "northwest",
          "southwest",
          "southeast",
          "southeast",
          "southeast",
          "northeast",
          "northeast",
          "northeast",
          "northwest",
          "northwest",
          "southeast",
          "southeast",
          "southwest",
          "northeast",
          "northwest",
          "southwest",
          "southwest",
          "northeast",
          "southeast",
          "northeast",
          "southwest",
          "northwest",
          "northeast",
          "southwest",
          "northeast",
          "southwest",
          "southeast",
          "southwest",
          "northwest",
          "southeast",
          "southeast",
          "southeast",
          "southeast",
          "southeast",
          "southwest",
          "northwest",
          "northwest",
          "southeast",
          "northeast",
          "southwest",
          "southwest",
          "southwest",
          "southeast",
          "northwest",
          "northeast",
          "northeast",
          "northwest",
          "southwest",
          "southwest",
          "southeast",
          "northeast",
          "northwest",
          "southeast",
          "northeast",
          "southeast",
          "southwest",
          "southeast",
          "northeast",
          "northeast",
          "northeast",
          "southeast",
          "southwest",
          "southwest",
          "northeast",
          "northeast",
          "southwest",
          "southwest",
          "northwest",
          "southeast",
          "northwest",
          "southeast",
          "southwest",
          "northwest",
          "southwest",
          "northeast",
          "northeast",
          "southwest",
          "southeast",
          "southwest",
          "southwest",
          "northwest",
          "southeast",
          "northwest",
          "southeast",
          "southeast",
          "northwest",
          "southeast",
          "southeast",
          "southwest",
          "northwest",
          "northwest",
          "northeast",
          "northwest",
          "southeast",
          "northeast",
          "southeast",
          "northeast",
          "southwest",
          "northeast",
          "southwest",
          "southeast",
          "northwest",
          "northeast",
          "northwest",
          "southeast",
          "northwest",
          "southeast",
          "northwest",
          "northwest",
          "northwest",
          "northeast",
          "northwest",
          "northwest",
          "southwest",
          "northwest",
          "southwest",
          "northwest",
          "southwest",
          "northeast",
          "northwest",
          "southwest",
          "southeast",
          "northeast",
          "southeast",
          "southeast",
          "northeast",
          "northeast",
          "southeast",
          "southwest",
          "northwest",
          "southwest",
          "northwest",
          "northwest",
          "northeast",
          "northwest",
          "northeast",
          "northeast",
          "southeast",
          "southeast",
          "southwest",
          "northwest",
          "southwest",
          "southeast",
          "southeast",
          "northeast",
          "southeast",
          "southwest",
          "northwest",
          "southeast",
          "northwest",
          "northwest",
          "northwest",
          "northeast",
          "southeast",
          "southwest",
          "northeast",
          "southeast",
          "northwest",
          "southwest",
          "northwest",
          "southeast",
          "southwest",
          "northwest",
          "northwest",
          "southeast",
          "southeast",
          "southwest",
          "southeast",
          "northeast",
          "northeast",
          "northwest",
          "northwest",
          "northwest",
          "southwest",
          "southwest",
          "northeast",
          "northwest",
          "southwest",
          "southeast",
          "southeast",
          "northeast",
          "northwest",
          "northwest",
          "southwest",
          "southeast",
          "southeast",
          "northwest",
          "northeast",
          "southeast",
          "southeast",
          "northwest",
          "northwest",
          "southeast",
          "southwest",
          "southwest",
          "southeast",
          "northwest",
          "northwest",
          "northwest",
          "southwest",
          "northeast",
          "southeast",
          "northwest",
          "northwest",
          "northeast",
          "southwest",
          "southwest",
          "northwest",
          "northeast",
          "southwest",
          "southwest",
          "southeast",
          "northwest",
          "northeast",
          "southwest",
          "northeast",
          "northeast",
          "northeast",
          "northeast",
          "northwest",
          "southwest",
          "northwest",
          "southwest",
          "northwest",
          "northwest",
          "northeast",
          "southeast",
          "northeast",
          "northeast",
          "northeast",
          "northwest",
          "southeast",
          "northeast",
          "southwest",
          "northwest",
          "southeast",
          "southeast",
          "northeast",
          "northwest",
          "southeast",
          "northwest",
          "northeast",
          "southeast",
          "northeast",
          "northwest",
          "southwest",
          "northeast",
          "southeast",
          "southeast",
          "northwest",
          "northwest",
          "northeast",
          "southeast",
          "northeast",
          "southeast",
          "northeast",
          "northeast",
          "southeast",
          "northeast",
          "northeast",
          "northeast",
          "southeast",
          "northwest",
          "southwest",
          "northwest",
          "northeast",
          "southeast",
          "northwest",
          "southeast",
          "southeast",
          "southeast",
          "northwest",
          "northeast",
          "southeast",
          "northwest",
          "northeast",
          "northwest",
          "southwest",
          "southwest",
          "northeast",
          "northwest",
          "northeast",
          "southwest",
          "northeast",
          "northeast",
          "southwest",
          "southwest",
          "northeast",
          "northeast",
          "southwest",
          "southeast",
          "northeast",
          "southeast",
          "northeast",
          "northwest",
          "northeast",
          "southeast",
          "northwest",
          "southeast",
          "southeast",
          "southwest",
          "southwest",
          "southwest",
          "northwest",
          "northeast",
          "northwest",
          "northwest",
          "southeast",
          "northwest",
          "northeast",
          "southeast",
          "southeast",
          "northeast",
          "southwest",
          "southeast",
          "northeast",
          "southwest",
          "southeast",
          "northwest",
          "northeast",
          "southwest",
          "southwest",
          "northwest",
          "southeast",
          "northwest",
          "southeast",
          "southwest",
          "southeast",
          "northeast",
          "northwest",
          "southeast",
          "southeast",
          "southeast",
          "southeast",
          "southwest",
          "southeast",
          "northwest",
          "northwest",
          "northeast",
          "northeast",
          "southeast",
          "northwest",
          "northwest",
          "southwest",
          "southwest",
          "southwest",
          "southeast",
          "southeast",
          "northeast",
          "southeast",
          "southwest",
          "southwest",
          "northeast",
          "southeast",
          "southwest",
          "northwest",
          "northeast",
          "southwest",
          "northeast",
          "southeast",
          "northeast",
          "northeast",
          "southwest",
          "northwest",
          "northwest",
          "northeast",
          "northwest",
          "southwest",
          "southwest",
          "southwest",
          "southeast",
          "northeast",
          "northeast",
          "northwest",
          "southwest",
          "northwest",
          "southeast",
          "northwest",
          "northwest",
          "southeast",
          "southwest",
          "southeast",
          "northeast",
          "southwest",
          "southwest",
          "southeast",
          "southwest",
          "northeast",
          "southeast",
          "northwest",
          "southwest",
          "northwest",
          "southwest",
          "southeast",
          "southeast",
          "northeast",
          "southwest",
          "northwest",
          "northwest",
          "northwest",
          "southeast",
          "northwest",
          "southwest",
          "southwest",
          "southeast",
          "southwest",
          "northeast",
          "southeast",
          "northwest",
          "northeast",
          "southeast",
          "northeast",
          "southeast",
          "southeast",
          "northwest",
          "southwest",
          "northeast",
          "northeast",
          "northwest",
          "northeast",
          "northeast",
          "southwest",
          "northeast",
          "southeast",
          "northwest",
          "northwest",
          "southeast",
          "southwest",
          "northwest",
          "northeast",
          "northwest",
          "northeast",
          "southwest",
          "southeast",
          "northeast",
          "northwest",
          "southeast",
          "northeast",
          "northeast",
          "northeast",
          "southwest",
          "northeast",
          "southeast",
          "northwest",
          "southeast",
          "southeast",
          "southwest",
          "northeast",
          "southeast",
          "southwest",
          "southwest",
          "southeast",
          "northwest",
          "southeast",
          "northeast",
          "northeast",
          "northwest",
          "northeast",
          "northwest",
          "southeast",
          "southeast",
          "northwest",
          "southeast",
          "southwest",
          "northeast",
          "southwest",
          "southwest",
          "southwest",
          "southeast",
          "northwest",
          "northeast",
          "northeast",
          "northwest",
          "northeast",
          "northeast",
          "southwest",
          "northwest",
          "southwest",
          "northwest",
          "southwest",
          "southeast",
          "southwest",
          "northeast",
          "southeast",
          "northeast",
          "southwest",
          "southwest",
          "southeast",
          "northwest",
          "northeast",
          "northwest",
          "northwest",
          "northeast",
          "southwest",
          "northeast",
          "northeast",
          "northeast",
          "northeast",
          "southeast",
          "southeast",
          "northwest",
          "southeast",
          "southeast",
          "southeast",
          "southwest",
          "southwest",
          "southeast",
          "southeast",
          "southeast",
          "southeast",
          "southwest",
          "northwest",
          "southwest",
          "northwest",
          "southeast",
          "southeast",
          "southeast",
          "northeast",
          "southwest",
          "northeast",
          "northeast",
          "northwest",
          "northeast",
          "northeast",
          "southeast",
          "southwest",
          "northeast",
          "southeast",
          "southeast",
          "southwest",
          "southeast",
          "northwest",
          "southeast",
          "southwest",
          "southwest",
          "southwest",
          "northwest",
          "northwest",
          "southwest",
          "southeast",
          "northwest",
          "southeast",
          "southeast",
          "northeast",
          "southwest",
          "southwest",
          "northwest",
          "northwest",
          "northwest",
          "northeast",
          "southeast",
          "southeast",
          "southeast",
          "northwest",
          "southwest",
          "northwest",
          "northeast",
          "northeast",
          "southwest",
          "southwest",
          "southeast",
          "northwest",
          "southwest",
          "northwest",
          "northeast",
          "northwest",
          "southeast",
          "southwest",
          "southeast",
          "northeast",
          "southwest",
          "southeast",
          "northwest",
          "northwest",
          "northeast",
          "southeast",
          "southwest",
          "northwest",
          "southeast",
          "northwest",
          "southeast",
          "southeast",
          "northeast",
          "southeast",
          "northeast",
          "northeast",
          "southeast",
          "southwest",
          "southeast",
          "southwest",
          "northwest",
          "northwest",
          "southeast",
          "northeast",
          "southeast",
          "southwest",
          "northeast",
          "northeast",
          "southwest",
          "northeast",
          "southwest",
          "southeast",
          "southwest",
          "southeast",
          "northeast",
          "northeast",
          "southwest",
          "southwest",
          "southwest",
          "northeast",
          "northeast",
          "northeast",
          "southeast",
          "southwest",
          "northwest",
          "southeast",
          "northeast",
          "southwest",
          "southwest",
          "northeast",
          "northeast",
          "northeast",
          "southeast",
          "northeast",
          "southeast",
          "southwest",
          "northwest",
          "northeast",
          "southeast",
          "northeast",
          "southwest",
          "southwest",
          "southeast",
          "southeast",
          "northeast",
          "southwest",
          "northwest",
          "southwest",
          "southeast",
          "southeast",
          "northeast",
          "northwest",
          "northwest",
          "northeast",
          "northwest",
          "southwest",
          "northeast",
          "southeast"
         ],
         "xaxis": "x",
         "yaxis": "y"
        }
       ],
       "layout": {
        "barmode": "relative",
        "legend": {
         "tracegroupgap": 0
        },
        "template": {
         "data": {
          "bar": [
           {
            "error_x": {
             "color": "#2a3f5f"
            },
            "error_y": {
             "color": "#2a3f5f"
            },
            "marker": {
             "line": {
              "color": "#E5ECF6",
              "width": 0.5
             },
             "pattern": {
              "fillmode": "overlay",
              "size": 10,
              "solidity": 0.2
             }
            },
            "type": "bar"
           }
          ],
          "barpolar": [
           {
            "marker": {
             "line": {
              "color": "#E5ECF6",
              "width": 0.5
             },
             "pattern": {
              "fillmode": "overlay",
              "size": 10,
              "solidity": 0.2
             }
            },
            "type": "barpolar"
           }
          ],
          "carpet": [
           {
            "aaxis": {
             "endlinecolor": "#2a3f5f",
             "gridcolor": "white",
             "linecolor": "white",
             "minorgridcolor": "white",
             "startlinecolor": "#2a3f5f"
            },
            "baxis": {
             "endlinecolor": "#2a3f5f",
             "gridcolor": "white",
             "linecolor": "white",
             "minorgridcolor": "white",
             "startlinecolor": "#2a3f5f"
            },
            "type": "carpet"
           }
          ],
          "choropleth": [
           {
            "colorbar": {
             "outlinewidth": 0,
             "ticks": ""
            },
            "type": "choropleth"
           }
          ],
          "contour": [
           {
            "colorbar": {
             "outlinewidth": 0,
             "ticks": ""
            },
            "colorscale": [
             [
              0,
              "#0d0887"
             ],
             [
              0.1111111111111111,
              "#46039f"
             ],
             [
              0.2222222222222222,
              "#7201a8"
             ],
             [
              0.3333333333333333,
              "#9c179e"
             ],
             [
              0.4444444444444444,
              "#bd3786"
             ],
             [
              0.5555555555555556,
              "#d8576b"
             ],
             [
              0.6666666666666666,
              "#ed7953"
             ],
             [
              0.7777777777777778,
              "#fb9f3a"
             ],
             [
              0.8888888888888888,
              "#fdca26"
             ],
             [
              1,
              "#f0f921"
             ]
            ],
            "type": "contour"
           }
          ],
          "contourcarpet": [
           {
            "colorbar": {
             "outlinewidth": 0,
             "ticks": ""
            },
            "type": "contourcarpet"
           }
          ],
          "heatmap": [
           {
            "colorbar": {
             "outlinewidth": 0,
             "ticks": ""
            },
            "colorscale": [
             [
              0,
              "#0d0887"
             ],
             [
              0.1111111111111111,
              "#46039f"
             ],
             [
              0.2222222222222222,
              "#7201a8"
             ],
             [
              0.3333333333333333,
              "#9c179e"
             ],
             [
              0.4444444444444444,
              "#bd3786"
             ],
             [
              0.5555555555555556,
              "#d8576b"
             ],
             [
              0.6666666666666666,
              "#ed7953"
             ],
             [
              0.7777777777777778,
              "#fb9f3a"
             ],
             [
              0.8888888888888888,
              "#fdca26"
             ],
             [
              1,
              "#f0f921"
             ]
            ],
            "type": "heatmap"
           }
          ],
          "heatmapgl": [
           {
            "colorbar": {
             "outlinewidth": 0,
             "ticks": ""
            },
            "colorscale": [
             [
              0,
              "#0d0887"
             ],
             [
              0.1111111111111111,
              "#46039f"
             ],
             [
              0.2222222222222222,
              "#7201a8"
             ],
             [
              0.3333333333333333,
              "#9c179e"
             ],
             [
              0.4444444444444444,
              "#bd3786"
             ],
             [
              0.5555555555555556,
              "#d8576b"
             ],
             [
              0.6666666666666666,
              "#ed7953"
             ],
             [
              0.7777777777777778,
              "#fb9f3a"
             ],
             [
              0.8888888888888888,
              "#fdca26"
             ],
             [
              1,
              "#f0f921"
             ]
            ],
            "type": "heatmapgl"
           }
          ],
          "histogram": [
           {
            "marker": {
             "pattern": {
              "fillmode": "overlay",
              "size": 10,
              "solidity": 0.2
             }
            },
            "type": "histogram"
           }
          ],
          "histogram2d": [
           {
            "colorbar": {
             "outlinewidth": 0,
             "ticks": ""
            },
            "colorscale": [
             [
              0,
              "#0d0887"
             ],
             [
              0.1111111111111111,
              "#46039f"
             ],
             [
              0.2222222222222222,
              "#7201a8"
             ],
             [
              0.3333333333333333,
              "#9c179e"
             ],
             [
              0.4444444444444444,
              "#bd3786"
             ],
             [
              0.5555555555555556,
              "#d8576b"
             ],
             [
              0.6666666666666666,
              "#ed7953"
             ],
             [
              0.7777777777777778,
              "#fb9f3a"
             ],
             [
              0.8888888888888888,
              "#fdca26"
             ],
             [
              1,
              "#f0f921"
             ]
            ],
            "type": "histogram2d"
           }
          ],
          "histogram2dcontour": [
           {
            "colorbar": {
             "outlinewidth": 0,
             "ticks": ""
            },
            "colorscale": [
             [
              0,
              "#0d0887"
             ],
             [
              0.1111111111111111,
              "#46039f"
             ],
             [
              0.2222222222222222,
              "#7201a8"
             ],
             [
              0.3333333333333333,
              "#9c179e"
             ],
             [
              0.4444444444444444,
              "#bd3786"
             ],
             [
              0.5555555555555556,
              "#d8576b"
             ],
             [
              0.6666666666666666,
              "#ed7953"
             ],
             [
              0.7777777777777778,
              "#fb9f3a"
             ],
             [
              0.8888888888888888,
              "#fdca26"
             ],
             [
              1,
              "#f0f921"
             ]
            ],
            "type": "histogram2dcontour"
           }
          ],
          "mesh3d": [
           {
            "colorbar": {
             "outlinewidth": 0,
             "ticks": ""
            },
            "type": "mesh3d"
           }
          ],
          "parcoords": [
           {
            "line": {
             "colorbar": {
              "outlinewidth": 0,
              "ticks": ""
             }
            },
            "type": "parcoords"
           }
          ],
          "pie": [
           {
            "automargin": true,
            "type": "pie"
           }
          ],
          "scatter": [
           {
            "fillpattern": {
             "fillmode": "overlay",
             "size": 10,
             "solidity": 0.2
            },
            "type": "scatter"
           }
          ],
          "scatter3d": [
           {
            "line": {
             "colorbar": {
              "outlinewidth": 0,
              "ticks": ""
             }
            },
            "marker": {
             "colorbar": {
              "outlinewidth": 0,
              "ticks": ""
             }
            },
            "type": "scatter3d"
           }
          ],
          "scattercarpet": [
           {
            "marker": {
             "colorbar": {
              "outlinewidth": 0,
              "ticks": ""
             }
            },
            "type": "scattercarpet"
           }
          ],
          "scattergeo": [
           {
            "marker": {
             "colorbar": {
              "outlinewidth": 0,
              "ticks": ""
             }
            },
            "type": "scattergeo"
           }
          ],
          "scattergl": [
           {
            "marker": {
             "colorbar": {
              "outlinewidth": 0,
              "ticks": ""
             }
            },
            "type": "scattergl"
           }
          ],
          "scattermapbox": [
           {
            "marker": {
             "colorbar": {
              "outlinewidth": 0,
              "ticks": ""
             }
            },
            "type": "scattermapbox"
           }
          ],
          "scatterpolar": [
           {
            "marker": {
             "colorbar": {
              "outlinewidth": 0,
              "ticks": ""
             }
            },
            "type": "scatterpolar"
           }
          ],
          "scatterpolargl": [
           {
            "marker": {
             "colorbar": {
              "outlinewidth": 0,
              "ticks": ""
             }
            },
            "type": "scatterpolargl"
           }
          ],
          "scatterternary": [
           {
            "marker": {
             "colorbar": {
              "outlinewidth": 0,
              "ticks": ""
             }
            },
            "type": "scatterternary"
           }
          ],
          "surface": [
           {
            "colorbar": {
             "outlinewidth": 0,
             "ticks": ""
            },
            "colorscale": [
             [
              0,
              "#0d0887"
             ],
             [
              0.1111111111111111,
              "#46039f"
             ],
             [
              0.2222222222222222,
              "#7201a8"
             ],
             [
              0.3333333333333333,
              "#9c179e"
             ],
             [
              0.4444444444444444,
              "#bd3786"
             ],
             [
              0.5555555555555556,
              "#d8576b"
             ],
             [
              0.6666666666666666,
              "#ed7953"
             ],
             [
              0.7777777777777778,
              "#fb9f3a"
             ],
             [
              0.8888888888888888,
              "#fdca26"
             ],
             [
              1,
              "#f0f921"
             ]
            ],
            "type": "surface"
           }
          ],
          "table": [
           {
            "cells": {
             "fill": {
              "color": "#EBF0F8"
             },
             "line": {
              "color": "white"
             }
            },
            "header": {
             "fill": {
              "color": "#C8D4E3"
             },
             "line": {
              "color": "white"
             }
            },
            "type": "table"
           }
          ]
         },
         "layout": {
          "annotationdefaults": {
           "arrowcolor": "#2a3f5f",
           "arrowhead": 0,
           "arrowwidth": 1
          },
          "autotypenumbers": "strict",
          "coloraxis": {
           "colorbar": {
            "outlinewidth": 0,
            "ticks": ""
           }
          },
          "colorscale": {
           "diverging": [
            [
             0,
             "#8e0152"
            ],
            [
             0.1,
             "#c51b7d"
            ],
            [
             0.2,
             "#de77ae"
            ],
            [
             0.3,
             "#f1b6da"
            ],
            [
             0.4,
             "#fde0ef"
            ],
            [
             0.5,
             "#f7f7f7"
            ],
            [
             0.6,
             "#e6f5d0"
            ],
            [
             0.7,
             "#b8e186"
            ],
            [
             0.8,
             "#7fbc41"
            ],
            [
             0.9,
             "#4d9221"
            ],
            [
             1,
             "#276419"
            ]
           ],
           "sequential": [
            [
             0,
             "#0d0887"
            ],
            [
             0.1111111111111111,
             "#46039f"
            ],
            [
             0.2222222222222222,
             "#7201a8"
            ],
            [
             0.3333333333333333,
             "#9c179e"
            ],
            [
             0.4444444444444444,
             "#bd3786"
            ],
            [
             0.5555555555555556,
             "#d8576b"
            ],
            [
             0.6666666666666666,
             "#ed7953"
            ],
            [
             0.7777777777777778,
             "#fb9f3a"
            ],
            [
             0.8888888888888888,
             "#fdca26"
            ],
            [
             1,
             "#f0f921"
            ]
           ],
           "sequentialminus": [
            [
             0,
             "#0d0887"
            ],
            [
             0.1111111111111111,
             "#46039f"
            ],
            [
             0.2222222222222222,
             "#7201a8"
            ],
            [
             0.3333333333333333,
             "#9c179e"
            ],
            [
             0.4444444444444444,
             "#bd3786"
            ],
            [
             0.5555555555555556,
             "#d8576b"
            ],
            [
             0.6666666666666666,
             "#ed7953"
            ],
            [
             0.7777777777777778,
             "#fb9f3a"
            ],
            [
             0.8888888888888888,
             "#fdca26"
            ],
            [
             1,
             "#f0f921"
            ]
           ]
          },
          "colorway": [
           "#636efa",
           "#EF553B",
           "#00cc96",
           "#ab63fa",
           "#FFA15A",
           "#19d3f3",
           "#FF6692",
           "#B6E880",
           "#FF97FF",
           "#FECB52"
          ],
          "font": {
           "color": "#2a3f5f"
          },
          "geo": {
           "bgcolor": "white",
           "lakecolor": "white",
           "landcolor": "#E5ECF6",
           "showlakes": true,
           "showland": true,
           "subunitcolor": "white"
          },
          "hoverlabel": {
           "align": "left"
          },
          "hovermode": "closest",
          "mapbox": {
           "style": "light"
          },
          "paper_bgcolor": "white",
          "plot_bgcolor": "#E5ECF6",
          "polar": {
           "angularaxis": {
            "gridcolor": "white",
            "linecolor": "white",
            "ticks": ""
           },
           "bgcolor": "#E5ECF6",
           "radialaxis": {
            "gridcolor": "white",
            "linecolor": "white",
            "ticks": ""
           }
          },
          "scene": {
           "xaxis": {
            "backgroundcolor": "#E5ECF6",
            "gridcolor": "white",
            "gridwidth": 2,
            "linecolor": "white",
            "showbackground": true,
            "ticks": "",
            "zerolinecolor": "white"
           },
           "yaxis": {
            "backgroundcolor": "#E5ECF6",
            "gridcolor": "white",
            "gridwidth": 2,
            "linecolor": "white",
            "showbackground": true,
            "ticks": "",
            "zerolinecolor": "white"
           },
           "zaxis": {
            "backgroundcolor": "#E5ECF6",
            "gridcolor": "white",
            "gridwidth": 2,
            "linecolor": "white",
            "showbackground": true,
            "ticks": "",
            "zerolinecolor": "white"
           }
          },
          "shapedefaults": {
           "line": {
            "color": "#2a3f5f"
           }
          },
          "ternary": {
           "aaxis": {
            "gridcolor": "white",
            "linecolor": "white",
            "ticks": ""
           },
           "baxis": {
            "gridcolor": "white",
            "linecolor": "white",
            "ticks": ""
           },
           "bgcolor": "#E5ECF6",
           "caxis": {
            "gridcolor": "white",
            "linecolor": "white",
            "ticks": ""
           }
          },
          "title": {
           "x": 0.05
          },
          "xaxis": {
           "automargin": true,
           "gridcolor": "white",
           "linecolor": "white",
           "ticks": "",
           "title": {
            "standoff": 15
           },
           "zerolinecolor": "white",
           "zerolinewidth": 2
          },
          "yaxis": {
           "automargin": true,
           "gridcolor": "white",
           "linecolor": "white",
           "ticks": "",
           "title": {
            "standoff": 15
           },
           "zerolinecolor": "white",
           "zerolinewidth": 2
          }
         }
        },
        "title": {
         "text": "Region"
        },
        "xaxis": {
         "anchor": "y",
         "domain": [
          0,
          1
         ],
         "title": {
          "text": "region"
         }
        },
        "yaxis": {
         "anchor": "x",
         "domain": [
          0,
          1
         ],
         "title": {
          "text": "count"
         }
        }
       }
      }
     },
     "metadata": {},
     "output_type": "display_data"
    }
   ],
   "source": [
    "px.histogram(charges_df, x='region', title='Region')"
   ]
  },
  {
   "cell_type": "markdown",
   "metadata": {},
   "source": [
    "Observation\n",
    "1. It seems highest customers are from southeast and rest of region have same number of customers"
   ]
  },
  {
   "cell_type": "code",
   "execution_count": 84,
   "metadata": {},
   "outputs": [
    {
     "data": {
      "application/vnd.plotly.v1+json": {
       "config": {
        "plotlyServerURL": "https://plot.ly"
       },
       "data": [
        {
         "alignmentgroup": "True",
         "bingroup": "x",
         "hovertemplate": "children=%{x}<br>count=%{y}<extra></extra>",
         "legendgroup": "",
         "marker": {
          "color": "#636efa",
          "pattern": {
           "shape": ""
          }
         },
         "name": "",
         "offsetgroup": "",
         "orientation": "v",
         "showlegend": false,
         "type": "histogram",
         "x": [
          1,
          1,
          0,
          1,
          3,
          1,
          1,
          2,
          1,
          3,
          1,
          2,
          1,
          0,
          3,
          0,
          1,
          0,
          1,
          1,
          0,
          0,
          2,
          1,
          0,
          1,
          0,
          3,
          3,
          1,
          1,
          0,
          1,
          1,
          1,
          2,
          0,
          0,
          2,
          0,
          0,
          0,
          1,
          0,
          3,
          1,
          0,
          2,
          3,
          0,
          1,
          0,
          2,
          1,
          3,
          2,
          1,
          2,
          1,
          1,
          3,
          2,
          0,
          3,
          1,
          0,
          3,
          0,
          2,
          0,
          0,
          5,
          2,
          0,
          0,
          3,
          0,
          3,
          2,
          2,
          2,
          1,
          1,
          0,
          0,
          1,
          1,
          3,
          0,
          1,
          0,
          3,
          1,
          2,
          0,
          1,
          4,
          0,
          2,
          0,
          3,
          0,
          2,
          0,
          1,
          0,
          2,
          0,
          2,
          2,
          1,
          1,
          0,
          0,
          1,
          1,
          0,
          0,
          1,
          0,
          0,
          3,
          3,
          1,
          1,
          3,
          0,
          0,
          0,
          4,
          1,
          2,
          2,
          1,
          0,
          1,
          0,
          1,
          1,
          0,
          0,
          0,
          0,
          2,
          0,
          0,
          2,
          2,
          3,
          0,
          4,
          2,
          1,
          2,
          4,
          0,
          1,
          3,
          2,
          1,
          1,
          0,
          0,
          3,
          1,
          0,
          0,
          0,
          1,
          0,
          0,
          0,
          0,
          1,
          5,
          0,
          3,
          1,
          0,
          0,
          2,
          2,
          1,
          1,
          0,
          2,
          3,
          1,
          2,
          0,
          2,
          1,
          1,
          0,
          0,
          2,
          3,
          2,
          0,
          1,
          1,
          3,
          3,
          0,
          1,
          0,
          5,
          1,
          3,
          0,
          0,
          3,
          0,
          0,
          0,
          2,
          3,
          0,
          3,
          0,
          2,
          3,
          0,
          2,
          1,
          0,
          0,
          0,
          1,
          0,
          3,
          0,
          2,
          2,
          0,
          2,
          1,
          1,
          5,
          0,
          1,
          0,
          1,
          0,
          3,
          0,
          1,
          1,
          0,
          1,
          2,
          3,
          0,
          3,
          0,
          0,
          0,
          1,
          1,
          2,
          1,
          2,
          2,
          1,
          0,
          2,
          2,
          2,
          2,
          1,
          0,
          0,
          3,
          0,
          0,
          0,
          0,
          0,
          5,
          0,
          2,
          1,
          1,
          1,
          1,
          1,
          0,
          1,
          0,
          0,
          1,
          2,
          0,
          0,
          3,
          1,
          3,
          1,
          5,
          3,
          0,
          0,
          2,
          0,
          2,
          2,
          1,
          1,
          0,
          1,
          0,
          0,
          0,
          3,
          5,
          0,
          2,
          0,
          0,
          0,
          1,
          2,
          1,
          1,
          0,
          0,
          2,
          1,
          2,
          0,
          1,
          1,
          0,
          3,
          0,
          2,
          2,
          1,
          0,
          3,
          2,
          1,
          0,
          1,
          2,
          0,
          1,
          2,
          1,
          0,
          0,
          0,
          1,
          0,
          0,
          0,
          0,
          0,
          1,
          1,
          1,
          1,
          0,
          1,
          3,
          1,
          0,
          0,
          1,
          2,
          3,
          0,
          2,
          2,
          1,
          0,
          3,
          2,
          0,
          0,
          0,
          2,
          0,
          3,
          0,
          0,
          3,
          0,
          0,
          1,
          2,
          5,
          0,
          1,
          2,
          1,
          1,
          3,
          0,
          2,
          0,
          0,
          2,
          0,
          2,
          0,
          1,
          3,
          0,
          2,
          3,
          2,
          1,
          1,
          3,
          0,
          0,
          3,
          3,
          0,
          0,
          0,
          0,
          0,
          2,
          1,
          2,
          4,
          0,
          1,
          4,
          0,
          1,
          2,
          1,
          1,
          1,
          0,
          0,
          0,
          2,
          0,
          0,
          3,
          0,
          0,
          1,
          0,
          0,
          0,
          2,
          0,
          1,
          1,
          0,
          0,
          0,
          2,
          3,
          0,
          1,
          3,
          1,
          1,
          0,
          2,
          4,
          2,
          0,
          0,
          1,
          0,
          0,
          0,
          0,
          2,
          0,
          0,
          1,
          2,
          1,
          2,
          2,
          0,
          2,
          0,
          0,
          3,
          1,
          1,
          1,
          0,
          0,
          1,
          0,
          0,
          1,
          3,
          1,
          0,
          5,
          0,
          2,
          1,
          2,
          0,
          0,
          0,
          2,
          1,
          4,
          1,
          0,
          2,
          2,
          1,
          0,
          3,
          1,
          2,
          0,
          0,
          0,
          2,
          0,
          1,
          1,
          2,
          0,
          2,
          0,
          3,
          0,
          2,
          2,
          1,
          1,
          1,
          0,
          0,
          1,
          2,
          0,
          0,
          0,
          1,
          3,
          0,
          0,
          0,
          1,
          0,
          0,
          2,
          0,
          0,
          2,
          0,
          0,
          3,
          0,
          4,
          0,
          2,
          1,
          1,
          3,
          0,
          1,
          0,
          4,
          0,
          0,
          0,
          1,
          1,
          0,
          0,
          3,
          0,
          1,
          0,
          0,
          2,
          2,
          1,
          0,
          0,
          2,
          1,
          1,
          0,
          0,
          2,
          0,
          1,
          0,
          0,
          2,
          0,
          5,
          0,
          0,
          0,
          0,
          1,
          0,
          1,
          1,
          2,
          0,
          0,
          2,
          2,
          2,
          1,
          0,
          2,
          0,
          3,
          0,
          0,
          1,
          0,
          0,
          0,
          1,
          0,
          1,
          2,
          0,
          2,
          1,
          1,
          1,
          0,
          1,
          1,
          1,
          1,
          0,
          1,
          0,
          0,
          0,
          3,
          1,
          0,
          0,
          2,
          1,
          1,
          2,
          4,
          3,
          0,
          0,
          0,
          2,
          0,
          0,
          2,
          0,
          1,
          1,
          1,
          3,
          0,
          0,
          0,
          2,
          0,
          1,
          0,
          2,
          0,
          1,
          1,
          3,
          1,
          2,
          1,
          2,
          2,
          3,
          0,
          4,
          3,
          3,
          1,
          1,
          2,
          2,
          1,
          1,
          0,
          2,
          0,
          1,
          3,
          1,
          0,
          2,
          0,
          1,
          3,
          0,
          3,
          0,
          0,
          2,
          0,
          0,
          1,
          0,
          0,
          2,
          0,
          0,
          2,
          1,
          3,
          3,
          0,
          1,
          0,
          0,
          1,
          3,
          0,
          0,
          0,
          2,
          0,
          2,
          2,
          0,
          0,
          0,
          0,
          0,
          0,
          2,
          0,
          0,
          0,
          1,
          1,
          3,
          3,
          3,
          3,
          2,
          2,
          1,
          3,
          0,
          0,
          0,
          1,
          5,
          0,
          1,
          3,
          3,
          0,
          3,
          2,
          0,
          3,
          0,
          1,
          1,
          2,
          0,
          0,
          2,
          0,
          0,
          0,
          0,
          0,
          1,
          2,
          0,
          1,
          1,
          3,
          2,
          3,
          1,
          0,
          1,
          2,
          0,
          1,
          0,
          0,
          2,
          0,
          2,
          0,
          1,
          0,
          2,
          0,
          0,
          0,
          1,
          1,
          0,
          0,
          1,
          4,
          3,
          3,
          3,
          0,
          1,
          2,
          0,
          1,
          0,
          0,
          1,
          2,
          0,
          0,
          0,
          1,
          0,
          1,
          0,
          2,
          1,
          0,
          2,
          2,
          0,
          1,
          0,
          3,
          1,
          0,
          1,
          0,
          0,
          0,
          2,
          0,
          3,
          0,
          0,
          0,
          1,
          0,
          1,
          3,
          0,
          2,
          0,
          1,
          0,
          0,
          0,
          1,
          3,
          0,
          0,
          0,
          1,
          1,
          0,
          2,
          3,
          0,
          0,
          3,
          3,
          2,
          0,
          3,
          0,
          0,
          1,
          3,
          3,
          0,
          3,
          2,
          1,
          1,
          1,
          2,
          3,
          1,
          1,
          1,
          0,
          0,
          1,
          2,
          3,
          2,
          0,
          0,
          3,
          1,
          2,
          3,
          1,
          2,
          2,
          0,
          0,
          1,
          0,
          1,
          1,
          0,
          0,
          0,
          3,
          0,
          1,
          2,
          0,
          0,
          0,
          2,
          0,
          1,
          0,
          2,
          2,
          0,
          0,
          1,
          1,
          0,
          0,
          1,
          0,
          0,
          1,
          3,
          0,
          2,
          0,
          2,
          0,
          2,
          0,
          1,
          1,
          0,
          4,
          0,
          1,
          0,
          5,
          3,
          0,
          1,
          0,
          0,
          3,
          3,
          0,
          2,
          1,
          2,
          1,
          4,
          0,
          0,
          3,
          1,
          2,
          0,
          2,
          2,
          0,
          0,
          3,
          2,
          4,
          4,
          0,
          1,
          2,
          1,
          2,
          0,
          2,
          0,
          2,
          2,
          2,
          0,
          0,
          0,
          0,
          1,
          0,
          2,
          0,
          0,
          1,
          0,
          1,
          0,
          1,
          0,
          0,
          3,
          0,
          1,
          3,
          0,
          1,
          5,
          0,
          1,
          1,
          2,
          2,
          0,
          0,
          0,
          1,
          2,
          1,
          0,
          2,
          0,
          0,
          0,
          1,
          0,
          1,
          0,
          0,
          0,
          0,
          2,
          0,
          2,
          1,
          1,
          0,
          0,
          1,
          1,
          0,
          1,
          0,
          3,
          2,
          4,
          1,
          0,
          0,
          0,
          0,
          4,
          2,
          3,
          2,
          0
         ],
         "xaxis": "x",
         "yaxis": "y"
        }
       ],
       "layout": {
        "barmode": "relative",
        "legend": {
         "tracegroupgap": 0
        },
        "template": {
         "data": {
          "bar": [
           {
            "error_x": {
             "color": "#2a3f5f"
            },
            "error_y": {
             "color": "#2a3f5f"
            },
            "marker": {
             "line": {
              "color": "#E5ECF6",
              "width": 0.5
             },
             "pattern": {
              "fillmode": "overlay",
              "size": 10,
              "solidity": 0.2
             }
            },
            "type": "bar"
           }
          ],
          "barpolar": [
           {
            "marker": {
             "line": {
              "color": "#E5ECF6",
              "width": 0.5
             },
             "pattern": {
              "fillmode": "overlay",
              "size": 10,
              "solidity": 0.2
             }
            },
            "type": "barpolar"
           }
          ],
          "carpet": [
           {
            "aaxis": {
             "endlinecolor": "#2a3f5f",
             "gridcolor": "white",
             "linecolor": "white",
             "minorgridcolor": "white",
             "startlinecolor": "#2a3f5f"
            },
            "baxis": {
             "endlinecolor": "#2a3f5f",
             "gridcolor": "white",
             "linecolor": "white",
             "minorgridcolor": "white",
             "startlinecolor": "#2a3f5f"
            },
            "type": "carpet"
           }
          ],
          "choropleth": [
           {
            "colorbar": {
             "outlinewidth": 0,
             "ticks": ""
            },
            "type": "choropleth"
           }
          ],
          "contour": [
           {
            "colorbar": {
             "outlinewidth": 0,
             "ticks": ""
            },
            "colorscale": [
             [
              0,
              "#0d0887"
             ],
             [
              0.1111111111111111,
              "#46039f"
             ],
             [
              0.2222222222222222,
              "#7201a8"
             ],
             [
              0.3333333333333333,
              "#9c179e"
             ],
             [
              0.4444444444444444,
              "#bd3786"
             ],
             [
              0.5555555555555556,
              "#d8576b"
             ],
             [
              0.6666666666666666,
              "#ed7953"
             ],
             [
              0.7777777777777778,
              "#fb9f3a"
             ],
             [
              0.8888888888888888,
              "#fdca26"
             ],
             [
              1,
              "#f0f921"
             ]
            ],
            "type": "contour"
           }
          ],
          "contourcarpet": [
           {
            "colorbar": {
             "outlinewidth": 0,
             "ticks": ""
            },
            "type": "contourcarpet"
           }
          ],
          "heatmap": [
           {
            "colorbar": {
             "outlinewidth": 0,
             "ticks": ""
            },
            "colorscale": [
             [
              0,
              "#0d0887"
             ],
             [
              0.1111111111111111,
              "#46039f"
             ],
             [
              0.2222222222222222,
              "#7201a8"
             ],
             [
              0.3333333333333333,
              "#9c179e"
             ],
             [
              0.4444444444444444,
              "#bd3786"
             ],
             [
              0.5555555555555556,
              "#d8576b"
             ],
             [
              0.6666666666666666,
              "#ed7953"
             ],
             [
              0.7777777777777778,
              "#fb9f3a"
             ],
             [
              0.8888888888888888,
              "#fdca26"
             ],
             [
              1,
              "#f0f921"
             ]
            ],
            "type": "heatmap"
           }
          ],
          "heatmapgl": [
           {
            "colorbar": {
             "outlinewidth": 0,
             "ticks": ""
            },
            "colorscale": [
             [
              0,
              "#0d0887"
             ],
             [
              0.1111111111111111,
              "#46039f"
             ],
             [
              0.2222222222222222,
              "#7201a8"
             ],
             [
              0.3333333333333333,
              "#9c179e"
             ],
             [
              0.4444444444444444,
              "#bd3786"
             ],
             [
              0.5555555555555556,
              "#d8576b"
             ],
             [
              0.6666666666666666,
              "#ed7953"
             ],
             [
              0.7777777777777778,
              "#fb9f3a"
             ],
             [
              0.8888888888888888,
              "#fdca26"
             ],
             [
              1,
              "#f0f921"
             ]
            ],
            "type": "heatmapgl"
           }
          ],
          "histogram": [
           {
            "marker": {
             "pattern": {
              "fillmode": "overlay",
              "size": 10,
              "solidity": 0.2
             }
            },
            "type": "histogram"
           }
          ],
          "histogram2d": [
           {
            "colorbar": {
             "outlinewidth": 0,
             "ticks": ""
            },
            "colorscale": [
             [
              0,
              "#0d0887"
             ],
             [
              0.1111111111111111,
              "#46039f"
             ],
             [
              0.2222222222222222,
              "#7201a8"
             ],
             [
              0.3333333333333333,
              "#9c179e"
             ],
             [
              0.4444444444444444,
              "#bd3786"
             ],
             [
              0.5555555555555556,
              "#d8576b"
             ],
             [
              0.6666666666666666,
              "#ed7953"
             ],
             [
              0.7777777777777778,
              "#fb9f3a"
             ],
             [
              0.8888888888888888,
              "#fdca26"
             ],
             [
              1,
              "#f0f921"
             ]
            ],
            "type": "histogram2d"
           }
          ],
          "histogram2dcontour": [
           {
            "colorbar": {
             "outlinewidth": 0,
             "ticks": ""
            },
            "colorscale": [
             [
              0,
              "#0d0887"
             ],
             [
              0.1111111111111111,
              "#46039f"
             ],
             [
              0.2222222222222222,
              "#7201a8"
             ],
             [
              0.3333333333333333,
              "#9c179e"
             ],
             [
              0.4444444444444444,
              "#bd3786"
             ],
             [
              0.5555555555555556,
              "#d8576b"
             ],
             [
              0.6666666666666666,
              "#ed7953"
             ],
             [
              0.7777777777777778,
              "#fb9f3a"
             ],
             [
              0.8888888888888888,
              "#fdca26"
             ],
             [
              1,
              "#f0f921"
             ]
            ],
            "type": "histogram2dcontour"
           }
          ],
          "mesh3d": [
           {
            "colorbar": {
             "outlinewidth": 0,
             "ticks": ""
            },
            "type": "mesh3d"
           }
          ],
          "parcoords": [
           {
            "line": {
             "colorbar": {
              "outlinewidth": 0,
              "ticks": ""
             }
            },
            "type": "parcoords"
           }
          ],
          "pie": [
           {
            "automargin": true,
            "type": "pie"
           }
          ],
          "scatter": [
           {
            "fillpattern": {
             "fillmode": "overlay",
             "size": 10,
             "solidity": 0.2
            },
            "type": "scatter"
           }
          ],
          "scatter3d": [
           {
            "line": {
             "colorbar": {
              "outlinewidth": 0,
              "ticks": ""
             }
            },
            "marker": {
             "colorbar": {
              "outlinewidth": 0,
              "ticks": ""
             }
            },
            "type": "scatter3d"
           }
          ],
          "scattercarpet": [
           {
            "marker": {
             "colorbar": {
              "outlinewidth": 0,
              "ticks": ""
             }
            },
            "type": "scattercarpet"
           }
          ],
          "scattergeo": [
           {
            "marker": {
             "colorbar": {
              "outlinewidth": 0,
              "ticks": ""
             }
            },
            "type": "scattergeo"
           }
          ],
          "scattergl": [
           {
            "marker": {
             "colorbar": {
              "outlinewidth": 0,
              "ticks": ""
             }
            },
            "type": "scattergl"
           }
          ],
          "scattermapbox": [
           {
            "marker": {
             "colorbar": {
              "outlinewidth": 0,
              "ticks": ""
             }
            },
            "type": "scattermapbox"
           }
          ],
          "scatterpolar": [
           {
            "marker": {
             "colorbar": {
              "outlinewidth": 0,
              "ticks": ""
             }
            },
            "type": "scatterpolar"
           }
          ],
          "scatterpolargl": [
           {
            "marker": {
             "colorbar": {
              "outlinewidth": 0,
              "ticks": ""
             }
            },
            "type": "scatterpolargl"
           }
          ],
          "scatterternary": [
           {
            "marker": {
             "colorbar": {
              "outlinewidth": 0,
              "ticks": ""
             }
            },
            "type": "scatterternary"
           }
          ],
          "surface": [
           {
            "colorbar": {
             "outlinewidth": 0,
             "ticks": ""
            },
            "colorscale": [
             [
              0,
              "#0d0887"
             ],
             [
              0.1111111111111111,
              "#46039f"
             ],
             [
              0.2222222222222222,
              "#7201a8"
             ],
             [
              0.3333333333333333,
              "#9c179e"
             ],
             [
              0.4444444444444444,
              "#bd3786"
             ],
             [
              0.5555555555555556,
              "#d8576b"
             ],
             [
              0.6666666666666666,
              "#ed7953"
             ],
             [
              0.7777777777777778,
              "#fb9f3a"
             ],
             [
              0.8888888888888888,
              "#fdca26"
             ],
             [
              1,
              "#f0f921"
             ]
            ],
            "type": "surface"
           }
          ],
          "table": [
           {
            "cells": {
             "fill": {
              "color": "#EBF0F8"
             },
             "line": {
              "color": "white"
             }
            },
            "header": {
             "fill": {
              "color": "#C8D4E3"
             },
             "line": {
              "color": "white"
             }
            },
            "type": "table"
           }
          ]
         },
         "layout": {
          "annotationdefaults": {
           "arrowcolor": "#2a3f5f",
           "arrowhead": 0,
           "arrowwidth": 1
          },
          "autotypenumbers": "strict",
          "coloraxis": {
           "colorbar": {
            "outlinewidth": 0,
            "ticks": ""
           }
          },
          "colorscale": {
           "diverging": [
            [
             0,
             "#8e0152"
            ],
            [
             0.1,
             "#c51b7d"
            ],
            [
             0.2,
             "#de77ae"
            ],
            [
             0.3,
             "#f1b6da"
            ],
            [
             0.4,
             "#fde0ef"
            ],
            [
             0.5,
             "#f7f7f7"
            ],
            [
             0.6,
             "#e6f5d0"
            ],
            [
             0.7,
             "#b8e186"
            ],
            [
             0.8,
             "#7fbc41"
            ],
            [
             0.9,
             "#4d9221"
            ],
            [
             1,
             "#276419"
            ]
           ],
           "sequential": [
            [
             0,
             "#0d0887"
            ],
            [
             0.1111111111111111,
             "#46039f"
            ],
            [
             0.2222222222222222,
             "#7201a8"
            ],
            [
             0.3333333333333333,
             "#9c179e"
            ],
            [
             0.4444444444444444,
             "#bd3786"
            ],
            [
             0.5555555555555556,
             "#d8576b"
            ],
            [
             0.6666666666666666,
             "#ed7953"
            ],
            [
             0.7777777777777778,
             "#fb9f3a"
            ],
            [
             0.8888888888888888,
             "#fdca26"
            ],
            [
             1,
             "#f0f921"
            ]
           ],
           "sequentialminus": [
            [
             0,
             "#0d0887"
            ],
            [
             0.1111111111111111,
             "#46039f"
            ],
            [
             0.2222222222222222,
             "#7201a8"
            ],
            [
             0.3333333333333333,
             "#9c179e"
            ],
            [
             0.4444444444444444,
             "#bd3786"
            ],
            [
             0.5555555555555556,
             "#d8576b"
            ],
            [
             0.6666666666666666,
             "#ed7953"
            ],
            [
             0.7777777777777778,
             "#fb9f3a"
            ],
            [
             0.8888888888888888,
             "#fdca26"
            ],
            [
             1,
             "#f0f921"
            ]
           ]
          },
          "colorway": [
           "#636efa",
           "#EF553B",
           "#00cc96",
           "#ab63fa",
           "#FFA15A",
           "#19d3f3",
           "#FF6692",
           "#B6E880",
           "#FF97FF",
           "#FECB52"
          ],
          "font": {
           "color": "#2a3f5f"
          },
          "geo": {
           "bgcolor": "white",
           "lakecolor": "white",
           "landcolor": "#E5ECF6",
           "showlakes": true,
           "showland": true,
           "subunitcolor": "white"
          },
          "hoverlabel": {
           "align": "left"
          },
          "hovermode": "closest",
          "mapbox": {
           "style": "light"
          },
          "paper_bgcolor": "white",
          "plot_bgcolor": "#E5ECF6",
          "polar": {
           "angularaxis": {
            "gridcolor": "white",
            "linecolor": "white",
            "ticks": ""
           },
           "bgcolor": "#E5ECF6",
           "radialaxis": {
            "gridcolor": "white",
            "linecolor": "white",
            "ticks": ""
           }
          },
          "scene": {
           "xaxis": {
            "backgroundcolor": "#E5ECF6",
            "gridcolor": "white",
            "gridwidth": 2,
            "linecolor": "white",
            "showbackground": true,
            "ticks": "",
            "zerolinecolor": "white"
           },
           "yaxis": {
            "backgroundcolor": "#E5ECF6",
            "gridcolor": "white",
            "gridwidth": 2,
            "linecolor": "white",
            "showbackground": true,
            "ticks": "",
            "zerolinecolor": "white"
           },
           "zaxis": {
            "backgroundcolor": "#E5ECF6",
            "gridcolor": "white",
            "gridwidth": 2,
            "linecolor": "white",
            "showbackground": true,
            "ticks": "",
            "zerolinecolor": "white"
           }
          },
          "shapedefaults": {
           "line": {
            "color": "#2a3f5f"
           }
          },
          "ternary": {
           "aaxis": {
            "gridcolor": "white",
            "linecolor": "white",
            "ticks": ""
           },
           "baxis": {
            "gridcolor": "white",
            "linecolor": "white",
            "ticks": ""
           },
           "bgcolor": "#E5ECF6",
           "caxis": {
            "gridcolor": "white",
            "linecolor": "white",
            "ticks": ""
           }
          },
          "title": {
           "x": 0.05
          },
          "xaxis": {
           "automargin": true,
           "gridcolor": "white",
           "linecolor": "white",
           "ticks": "",
           "title": {
            "standoff": 15
           },
           "zerolinecolor": "white",
           "zerolinewidth": 2
          },
          "yaxis": {
           "automargin": true,
           "gridcolor": "white",
           "linecolor": "white",
           "ticks": "",
           "title": {
            "standoff": 15
           },
           "zerolinecolor": "white",
           "zerolinewidth": 2
          }
         }
        },
        "title": {
         "text": "Children"
        },
        "xaxis": {
         "anchor": "y",
         "domain": [
          0,
          1
         ],
         "title": {
          "text": "children"
         }
        },
        "yaxis": {
         "anchor": "x",
         "domain": [
          0,
          1
         ],
         "title": {
          "text": "count"
         }
        }
       }
      }
     },
     "metadata": {},
     "output_type": "display_data"
    }
   ],
   "source": [
    "charges_df['children'] = X_train.children\n",
    "px.histogram(charges_df, x='children', title='Children')"
   ]
  },
  {
   "cell_type": "markdown",
   "metadata": {},
   "source": [
    "Observation\n",
    "1. It seems highest customers do not have kids, that can be explainable because highest number of customers are with 18, 19 age\n",
    "2. very less customers have 5 children"
   ]
  },
  {
   "cell_type": "markdown",
   "metadata": {},
   "source": [
    "### Ages and Charges"
   ]
  },
  {
   "cell_type": "code",
   "execution_count": 92,
   "metadata": {},
   "outputs": [
    {
     "data": {
      "application/vnd.plotly.v1+json": {
       "config": {
        "plotlyServerURL": "https://plot.ly"
       },
       "data": [
        {
         "customdata": [
          [
           "female"
          ],
          [
           "female"
          ],
          [
           "female"
          ],
          [
           "female"
          ],
          [
           "male"
          ],
          [
           "male"
          ],
          [
           "female"
          ],
          [
           "male"
          ],
          [
           "male"
          ],
          [
           "female"
          ],
          [
           "female"
          ],
          [
           "female"
          ],
          [
           "female"
          ],
          [
           "male"
          ],
          [
           "male"
          ],
          [
           "female"
          ],
          [
           "male"
          ],
          [
           "male"
          ],
          [
           "female"
          ],
          [
           "female"
          ],
          [
           "male"
          ],
          [
           "female"
          ],
          [
           "female"
          ],
          [
           "male"
          ],
          [
           "female"
          ],
          [
           "female"
          ],
          [
           "female"
          ],
          [
           "female"
          ],
          [
           "male"
          ],
          [
           "male"
          ],
          [
           "female"
          ],
          [
           "female"
          ],
          [
           "male"
          ],
          [
           "female"
          ],
          [
           "male"
          ],
          [
           "male"
          ],
          [
           "female"
          ],
          [
           "male"
          ],
          [
           "male"
          ],
          [
           "male"
          ],
          [
           "female"
          ],
          [
           "male"
          ],
          [
           "male"
          ],
          [
           "male"
          ],
          [
           "male"
          ],
          [
           "male"
          ],
          [
           "female"
          ],
          [
           "male"
          ],
          [
           "female"
          ],
          [
           "male"
          ],
          [
           "female"
          ],
          [
           "male"
          ],
          [
           "male"
          ],
          [
           "male"
          ],
          [
           "female"
          ],
          [
           "female"
          ],
          [
           "female"
          ],
          [
           "male"
          ],
          [
           "male"
          ],
          [
           "female"
          ],
          [
           "female"
          ],
          [
           "male"
          ],
          [
           "female"
          ],
          [
           "female"
          ],
          [
           "female"
          ],
          [
           "male"
          ],
          [
           "male"
          ],
          [
           "female"
          ],
          [
           "female"
          ],
          [
           "male"
          ],
          [
           "male"
          ],
          [
           "female"
          ],
          [
           "male"
          ],
          [
           "female"
          ],
          [
           "male"
          ],
          [
           "male"
          ],
          [
           "male"
          ],
          [
           "female"
          ],
          [
           "female"
          ],
          [
           "male"
          ],
          [
           "female"
          ],
          [
           "male"
          ],
          [
           "male"
          ],
          [
           "female"
          ],
          [
           "male"
          ],
          [
           "male"
          ],
          [
           "female"
          ],
          [
           "female"
          ],
          [
           "female"
          ],
          [
           "female"
          ],
          [
           "female"
          ],
          [
           "male"
          ],
          [
           "male"
          ],
          [
           "female"
          ],
          [
           "male"
          ],
          [
           "male"
          ],
          [
           "male"
          ],
          [
           "female"
          ],
          [
           "male"
          ],
          [
           "female"
          ],
          [
           "male"
          ],
          [
           "male"
          ],
          [
           "male"
          ],
          [
           "male"
          ],
          [
           "male"
          ],
          [
           "female"
          ],
          [
           "female"
          ],
          [
           "male"
          ],
          [
           "female"
          ],
          [
           "female"
          ],
          [
           "male"
          ],
          [
           "male"
          ],
          [
           "female"
          ],
          [
           "male"
          ],
          [
           "female"
          ],
          [
           "male"
          ],
          [
           "female"
          ],
          [
           "male"
          ],
          [
           "male"
          ],
          [
           "male"
          ],
          [
           "male"
          ],
          [
           "male"
          ],
          [
           "male"
          ],
          [
           "male"
          ],
          [
           "male"
          ],
          [
           "male"
          ],
          [
           "male"
          ],
          [
           "female"
          ],
          [
           "male"
          ],
          [
           "male"
          ],
          [
           "female"
          ],
          [
           "female"
          ],
          [
           "male"
          ],
          [
           "female"
          ],
          [
           "male"
          ],
          [
           "male"
          ],
          [
           "female"
          ],
          [
           "female"
          ],
          [
           "female"
          ],
          [
           "male"
          ],
          [
           "male"
          ],
          [
           "female"
          ],
          [
           "male"
          ],
          [
           "male"
          ],
          [
           "female"
          ],
          [
           "female"
          ],
          [
           "male"
          ],
          [
           "male"
          ],
          [
           "male"
          ],
          [
           "male"
          ],
          [
           "female"
          ],
          [
           "female"
          ],
          [
           "female"
          ],
          [
           "male"
          ],
          [
           "male"
          ],
          [
           "male"
          ],
          [
           "male"
          ],
          [
           "male"
          ],
          [
           "female"
          ],
          [
           "male"
          ],
          [
           "female"
          ],
          [
           "male"
          ],
          [
           "female"
          ],
          [
           "female"
          ],
          [
           "male"
          ],
          [
           "female"
          ],
          [
           "female"
          ],
          [
           "male"
          ],
          [
           "male"
          ],
          [
           "male"
          ],
          [
           "female"
          ],
          [
           "male"
          ],
          [
           "male"
          ],
          [
           "female"
          ],
          [
           "male"
          ],
          [
           "male"
          ],
          [
           "male"
          ],
          [
           "female"
          ],
          [
           "male"
          ],
          [
           "female"
          ],
          [
           "female"
          ],
          [
           "male"
          ],
          [
           "male"
          ],
          [
           "male"
          ],
          [
           "female"
          ],
          [
           "male"
          ],
          [
           "male"
          ],
          [
           "male"
          ],
          [
           "female"
          ],
          [
           "male"
          ],
          [
           "male"
          ],
          [
           "male"
          ],
          [
           "female"
          ],
          [
           "male"
          ],
          [
           "female"
          ],
          [
           "male"
          ],
          [
           "male"
          ],
          [
           "male"
          ],
          [
           "male"
          ],
          [
           "male"
          ],
          [
           "female"
          ],
          [
           "female"
          ],
          [
           "male"
          ],
          [
           "male"
          ],
          [
           "female"
          ],
          [
           "male"
          ],
          [
           "male"
          ],
          [
           "male"
          ],
          [
           "male"
          ],
          [
           "male"
          ],
          [
           "female"
          ],
          [
           "female"
          ],
          [
           "female"
          ],
          [
           "female"
          ],
          [
           "female"
          ],
          [
           "female"
          ],
          [
           "male"
          ],
          [
           "female"
          ],
          [
           "male"
          ],
          [
           "male"
          ],
          [
           "male"
          ],
          [
           "female"
          ],
          [
           "male"
          ],
          [
           "female"
          ],
          [
           "male"
          ],
          [
           "male"
          ],
          [
           "male"
          ],
          [
           "male"
          ],
          [
           "male"
          ],
          [
           "male"
          ],
          [
           "male"
          ],
          [
           "male"
          ],
          [
           "male"
          ],
          [
           "female"
          ],
          [
           "female"
          ],
          [
           "female"
          ],
          [
           "female"
          ],
          [
           "female"
          ],
          [
           "female"
          ],
          [
           "female"
          ],
          [
           "male"
          ],
          [
           "male"
          ],
          [
           "male"
          ],
          [
           "female"
          ],
          [
           "female"
          ],
          [
           "male"
          ],
          [
           "female"
          ],
          [
           "female"
          ],
          [
           "female"
          ],
          [
           "female"
          ],
          [
           "male"
          ],
          [
           "female"
          ],
          [
           "male"
          ],
          [
           "female"
          ],
          [
           "male"
          ],
          [
           "male"
          ],
          [
           "female"
          ],
          [
           "female"
          ],
          [
           "female"
          ],
          [
           "female"
          ],
          [
           "male"
          ],
          [
           "female"
          ],
          [
           "male"
          ],
          [
           "female"
          ],
          [
           "female"
          ],
          [
           "female"
          ],
          [
           "male"
          ],
          [
           "male"
          ],
          [
           "female"
          ],
          [
           "male"
          ],
          [
           "male"
          ],
          [
           "male"
          ],
          [
           "male"
          ],
          [
           "male"
          ],
          [
           "female"
          ],
          [
           "male"
          ],
          [
           "female"
          ],
          [
           "female"
          ],
          [
           "female"
          ],
          [
           "male"
          ],
          [
           "male"
          ],
          [
           "female"
          ],
          [
           "male"
          ],
          [
           "female"
          ],
          [
           "male"
          ],
          [
           "male"
          ],
          [
           "male"
          ],
          [
           "male"
          ],
          [
           "female"
          ],
          [
           "male"
          ],
          [
           "female"
          ],
          [
           "male"
          ],
          [
           "female"
          ],
          [
           "female"
          ],
          [
           "male"
          ],
          [
           "female"
          ],
          [
           "female"
          ],
          [
           "female"
          ],
          [
           "male"
          ],
          [
           "male"
          ],
          [
           "male"
          ],
          [
           "female"
          ],
          [
           "male"
          ],
          [
           "female"
          ],
          [
           "female"
          ],
          [
           "female"
          ],
          [
           "female"
          ],
          [
           "female"
          ],
          [
           "male"
          ],
          [
           "male"
          ],
          [
           "male"
          ],
          [
           "male"
          ],
          [
           "female"
          ],
          [
           "male"
          ],
          [
           "female"
          ],
          [
           "male"
          ],
          [
           "female"
          ],
          [
           "female"
          ],
          [
           "female"
          ],
          [
           "male"
          ],
          [
           "male"
          ],
          [
           "male"
          ],
          [
           "male"
          ],
          [
           "female"
          ],
          [
           "female"
          ],
          [
           "female"
          ],
          [
           "male"
          ],
          [
           "female"
          ],
          [
           "male"
          ],
          [
           "male"
          ],
          [
           "male"
          ],
          [
           "male"
          ],
          [
           "female"
          ],
          [
           "female"
          ],
          [
           "female"
          ],
          [
           "male"
          ],
          [
           "female"
          ],
          [
           "female"
          ],
          [
           "female"
          ],
          [
           "female"
          ],
          [
           "female"
          ],
          [
           "female"
          ],
          [
           "female"
          ],
          [
           "male"
          ],
          [
           "male"
          ],
          [
           "male"
          ],
          [
           "male"
          ],
          [
           "female"
          ],
          [
           "female"
          ],
          [
           "female"
          ],
          [
           "male"
          ],
          [
           "female"
          ],
          [
           "male"
          ],
          [
           "male"
          ],
          [
           "female"
          ],
          [
           "female"
          ],
          [
           "female"
          ],
          [
           "male"
          ],
          [
           "male"
          ],
          [
           "female"
          ],
          [
           "female"
          ],
          [
           "male"
          ],
          [
           "male"
          ],
          [
           "female"
          ],
          [
           "female"
          ],
          [
           "female"
          ],
          [
           "male"
          ],
          [
           "female"
          ],
          [
           "male"
          ],
          [
           "female"
          ],
          [
           "female"
          ],
          [
           "female"
          ],
          [
           "female"
          ],
          [
           "male"
          ],
          [
           "female"
          ],
          [
           "male"
          ],
          [
           "male"
          ],
          [
           "male"
          ],
          [
           "male"
          ],
          [
           "male"
          ],
          [
           "male"
          ],
          [
           "male"
          ],
          [
           "female"
          ],
          [
           "male"
          ],
          [
           "female"
          ],
          [
           "male"
          ],
          [
           "male"
          ],
          [
           "male"
          ],
          [
           "male"
          ],
          [
           "male"
          ],
          [
           "female"
          ],
          [
           "female"
          ],
          [
           "male"
          ],
          [
           "female"
          ],
          [
           "male"
          ],
          [
           "female"
          ],
          [
           "female"
          ],
          [
           "male"
          ],
          [
           "female"
          ],
          [
           "female"
          ],
          [
           "female"
          ],
          [
           "female"
          ],
          [
           "male"
          ],
          [
           "male"
          ],
          [
           "male"
          ],
          [
           "female"
          ],
          [
           "male"
          ],
          [
           "female"
          ],
          [
           "male"
          ],
          [
           "male"
          ],
          [
           "male"
          ],
          [
           "male"
          ],
          [
           "male"
          ],
          [
           "male"
          ],
          [
           "male"
          ],
          [
           "female"
          ],
          [
           "female"
          ],
          [
           "female"
          ],
          [
           "male"
          ],
          [
           "female"
          ],
          [
           "female"
          ],
          [
           "male"
          ],
          [
           "male"
          ],
          [
           "female"
          ],
          [
           "male"
          ],
          [
           "female"
          ],
          [
           "male"
          ],
          [
           "male"
          ],
          [
           "male"
          ],
          [
           "female"
          ],
          [
           "male"
          ],
          [
           "male"
          ],
          [
           "female"
          ],
          [
           "female"
          ],
          [
           "male"
          ],
          [
           "male"
          ],
          [
           "female"
          ],
          [
           "male"
          ],
          [
           "female"
          ],
          [
           "female"
          ],
          [
           "female"
          ],
          [
           "male"
          ],
          [
           "female"
          ],
          [
           "female"
          ],
          [
           "male"
          ],
          [
           "female"
          ],
          [
           "female"
          ],
          [
           "male"
          ],
          [
           "female"
          ],
          [
           "female"
          ],
          [
           "male"
          ],
          [
           "male"
          ],
          [
           "male"
          ],
          [
           "male"
          ],
          [
           "male"
          ],
          [
           "female"
          ],
          [
           "female"
          ],
          [
           "female"
          ],
          [
           "male"
          ],
          [
           "male"
          ],
          [
           "male"
          ],
          [
           "female"
          ],
          [
           "male"
          ],
          [
           "female"
          ],
          [
           "male"
          ],
          [
           "male"
          ],
          [
           "female"
          ],
          [
           "male"
          ],
          [
           "female"
          ],
          [
           "female"
          ],
          [
           "female"
          ],
          [
           "male"
          ],
          [
           "male"
          ],
          [
           "female"
          ],
          [
           "male"
          ],
          [
           "male"
          ],
          [
           "male"
          ],
          [
           "female"
          ],
          [
           "male"
          ],
          [
           "female"
          ],
          [
           "male"
          ],
          [
           "male"
          ],
          [
           "female"
          ],
          [
           "male"
          ],
          [
           "female"
          ],
          [
           "female"
          ],
          [
           "female"
          ],
          [
           "male"
          ],
          [
           "male"
          ],
          [
           "male"
          ],
          [
           "female"
          ],
          [
           "male"
          ],
          [
           "male"
          ],
          [
           "male"
          ],
          [
           "female"
          ],
          [
           "female"
          ],
          [
           "female"
          ],
          [
           "male"
          ],
          [
           "female"
          ],
          [
           "female"
          ],
          [
           "female"
          ],
          [
           "male"
          ],
          [
           "female"
          ],
          [
           "male"
          ],
          [
           "female"
          ],
          [
           "male"
          ],
          [
           "female"
          ],
          [
           "male"
          ],
          [
           "female"
          ],
          [
           "male"
          ],
          [
           "female"
          ],
          [
           "male"
          ],
          [
           "female"
          ],
          [
           "female"
          ],
          [
           "male"
          ],
          [
           "female"
          ],
          [
           "female"
          ],
          [
           "male"
          ],
          [
           "male"
          ],
          [
           "male"
          ],
          [
           "female"
          ],
          [
           "male"
          ],
          [
           "female"
          ],
          [
           "female"
          ],
          [
           "female"
          ],
          [
           "female"
          ],
          [
           "male"
          ],
          [
           "female"
          ],
          [
           "female"
          ],
          [
           "male"
          ],
          [
           "male"
          ],
          [
           "female"
          ],
          [
           "female"
          ],
          [
           "male"
          ],
          [
           "female"
          ],
          [
           "female"
          ],
          [
           "female"
          ],
          [
           "female"
          ],
          [
           "male"
          ],
          [
           "female"
          ],
          [
           "female"
          ],
          [
           "female"
          ],
          [
           "female"
          ],
          [
           "female"
          ],
          [
           "female"
          ],
          [
           "male"
          ],
          [
           "male"
          ],
          [
           "female"
          ],
          [
           "male"
          ],
          [
           "female"
          ],
          [
           "female"
          ],
          [
           "male"
          ],
          [
           "male"
          ],
          [
           "male"
          ],
          [
           "male"
          ],
          [
           "female"
          ],
          [
           "female"
          ],
          [
           "female"
          ],
          [
           "female"
          ],
          [
           "female"
          ],
          [
           "female"
          ],
          [
           "female"
          ],
          [
           "female"
          ],
          [
           "female"
          ],
          [
           "male"
          ],
          [
           "female"
          ],
          [
           "male"
          ],
          [
           "female"
          ],
          [
           "male"
          ],
          [
           "female"
          ],
          [
           "female"
          ],
          [
           "male"
          ],
          [
           "female"
          ],
          [
           "female"
          ],
          [
           "female"
          ],
          [
           "female"
          ],
          [
           "female"
          ],
          [
           "male"
          ],
          [
           "female"
          ],
          [
           "female"
          ],
          [
           "female"
          ],
          [
           "female"
          ],
          [
           "female"
          ],
          [
           "male"
          ],
          [
           "female"
          ],
          [
           "male"
          ],
          [
           "male"
          ],
          [
           "male"
          ],
          [
           "male"
          ],
          [
           "female"
          ],
          [
           "female"
          ],
          [
           "male"
          ],
          [
           "female"
          ],
          [
           "male"
          ],
          [
           "female"
          ],
          [
           "female"
          ],
          [
           "male"
          ],
          [
           "male"
          ],
          [
           "male"
          ],
          [
           "male"
          ],
          [
           "male"
          ],
          [
           "female"
          ],
          [
           "female"
          ],
          [
           "male"
          ],
          [
           "female"
          ],
          [
           "female"
          ],
          [
           "female"
          ],
          [
           "male"
          ],
          [
           "female"
          ],
          [
           "female"
          ],
          [
           "female"
          ],
          [
           "female"
          ],
          [
           "female"
          ],
          [
           "male"
          ],
          [
           "male"
          ],
          [
           "female"
          ],
          [
           "male"
          ],
          [
           "female"
          ],
          [
           "female"
          ],
          [
           "male"
          ],
          [
           "female"
          ],
          [
           "male"
          ],
          [
           "female"
          ],
          [
           "male"
          ],
          [
           "female"
          ],
          [
           "male"
          ],
          [
           "female"
          ],
          [
           "male"
          ],
          [
           "female"
          ],
          [
           "female"
          ],
          [
           "male"
          ],
          [
           "female"
          ],
          [
           "female"
          ],
          [
           "female"
          ],
          [
           "female"
          ],
          [
           "male"
          ],
          [
           "male"
          ],
          [
           "female"
          ],
          [
           "male"
          ],
          [
           "male"
          ],
          [
           "female"
          ],
          [
           "female"
          ],
          [
           "male"
          ],
          [
           "female"
          ],
          [
           "female"
          ],
          [
           "female"
          ],
          [
           "male"
          ],
          [
           "male"
          ],
          [
           "female"
          ],
          [
           "female"
          ],
          [
           "female"
          ],
          [
           "female"
          ],
          [
           "female"
          ],
          [
           "male"
          ],
          [
           "male"
          ],
          [
           "male"
          ],
          [
           "female"
          ],
          [
           "male"
          ],
          [
           "male"
          ],
          [
           "female"
          ],
          [
           "female"
          ],
          [
           "male"
          ],
          [
           "female"
          ],
          [
           "male"
          ],
          [
           "female"
          ],
          [
           "female"
          ],
          [
           "female"
          ],
          [
           "female"
          ],
          [
           "female"
          ],
          [
           "male"
          ],
          [
           "female"
          ],
          [
           "male"
          ],
          [
           "male"
          ],
          [
           "male"
          ],
          [
           "male"
          ],
          [
           "female"
          ],
          [
           "male"
          ],
          [
           "male"
          ],
          [
           "female"
          ],
          [
           "female"
          ],
          [
           "male"
          ],
          [
           "female"
          ],
          [
           "male"
          ],
          [
           "female"
          ],
          [
           "female"
          ],
          [
           "male"
          ],
          [
           "male"
          ],
          [
           "male"
          ],
          [
           "female"
          ],
          [
           "female"
          ],
          [
           "female"
          ],
          [
           "male"
          ],
          [
           "male"
          ],
          [
           "male"
          ],
          [
           "male"
          ],
          [
           "male"
          ],
          [
           "female"
          ],
          [
           "male"
          ],
          [
           "male"
          ],
          [
           "male"
          ],
          [
           "male"
          ],
          [
           "female"
          ],
          [
           "male"
          ],
          [
           "male"
          ],
          [
           "female"
          ],
          [
           "female"
          ],
          [
           "male"
          ],
          [
           "female"
          ],
          [
           "male"
          ],
          [
           "male"
          ],
          [
           "male"
          ],
          [
           "male"
          ],
          [
           "female"
          ],
          [
           "male"
          ],
          [
           "male"
          ],
          [
           "female"
          ],
          [
           "male"
          ],
          [
           "male"
          ],
          [
           "male"
          ],
          [
           "male"
          ],
          [
           "female"
          ],
          [
           "female"
          ],
          [
           "male"
          ],
          [
           "male"
          ],
          [
           "male"
          ],
          [
           "male"
          ],
          [
           "female"
          ],
          [
           "female"
          ],
          [
           "male"
          ],
          [
           "male"
          ],
          [
           "male"
          ],
          [
           "female"
          ],
          [
           "male"
          ],
          [
           "male"
          ],
          [
           "female"
          ],
          [
           "male"
          ],
          [
           "male"
          ],
          [
           "male"
          ],
          [
           "male"
          ],
          [
           "female"
          ],
          [
           "female"
          ],
          [
           "female"
          ],
          [
           "female"
          ],
          [
           "male"
          ],
          [
           "male"
          ],
          [
           "female"
          ],
          [
           "male"
          ],
          [
           "male"
          ],
          [
           "female"
          ],
          [
           "female"
          ],
          [
           "male"
          ],
          [
           "female"
          ],
          [
           "female"
          ],
          [
           "male"
          ],
          [
           "male"
          ],
          [
           "female"
          ],
          [
           "male"
          ],
          [
           "female"
          ],
          [
           "female"
          ],
          [
           "male"
          ],
          [
           "male"
          ],
          [
           "male"
          ],
          [
           "female"
          ],
          [
           "male"
          ],
          [
           "female"
          ],
          [
           "female"
          ],
          [
           "male"
          ],
          [
           "female"
          ],
          [
           "female"
          ],
          [
           "male"
          ],
          [
           "female"
          ],
          [
           "female"
          ],
          [
           "male"
          ],
          [
           "female"
          ],
          [
           "female"
          ],
          [
           "female"
          ],
          [
           "female"
          ],
          [
           "female"
          ],
          [
           "female"
          ],
          [
           "female"
          ],
          [
           "male"
          ],
          [
           "female"
          ],
          [
           "male"
          ],
          [
           "female"
          ],
          [
           "female"
          ],
          [
           "male"
          ],
          [
           "male"
          ],
          [
           "female"
          ],
          [
           "male"
          ],
          [
           "female"
          ],
          [
           "male"
          ],
          [
           "female"
          ],
          [
           "male"
          ],
          [
           "female"
          ],
          [
           "male"
          ],
          [
           "male"
          ],
          [
           "female"
          ],
          [
           "female"
          ],
          [
           "female"
          ],
          [
           "female"
          ],
          [
           "male"
          ],
          [
           "female"
          ],
          [
           "female"
          ],
          [
           "male"
          ],
          [
           "male"
          ],
          [
           "male"
          ],
          [
           "female"
          ],
          [
           "male"
          ],
          [
           "male"
          ],
          [
           "female"
          ],
          [
           "male"
          ],
          [
           "male"
          ],
          [
           "female"
          ],
          [
           "male"
          ],
          [
           "female"
          ],
          [
           "female"
          ],
          [
           "female"
          ],
          [
           "male"
          ],
          [
           "male"
          ],
          [
           "male"
          ],
          [
           "female"
          ],
          [
           "male"
          ],
          [
           "female"
          ],
          [
           "male"
          ],
          [
           "male"
          ],
          [
           "male"
          ],
          [
           "male"
          ],
          [
           "male"
          ],
          [
           "female"
          ],
          [
           "male"
          ],
          [
           "male"
          ],
          [
           "female"
          ],
          [
           "male"
          ],
          [
           "female"
          ],
          [
           "female"
          ],
          [
           "female"
          ],
          [
           "male"
          ],
          [
           "male"
          ],
          [
           "male"
          ],
          [
           "male"
          ],
          [
           "male"
          ],
          [
           "female"
          ],
          [
           "male"
          ],
          [
           "female"
          ],
          [
           "female"
          ],
          [
           "female"
          ],
          [
           "female"
          ],
          [
           "male"
          ],
          [
           "female"
          ],
          [
           "male"
          ],
          [
           "male"
          ],
          [
           "male"
          ],
          [
           "male"
          ],
          [
           "male"
          ],
          [
           "male"
          ],
          [
           "female"
          ],
          [
           "female"
          ],
          [
           "male"
          ],
          [
           "male"
          ],
          [
           "female"
          ],
          [
           "male"
          ],
          [
           "female"
          ],
          [
           "female"
          ],
          [
           "female"
          ],
          [
           "female"
          ],
          [
           "male"
          ],
          [
           "female"
          ],
          [
           "male"
          ],
          [
           "male"
          ],
          [
           "male"
          ],
          [
           "male"
          ],
          [
           "male"
          ],
          [
           "female"
          ],
          [
           "female"
          ],
          [
           "female"
          ],
          [
           "female"
          ],
          [
           "male"
          ],
          [
           "female"
          ],
          [
           "male"
          ],
          [
           "female"
          ],
          [
           "female"
          ],
          [
           "male"
          ],
          [
           "female"
          ],
          [
           "female"
          ],
          [
           "male"
          ],
          [
           "male"
          ],
          [
           "male"
          ],
          [
           "male"
          ],
          [
           "male"
          ],
          [
           "male"
          ],
          [
           "male"
          ],
          [
           "female"
          ],
          [
           "female"
          ],
          [
           "male"
          ],
          [
           "female"
          ],
          [
           "female"
          ],
          [
           "male"
          ],
          [
           "female"
          ],
          [
           "female"
          ],
          [
           "female"
          ],
          [
           "female"
          ],
          [
           "female"
          ],
          [
           "female"
          ],
          [
           "female"
          ],
          [
           "female"
          ],
          [
           "female"
          ],
          [
           "female"
          ],
          [
           "female"
          ],
          [
           "male"
          ],
          [
           "female"
          ],
          [
           "male"
          ],
          [
           "female"
          ],
          [
           "male"
          ],
          [
           "female"
          ],
          [
           "male"
          ],
          [
           "female"
          ],
          [
           "male"
          ],
          [
           "male"
          ],
          [
           "female"
          ],
          [
           "female"
          ],
          [
           "male"
          ],
          [
           "female"
          ],
          [
           "female"
          ],
          [
           "male"
          ],
          [
           "male"
          ],
          [
           "female"
          ],
          [
           "female"
          ],
          [
           "female"
          ],
          [
           "male"
          ],
          [
           "male"
          ],
          [
           "male"
          ],
          [
           "female"
          ],
          [
           "female"
          ],
          [
           "female"
          ],
          [
           "male"
          ],
          [
           "male"
          ],
          [
           "female"
          ],
          [
           "male"
          ],
          [
           "male"
          ],
          [
           "male"
          ],
          [
           "male"
          ],
          [
           "male"
          ],
          [
           "male"
          ],
          [
           "female"
          ],
          [
           "male"
          ],
          [
           "male"
          ],
          [
           "male"
          ],
          [
           "male"
          ],
          [
           "female"
          ],
          [
           "female"
          ],
          [
           "male"
          ],
          [
           "male"
          ],
          [
           "male"
          ],
          [
           "male"
          ],
          [
           "female"
          ],
          [
           "female"
          ],
          [
           "male"
          ],
          [
           "male"
          ],
          [
           "male"
          ],
          [
           "female"
          ],
          [
           "male"
          ],
          [
           "male"
          ],
          [
           "female"
          ],
          [
           "male"
          ],
          [
           "female"
          ],
          [
           "male"
          ],
          [
           "male"
          ],
          [
           "female"
          ],
          [
           "female"
          ],
          [
           "male"
          ],
          [
           "male"
          ],
          [
           "male"
          ],
          [
           "female"
          ],
          [
           "female"
          ],
          [
           "female"
          ],
          [
           "male"
          ],
          [
           "female"
          ],
          [
           "male"
          ],
          [
           "male"
          ],
          [
           "male"
          ],
          [
           "female"
          ],
          [
           "female"
          ],
          [
           "female"
          ],
          [
           "female"
          ],
          [
           "male"
          ],
          [
           "male"
          ],
          [
           "female"
          ],
          [
           "female"
          ],
          [
           "male"
          ],
          [
           "female"
          ],
          [
           "female"
          ],
          [
           "male"
          ],
          [
           "female"
          ],
          [
           "male"
          ],
          [
           "male"
          ],
          [
           "female"
          ],
          [
           "female"
          ],
          [
           "male"
          ],
          [
           "female"
          ],
          [
           "female"
          ],
          [
           "male"
          ],
          [
           "female"
          ],
          [
           "male"
          ],
          [
           "female"
          ],
          [
           "male"
          ],
          [
           "male"
          ],
          [
           "male"
          ],
          [
           "male"
          ],
          [
           "male"
          ],
          [
           "male"
          ],
          [
           "male"
          ],
          [
           "female"
          ],
          [
           "female"
          ],
          [
           "male"
          ],
          [
           "male"
          ],
          [
           "female"
          ],
          [
           "female"
          ],
          [
           "male"
          ],
          [
           "male"
          ],
          [
           "male"
          ],
          [
           "female"
          ],
          [
           "male"
          ],
          [
           "male"
          ],
          [
           "male"
          ],
          [
           "male"
          ],
          [
           "male"
          ],
          [
           "female"
          ],
          [
           "female"
          ],
          [
           "male"
          ],
          [
           "male"
          ],
          [
           "female"
          ],
          [
           "female"
          ],
          [
           "female"
          ],
          [
           "female"
          ],
          [
           "male"
          ],
          [
           "female"
          ],
          [
           "female"
          ],
          [
           "female"
          ],
          [
           "female"
          ],
          [
           "male"
          ],
          [
           "male"
          ],
          [
           "male"
          ],
          [
           "male"
          ],
          [
           "female"
          ],
          [
           "male"
          ],
          [
           "female"
          ],
          [
           "male"
          ],
          [
           "female"
          ],
          [
           "male"
          ],
          [
           "male"
          ],
          [
           "female"
          ],
          [
           "male"
          ],
          [
           "male"
          ],
          [
           "male"
          ],
          [
           "female"
          ],
          [
           "male"
          ],
          [
           "male"
          ],
          [
           "male"
          ],
          [
           "male"
          ],
          [
           "male"
          ],
          [
           "female"
          ],
          [
           "male"
          ],
          [
           "male"
          ],
          [
           "male"
          ],
          [
           "male"
          ],
          [
           "male"
          ],
          [
           "female"
          ],
          [
           "female"
          ],
          [
           "female"
          ],
          [
           "female"
          ]
         ],
         "hovertemplate": "age=%{x}<br>y=%{y}<br>sex=%{customdata[0]}<extra></extra>",
         "legendgroup": "",
         "marker": {
          "color": "#636efa",
          "opacity": 0.8,
          "size": 7,
          "symbol": "circle"
         },
         "mode": "markers",
         "name": "",
         "showlegend": false,
         "type": "scattergl",
         "x": [
          46,
          40,
          19,
          53,
          26,
          57,
          32,
          41,
          23,
          35,
          34,
          45,
          30,
          24,
          30,
          21,
          40,
          18,
          34,
          46,
          19,
          58,
          52,
          26,
          61,
          39,
          20,
          30,
          54,
          40,
          59,
          55,
          47,
          44,
          26,
          27,
          52,
          45,
          34,
          18,
          60,
          23,
          19,
          45,
          35,
          40,
          33,
          18,
          51,
          18,
          19,
          22,
          50,
          48,
          50,
          19,
          49,
          52,
          47,
          21,
          39,
          45,
          52,
          32,
          47,
          28,
          46,
          18,
          49,
          53,
          58,
          52,
          61,
          35,
          60,
          37,
          60,
          24,
          53,
          33,
          44,
          29,
          35,
          43,
          46,
          63,
          50,
          19,
          21,
          28,
          63,
          36,
          39,
          44,
          59,
          19,
          25,
          23,
          41,
          26,
          31,
          18,
          42,
          60,
          23,
          27,
          21,
          24,
          38,
          57,
          33,
          44,
          64,
          22,
          26,
          53,
          24,
          31,
          34,
          56,
          19,
          38,
          61,
          51,
          34,
          54,
          49,
          36,
          26,
          33,
          47,
          37,
          34,
          42,
          19,
          26,
          25,
          38,
          49,
          51,
          52,
          37,
          37,
          44,
          62,
          61,
          38,
          38,
          46,
          50,
          36,
          51,
          30,
          26,
          56,
          27,
          57,
          43,
          23,
          59,
          19,
          19,
          31,
          27,
          38,
          56,
          24,
          19,
          58,
          19,
          62,
          27,
          63,
          42,
          33,
          56,
          22,
          53,
          49,
          21,
          62,
          47,
          49,
          42,
          42,
          18,
          60,
          34,
          19,
          63,
          27,
          54,
          42,
          19,
          24,
          18,
          18,
          56,
          26,
          49,
          33,
          54,
          56,
          60,
          54,
          33,
          43,
          20,
          30,
          64,
          19,
          33,
          58,
          18,
          18,
          31,
          30,
          36,
          35,
          48,
          50,
          41,
          60,
          37,
          43,
          30,
          34,
          53,
          18,
          58,
          63,
          19,
          38,
          39,
          22,
          40,
          19,
          60,
          20,
          57,
          44,
          41,
          59,
          39,
          59,
          64,
          25,
          45,
          18,
          45,
          41,
          34,
          42,
          56,
          61,
          26,
          63,
          29,
          19,
          64,
          35,
          29,
          36,
          37,
          18,
          53,
          20,
          40,
          55,
          41,
          19,
          57,
          27,
          27,
          48,
          50,
          22,
          30,
          39,
          19,
          45,
          46,
          40,
          61,
          18,
          53,
          64,
          41,
          48,
          19,
          25,
          21,
          18,
          32,
          48,
          51,
          30,
          23,
          28,
          36,
          40,
          18,
          43,
          50,
          20,
          38,
          25,
          28,
          42,
          29,
          21,
          28,
          23,
          23,
          39,
          43,
          23,
          59,
          44,
          59,
          20,
          28,
          51,
          47,
          40,
          23,
          46,
          38,
          49,
          23,
          54,
          33,
          36,
          53,
          23,
          45,
          37,
          31,
          56,
          33,
          43,
          40,
          44,
          35,
          39,
          54,
          36,
          22,
          44,
          58,
          63,
          36,
          22,
          24,
          22,
          51,
          20,
          27,
          43,
          29,
          18,
          55,
          42,
          27,
          53,
          43,
          36,
          35,
          38,
          53,
          36,
          19,
          44,
          20,
          49,
          18,
          28,
          43,
          55,
          22,
          61,
          59,
          64,
          52,
          18,
          58,
          32,
          50,
          45,
          32,
          55,
          39,
          25,
          33,
          39,
          44,
          48,
          42,
          63,
          29,
          58,
          32,
          54,
          30,
          51,
          28,
          51,
          25,
          19,
          18,
          27,
          31,
          40,
          62,
          43,
          48,
          18,
          64,
          36,
          57,
          20,
          26,
          23,
          62,
          36,
          47,
          47,
          48,
          61,
          34,
          51,
          19,
          25,
          31,
          41,
          56,
          34,
          19,
          19,
          60,
          23,
          18,
          55,
          35,
          58,
          55,
          55,
          24,
          64,
          52,
          33,
          18,
          38,
          64,
          55,
          24,
          30,
          47,
          49,
          56,
          59,
          24,
          35,
          35,
          19,
          35,
          18,
          37,
          24,
          45,
          64,
          64,
          31,
          60,
          30,
          45,
          21,
          24,
          55,
          48,
          46,
          28,
          28,
          57,
          55,
          63,
          20,
          25,
          47,
          22,
          46,
          25,
          61,
          47,
          42,
          51,
          41,
          59,
          44,
          38,
          19,
          58,
          38,
          57,
          56,
          18,
          31,
          55,
          28,
          20,
          50,
          41,
          33,
          43,
          29,
          32,
          42,
          46,
          49,
          44,
          32,
          60,
          20,
          55,
          54,
          48,
          26,
          31,
          54,
          46,
          63,
          59,
          18,
          29,
          28,
          34,
          19,
          21,
          20,
          19,
          41,
          23,
          19,
          20,
          25,
          18,
          45,
          47,
          56,
          51,
          49,
          46,
          50,
          40,
          19,
          24,
          32,
          34,
          58,
          48,
          52,
          40,
          22,
          37,
          51,
          30,
          29,
          54,
          19,
          19,
          49,
          52,
          32,
          20,
          59,
          53,
          25,
          55,
          64,
          24,
          51,
          58,
          40,
          32,
          39,
          48,
          64,
          24,
          41,
          63,
          42,
          39,
          29,
          44,
          19,
          51,
          59,
          24,
          37,
          61,
          45,
          22,
          22,
          57,
          44,
          26,
          60,
          32,
          35,
          43,
          28,
          18,
          43,
          52,
          32,
          40,
          62,
          45,
          19,
          62,
          63,
          22,
          27,
          53,
          57,
          54,
          50,
          55,
          44,
          34,
          62,
          57,
          41,
          36,
          19,
          18,
          53,
          48,
          36,
          32,
          61,
          27,
          27,
          28,
          24,
          50,
          36,
          18,
          56,
          46,
          46,
          23,
          52,
          25,
          37,
          23,
          27,
          48,
          25,
          56,
          41,
          33,
          46,
          46,
          42,
          62,
          54,
          60,
          29,
          60,
          35,
          56,
          31,
          58,
          25,
          61,
          47,
          18,
          39,
          50,
          28,
          58,
          42,
          26,
          62,
          19,
          40,
          52,
          34,
          47,
          46,
          32,
          54,
          39,
          18,
          47,
          21,
          18,
          34,
          45,
          23,
          31,
          49,
          62,
          30,
          40,
          62,
          46,
          55,
          51,
          31,
          19,
          63,
          30,
          21,
          50,
          26,
          60,
          48,
          48,
          41,
          49,
          47,
          20,
          54,
          53,
          25,
          28,
          49,
          20,
          64,
          56,
          29,
          18,
          35,
          42,
          22,
          54,
          29,
          18,
          20,
          51,
          32,
          26,
          57,
          18,
          36,
          57,
          54,
          30,
          48,
          23,
          45,
          40,
          44,
          29,
          43,
          27,
          63,
          31,
          41,
          29,
          57,
          20,
          54,
          22,
          53,
          64,
          21,
          51,
          46,
          34,
          55,
          41,
          51,
          18,
          19,
          64,
          53,
          56,
          57,
          18,
          50,
          38,
          50,
          26,
          38,
          49,
          24,
          52,
          19,
          58,
          31,
          54,
          26,
          61,
          41,
          45,
          42,
          57,
          50,
          41,
          56,
          21,
          25,
          19,
          61,
          62,
          28,
          29,
          53,
          61,
          57,
          32,
          59,
          55,
          61,
          21,
          30,
          58,
          33,
          42,
          62,
          34,
          45,
          28,
          21,
          29,
          45,
          32,
          21,
          34,
          18,
          46,
          41,
          32,
          30,
          31,
          27,
          32,
          25,
          53,
          35,
          27,
          47,
          49,
          26,
          58,
          56,
          62,
          52,
          55,
          54,
          43,
          33,
          27,
          21,
          50,
          49,
          26,
          33,
          40,
          22,
          60,
          29,
          60,
          59,
          34,
          37,
          57,
          22,
          48,
          33,
          30,
          38,
          58,
          39,
          59,
          31,
          23,
          22,
          63,
          59,
          61,
          52,
          23,
          43,
          21,
          22,
          64,
          27,
          43,
          37,
          35,
          33,
          31,
          25,
          42,
          36,
          57,
          52,
          59,
          53,
          46,
          55,
          21,
          39,
          44,
          30,
          50,
          32,
          26,
          19,
          62,
          33,
          47,
          18,
          50,
          28,
          18,
          40,
          55,
          37,
          62,
          41,
          45,
          62,
          19,
          36,
          39,
          24,
          47,
          31,
          37,
          48,
          19,
          45,
          50,
          30,
          24,
          42,
          29,
          18,
          52,
          37,
          52,
          41,
          29,
          59,
          52,
          18,
          43,
          27,
          39,
          54,
          19,
          37,
          34,
          22,
          19,
          25,
          38,
          20,
          51,
          18,
          18,
          63,
          43,
          58,
          19,
          24,
          44,
          18,
          61,
          47,
          19,
          38,
          35,
          21,
          24,
          37,
          31,
          38,
          59,
          53,
          37,
          26,
          48,
          36,
          21,
          49,
          40,
          50,
          28,
          29,
          19,
          33,
          49,
          45,
          43,
          18,
          19,
          29,
          25,
          49,
          51,
          23,
          20,
          46,
          38,
          18,
          28,
          50,
          21,
          63,
          51,
          31,
          28,
          46,
          52,
          47,
          31,
          52,
          62,
          20,
          44,
          47,
          60,
          57,
          56,
          35,
          52,
          27,
          63,
          22,
          48,
          44,
          18,
          30,
          42,
          61,
          63,
          18,
          57,
          18,
          18,
          64,
          53,
          19,
          51,
          43,
          18,
          35,
          45,
          18,
          37,
          25,
          40,
          39,
          39,
          48,
          48,
          20,
          19,
          44,
          47,
          42,
          54,
          58,
          56
         ],
         "xaxis": "x",
         "y": [
          41661.602,
          6500.2359,
          34439.8559,
          23244.7902,
          4661.28635,
          11576.13,
          4562.8421,
          7265.7025,
          2789.0574,
          6414.178,
          5003.853,
          9095.06825,
          4151.0287,
          2352.96845,
          20745.9891,
          2404.7338,
          6600.20595,
          15518.18025,
          43943.8761,
          8232.6388,
          34828.654,
          12235.8392,
          10806.839,
          2904.088,
          29141.3603,
          6238.298,
          20167.33603,
          5325.651,
          48549.17835,
          17179.522,
          28287.89766,
          11082.5772,
          8083.9198,
          19594.80965,
          3490.5491,
          4058.71245,
          10197.7722,
          35069.37452,
          18972.495,
          1146.7966,
          12644.589,
          1815.8759,
          2221.56445,
          7222.78625,
          5926.846,
          39125.33225,
          4185.0979,
          34303.1672,
          11436.73815,
          1708.0014,
          2719.27975,
          2254.7967,
          42856.838,
          8964.06055,
          19749.38338,
          2913.569,
          9566.9909,
          10325.206,
          8428.0693,
          15359.1045,
          7418.522,
          8027.968,
          23045.56616,
          6334.34355,
          8551.347,
          3268.84665,
          40720.55105,
          2205.9808,
          10370.91255,
          43254.41795,
          11363.2832,
          12592.5345,
          14119.62,
          5227.98875,
          48673.5588,
          6435.6237,
          30259.99556,
          4618.0799,
          11150.78,
          5261.46945,
          8219.2039,
          3471.4096,
          4762.329,
          7325.0482,
          7147.105,
          14349.8544,
          24520.264,
          18838.70366,
          2585.85065,
          3766.8838,
          28950.4692,
          6748.5912,
          21082.16,
          8211.1002,
          12124.9924,
          1837.237,
          4877.98105,
          34166.273,
          7261.741,
          3385.39915,
          19199.944,
          1704.70015,
          7160.3303,
          12146.971,
          2438.0552,
          2974.126,
          3180.5101,
          1972.95,
          6571.544,
          13224.05705,
          38282.7495,
          7147.4728,
          14901.5167,
          1674.6323,
          3392.3652,
          10065.413,
          3044.2133,
          3260.199,
          4894.7533,
          43921.1837,
          39722.7462,
          41949.2441,
          27941.28758,
          9964.06,
          4536.259,
          25382.297,
          8116.68,
          5272.1758,
          2699.56835,
          6059.173,
          8556.907,
          6877.9801,
          11737.84884,
          7443.64305,
          1635.73365,
          2902.9065,
          17878.90068,
          5974.3847,
          9583.8933,
          8798.593,
          9140.951,
          37270.1512,
          20420.60465,
          8302.53565,
          13470.8044,
          24513.09126,
          6082.405,
          6455.86265,
          46151.1245,
          8444.474,
          7243.8136,
          44641.1974,
          4527.18295,
          36085.219,
          12949.1554,
          18246.4955,
          11945.1327,
          8410.04685,
          3500.6123,
          12333.828,
          2331.519,
          1241.565,
          4134.08245,
          18804.7524,
          5488.262,
          11454.0215,
          2464.6188,
          1628.4709,
          11946.6259,
          1639.5631,
          13462.52,
          18310.742,
          13981.85035,
          7650.77375,
          6653.7886,
          10577.087,
          4005.4225,
          10959.6947,
          8125.7845,
          2007.945,
          15230.32405,
          9225.2564,
          8703.456,
          38245.59327,
          6474.013,
          12829.4551,
          46130.5265,
          14358.36437,
          24059.68019,
          13405.3903,
          3693.428,
          10825.2537,
          7050.642,
          16297.846,
          2473.3341,
          2304.0022,
          3481.868,
          43813.8661,
          17043.3414,
          9288.0267,
          5354.07465,
          12495.29085,
          12363.547,
          12523.6048,
          11305.93455,
          3704.3545,
          14478.33015,
          2362.22905,
          4837.5823,
          14410.9321,
          2130.6759,
          6551.7501,
          24227.33724,
          14133.03775,
          1629.8335,
          4931.647,
          18259.216,
          5469.0066,
          5934.3798,
          21232.18226,
          25333.33284,
          7954.517,
          48173.361,
          46113.511,
          6849.026,
          36837.467,
          4518.82625,
          9869.8102,
          1727.54,
          11345.519,
          15555.18875,
          1253.936,
          6640.54485,
          7201.70085,
          2155.6815,
          19444.2658,
          2709.1119,
          13224.693,
          4830.63,
          11840.77505,
          7518.02535,
          5709.1644,
          12347.172,
          5662.225,
          14001.2867,
          13822.803,
          3208.787,
          28340.18885,
          2198.18985,
          39725.51805,
          7256.7231,
          6753.038,
          19515.5416,
          13430.265,
          13143.86485,
          2680.9493,
          13880.949,
          3947.4131,
          2730.10785,
          16069.08475,
          4747.0529,
          4922.9159,
          38415.474,
          6112.35295,
          2200.83085,
          29186.48236,
          2566.4707,
          6600.361,
          11881.9696,
          40273.6455,
          1646.4297,
          10982.5013,
          4260.744,
          2497.0383,
          8283.6807,
          8442.667,
          2741.948,
          4137.5227,
          8965.79575,
          33750.2918,
          8604.48365,
          21677.28345,
          6393.60345,
          48517.56315,
          1719.4363,
          10461.9794,
          14394.5579,
          6858.4796,
          40974.1649,
          1627.28245,
          3594.17085,
          3077.0955,
          14283.4594,
          3989.841,
          9563.029,
          9877.6077,
          18765.87545,
          18328.2381,
          5615.369,
          43753.33705,
          5415.6612,
          1607.5101,
          18806.14547,
          9541.69555,
          3056.3881,
          7144.86265,
          3238.4357,
          4337.7352,
          22144.032,
          20277.80751,
          1906.35825,
          19673.33573,
          18033.9679,
          36189.1017,
          19023.26,
          37829.7242,
          22395.74424,
          12622.1795,
          12797.20962,
          11743.299,
          1964.78,
          4435.0942,
          22218.1149,
          42969.8527,
          5910.944,
          2690.1138,
          8347.1643,
          6373.55735,
          23306.547,
          1837.2819,
          41999.52,
          11326.71487,
          4889.0368,
          46661.4424,
          2899.48935,
          8413.46305,
          6313.759,
          4738.2682,
          11070.535,
          5972.378,
          22478.6,
          22331.5668,
          42983.4585,
          5125.2157,
          23563.01618,
          10422.91665,
          38709.176,
          3925.7582,
          8023.13545,
          11837.16,
          13390.559,
          5267.81815,
          44501.3982,
          34472.841,
          2166.732,
          44400.4064,
          1875.344,
          39611.7577,
          41034.2214,
          19107.7796,
          2219.4451,
          11394.06555,
          5966.8874,
          3561.8889,
          11741.726,
          21771.3423,
          4402.233,
          20234.85475,
          6079.6715,
          11729.6795,
          7228.21565,
          1744.465,
          46200.9851,
          38344.566,
          9778.3472,
          1137.4697,
          17663.1442,
          18767.7377,
          20781.48892,
          2055.3249,
          13129.60345,
          12925.886,
          14313.8463,
          60021.39897,
          2203.73595,
          11381.3254,
          5253.524,
          8827.2099,
          62592.87309,
          4076.497,
          12268.63225,
          8596.8278,
          2727.3951,
          4795.6568,
          40103.89,
          7633.7206,
          26392.26029,
          32787.45859,
          13887.204,
          4906.40965,
          12224.35085,
          17496.306,
          11013.7119,
          3645.0894,
          23967.38305,
          3732.6251,
          9391.346,
          4391.652,
          1639.5631,
          11884.04858,
          4846.92015,
          4463.2051,
          6389.37785,
          13937.6665,
          42124.5153,
          8671.19125,
          1633.9618,
          16455.70785,
          6746.7425,
          27533.9129,
          1880.07,
          2322.6218,
          21595.38229,
          13451.122,
          5584.3057,
          8547.6913,
          44202.6536,
          10736.87075,
          13143.33665,
          5594.8455,
          11520.09985,
          1625.43375,
          3227.1211,
          4949.7587,
          6282.235,
          11763.0009,
          5385.3379,
          1256.299,
          1731.677,
          13217.0945,
          36021.0112,
          1702.4553,
          10713.644,
          39983.42595,
          11938.25595,
          10704.47,
          11879.10405,
          1969.614,
          27037.9141,
          9634.538,
          5257.50795,
          1121.8739,
          5484.4673,
          14418.2804,
          10226.2842,
          25081.76784,
          3554.203,
          24535.69855,
          10269.46,
          10594.2257,
          12913.9924,
          4234.927,
          4746.344,
          5240.765,
          32548.3405,
          5729.0053,
          4561.1885,
          6406.4107,
          2855.43755,
          7345.084,
          47928.03,
          13831.1152,
          3857.75925,
          28923.13692,
          36950.2567,
          8603.8234,
          1515.3449,
          18955.22017,
          10807.4863,
          10043.249,
          8334.5896,
          4438.2634,
          4349.462,
          10965.446,
          11881.358,
          29523.1656,
          2457.21115,
          3906.127,
          8062.764,
          2643.2685,
          8233.0975,
          2523.1695,
          12557.6053,
          8068.185,
          21348.706,
          9264.797,
          7358.17565,
          30184.9367,
          7624.63,
          5400.9805,
          4687.797,
          11365.952,
          6933.24225,
          11554.2236,
          12643.3778,
          1136.3994,
          3756.6216,
          10601.63225,
          4340.4409,
          27724.28875,
          11299.343,
          6664.68595,
          4571.41305,
          19798.05455,
          19442.3535,
          17626.23951,
          7050.0213,
          8944.1151,
          9282.4806,
          7740.337,
          4544.2348,
          52590.82939,
          26125.67477,
          12269.68865,
          10923.9332,
          9249.4952,
          2927.0647,
          5327.40025,
          63770.42801,
          8733.22925,
          13770.0979,
          14382.70905,
          2211.13075,
          18157.876,
          4719.73655,
          5012.471,
          2709.24395,
          2597.779,
          1769.53165,
          1759.338,
          13725.47184,
          14426.07385,
          1748.774,
          1877.9294,
          3206.49135,
          1725.5523,
          8605.3615,
          8534.6718,
          11165.41765,
          9283.562,
          9182.17,
          7526.70645,
          8457.818,
          6986.697,
          1621.3402,
          14571.8908,
          32734.1863,
          4992.3764,
          12430.95335,
          24180.9335,
          27117.99378,
          15828.82173,
          2527.81865,
          39836.519,
          9386.1613,
          19521.9682,
          5209.57885,
          10338.9316,
          1842.519,
          2136.88225,
          10977.2063,
          24393.6224,
          4357.04365,
          2257.47525,
          47896.79135,
          10579.711,
          2632.992,
          42303.69215,
          16085.1275,
          2842.76075,
          9872.701,
          12222.8983,
          5920.1041,
          4670.64,
          7209.4918,
          28468.91901,
          26926.5144,
          38126.2465,
          6875.961,
          14474.675,
          7639.41745,
          20149.3229,
          3736.4647,
          8116.26885,
          2128.43105,
          9861.025,
          21797.0004,
          18648.4217,
          6203.90175,
          12574.049,
          9788.8659,
          2156.7518,
          2731.9122,
          11356.6609,
          7421.19455,
          3410.324,
          12629.8967,
          4074.4537,
          5630.45785,
          19144.57652,
          3171.6149,
          36149.4835,
          8310.83915,
          26467.09737,
          4686.3887,
          6496.886,
          12979.358,
          8516.829,
          17748.5062,
          46718.16325,
          14254.6082,
          1682.597,
          16796.41194,
          9504.3103,
          11842.62375,
          10231.4999,
          10106.13425,
          20630.28351,
          7623.518,
          5989.52365,
          13555.0049,
          12646.207,
          6775.961,
          5478.0368,
          2710.82855,
          1705.6245,
          10085.846,
          9447.25035,
          20773.62775,
          37607.5277,
          13635.6379,
          3956.07145,
          2494.022,
          3556.9223,
          2457.502,
          11085.5868,
          5377.4578,
          1708.92575,
          11090.7178,
          9411.005,
          8823.98575,
          40904.1995,
          11187.6567,
          4504.6624,
          6985.50695,
          1826.843,
          3353.4703,
          7789.635,
          36124.5737,
          11658.37915,
          6571.02435,
          4889.9995,
          8026.6666,
          8334.45755,
          7046.7222,
          31620.00106,
          12475.3513,
          12638.195,
          3943.5954,
          12142.5786,
          5846.9176,
          10976.24575,
          4239.89265,
          11931.12525,
          42112.2356,
          13616.3586,
          42211.1382,
          11272.33139,
          21659.9301,
          9549.5651,
          4428.88785,
          13019.16105,
          7729.64575,
          3981.9768,
          15612.19335,
          34779.615,
          8162.71625,
          24869.8368,
          6184.2994,
          8930.93455,
          8240.5896,
          4673.3922,
          44260.7499,
          6117.4945,
          17178.6824,
          41676.0811,
          26018.95052,
          1694.7964,
          20009.63365,
          8615.3,
          2416.955,
          4347.02335,
          23807.2406,
          45710.20785,
          4149.736,
          8252.2843,
          28101.33305,
          9414.92,
          10214.636,
          9361.3268,
          5031.26955,
          1252.407,
          13887.9685,
          4237.12655,
          16586.49771,
          25656.57526,
          3877.30425,
          12741.16745,
          21223.6758,
          45702.02235,
          6781.3542,
          10381.4787,
          25309.489,
          16232.847,
          10450.552,
          9863.4718,
          3213.62205,
          4133.64165,
          10264.4421,
          1391.5287,
          14210.53595,
          11658.11505,
          4058.1161,
          1163.4627,
          24915.04626,
          7160.094,
          1664.9996,
          10435.06525,
          2866.091,
          1622.1885,
          14711.7438,
          9875.6804,
          5152.134,
          2302.3,
          11353.2276,
          1615.7667,
          5373.36425,
          48675.5177,
          12105.32,
          40932.4295,
          10141.1362,
          4466.6214,
          8527.532,
          6593.5083,
          7152.6714,
          5138.2567,
          6250.435,
          37133.8982,
          14256.1928,
          4243.59005,
          9222.4026,
          16138.76205,
          22192.43711,
          37465.34375,
          12479.70895,
          2154.361,
          11253.421,
          47291.055,
          2026.9741,
          10560.4917,
          42111.6647,
          5002.7827,
          10791.96,
          7371.772,
          9866.30485,
          38792.6856,
          36397.576,
          14692.66935,
          10564.8845,
          11073.176,
          27218.43725,
          11482.63485,
          41919.097,
          7133.9025,
          8932.084,
          3292.52985,
          5855.9025,
          24106.91255,
          3537.703,
          11411.685,
          1832.094,
          11842.442,
          3875.7341,
          12096.6512,
          2897.3235,
          28868.6639,
          6186.127,
          7731.85785,
          7640.3092,
          43578.9394,
          30284.64294,
          6185.3208,
          11674.13,
          1534.3045,
          23241.47453,
          1242.816,
          13041.921,
          12981.3457,
          3277.161,
          16657.71745,
          9487.6442,
          12950.0712,
          12032.326,
          21472.4788,
          14007.222,
          12485.8009,
          30942.1918,
          2102.2647,
          3659.346,
          47496.49445,
          55135.40209,
          6940.90985,
          13457.9608,
          4320.41085,
          7441.053,
          3847.674,
          1532.4697,
          36197.699,
          7935.29115,
          19719.6947,
          1917.3184,
          37701.8768,
          1149.3959,
          9432.9253,
          6770.1925,
          3972.9247,
          17361.7661,
          38711,
          3070.8087,
          4667.60765,
          2534.39375,
          24873.3849,
          39774.2763,
          34838.873,
          23401.30575,
          8601.3293,
          3176.8159,
          11743.9341,
          12265.5069,
          12957.118,
          11289.10925,
          10796.35025,
          24476.47851,
          6837.3687,
          19040.876,
          16577.7795,
          3167.45585,
          10600.5483,
          8124.4084,
          14455.64405,
          17904.52705,
          7077.1894,
          2150.469,
          13228.84695,
          3366.6697,
          13112.6048,
          14001.1338,
          3935.1799,
          4646.759,
          20709.02034,
          37165.1638,
          23568.272,
          37079.372,
          4753.6368,
          7537.1639,
          11833.7823,
          5757.41345,
          14590.63205,
          38746.3551,
          38511.6283,
          33907.548,
          15161.5344,
          12244.531,
          13429.0354,
          9748.9106,
          3597.596,
          8606.2174,
          1526.312,
          3443.064,
          14988.432,
          34806.4677,
          7727.2532,
          20296.86345,
          20984.0936,
          6360.9936,
          58571.07448,
          3309.7926,
          7045.499,
          5266.3656,
          11455.28,
          23887.6627,
          36910.60803,
          20462.99766,
          8823.279,
          11286.5387,
          2020.5523,
          7985.815,
          7626.993,
          39241.442,
          10702.6424,
          4462.7218,
          4564.19145,
          22493.65964,
          13844.7972,
          12404.8791,
          26236.57997,
          33732.6867,
          9617.66245,
          23288.9284,
          21344.8467,
          5438.7491,
          44423.803,
          7281.5056,
          12982.8747,
          6289.7549,
          8515.7587,
          13470.86,
          1737.376,
          4399.731,
          6338.0756,
          1981.5819,
          8569.8618,
          3761.292,
          6686.4313,
          8968.33,
          1632.03625,
          17929.30337,
          9058.7303,
          18963.17192,
          34254.05335,
          5969.723,
          4040.55825,
          34617.84065,
          9991.03765,
          39047.285,
          11488.31695,
          5699.8375,
          44585.45587,
          12815.44495,
          24667.419,
          36307.7983,
          7441.501,
          2498.4144,
          6123.5688,
          10928.849,
          1743.214,
          40182.246,
          35491.64,
          2639.0429,
          2117.33885,
          5080.096,
          6652.5288,
          2261.5688,
          9377.9047,
          1634.5734,
          1712.227,
          15170.069,
          8522.003,
          12231.6136,
          2803.69785,
          12609.88702,
          32108.66282,
          2201.0971,
          36580.28216,
          23065.4207,
          36219.40545,
          7151.092,
          5116.5004,
          3279.86855,
          35147.52848,
          6311.952,
          4934.705,
          5397.6167,
          25678.77845,
          11264.541,
          6198.7518,
          24671.66334,
          11033.6617,
          37742.5757,
          2585.269,
          9800.8882,
          6610.1097,
          10118.424,
          34672.1472,
          4433.3877,
          2138.0707,
          16776.30405,
          9304.7019,
          8520.026,
          21774.32215,
          1131.5066,
          2134.9015,
          2867.1196,
          18218.16139,
          8688.85885,
          47462.894,
          2395.17155,
          1984.4533,
          7742.1098,
          15820.699,
          1711.0268,
          3161.454,
          9910.35985,
          1909.52745,
          47055.5321,
          46255.1125,
          3757.8448,
          51194.55914,
          9500.57305,
          9722.7695,
          8539.671,
          6799.458,
          9144.565,
          27000.98473,
          1980.07,
          7731.4271,
          9715.841,
          13204.28565,
          10959.33,
          10601.412,
          5246.047,
          11396.9002,
          18903.49141,
          14451.83515,
          37484.4493,
          8269.044,
          7419.4779,
          1621.8827,
          4719.52405,
          5979.731,
          47403.88,
          13974.45555,
          13747.87235,
          12029.2867,
          1135.9407,
          3393.35635,
          46889.2612,
          11163.568,
          16450.8947,
          9957.7216,
          45863.205,
          1704.5681,
          4751.07,
          7445.918,
          1633.0444,
          39871.7043,
          2721.3208,
          7196.867,
          6710.1919,
          7512.267,
          8871.1517,
          7804.1605,
          33475.81715,
          17352.6803,
          6948.7008,
          10407.08585,
          8017.06115,
          12094.478,
          13607.36875,
          11093.6229
         ],
         "yaxis": "y"
        }
       ],
       "layout": {
        "legend": {
         "tracegroupgap": 0
        },
        "template": {
         "data": {
          "bar": [
           {
            "error_x": {
             "color": "#2a3f5f"
            },
            "error_y": {
             "color": "#2a3f5f"
            },
            "marker": {
             "line": {
              "color": "#E5ECF6",
              "width": 0.5
             },
             "pattern": {
              "fillmode": "overlay",
              "size": 10,
              "solidity": 0.2
             }
            },
            "type": "bar"
           }
          ],
          "barpolar": [
           {
            "marker": {
             "line": {
              "color": "#E5ECF6",
              "width": 0.5
             },
             "pattern": {
              "fillmode": "overlay",
              "size": 10,
              "solidity": 0.2
             }
            },
            "type": "barpolar"
           }
          ],
          "carpet": [
           {
            "aaxis": {
             "endlinecolor": "#2a3f5f",
             "gridcolor": "white",
             "linecolor": "white",
             "minorgridcolor": "white",
             "startlinecolor": "#2a3f5f"
            },
            "baxis": {
             "endlinecolor": "#2a3f5f",
             "gridcolor": "white",
             "linecolor": "white",
             "minorgridcolor": "white",
             "startlinecolor": "#2a3f5f"
            },
            "type": "carpet"
           }
          ],
          "choropleth": [
           {
            "colorbar": {
             "outlinewidth": 0,
             "ticks": ""
            },
            "type": "choropleth"
           }
          ],
          "contour": [
           {
            "colorbar": {
             "outlinewidth": 0,
             "ticks": ""
            },
            "colorscale": [
             [
              0,
              "#0d0887"
             ],
             [
              0.1111111111111111,
              "#46039f"
             ],
             [
              0.2222222222222222,
              "#7201a8"
             ],
             [
              0.3333333333333333,
              "#9c179e"
             ],
             [
              0.4444444444444444,
              "#bd3786"
             ],
             [
              0.5555555555555556,
              "#d8576b"
             ],
             [
              0.6666666666666666,
              "#ed7953"
             ],
             [
              0.7777777777777778,
              "#fb9f3a"
             ],
             [
              0.8888888888888888,
              "#fdca26"
             ],
             [
              1,
              "#f0f921"
             ]
            ],
            "type": "contour"
           }
          ],
          "contourcarpet": [
           {
            "colorbar": {
             "outlinewidth": 0,
             "ticks": ""
            },
            "type": "contourcarpet"
           }
          ],
          "heatmap": [
           {
            "colorbar": {
             "outlinewidth": 0,
             "ticks": ""
            },
            "colorscale": [
             [
              0,
              "#0d0887"
             ],
             [
              0.1111111111111111,
              "#46039f"
             ],
             [
              0.2222222222222222,
              "#7201a8"
             ],
             [
              0.3333333333333333,
              "#9c179e"
             ],
             [
              0.4444444444444444,
              "#bd3786"
             ],
             [
              0.5555555555555556,
              "#d8576b"
             ],
             [
              0.6666666666666666,
              "#ed7953"
             ],
             [
              0.7777777777777778,
              "#fb9f3a"
             ],
             [
              0.8888888888888888,
              "#fdca26"
             ],
             [
              1,
              "#f0f921"
             ]
            ],
            "type": "heatmap"
           }
          ],
          "heatmapgl": [
           {
            "colorbar": {
             "outlinewidth": 0,
             "ticks": ""
            },
            "colorscale": [
             [
              0,
              "#0d0887"
             ],
             [
              0.1111111111111111,
              "#46039f"
             ],
             [
              0.2222222222222222,
              "#7201a8"
             ],
             [
              0.3333333333333333,
              "#9c179e"
             ],
             [
              0.4444444444444444,
              "#bd3786"
             ],
             [
              0.5555555555555556,
              "#d8576b"
             ],
             [
              0.6666666666666666,
              "#ed7953"
             ],
             [
              0.7777777777777778,
              "#fb9f3a"
             ],
             [
              0.8888888888888888,
              "#fdca26"
             ],
             [
              1,
              "#f0f921"
             ]
            ],
            "type": "heatmapgl"
           }
          ],
          "histogram": [
           {
            "marker": {
             "pattern": {
              "fillmode": "overlay",
              "size": 10,
              "solidity": 0.2
             }
            },
            "type": "histogram"
           }
          ],
          "histogram2d": [
           {
            "colorbar": {
             "outlinewidth": 0,
             "ticks": ""
            },
            "colorscale": [
             [
              0,
              "#0d0887"
             ],
             [
              0.1111111111111111,
              "#46039f"
             ],
             [
              0.2222222222222222,
              "#7201a8"
             ],
             [
              0.3333333333333333,
              "#9c179e"
             ],
             [
              0.4444444444444444,
              "#bd3786"
             ],
             [
              0.5555555555555556,
              "#d8576b"
             ],
             [
              0.6666666666666666,
              "#ed7953"
             ],
             [
              0.7777777777777778,
              "#fb9f3a"
             ],
             [
              0.8888888888888888,
              "#fdca26"
             ],
             [
              1,
              "#f0f921"
             ]
            ],
            "type": "histogram2d"
           }
          ],
          "histogram2dcontour": [
           {
            "colorbar": {
             "outlinewidth": 0,
             "ticks": ""
            },
            "colorscale": [
             [
              0,
              "#0d0887"
             ],
             [
              0.1111111111111111,
              "#46039f"
             ],
             [
              0.2222222222222222,
              "#7201a8"
             ],
             [
              0.3333333333333333,
              "#9c179e"
             ],
             [
              0.4444444444444444,
              "#bd3786"
             ],
             [
              0.5555555555555556,
              "#d8576b"
             ],
             [
              0.6666666666666666,
              "#ed7953"
             ],
             [
              0.7777777777777778,
              "#fb9f3a"
             ],
             [
              0.8888888888888888,
              "#fdca26"
             ],
             [
              1,
              "#f0f921"
             ]
            ],
            "type": "histogram2dcontour"
           }
          ],
          "mesh3d": [
           {
            "colorbar": {
             "outlinewidth": 0,
             "ticks": ""
            },
            "type": "mesh3d"
           }
          ],
          "parcoords": [
           {
            "line": {
             "colorbar": {
              "outlinewidth": 0,
              "ticks": ""
             }
            },
            "type": "parcoords"
           }
          ],
          "pie": [
           {
            "automargin": true,
            "type": "pie"
           }
          ],
          "scatter": [
           {
            "fillpattern": {
             "fillmode": "overlay",
             "size": 10,
             "solidity": 0.2
            },
            "type": "scatter"
           }
          ],
          "scatter3d": [
           {
            "line": {
             "colorbar": {
              "outlinewidth": 0,
              "ticks": ""
             }
            },
            "marker": {
             "colorbar": {
              "outlinewidth": 0,
              "ticks": ""
             }
            },
            "type": "scatter3d"
           }
          ],
          "scattercarpet": [
           {
            "marker": {
             "colorbar": {
              "outlinewidth": 0,
              "ticks": ""
             }
            },
            "type": "scattercarpet"
           }
          ],
          "scattergeo": [
           {
            "marker": {
             "colorbar": {
              "outlinewidth": 0,
              "ticks": ""
             }
            },
            "type": "scattergeo"
           }
          ],
          "scattergl": [
           {
            "marker": {
             "colorbar": {
              "outlinewidth": 0,
              "ticks": ""
             }
            },
            "type": "scattergl"
           }
          ],
          "scattermapbox": [
           {
            "marker": {
             "colorbar": {
              "outlinewidth": 0,
              "ticks": ""
             }
            },
            "type": "scattermapbox"
           }
          ],
          "scatterpolar": [
           {
            "marker": {
             "colorbar": {
              "outlinewidth": 0,
              "ticks": ""
             }
            },
            "type": "scatterpolar"
           }
          ],
          "scatterpolargl": [
           {
            "marker": {
             "colorbar": {
              "outlinewidth": 0,
              "ticks": ""
             }
            },
            "type": "scatterpolargl"
           }
          ],
          "scatterternary": [
           {
            "marker": {
             "colorbar": {
              "outlinewidth": 0,
              "ticks": ""
             }
            },
            "type": "scatterternary"
           }
          ],
          "surface": [
           {
            "colorbar": {
             "outlinewidth": 0,
             "ticks": ""
            },
            "colorscale": [
             [
              0,
              "#0d0887"
             ],
             [
              0.1111111111111111,
              "#46039f"
             ],
             [
              0.2222222222222222,
              "#7201a8"
             ],
             [
              0.3333333333333333,
              "#9c179e"
             ],
             [
              0.4444444444444444,
              "#bd3786"
             ],
             [
              0.5555555555555556,
              "#d8576b"
             ],
             [
              0.6666666666666666,
              "#ed7953"
             ],
             [
              0.7777777777777778,
              "#fb9f3a"
             ],
             [
              0.8888888888888888,
              "#fdca26"
             ],
             [
              1,
              "#f0f921"
             ]
            ],
            "type": "surface"
           }
          ],
          "table": [
           {
            "cells": {
             "fill": {
              "color": "#EBF0F8"
             },
             "line": {
              "color": "white"
             }
            },
            "header": {
             "fill": {
              "color": "#C8D4E3"
             },
             "line": {
              "color": "white"
             }
            },
            "type": "table"
           }
          ]
         },
         "layout": {
          "annotationdefaults": {
           "arrowcolor": "#2a3f5f",
           "arrowhead": 0,
           "arrowwidth": 1
          },
          "autotypenumbers": "strict",
          "coloraxis": {
           "colorbar": {
            "outlinewidth": 0,
            "ticks": ""
           }
          },
          "colorscale": {
           "diverging": [
            [
             0,
             "#8e0152"
            ],
            [
             0.1,
             "#c51b7d"
            ],
            [
             0.2,
             "#de77ae"
            ],
            [
             0.3,
             "#f1b6da"
            ],
            [
             0.4,
             "#fde0ef"
            ],
            [
             0.5,
             "#f7f7f7"
            ],
            [
             0.6,
             "#e6f5d0"
            ],
            [
             0.7,
             "#b8e186"
            ],
            [
             0.8,
             "#7fbc41"
            ],
            [
             0.9,
             "#4d9221"
            ],
            [
             1,
             "#276419"
            ]
           ],
           "sequential": [
            [
             0,
             "#0d0887"
            ],
            [
             0.1111111111111111,
             "#46039f"
            ],
            [
             0.2222222222222222,
             "#7201a8"
            ],
            [
             0.3333333333333333,
             "#9c179e"
            ],
            [
             0.4444444444444444,
             "#bd3786"
            ],
            [
             0.5555555555555556,
             "#d8576b"
            ],
            [
             0.6666666666666666,
             "#ed7953"
            ],
            [
             0.7777777777777778,
             "#fb9f3a"
            ],
            [
             0.8888888888888888,
             "#fdca26"
            ],
            [
             1,
             "#f0f921"
            ]
           ],
           "sequentialminus": [
            [
             0,
             "#0d0887"
            ],
            [
             0.1111111111111111,
             "#46039f"
            ],
            [
             0.2222222222222222,
             "#7201a8"
            ],
            [
             0.3333333333333333,
             "#9c179e"
            ],
            [
             0.4444444444444444,
             "#bd3786"
            ],
            [
             0.5555555555555556,
             "#d8576b"
            ],
            [
             0.6666666666666666,
             "#ed7953"
            ],
            [
             0.7777777777777778,
             "#fb9f3a"
            ],
            [
             0.8888888888888888,
             "#fdca26"
            ],
            [
             1,
             "#f0f921"
            ]
           ]
          },
          "colorway": [
           "#636efa",
           "#EF553B",
           "#00cc96",
           "#ab63fa",
           "#FFA15A",
           "#19d3f3",
           "#FF6692",
           "#B6E880",
           "#FF97FF",
           "#FECB52"
          ],
          "font": {
           "color": "#2a3f5f"
          },
          "geo": {
           "bgcolor": "white",
           "lakecolor": "white",
           "landcolor": "#E5ECF6",
           "showlakes": true,
           "showland": true,
           "subunitcolor": "white"
          },
          "hoverlabel": {
           "align": "left"
          },
          "hovermode": "closest",
          "mapbox": {
           "style": "light"
          },
          "paper_bgcolor": "white",
          "plot_bgcolor": "#E5ECF6",
          "polar": {
           "angularaxis": {
            "gridcolor": "white",
            "linecolor": "white",
            "ticks": ""
           },
           "bgcolor": "#E5ECF6",
           "radialaxis": {
            "gridcolor": "white",
            "linecolor": "white",
            "ticks": ""
           }
          },
          "scene": {
           "xaxis": {
            "backgroundcolor": "#E5ECF6",
            "gridcolor": "white",
            "gridwidth": 2,
            "linecolor": "white",
            "showbackground": true,
            "ticks": "",
            "zerolinecolor": "white"
           },
           "yaxis": {
            "backgroundcolor": "#E5ECF6",
            "gridcolor": "white",
            "gridwidth": 2,
            "linecolor": "white",
            "showbackground": true,
            "ticks": "",
            "zerolinecolor": "white"
           },
           "zaxis": {
            "backgroundcolor": "#E5ECF6",
            "gridcolor": "white",
            "gridwidth": 2,
            "linecolor": "white",
            "showbackground": true,
            "ticks": "",
            "zerolinecolor": "white"
           }
          },
          "shapedefaults": {
           "line": {
            "color": "#2a3f5f"
           }
          },
          "ternary": {
           "aaxis": {
            "gridcolor": "white",
            "linecolor": "white",
            "ticks": ""
           },
           "baxis": {
            "gridcolor": "white",
            "linecolor": "white",
            "ticks": ""
           },
           "bgcolor": "#E5ECF6",
           "caxis": {
            "gridcolor": "white",
            "linecolor": "white",
            "ticks": ""
           }
          },
          "title": {
           "x": 0.05
          },
          "xaxis": {
           "automargin": true,
           "gridcolor": "white",
           "linecolor": "white",
           "ticks": "",
           "title": {
            "standoff": 15
           },
           "zerolinecolor": "white",
           "zerolinewidth": 2
          },
          "yaxis": {
           "automargin": true,
           "gridcolor": "white",
           "linecolor": "white",
           "ticks": "",
           "title": {
            "standoff": 15
           },
           "zerolinecolor": "white",
           "zerolinewidth": 2
          }
         }
        },
        "title": {
         "text": "Age vs. Charges"
        },
        "xaxis": {
         "anchor": "y",
         "domain": [
          0,
          1
         ],
         "title": {
          "text": "age"
         }
        },
        "yaxis": {
         "anchor": "x",
         "domain": [
          0,
          1
         ],
         "title": {
          "text": "charges"
         }
        }
       }
      }
     },
     "metadata": {},
     "output_type": "display_data"
    }
   ],
   "source": [
    "fig = px.scatter(\n",
    "    X_train,\n",
    "    x='age',\n",
    "    y=charges_df.charges,\n",
    "    opacity=0.8,\n",
    "    hover_data=['sex'],\n",
    "    title='Age vs. Charges'   \n",
    ")\n",
    "fig.update_layout(\n",
    "    yaxis_title='charges'\n",
    ")\n",
    "fig.update_traces(marker_size=7)"
   ]
  },
  {
   "cell_type": "code",
   "execution_count": null,
   "metadata": {},
   "outputs": [],
   "source": []
  }
 ],
 "metadata": {
  "kernelspec": {
   "display_name": "Python 3.10.6 ('hands_on_ml')",
   "language": "python",
   "name": "python3"
  },
  "language_info": {
   "codemirror_mode": {
    "name": "ipython",
    "version": 3
   },
   "file_extension": ".py",
   "mimetype": "text/x-python",
   "name": "python",
   "nbconvert_exporter": "python",
   "pygments_lexer": "ipython3",
   "version": "3.10.6"
  },
  "orig_nbformat": 4,
  "vscode": {
   "interpreter": {
    "hash": "c5da64da1bad6bc3ad4aae2111ea4553d42de5ea305fe3c1bc4ee95fc2d20d63"
   }
  }
 },
 "nbformat": 4,
 "nbformat_minor": 2
}
